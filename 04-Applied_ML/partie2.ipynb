{
 "cells": [
  {
   "cell_type": "markdown",
   "metadata": {},
   "source": [
    "# Question 2: Applied ML"
   ]
  },
  {
   "cell_type": "markdown",
   "metadata": {},
   "source": [
    "In this part, we will study the [20 newsgroups dataset](http://scikit-learn.org/stable/datasets/twenty_newsgroups.html)\n",
    "and train a classifier.\n",
    "The dataset contains emails from 20 different news groups. Our goal is to train a classifier able to assign the the most likely newsgroup to each email by analyzing its content.\n",
    "\n",
    "We will first download the dataset and take a look at the available data. Then, we will train multiple random forest classifiers. Each of them will have different hyper parameters. We will then select the hyperparameters and classifier leading to the best score according to cross-validation on a subset of our data.\n",
    "Finally, we will validate the classifier on 10% of the data that we kept on the side and analyse the results we obtain."
   ]
  },
  {
   "cell_type": "code",
   "execution_count": 9,
   "metadata": {
    "collapsed": true
   },
   "outputs": [],
   "source": [
    "# Import dependencies for part 2\n",
    "from sklearn.datasets import fetch_20newsgroups\n",
    "from sklearn.feature_extraction.text import TfidfVectorizer\n",
    "from sklearn.ensemble import RandomForestClassifier\n",
    "from email.parser import Parser as EmailParser\n",
    "import sklearn\n",
    "import pandas\n",
    "import numpy\n",
    "import matplotlib.pyplot as plt\n",
    "%matplotlib inline"
   ]
  },
  {
   "cell_type": "code",
   "execution_count": 10,
   "metadata": {},
   "outputs": [],
   "source": [
    "# Download the training dataset to `~/scikit_learn_data/20news_home` then load it to a variable\n",
    "newsgroups = fetch_20newsgroups(subset='train')"
   ]
  },
  {
   "cell_type": "markdown",
   "metadata": {},
   "source": [
    "# Dataset description\n",
    "\n",
    "[Official description](http://scikit-learn.org/stable/datasets/twenty_newsgroups.html)"
   ]
  },
  {
   "cell_type": "code",
   "execution_count": 11,
   "metadata": {},
   "outputs": [
    {
     "data": {
      "text/plain": [
       "dict_keys(['data', 'filenames', 'target_names', 'target', 'DESCR', 'description'])"
      ]
     },
     "execution_count": 11,
     "metadata": {},
     "output_type": "execute_result"
    }
   ],
   "source": [
    "# Check the available keys\n",
    "newsgroups.keys()"
   ]
  },
  {
   "cell_type": "markdown",
   "metadata": {},
   "source": [
    "The loaded data contains the following properties:\n",
    "\n",
    "- `data`: List of 11314 strings representing the messages.\n",
    "- `filenames`: Absolute path to the downloaded file containing the message (11314 items).\n",
    "- `target_names`: List of the names of the 20 newsgroups:\n",
    "  ```\n",
    "  ['alt.atheism', 'comp.graphics', 'comp.os.ms-windows.misc', 'comp.sys.ibm.pc.hardware', 'comp.sys.mac.hardware', 'comp.windows.x', 'misc.forsale', 'rec.autos', 'rec.motorcycles', 'rec.sport.baseball', 'rec.sport.hockey', 'sci.crypt', 'sci.electronics', 'sci.med', 'sci.space', 'soc.religion.christian', 'talk.politics.guns', 'talk.politics.mideast', 'talk.politics.misc', 'talk.religion.misc']\n",
    "  ```\n",
    "- `target`: List of ids for the targets: from 0 to 19 referencing the targets defined in `target_names`.\n",
    "- `DESCR`: No value (`None`)\n",
    "- `description`: String describing the dataset: `'the 20 newsgroups by date dataset'`"
   ]
  },
  {
   "cell_type": "markdown",
   "metadata": {},
   "source": [
    "The messsages are formatted as emails: they have a header followed by a blank line and then the body with the actual text content. \n",
    "For example, you can view the message with the id `0` below.\n",
    "\n",
    "Here are some observations:\n",
    "- The most common header seem to be `From`, `Subject`, `Organization` and `Lines` \n",
    "- Messages `754`, `8000` and others have quotes\n",
    "- Message `1704` seems to have an attachment (or manually pasted source code)"
   ]
  },
  {
   "cell_type": "code",
   "execution_count": 12,
   "metadata": {},
   "outputs": [
    {
     "name": "stdout",
     "output_type": "stream",
     "text": [
      "Category: rec.autos\n",
      "\n",
      "From: lerxst@wam.umd.edu (where's my thing)\n",
      "Subject: WHAT car is this!?\n",
      "Nntp-Posting-Host: rac3.wam.umd.edu\n",
      "Organization: University of Maryland, College Park\n",
      "Lines: 15\n",
      "\n",
      " I was wondering if anyone out there could enlighten me on this car I saw\n",
      "the other day. It was a 2-door sports car, looked to be from the late 60s/\n",
      "early 70s. It was called a Bricklin. The doors were really small. In addition,\n",
      "the front bumper was separate from the rest of the body. This is \n",
      "all I know. If anyone can tellme a model name, engine specs, years\n",
      "of production, where this car is made, history, or whatever info you\n",
      "have on this funky looking car, please e-mail.\n",
      "\n",
      "Thanks,\n",
      "- IL\n",
      "   ---- brought to you by your neighborhood Lerxst ----\n",
      "\n",
      "\n",
      "\n",
      "\n",
      "\n"
     ]
    }
   ],
   "source": [
    "# Set the message id to view specific messages\n",
    "msg_id = 0\n",
    "print(f\"Category: {newsgroups.target_names[newsgroups.target[msg_id]]}\\n\")\n",
    "print(newsgroups.data[msg_id])"
   ]
  },
  {
   "cell_type": "markdown",
   "metadata": {},
   "source": [
    "## Dataframe"
   ]
  },
  {
   "cell_type": "markdown",
   "metadata": {
    "collapsed": true
   },
   "source": [
    "We will clean the data and place them in a dataframe to have them easily available.\n",
    "\n",
    "The goal of cleaning the data is to avoid the classifier to use informations such as headers (author, organization...), signatures or quotes to classify the data. Instead we want it to use the text content of the body of the message.\n",
    "\n",
    "We use the the `_raw` suffix for the original email, `_clean` for the one without any quotes, headers and footers. (The base value is the email without its headers)"
   ]
  },
  {
   "cell_type": "code",
   "execution_count": 13,
   "metadata": {},
   "outputs": [],
   "source": [
    "# Use the builtin function to clean the mails\n",
    "newsgroups_clean = fetch_20newsgroups(subset='train', remove=('headers', 'footers', 'quotes'))"
   ]
  },
  {
   "cell_type": "code",
   "execution_count": 14,
   "metadata": {
    "collapsed": true
   },
   "outputs": [],
   "source": [
    "def read_header_or_none(headers, name):\n",
    "    \"\"\"\n",
    "    Tries to read the header `name` from `headers`, else returns `None`.\n",
    "    \"\"\"\n",
    "    if name in headers:\n",
    "        return headers[name]\n",
    "    return None"
   ]
  },
  {
   "cell_type": "code",
   "execution_count": 17,
   "metadata": {},
   "outputs": [],
   "source": [
    "def create_entry(label, label_id, subject, body, from_, organization, raw, clean):\n",
    "    return {\n",
    "        \"label\": label,\n",
    "        \"label_id\": label_id,\n",
    "        \"subject\": subject,\n",
    "        \"body\": body,\n",
    "        \"from\": from_,\n",
    "        \"organization\": organization,\n",
    "        \"raw\": raw,\n",
    "        \"clean\": clean\n",
    "    }"
   ]
  },
  {
   "cell_type": "code",
   "execution_count": 18,
   "metadata": {
    "collapsed": true
   },
   "outputs": [],
   "source": [
    "def create_df(emails, cleaned_emails, labels, label_ids):\n",
    "    email_parser = EmailParser()\n",
    "    entries = []\n",
    "    for email, cleaned_email, label_id in zip(emails, cleaned_emails, label_ids):\n",
    "        label = labels[label_id]\n",
    "        parsed_email = email_parser.parsestr(email, headersonly=False)\n",
    "        body = parsed_email.get_payload()\n",
    "        headers = dict(parsed_email.items())\n",
    "        subject = read_header_or_none(headers, \"Subject\")\n",
    "        from_ = read_header_or_none(headers, \"From\")\n",
    "        organization = read_header_or_none(headers, \"Organization\")\n",
    "        entry = create_entry(label, label_id, subject, body, from_, organization, email, cleaned_email)\n",
    "        entries.append(entry)\n",
    "    return pandas.DataFrame(entries)\n",
    "    \n",
    "    \n",
    "    "
   ]
  },
  {
   "cell_type": "code",
   "execution_count": 20,
   "metadata": {},
   "outputs": [],
   "source": [
    "news_df = create_df(newsgroups.data, newsgroups_clean.data, newsgroups.target_names, newsgroups.target)"
   ]
  },
  {
   "cell_type": "code",
   "execution_count": 22,
   "metadata": {},
   "outputs": [
    {
     "data": {
      "text/html": [
       "<div>\n",
       "<style>\n",
       "    .dataframe thead tr:only-child th {\n",
       "        text-align: right;\n",
       "    }\n",
       "\n",
       "    .dataframe thead th {\n",
       "        text-align: left;\n",
       "    }\n",
       "\n",
       "    .dataframe tbody tr th {\n",
       "        vertical-align: top;\n",
       "    }\n",
       "</style>\n",
       "<table border=\"1\" class=\"dataframe\">\n",
       "  <thead>\n",
       "    <tr style=\"text-align: right;\">\n",
       "      <th></th>\n",
       "      <th>body</th>\n",
       "      <th>clean</th>\n",
       "      <th>from</th>\n",
       "      <th>label</th>\n",
       "      <th>label_id</th>\n",
       "      <th>organization</th>\n",
       "      <th>raw</th>\n",
       "      <th>subject</th>\n",
       "    </tr>\n",
       "  </thead>\n",
       "  <tbody>\n",
       "    <tr>\n",
       "      <th>0</th>\n",
       "      <td>I was wondering if anyone out there could enl...</td>\n",
       "      <td>I was wondering if anyone out there could enli...</td>\n",
       "      <td>lerxst@wam.umd.edu (where's my thing)</td>\n",
       "      <td>rec.autos</td>\n",
       "      <td>7</td>\n",
       "      <td>University of Maryland, College Park</td>\n",
       "      <td>From: lerxst@wam.umd.edu (where's my thing)\\nS...</td>\n",
       "      <td>WHAT car is this!?</td>\n",
       "    </tr>\n",
       "    <tr>\n",
       "      <th>1</th>\n",
       "      <td>A fair number of brave souls who upgraded thei...</td>\n",
       "      <td>A fair number of brave souls who upgraded thei...</td>\n",
       "      <td>guykuo@carson.u.washington.edu (Guy Kuo)</td>\n",
       "      <td>comp.sys.mac.hardware</td>\n",
       "      <td>4</td>\n",
       "      <td>University of Washington</td>\n",
       "      <td>From: guykuo@carson.u.washington.edu (Guy Kuo)...</td>\n",
       "      <td>SI Clock Poll - Final Call</td>\n",
       "    </tr>\n",
       "    <tr>\n",
       "      <th>2</th>\n",
       "      <td>well folks, my mac plus finally gave up the gh...</td>\n",
       "      <td>well folks, my mac plus finally gave up the gh...</td>\n",
       "      <td>twillis@ec.ecn.purdue.edu (Thomas E Willis)</td>\n",
       "      <td>comp.sys.mac.hardware</td>\n",
       "      <td>4</td>\n",
       "      <td>Purdue University Engineering Computer Network</td>\n",
       "      <td>From: twillis@ec.ecn.purdue.edu (Thomas E Will...</td>\n",
       "      <td>PB questions...</td>\n",
       "    </tr>\n",
       "    <tr>\n",
       "      <th>3</th>\n",
       "      <td>Robert J.C. Kyanko (rob@rjck.UUCP) wrote:\\n&gt; a...</td>\n",
       "      <td>\\nDo you have Weitek's address/phone number?  ...</td>\n",
       "      <td>jgreen@amber (Joe Green)</td>\n",
       "      <td>comp.graphics</td>\n",
       "      <td>1</td>\n",
       "      <td>Harris Computer Systems Division</td>\n",
       "      <td>From: jgreen@amber (Joe Green)\\nSubject: Re: W...</td>\n",
       "      <td>Re: Weitek P9000 ?</td>\n",
       "    </tr>\n",
       "    <tr>\n",
       "      <th>4</th>\n",
       "      <td>From article &lt;C5owCB.n3p@world.std.com&gt;, by to...</td>\n",
       "      <td>From article &lt;C5owCB.n3p@world.std.com&gt;, by to...</td>\n",
       "      <td>jcm@head-cfa.harvard.edu (Jonathan McDowell)</td>\n",
       "      <td>sci.space</td>\n",
       "      <td>14</td>\n",
       "      <td>Smithsonian Astrophysical Observatory, Cambrid...</td>\n",
       "      <td>From: jcm@head-cfa.harvard.edu (Jonathan McDow...</td>\n",
       "      <td>Re: Shuttle Launch Question</td>\n",
       "    </tr>\n",
       "  </tbody>\n",
       "</table>\n",
       "</div>"
      ],
      "text/plain": [
       "                                                body  \\\n",
       "0   I was wondering if anyone out there could enl...   \n",
       "1  A fair number of brave souls who upgraded thei...   \n",
       "2  well folks, my mac plus finally gave up the gh...   \n",
       "3  Robert J.C. Kyanko (rob@rjck.UUCP) wrote:\\n> a...   \n",
       "4  From article <C5owCB.n3p@world.std.com>, by to...   \n",
       "\n",
       "                                               clean  \\\n",
       "0  I was wondering if anyone out there could enli...   \n",
       "1  A fair number of brave souls who upgraded thei...   \n",
       "2  well folks, my mac plus finally gave up the gh...   \n",
       "3  \\nDo you have Weitek's address/phone number?  ...   \n",
       "4  From article <C5owCB.n3p@world.std.com>, by to...   \n",
       "\n",
       "                                           from                  label  \\\n",
       "0         lerxst@wam.umd.edu (where's my thing)              rec.autos   \n",
       "1      guykuo@carson.u.washington.edu (Guy Kuo)  comp.sys.mac.hardware   \n",
       "2   twillis@ec.ecn.purdue.edu (Thomas E Willis)  comp.sys.mac.hardware   \n",
       "3                      jgreen@amber (Joe Green)          comp.graphics   \n",
       "4  jcm@head-cfa.harvard.edu (Jonathan McDowell)              sci.space   \n",
       "\n",
       "   label_id                                       organization  \\\n",
       "0         7               University of Maryland, College Park   \n",
       "1         4                           University of Washington   \n",
       "2         4     Purdue University Engineering Computer Network   \n",
       "3         1                   Harris Computer Systems Division   \n",
       "4        14  Smithsonian Astrophysical Observatory, Cambrid...   \n",
       "\n",
       "                                                 raw  \\\n",
       "0  From: lerxst@wam.umd.edu (where's my thing)\\nS...   \n",
       "1  From: guykuo@carson.u.washington.edu (Guy Kuo)...   \n",
       "2  From: twillis@ec.ecn.purdue.edu (Thomas E Will...   \n",
       "3  From: jgreen@amber (Joe Green)\\nSubject: Re: W...   \n",
       "4  From: jcm@head-cfa.harvard.edu (Jonathan McDow...   \n",
       "\n",
       "                       subject  \n",
       "0           WHAT car is this!?  \n",
       "1   SI Clock Poll - Final Call  \n",
       "2              PB questions...  \n",
       "3           Re: Weitek P9000 ?  \n",
       "4  Re: Shuttle Launch Question  "
      ]
     },
     "execution_count": 22,
     "metadata": {},
     "output_type": "execute_result"
    }
   ],
   "source": [
    "news_df.head(5)"
   ]
  },
  {
   "cell_type": "markdown",
   "metadata": {},
   "source": [
    "TODO: check number of empty messages (ex: 754)"
   ]
  },
  {
   "cell_type": "code",
   "execution_count": 11,
   "metadata": {},
   "outputs": [
    {
     "data": {
      "text/plain": [
       "'I was wondering if anyone out there could enlighten me on this car I saw\\nthe other day. It was a 2-door sports car, looked to be from the late 60s/\\nearly 70s. It was called a Bricklin. The doors were really small. In addition,\\nthe front bumper was separate from the rest of the body. This is \\nall I know. If anyone can tellme a model name, engine specs, years\\nof production, where this car is made, history, or whatever info you\\nhave on this funky looking car, please e-mail.'"
      ]
     },
     "execution_count": 11,
     "metadata": {},
     "output_type": "execute_result"
    }
   ],
   "source": [
    "# Display an example of filtered email, you can compare it with the original mail a few cells above.\n",
    "newsgroups_train.data[0]"
   ]
  },
  {
   "cell_type": "markdown",
   "metadata": {},
   "source": [
    "# Features computation"
   ]
  },
  {
   "cell_type": "code",
   "execution_count": 24,
   "metadata": {},
   "outputs": [],
   "source": [
    "vectorizer = TfidfVectorizer()\n",
    "features = vectorizer.fit_transform(news_df[\"clean\"])\n",
    "labels = numpy.array(news_df[\"label_id\"])"
   ]
  },
  {
   "cell_type": "code",
   "execution_count": 25,
   "metadata": {},
   "outputs": [
    {
     "data": {
      "text/plain": [
       "(11314, 101631)"
      ]
     },
     "execution_count": 25,
     "metadata": {},
     "output_type": "execute_result"
    }
   ],
   "source": [
    "features.shape"
   ]
  },
  {
   "cell_type": "code",
   "execution_count": 26,
   "metadata": {
    "collapsed": true
   },
   "outputs": [],
   "source": [
    "def create_permutation(n: int, rand_state = None):\n",
    "    \"\"\"\n",
    "    Create a ranom permutation of size `n`.\n",
    "    \n",
    "    :param n: Size of the permutation\n",
    "    :param rand_state: Random state to use to create the permutation.\n",
    "    :return: A 1D numpy ndarray of size. It contains a permutation of integers from 0 to n-1\n",
    "    \"\"\"\n",
    "    if rand_state is None:\n",
    "        rand_state = numpy.random.RandomState()\n",
    "    return rand_state.permutation(n)"
   ]
  },
  {
   "cell_type": "code",
   "execution_count": 29,
   "metadata": {
    "collapsed": true
   },
   "outputs": [],
   "source": [
    "def split_data(features, labels, ratios, rand_state = None):\n",
    "    \"\"\"\n",
    "    Pseudo-randomly splits a dataset into smaller datasets of the provided size.\n",
    "    \n",
    "    This is is similar to `sklearn.model_selection.train_test_split` but allows\n",
    "    to split the data into more than two sets and returns the original indexes.\n",
    "    \n",
    "    :param features: Numpy array of features\n",
    "    :param labels: Numpy array of labels\n",
    "    :param ratios: List of sizes of the first n-1 groups expressed as ratios of\n",
    "                   the total size. The last group will have the remaining items.\n",
    "    :param rand_state: Random state used to create the permutation\n",
    "    :return: A list of groups of tuples (old_indexes, features, labels)\n",
    "    \"\"\"\n",
    "    from math import floor\n",
    "    if rand_state is None:\n",
    "        rand_state = numpy.random.RandomState()\n",
    "    \n",
    "    row_count = features.shape[0]\n",
    "    permutation = create_permutation(row_count, rand_state)\n",
    "    \n",
    "    \n",
    "    split_indexes = [0]\n",
    "    cur_ratio = 0\n",
    "    for ratio in ratios:\n",
    "        cur_ratio += ratio\n",
    "        split_index = floor(cur_ratio * row_count)\n",
    "        split_indexes.append(split_index)\n",
    "    split_indexes.append(row_count)\n",
    "    \n",
    "    result = []\n",
    "    for i in range(len(split_indexes) - 1):\n",
    "        start_index = split_indexes[i]\n",
    "        end_index = split_indexes[i + 1]\n",
    "        old_indexes = permutation[start_index:end_index]\n",
    "        cur_features = features[old_indexes]\n",
    "        cur_labels = labels[old_indexes]\n",
    "        result.append((old_indexes, cur_features, cur_labels))\n",
    "    \n",
    "    return result"
   ]
  },
  {
   "cell_type": "code",
   "execution_count": 30,
   "metadata": {
    "collapsed": true
   },
   "outputs": [],
   "source": [
    "def evaluate_parameters(n_estimators, max_depth, features, labels, rounds=3):\n",
    "    \"\"\"\n",
    "    Get the score and classifier for the a model using random forests with the hyper parameters\n",
    "    `n_estimators` and `max_depth` cross-validated with `features` and `labels`.\n",
    "    \n",
    "    The cross validation is repeated `rounds` times and the result is the median value.\n",
    "    For each round, 10% of the original dataset is used for tests, the remaining for training.\n",
    "    These test and train datasets are selected randomly for each round.\n",
    "    \n",
    "    The goal of randomizing the rounds and returning the median is to reduce overfitting.\n",
    "    \"\"\"\n",
    "    evaluated = []\n",
    "    for _ in range(rounds):\n",
    "        (test, train) = split_data(features, labels, [0.1 / 0.9])\n",
    "        _, test_features, test_labels = test\n",
    "        _, train_features, train_labels = train\n",
    "\n",
    "        classifier = RandomForestClassifier(n_estimators=n_estimators, max_depth=max_depth)\n",
    "        trained_classifier = classifier.fit(train_features, train_labels)\n",
    "        predicted_test_labels = trained_classifier.predict(test_features)\n",
    "        unique_labels = numpy.unique(predicted_test_labels)\n",
    "        score = sklearn.metrics.f1_score(test_labels, predicted_test_labels, average='macro', labels=unique_labels)\n",
    "        evaluated.append((score, trained_classifier))\n",
    "\n",
    "    return sorted(evaluated)[rounds // 2] # return median"
   ]
  },
  {
   "cell_type": "code",
   "execution_count": 31,
   "metadata": {
    "collapsed": true
   },
   "outputs": [],
   "source": [
    "def grid_search(n_estimators_range, max_depth_range, features, labels):\n",
    "    \"\"\"\n",
    "    Performs a grid search on the hyperparameters `n_estimators` and `max_depth` to find the best classifier.\n",
    "    \n",
    "    This is similar to `sklearn.model_selection.GridSearchCV`.\n",
    "    \n",
    "    Provide the values to search as ranges. The values must be strictly positive integers\n",
    "    for both hyperparameters.\n",
    "    The functions returns a dictionary with the keys:\n",
    "    - params: Combination of parameters leading to the highest score\n",
    "    - score: Highest score achieved\n",
    "    \"\"\"\n",
    "    from ipywidgets import FloatProgress\n",
    "    from IPython.display import display\n",
    "    \n",
    "    # Display a progress bar since the computation can take some time\n",
    "    params_count = len(n_estimators_range) * len(max_depth_range)\n",
    "    progress_bar = FloatProgress(min=0, max=params_count)\n",
    "    display(progress_bar)\n",
    "    \n",
    "    result = None\n",
    "    cur_param = 0\n",
    "    for n_estimators in n_estimators_range:\n",
    "        for max_depth in max_depth_range:\n",
    "            progress_bar.value = cur_param\n",
    "            score, classifier = evaluate_parameters(n_estimators, max_depth, features, labels)\n",
    "            if result is None or score > result[\"score\"]:\n",
    "                result = {\"score\": score, \"params\": (n_estimators, max_depth), \"classifier\": classifier}\n",
    "            cur_param += 1\n",
    "    progress_bar.value = params_count\n",
    "    return result\n"
   ]
  },
  {
   "cell_type": "code",
   "execution_count": 32,
   "metadata": {
    "collapsed": true
   },
   "outputs": [],
   "source": [
    "# Split the data: keep 10% on the side for final validation and 90% for training.\n",
    "(validate, test_train) = split_data(features, labels, [0.1])"
   ]
  },
  {
   "cell_type": "code",
   "execution_count": 38,
   "metadata": {},
   "outputs": [
    {
     "data": {
      "application/vnd.jupyter.widget-view+json": {
       "model_id": "c7b0107dfa4e4222aade92a47bd8b850"
      }
     },
     "metadata": {},
     "output_type": "display_data"
    }
   ],
   "source": [
    "# TODO: https://en.wikipedia.org/wiki/Renard_series\n",
    "renard_serie5 = [1, 2, 4, 6, 10, 16, 25, 40, 63, 100, 160, 250, 400, 630]\n",
    "\n",
    "# Can take a few hours and a few GB of RAM.\n",
    "best = grid_search(renard_serie5, renard_serie5, test_train[1], test_train[2])"
   ]
  },
  {
   "cell_type": "code",
   "execution_count": 33,
   "metadata": {},
   "outputs": [
    {
     "data": {
      "application/vnd.jupyter.widget-view+json": {
       "model_id": "633f327dd9464c9db1428d22f76dde6e",
       "version_major": 2,
       "version_minor": 0
      },
      "text/plain": [
       "A Jupyter Widget"
      ]
     },
     "metadata": {},
     "output_type": "display_data"
    }
   ],
   "source": [
    "best = grid_search([630], [40], test_train[1], test_train[2])"
   ]
  },
  {
   "cell_type": "code",
   "execution_count": 35,
   "metadata": {},
   "outputs": [
    {
     "data": {
      "text/plain": [
       "{'classifier': RandomForestClassifier(bootstrap=True, class_weight=None, criterion='gini',\n",
       "             max_depth=40, max_features='auto', max_leaf_nodes=None,\n",
       "             min_impurity_decrease=0.0, min_impurity_split=None,\n",
       "             min_samples_leaf=1, min_samples_split=2,\n",
       "             min_weight_fraction_leaf=0.0, n_estimators=630, n_jobs=1,\n",
       "             oob_score=False, random_state=None, verbose=0,\n",
       "             warm_start=False),\n",
       " 'params': (630, 40),\n",
       " 'score': 0.65000215115521343}"
      ]
     },
     "execution_count": 35,
     "metadata": {},
     "output_type": "execute_result"
    }
   ],
   "source": [
    "# Display the best hyperparameters we found with its score (obtained with cross validation on 90% of the data)\n",
    "best"
   ]
  },
  {
   "cell_type": "markdown",
   "metadata": {},
   "source": [
    "It seems that the best parameters are around. TODO\n",
    "\n",
    "We will now apply the classifier to the validation dataset.\n",
    "According to the official documentation linked to the dataset, we can expect about 75% success rate."
   ]
  },
  {
   "cell_type": "code",
   "execution_count": 36,
   "metadata": {},
   "outputs": [
    {
     "data": {
      "text/plain": [
       "0.61896284763721143"
      ]
     },
     "execution_count": 36,
     "metadata": {},
     "output_type": "execute_result"
    }
   ],
   "source": [
    "_, validate_features, validate_labels = validate\n",
    "predicted_validate_labels =  best[\"classifier\"].predict(validate_features)\n",
    "sklearn.metrics.f1_score(validate_labels, predicted_validate_labels, average='macro')"
   ]
  },
  {
   "cell_type": "markdown",
   "metadata": {},
   "source": [
    "TODO: We can do better\n",
    "We obtained a relatively good score, close to our expectations."
   ]
  },
  {
   "cell_type": "code",
   "execution_count": 39,
   "metadata": {},
   "outputs": [
    {
     "data": {
      "text/plain": [
       "(0.64329762257926615,\n",
       " RandomForestClassifier(bootstrap=True, class_weight=None, criterion='gini',\n",
       "             max_depth=50, max_features='auto', max_leaf_nodes=None,\n",
       "             min_impurity_decrease=0.0, min_impurity_split=None,\n",
       "             min_samples_leaf=1, min_samples_split=2,\n",
       "             min_weight_fraction_leaf=0.0, n_estimators=1000, n_jobs=1,\n",
       "             oob_score=False, random_state=None, verbose=0,\n",
       "             warm_start=False))"
      ]
     },
     "execution_count": 39,
     "metadata": {},
     "output_type": "execute_result"
    }
   ],
   "source": [
    "# Split the data: keep 10% on the side for final validation and 90% for training.\n",
    "(validate2, test_train2) = split_data(features, labels, [0.1])\n",
    "small_renard_serie20 = [25, 28, 31, 35, 40, 45, 50, 56, 63]\n",
    "large_renard_serie20 = [400, 450, 500, 560, 630, 710, 800, 900, 1000, 1120, 1250,1400]\n",
    "# Can take a few hours and 5-6GB of RAM.\n",
    "# best = grid_search(renard_serie, renard_serie, test_train[1], test_train[2])\n",
    "# best\n",
    "\n",
    "stat = evaluate_parameters(1000, 50, test_train[1], test_train[2], rounds=1)\n",
    "stat"
   ]
  },
  {
   "cell_type": "code",
   "execution_count": 40,
   "metadata": {},
   "outputs": [
    {
     "data": {
      "text/plain": [
       "0.89112179943751502"
      ]
     },
     "execution_count": 40,
     "metadata": {},
     "output_type": "execute_result"
    }
   ],
   "source": [
    "validate_old_indexes2, validate_features2, validate_labels2 = validate2\n",
    "predicted_validate_labels2 =  stat[1].predict(validate_features2)\n",
    "sklearn.metrics.f1_score(validate_labels2, predicted_validate_labels2, average='macro')"
   ]
  },
  {
   "cell_type": "code",
   "execution_count": 42,
   "metadata": {
    "collapsed": true
   },
   "outputs": [],
   "source": [
    "best_classifier = stat[1]"
   ]
  },
  {
   "cell_type": "markdown",
   "metadata": {},
   "source": [
    "To better understand where the errors come from, we will display a **confusion matrix**. Each cell `(i, j)` represents the number of items in the newsgroup `i` but predicted in `j`."
   ]
  },
  {
   "cell_type": "code",
   "execution_count": 43,
   "metadata": {
    "collapsed": true
   },
   "outputs": [],
   "source": [
    "# http://scikit-learn.org/stable/auto_examples/model_selection/plot_confusion_matrix.html#sphx-glr-auto-examples-model-selection-plot-confusion-matrix-py\n",
    "confusion_matrix = sklearn.metrics.confusion_matrix(validate_labels2, predicted_validate_labels2)"
   ]
  },
  {
   "cell_type": "code",
   "execution_count": 45,
   "metadata": {},
   "outputs": [
    {
     "data": {
      "image/png": "[encoded data removed]",
      "text/plain": [
       "<matplotlib.figure.Figure at 0x7f67eda2c630>"
      ]
     },
     "metadata": {},
     "output_type": "display_data"
    }
   ],
   "source": [
    "plt.figure(figsize=(12,12))\n",
    "figure = plt.imshow(confusion_matrix, interpolation='nearest')\n",
    "plt.title(\"Confusion matrix\")\n",
    "plt.colorbar()\n",
    "tick_marks = numpy.arange(len(newsgroups.target_names))\n",
    "plt.xticks(tick_marks, newsgroups.target_names, rotation=45)\n",
    "plt.yticks(tick_marks, newsgroups.target_names)\n",
    "plt.ylabel('Real newsgroup')\n",
    "plt.xlabel('Predicted newsgroup')\n",
    "plt.tight_layout()"
   ]
  },
  {
   "cell_type": "markdown",
   "metadata": {
    "collapsed": true
   },
   "source": [
    "We see that the main issue with the classifier we obtained is that many rows are incorectly classified as `rec.autos` (id `7`)."
   ]
  },
  {
   "cell_type": "code",
   "execution_count": 58,
   "metadata": {},
   "outputs": [
    {
     "ename": "MemoryError",
     "evalue": "",
     "output_type": "error",
     "traceback": [
      "\u001b[0;31m---------------------------------------------------------------------------\u001b[0m",
      "\u001b[0;31mMemoryError\u001b[0m                               Traceback (most recent call last)",
      "\u001b[0;32m<ipython-input-58-16f3c640ff1b>\u001b[0m in \u001b[0;36m<module>\u001b[0;34m()\u001b[0m\n\u001b[0;32m----> 1\u001b[0;31m \u001b[0mvalidate_data2\u001b[0m \u001b[0;34m=\u001b[0m \u001b[0mnumpy\u001b[0m\u001b[0;34m.\u001b[0m\u001b[0masarray\u001b[0m\u001b[0;34m(\u001b[0m\u001b[0mnewsgroups_train\u001b[0m\u001b[0;34m.\u001b[0m\u001b[0mdata\u001b[0m\u001b[0;34m)\u001b[0m\u001b[0;34m\u001b[0m\u001b[0m\n\u001b[0m\u001b[1;32m      2\u001b[0m \u001b[0mlen\u001b[0m\u001b[0;34m(\u001b[0m\u001b[0mvalidate_old_indexes2\u001b[0m\u001b[0;34m)\u001b[0m\u001b[0;34m\u001b[0m\u001b[0m\n",
      "\u001b[0;32m/opt/anaconda/lib/python3.6/site-packages/numpy/core/numeric.py\u001b[0m in \u001b[0;36masarray\u001b[0;34m(a, dtype, order)\u001b[0m\n\u001b[1;32m    529\u001b[0m \u001b[0;34m\u001b[0m\u001b[0m\n\u001b[1;32m    530\u001b[0m     \"\"\"\n\u001b[0;32m--> 531\u001b[0;31m     \u001b[0;32mreturn\u001b[0m \u001b[0marray\u001b[0m\u001b[0;34m(\u001b[0m\u001b[0ma\u001b[0m\u001b[0;34m,\u001b[0m \u001b[0mdtype\u001b[0m\u001b[0;34m,\u001b[0m \u001b[0mcopy\u001b[0m\u001b[0;34m=\u001b[0m\u001b[0;32mFalse\u001b[0m\u001b[0;34m,\u001b[0m \u001b[0morder\u001b[0m\u001b[0;34m=\u001b[0m\u001b[0morder\u001b[0m\u001b[0;34m)\u001b[0m\u001b[0;34m\u001b[0m\u001b[0m\n\u001b[0m\u001b[1;32m    532\u001b[0m \u001b[0;34m\u001b[0m\u001b[0m\n\u001b[1;32m    533\u001b[0m \u001b[0;34m\u001b[0m\u001b[0m\n",
      "\u001b[0;31mMemoryError\u001b[0m: "
     ]
    }
   ],
   "source": [
    "validate_data2 = numpy.asarray(newsgroups_train.data)"
   ]
  },
  {
   "cell_type": "code",
   "execution_count": null,
   "metadata": {
    "collapsed": true
   },
   "outputs": [],
   "source": [
    "validate_old_indexes2"
   ]
  },
  {
   "cell_type": "code",
   "execution_count": 52,
   "metadata": {},
   "outputs": [
    {
     "ename": "MemoryError",
     "evalue": "",
     "output_type": "error",
     "traceback": [
      "\u001b[0;31m---------------------------------------------------------------------------\u001b[0m",
      "\u001b[0;31mMemoryError\u001b[0m                               Traceback (most recent call last)",
      "\u001b[0;32m<ipython-input-52-8be528bf98fa>\u001b[0m in \u001b[0;36m<module>\u001b[0;34m()\u001b[0m\n\u001b[1;32m      3\u001b[0m \u001b[0mnot_real_rec_autos_mask\u001b[0m \u001b[0;34m=\u001b[0m \u001b[0mvalidate_labels2\u001b[0m \u001b[0;34m!=\u001b[0m \u001b[0mrec_autos_id\u001b[0m\u001b[0;34m\u001b[0m\u001b[0m\n\u001b[1;32m      4\u001b[0m \u001b[0mmispredicated_rec_autos_mask\u001b[0m \u001b[0;34m=\u001b[0m \u001b[0mpredicted_rec_autos_mask\u001b[0m \u001b[0;34m*\u001b[0m \u001b[0mnot_real_rec_autos_mask\u001b[0m\u001b[0;34m\u001b[0m\u001b[0m\n\u001b[0;32m----> 5\u001b[0;31m \u001b[0mvalidate_data\u001b[0m \u001b[0;34m=\u001b[0m \u001b[0mnumpy\u001b[0m\u001b[0;34m.\u001b[0m\u001b[0masarray\u001b[0m\u001b[0;34m(\u001b[0m\u001b[0mnewsgroups_train\u001b[0m\u001b[0;34m.\u001b[0m\u001b[0mdata\u001b[0m\u001b[0;34m)\u001b[0m\u001b[0;34m[\u001b[0m\u001b[0mvalidate_old_indexes2\u001b[0m\u001b[0;34m]\u001b[0m\u001b[0;34m\u001b[0m\u001b[0m\n\u001b[0m\u001b[1;32m      6\u001b[0m \u001b[0minvalid_rec_autos_data\u001b[0m \u001b[0;34m=\u001b[0m \u001b[0mvalidate_data\u001b[0m\u001b[0;34m[\u001b[0m\u001b[0mmispredicated_rec_autos_mask\u001b[0m\u001b[0;34m]\u001b[0m\u001b[0;34m\u001b[0m\u001b[0m\n\u001b[1;32m      7\u001b[0m \u001b[0minvalid_rec_autos_data\u001b[0m\u001b[0;34m\u001b[0m\u001b[0m\n",
      "\u001b[0;31mMemoryError\u001b[0m: "
     ]
    }
   ],
   "source": [
    "rec_autos_id = 7\n",
    "predicted_rec_autos_mask = predicted_validate_labels2 == rec_autos_id\n",
    "not_real_rec_autos_mask = validate_labels2 != rec_autos_id\n",
    "mispredicated_rec_autos_mask = predicted_rec_autos_mask & not_real_rec_autos_mask\n",
    "invalid_rec_autos_data = validate_data2[mispredicated_rec_autos_mask]\n",
    "invalid_rec_autos_data"
   ]
  },
  {
   "cell_type": "code",
   "execution_count": null,
   "metadata": {
    "collapsed": true
   },
   "outputs": [],
   "source": [
    "feature_importances_"
   ]
  }
 ],
 "metadata": {
  "kernelspec": {
   "display_name": "Python 3",
   "language": "python",
   "name": "python3"
  },
  "language_info": {
   "codemirror_mode": {
    "name": "ipython",
    "version": 3
   },
   "file_extension": ".py",
   "mimetype": "text/x-python",
   "name": "python",
   "nbconvert_exporter": "python",
   "pygments_lexer": "ipython3",
   "version": "3.6.3"
  }
 },
 "nbformat": 4,
 "nbformat_minor": 2
}
