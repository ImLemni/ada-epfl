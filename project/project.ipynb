{
 "cells": [
  {
   "cell_type": "code",
   "execution_count": 4,
   "metadata": {
    "collapsed": true
   },
   "outputs": [],
   "source": [
    "import pandas\n",
    "import ada"
   ]
  },
  {
   "cell_type": "code",
   "execution_count": 5,
   "metadata": {
    "collapsed": true
   },
   "outputs": [
    {
     "data": {
      "text/plain": [
       "{'asin': 'B000GFDAUG',\n 'helpful': [0, 0],\n 'overall': 5.0,\n 'reviewText': \"CA Lewsi' review should be removed. he's reviewing a episode from season 10. If your gonna write a review do it for the whole season, not 1 episode thats not even on the season your reviewing it for.\",\n 'reviewTime': '02 6, 2008',\n 'reviewerID': 'A1EE2E3N7PW666',\n 'reviewerName': 'Aaron L. Allen \"Orgazmo1009\"',\n 'summary': 'Stupid',\n 'unixReviewTime': 1202256000}"
      ]
     },
     "execution_count": 5,
     "metadata": {},
     "output_type": "execute_result"
    }
   ],
   "source": [
    "{\n",
    "    'reviewerID': 'A1EE2E3N7PW666',\n",
    "    'asin': 'B000GFDAUG',\n",
    "    'reviewerName': 'Aaron L. Allen \"Orgazmo1009\"',\n",
    "    'helpful': [0, 0],\n",
    "    'reviewText': \"CA Lewsi' review should be removed. he's reviewing a episode from season 10. If your gonna write a review do it for the whole season, not 1 episode thats not even on the season your reviewing it for.\",\n",
    " 'overall': 5.0, 'summary': 'Stupid', 'unixReviewTime': 1202256000, 'reviewTime': '02 6, 2008'}\n"
   ]
  },
  {
   "cell_type": "code",
   "execution_count": 6,
   "metadata": {},
   "outputs": [],
   "source": [
    ""
   ]
  },
  {
   "cell_type": "code",
   "execution_count": 6,
   "metadata": {},
   "outputs": [
    {
     "name": "stdout",
     "output_type": "stream",
     "text": [
      "{'reviewerID': 'A1EE2E3N7PW666', 'asin': 'B000GFDAUG', 'reviewerName': 'Aaron L. Allen \"Orgazmo1009\"', 'helpful': [0, 0], 'reviewText': \"CA Lewsi' review should be removed. he's reviewing a episode from season 10. If your gonna write a review do it for the whole season, not 1 episode thats not even on the season your reviewing it for.\", 'overall': 5.0, 'summary': 'Stupid', 'unixReviewTime': 1202256000, 'reviewTime': '02 6, 2008'}\n{'reviewerID': 'AGZ8SM1BGK3CK', 'asin': 'B000GFDAUG', 'reviewerName': \"Mind's Clay\", 'helpful': [1, 1], 'reviewText': 'I truly love the humor of South Park. It\\'s social/political commentary and satirical wit and bathroom absurdity rules. No holds barred! I live to breathe another day in anticipation of Trey Parker\\'s next installment, whether it be South Park or some other venture. South Park is truly the work of a genius. Thank you, Sir Parker. (In Britian they often \"knight\" certian individuals (usually after they are \"old\" or \"dead\") for their contributions to their society) :)Sometimes it is dry. Sometimes it is wet. And sometimes it is too moist for humor. But somebody has to do it!I would like to see new South Park episodes until the day I leave this mortal existence. However, I know that Sir Parker would want to \"move on\". However, I would much like to see South Park from the eyes of a 90 year old Trey Parker. What wisdom would we see then?....', 'overall': 5.0, 'summary': '\"More Moist Than Should Be\" Humor', 'unixReviewTime': 1198195200, 'reviewTime': '12 21, 2007'}\n{'reviewerID': 'A2VHZ21245KBT7', 'asin': 'B000GIOPK2', 'reviewerName': '202_d \"202_d\"', 'helpful': [0, 0], 'reviewText': 'This is a cartoon series pitting eight cartoon stereotypes in a pseudo reality TV environment.I have watched all three seasons (only three are on DVD), and this one is the funniest overall. All three are worth a watch, this one is best. The average price of this box set, here on Amazon,  makes it an affordable laugh.While it is possible to start watching with any season of this show, I almost always recommend starting with season one; not too much sequential  story line.This is parody/satirical humor. This type of humor is not for everyone. The smarter you are the more jokes you will understand; some jokes are subtle.', 'overall': 4.0, 'summary': 'Overall, really like the series.', 'unixReviewTime': 1215388800, 'reviewTime': '07 7, 2008'}\n{'reviewerID': 'ACX8YW2D5EGP6', 'asin': 'B000GIOPK2', 'reviewerName': 'Alexandra Stephens \"dreamgirl0922\"', 'helpful': [11, 13], 'reviewText': \"Yeah drawn together is great when it comes to the crude humor. The first season was hilarious but sometimes i found the second season lacking. But it still was a great season. A definite buy is you're a fan of crude humor and hilarious cartoons.\", 'overall': 4.0, 'summary': 'Crude cartoon humor...Check', 'unixReviewTime': 1185840000, 'reviewTime': '07 31, 2007'}\n{'reviewerID': 'A9RNMO9MUSMTJ', 'asin': 'B000GIOPK2', 'reviewerName': 'Andre Villemaire', 'helpful': [0, 2], 'reviewText': \"Seems like today's generation is getting revenge on the censorship from the pastand is trying to open up all cans of worms. I guess nice cartoons with good storiesand some morals are out and crude in your face stuff is in.  Some of these arereally funny, have funny situations but its not for everybody and i would'nt let youngkids see it as you have male and female full frontal...characters urinating andother weird stuff....and also the writters must be gay...cause theres a lot ofgay situations...  But what would you expect from a generation of Reality show watchers.....Hope the next generation of cartoons brings back quality instead of quantity of crap.\", 'overall': 2.0, 'summary': 'not bad...', 'unixReviewTime': 1281052800, 'reviewTime': '08 6, 2010'}\n{'reviewerID': 'A3STFVPM8NHJ7B', 'asin': 'B000GIOPK2', 'reviewerName': 'A. Pierre', 'helpful': [1, 2], 'reviewText': \"I dont agree with the reviewer who says the show wears thin after awhile. Ive watched each show about 3-5 times a piece and I cant get enough of the show, its a very funny and probably one of the best cartoons on tv today. I dont know how ratings are doing for the show but if they release them via dvd, i'll keep on buying them. Xandir and Tim, Sitting in a Tree is my favorite of the season but all the shows are funny. The more you watch, the more you pick up the little stuff you might have missed. Highly recommend this show to anyone who enjoys adult cartoons, its much better then South Park.\", 'overall': 5.0, 'summary': 'Excellent', 'unixReviewTime': 1203897600, 'reviewTime': '02 25, 2008'}\n{'reviewerID': 'A2582KMXLK2P06', 'asin': 'B000GIOPK2', 'reviewerName': 'B. E Jackson', 'helpful': [0, 1], 'reviewText': \"Apparently I'm one of the few who really thinks Drawn Together is a fantastic animated show.  The animation is really good overall, second only to the Simpsons.  Very bright, colorful animation that makes everything look very nice.  A wide variety of creative characters each with their own special personality and goofy problems.  Solid storytelling that makes the characters more interesting, and a very wild adult sense of humor that has *so* much creativity you can barely keep up with the constant jumping around.  Imagine a more violent Simpsons or Futurama with the pacing in hyper mode.  That's basically what Drawn Together is all about.\", 'overall': 5.0, 'summary': 'drawn together nicely', 'unixReviewTime': 1205884800, 'reviewTime': '03 19, 2008'}\n{'reviewerID': 'A1TZCLCW9QGGBH', 'asin': 'B000GIOPK2', 'reviewerName': 'Ben Lawrence \"Ben Lawrence\"', 'helpful': [0, 1], 'reviewText': \"I liked this product. I am a big fan of Drawn together and this is the best season so far. The extra features are cool and I can't wait until the next season comes out.\", 'overall': 4.0, 'summary': 'Drawn Together', 'unixReviewTime': 1209427200, 'reviewTime': '04 29, 2008'}\n{'reviewerID': 'A2E2I6B878CRMA', 'asin': 'B000GIOPK2', 'reviewerName': 'Big Dog', 'helpful': [0, 0], 'reviewText': 'the show. it is really funny. it is a good show to get on Dvd. I like the show a lot.', 'overall': 5.0, 'summary': 'it was cool', 'unixReviewTime': 1378684800, 'reviewTime': '09 9, 2013'}\n{'reviewerID': 'AD5MZA8SOVMPJ', 'asin': 'B000GIOPK2', 'reviewerName': 'Brandon Nolta', 'helpful': [5, 5], 'reviewText': \"People who like cartoons must be thankful for DVDs, because that technology opened up the floodgates for fans for every kind of animation. Whether you like classic Looney Tunes, hippy-dippy sci-fi parables or Asian tentacle porn, it's all there for you to find and enjoy. It's only been in the last 20 years or so, however, that American TV networks have clued into the idea that many adults like cartoons that have content specifically aimed at adults, even though some cartoons did well in prime-time even fifty years ago or so. Now, with DVD, you can not only watch entire seasons at a shot, you can also see the shows in their unadulterated glory.Which brings us to the Comedy Central series Drawn Together. I've been a fan of this show for a while, partly because of the writing and partly because of the cheerful way in which it steamrolls political correctness and good taste. If South Park is the Mount Everest of crude, crass animation, then Drawn Together is K2; it doesn't stand as tall, but it's a tougher climb. The truth of this was brought home upon watching the second season of the show on DVD. Much to my surprise, watching the DVD turned out to be a different experience than watching it in first run.Part of this is due to one of the DVD set's selling points: it's unexpurgated. I didn't think this would make much of a difference, as it's generally pretty clear what's been cut. As it turns out, there was a lot cut out of the show, and not just language: genitalia, violence, enough racist abuse to make the KKK turn red under their sheets, sex in a vast array of configurations and a whole lot of other content that probably produces instant pucker in the unfortunate souls who work in Comedy Central's Standards and Practices department. Now, I'm not one for censorship, but the additional material works against the show to a certain degree. What's there is still funny in multiple senses, from satire to slapstick, but actually being able to hit the money words (and shots) dilutes the humor a bit.As far as taste goes, DT is not a show to start novices on. If adult animation is still a new concept for you, and you think The Simpsons is bleeding-edge in the sometimes fluid space between being socially acceptable and being a pariah, then DT may cause seizures. For people who like edgy animation, this will be just the ticket. The voiceover artists and writers take their material seriously, and they're willing to go wherever the jokes take them (the season finale has a running gag with historical dates and the episodes connected to them that manages to be both subtle and sick).In terms of presentation, the DT set is relatively bare-bones. The whole season of 15 episodes is crammed onto two discs, leaving just enough room for a handful of interviews with the voiceover artists (minus Adam Carolla, who has plenty to do outside the show) and a karaoke singalong. The visual quality is pretty sharp, and the sound quality is good, but this isn't the kind of material you use to do any THX certifications with, so it's not like you'd expect much. Still, it's the episodes that matter, and for you sick little monkeys out there who like this kind of thing, Drawn Together season 2 is a worthwhile expenditure. Just don't leave it out where Grandma or the kids might get a hold of it. Either you'll scar them for life (maybe shuffling Granny into an early grave), or you'll never get it back.\", 'overall': 5.0, 'summary': 'Funny, vulgar and sick: three of my favorite things...', 'unixReviewTime': 1218240000, 'reviewTime': '08 9, 2008'}\n"
     ]
    }
   ],
   "source": [
    "ada.locations.ABS_DATA_PATH\n",
    "reviews = ada.data.read_data_file(\"reviews_Amazon_Instant_Video\", 10)\n",
    "for review in reviews:\n",
    "    print(review)\n"
   ]
  },
  {
   "cell_type": "code",
   "execution_count": 7,
   "metadata": {},
   "outputs": [],
   "source": [
    ""
   ]
  },
  {
   "cell_type": "code",
   "execution_count": 15,
   "metadata": {},
   "outputs": [],
   "source": []
  },
  {
   "cell_type": "code",
   "execution_count": null,
   "metadata": {},
   "outputs": [],
   "source": []
  }
 ],
 "metadata": {
  "kernelspec": {
   "display_name": "Python 3",
   "language": "python",
   "name": "python3"
  },
  "language_info": {
   "codemirror_mode": {
    "name": "ipython",
    "version": 3
   },
   "file_extension": ".py",
   "mimetype": "text/x-python",
   "name": "python",
   "nbconvert_exporter": "python",
   "pygments_lexer": "ipython3",
   "version": "3.6.1"
  }
 },
 "nbformat": 4,
 "nbformat_minor": 1
}
