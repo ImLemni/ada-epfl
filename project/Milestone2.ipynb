{
 "cells": [
  {
   "cell_type": "markdown",
   "metadata": {},
   "source": [
    "# Data collection and description (milestone 2)"
   ]
  },
  {
   "cell_type": "markdown",
   "metadata": {
    "collapsed": true
   },
   "source": [
    "The goal of this part is to collect, enrich, transform and analyze data for our project.\n",
    "\n",
    "Most of the data collection code is implemented in Python files, the description is mostly in this notebook."
   ]
  },
  {
   "cell_type": "code",
   "execution_count": 1,
   "metadata": {
    "collapsed": true
   },
   "outputs": [],
   "source": [
    "import ada\n",
    "from ada import data\n",
    "import pandas as pd\n",
    "import matplotlib.pyplot as plt\n",
    "%matplotlib inline\n",
    "import seaborn as sb\n",
    "import numpy as np\n",
    "from datetime import datetime\n",
    "\n",
    "import importlib\n",
    "importlib.reload(ada.matching);"
   ]
  },
  {
   "cell_type": "markdown",
   "metadata": {},
   "source": [
    "# Data collection"
   ]
  },
  {
   "cell_type": "markdown",
   "metadata": {},
   "source": [
    "## Global data description"
   ]
  },
  {
   "cell_type": "markdown",
   "metadata": {},
   "source": [
    "From [the Amazon dataset][dataset], we used the deduplicated per-category files to download the subset of data relevant to our project.\n",
    "Here are the files we use:\n",
    "\n",
    "- `reviews_Books.json.gz`\n",
    "- `meta_Books.json.gz`\n",
    "- `reviews_Movies_and_TV.json.gz`\n",
    "- `meta_Movies_and_TV.json.gz`\n",
    "\n",
    "We decided not to use the reviews for Amazon Instant videos because a large majority of products are not related to a title, we have noticed that we could use the Amazon Product API but we think we have enough data with the 2 firsts categories.\n",
    "\n",
    "We constructed our code so that we can handle both plain and compressed json files (`.json` and `.json.gz`), so that we can avoid extracting json files if memory is limited. \n",
    "\n",
    "We worked on our PC as the size of the data is small (about 8gb for compressed files and 25gb for plain files)\n",
    "\n",
    "[dataset]: http://jmcauley.ucsd.edu/data/amazon/"
   ]
  },
  {
   "cell_type": "markdown",
   "metadata": {},
   "source": [
    "### Books reviews"
   ]
  },
  {
   "cell_type": "markdown",
   "metadata": {},
   "source": [
    "- Number of lines:\n",
    "  ```bash\n",
    "  $ wc -l reviews_Books.json\n",
    "  22507155 reviews_Books.json\n",
    "  ```\n",
    "\n",
    "This matches the number on the website."
   ]
  },
  {
   "cell_type": "code",
   "execution_count": 5,
   "metadata": {},
   "outputs": [
    {
     "data": {
      "application/vnd.jupyter.widget-view+json": {
       "model_id": "7e6e8a05559d4289a2e3a41e51de6be5"
      }
     },
     "metadata": {},
     "output_type": "display_data"
    },
    {
     "data": {
      "text/html": [
       "<div>\n",
       "<style>\n",
       "    .dataframe thead tr:only-child th {\n",
       "        text-align: right;\n",
       "    }\n",
       "\n",
       "    .dataframe thead th {\n",
       "        text-align: left;\n",
       "    }\n",
       "\n",
       "    .dataframe tbody tr th {\n",
       "        vertical-align: top;\n",
       "    }\n",
       "</style>\n",
       "<table border=\"1\" class=\"dataframe\">\n",
       "  <thead>\n",
       "    <tr style=\"text-align: right;\">\n",
       "      <th></th>\n",
       "      <th>asin</th>\n",
       "      <th>helpful</th>\n",
       "      <th>overall</th>\n",
       "      <th>reviewText</th>\n",
       "      <th>reviewTime</th>\n",
       "      <th>reviewerID</th>\n",
       "      <th>reviewerName</th>\n",
       "      <th>summary</th>\n",
       "      <th>unixReviewTime</th>\n",
       "    </tr>\n",
       "  </thead>\n",
       "  <tbody>\n",
       "    <tr>\n",
       "      <th>0</th>\n",
       "      <td>0000000116</td>\n",
       "      <td>[5, 5]</td>\n",
       "      <td>4.0</td>\n",
       "      <td>Interesting Grisham tale of a lawyer that take...</td>\n",
       "      <td>04 27, 2002</td>\n",
       "      <td>AH2L9G3DQHHAJ</td>\n",
       "      <td>chris</td>\n",
       "      <td>Show me the money!</td>\n",
       "      <td>1019865600</td>\n",
       "    </tr>\n",
       "    <tr>\n",
       "      <th>1</th>\n",
       "      <td>0000000116</td>\n",
       "      <td>[0, 0]</td>\n",
       "      <td>1.0</td>\n",
       "      <td>The thumbnail is a shirt.  The product shown i...</td>\n",
       "      <td>03 24, 2014</td>\n",
       "      <td>A2IIIDRK3PRRZY</td>\n",
       "      <td>Helene</td>\n",
       "      <td>Listing is all screwed up</td>\n",
       "      <td>1395619200</td>\n",
       "    </tr>\n",
       "    <tr>\n",
       "      <th>2</th>\n",
       "      <td>0000000868</td>\n",
       "      <td>[10, 10]</td>\n",
       "      <td>4.0</td>\n",
       "      <td>I'll be honest. I work for a large online reta...</td>\n",
       "      <td>09 11, 2002</td>\n",
       "      <td>A1TADCM7YWPQ8M</td>\n",
       "      <td>Joel@AWS</td>\n",
       "      <td>Not a Bad Translation</td>\n",
       "      <td>1031702400</td>\n",
       "    </tr>\n",
       "    <tr>\n",
       "      <th>3</th>\n",
       "      <td>0000013714</td>\n",
       "      <td>[0, 0]</td>\n",
       "      <td>4.0</td>\n",
       "      <td>It had all the songs I wanted but I had ordere...</td>\n",
       "      <td>10 31, 2013</td>\n",
       "      <td>AWGH7V0BDOJKB</td>\n",
       "      <td>Barbara Marshall</td>\n",
       "      <td>Not the large print</td>\n",
       "      <td>1383177600</td>\n",
       "    </tr>\n",
       "    <tr>\n",
       "      <th>4</th>\n",
       "      <td>0000013714</td>\n",
       "      <td>[0, 0]</td>\n",
       "      <td>5.0</td>\n",
       "      <td>We have many of the old, old issue. But the nu...</td>\n",
       "      <td>07 27, 2013</td>\n",
       "      <td>A3UTQPQPM4TQO0</td>\n",
       "      <td>betty burnett</td>\n",
       "      <td>I was disappointed that you would only allow m...</td>\n",
       "      <td>1374883200</td>\n",
       "    </tr>\n",
       "  </tbody>\n",
       "</table>\n",
       "</div>"
      ],
      "text/plain": [
       "         asin   helpful  overall  \\\n",
       "0  0000000116    [5, 5]      4.0   \n",
       "1  0000000116    [0, 0]      1.0   \n",
       "2  0000000868  [10, 10]      4.0   \n",
       "3  0000013714    [0, 0]      4.0   \n",
       "4  0000013714    [0, 0]      5.0   \n",
       "\n",
       "                                          reviewText   reviewTime  \\\n",
       "0  Interesting Grisham tale of a lawyer that take...  04 27, 2002   \n",
       "1  The thumbnail is a shirt.  The product shown i...  03 24, 2014   \n",
       "2  I'll be honest. I work for a large online reta...  09 11, 2002   \n",
       "3  It had all the songs I wanted but I had ordere...  10 31, 2013   \n",
       "4  We have many of the old, old issue. But the nu...  07 27, 2013   \n",
       "\n",
       "       reviewerID      reviewerName  \\\n",
       "0   AH2L9G3DQHHAJ             chris   \n",
       "1  A2IIIDRK3PRRZY            Helene   \n",
       "2  A1TADCM7YWPQ8M          Joel@AWS   \n",
       "3   AWGH7V0BDOJKB  Barbara Marshall   \n",
       "4  A3UTQPQPM4TQO0     betty burnett   \n",
       "\n",
       "                                             summary  unixReviewTime  \n",
       "0                                 Show me the money!      1019865600  \n",
       "1                          Listing is all screwed up      1395619200  \n",
       "2                              Not a Bad Translation      1031702400  \n",
       "3                                Not the large print      1383177600  \n",
       "4  I was disappointed that you would only allow m...      1374883200  "
      ]
     },
     "execution_count": 5,
     "metadata": {},
     "output_type": "execute_result"
    }
   ],
   "source": [
    "pd.DataFrame.from_dict(data.read_data(\"reviews_Books\", 5))"
   ]
  },
  {
   "cell_type": "markdown",
   "metadata": {},
   "source": [
    "Basic description of features : \n",
    "- reviewerID: ID of the product, will be used to match metadata\n",
    "- asin: ID of the reviewer\n",
    "- reviewerName: name of the reviewer\n",
    "- helpful:  helpfulness rating of the review, represented as a tuple `[helpful_votes, total_votes]`. For example `[5, 5]` in the first rows means that 5/5 people found this comment helpful.\n",
    "- reviewText: Content of the review\n",
    "- overall: rating of the product\n",
    "- summary: summary of the review\n",
    "- unixReviewTime: Time of the review as a UNIX timestamp (seconds since the UNIX epoch)\n",
    "- reviewTime: time of the review in \" month day,year\" format\n"
   ]
  },
  {
   "cell_type": "markdown",
   "metadata": {},
   "source": [
    "Given the size of the data, we'll use a custom function to get a rough estimate of the data without having to load it completely in memory."
   ]
  },
  {
   "cell_type": "code",
   "execution_count": 6,
   "metadata": {},
   "outputs": [
    {
     "data": {
      "application/vnd.jupyter.widget-view+json": {
       "model_id": "9bef5ed11a5449d7803ae3b631303f2e"
      }
     },
     "metadata": {},
     "output_type": "display_data"
    },
    {
     "name": "stdout",
     "output_type": "stream",
     "text": [
      "\n",
      "Number of unique reviewers: 8026324 (35.66121084606206%), 9.659449560656222 reviews per user\n",
      "Number of unique products: 2330066 (10.352556775834174%), 2.8041672626223413 reviews per product\n",
      "Rated comments (helpfulness): 12034001 (53.46744624098426%)\n",
      "Non rated comments (helpfulness): 10473154 (46.53255375901574%)\n",
      "Average comment helpfulness: 0.7288443590389628\n",
      "Time of oldest review: 1996-05-20 02:00:00 (832550400)\n",
      "Time of newest review: 2014-07-23 02:00:00 (1406073600)\n",
      "\n"
     ]
    }
   ],
   "source": [
    "# WARNING: Long operation (about 15-30 minutes)\n",
    "ada.collect.print_reviews_description(ada.collect.describe_reviews(data.read_data(\"reviews_Books\", 22507155)))"
   ]
  },
  {
   "cell_type": "markdown",
   "metadata": {},
   "source": [
    "Results : \n",
    "\n",
    "> ```\n",
    "> Number of unique reviewers: 8026324 (35.66121084606206%), 9.659449560656222 reviews per user\n",
    "> Number of unique products: 2330066 (10.352556775834174%), 2.8041672626223413 reviews per product\n",
    "> Rated comments (helpfulness): 12034001 (53.46744624098426%)\n",
    "> Non rated comments (helpfulness): 10473154 (46.53255375901574%)\n",
    "> Average comment helpfulness: 0.7288443590389628\n",
    "> Time of oldest review: 1996-05-20 02:00:00 (832550400)\n",
    "> Time of newest review: 2014-07-23 02:00:00 (1406073600)\n",
    "> ```\n",
    "\n",
    "We can already notice a high mean for overall reviews"
   ]
  },
  {
   "cell_type": "markdown",
   "metadata": {},
   "source": [
    "### Books metadata"
   ]
  },
  {
   "cell_type": "markdown",
   "metadata": {},
   "source": [
    "* Number of lines:\n",
    "  ```bash\n",
    "  wc -l meta_Books.json\n",
    "  2370585 meta_Books.json\n",
    "  ```"
   ]
  },
  {
   "cell_type": "code",
   "execution_count": 8,
   "metadata": {},
   "outputs": [
    {
     "data": {
      "application/vnd.jupyter.widget-view+json": {
       "model_id": "398864b986f54eed8c64e64fdaa1fe6c"
      }
     },
     "metadata": {},
     "output_type": "display_data"
    },
    {
     "data": {
      "text/html": [
       "<div>\n",
       "<style>\n",
       "    .dataframe thead tr:only-child th {\n",
       "        text-align: right;\n",
       "    }\n",
       "\n",
       "    .dataframe thead th {\n",
       "        text-align: left;\n",
       "    }\n",
       "\n",
       "    .dataframe tbody tr th {\n",
       "        vertical-align: top;\n",
       "    }\n",
       "</style>\n",
       "<table border=\"1\" class=\"dataframe\">\n",
       "  <thead>\n",
       "    <tr style=\"text-align: right;\">\n",
       "      <th></th>\n",
       "      <th>asin</th>\n",
       "      <th>categories</th>\n",
       "      <th>description</th>\n",
       "      <th>imUrl</th>\n",
       "      <th>price</th>\n",
       "      <th>related</th>\n",
       "      <th>salesRank</th>\n",
       "      <th>title</th>\n",
       "    </tr>\n",
       "  </thead>\n",
       "  <tbody>\n",
       "    <tr>\n",
       "      <th>0</th>\n",
       "      <td>0001048791</td>\n",
       "      <td>[[Books]]</td>\n",
       "      <td>NaN</td>\n",
       "      <td>http://ecx.images-amazon.com/images/I/51MKP0T4...</td>\n",
       "      <td>NaN</td>\n",
       "      <td>NaN</td>\n",
       "      <td>{'Books': 6334800}</td>\n",
       "      <td>The Crucible: Performed by Stuart Pankin, Jero...</td>\n",
       "    </tr>\n",
       "    <tr>\n",
       "      <th>1</th>\n",
       "      <td>0001048775</td>\n",
       "      <td>[[Books]]</td>\n",
       "      <td>William Shakespeare is widely regarded as the ...</td>\n",
       "      <td>http://ecx.images-amazon.com/images/I/5166EBHD...</td>\n",
       "      <td>NaN</td>\n",
       "      <td>NaN</td>\n",
       "      <td>{'Books': 13243226}</td>\n",
       "      <td>Measure for Measure: Complete &amp;amp; Unabridged</td>\n",
       "    </tr>\n",
       "    <tr>\n",
       "      <th>2</th>\n",
       "      <td>0001048236</td>\n",
       "      <td>[[Books]]</td>\n",
       "      <td>&amp;#34;One thing is certain, Sherlockians, put a...</td>\n",
       "      <td>http://ecx.images-amazon.com/images/I/51DH145C...</td>\n",
       "      <td>9.26</td>\n",
       "      <td>{'also_viewed': ['1442300191', '9626349786', '...</td>\n",
       "      <td>{'Books': 8973864}</td>\n",
       "      <td>The Sherlock Holmes Audio Collection</td>\n",
       "    </tr>\n",
       "    <tr>\n",
       "      <th>3</th>\n",
       "      <td>0000401048</td>\n",
       "      <td>[[Books]]</td>\n",
       "      <td>NaN</td>\n",
       "      <td>http://ecx.images-amazon.com/images/I/41bchvIf...</td>\n",
       "      <td>NaN</td>\n",
       "      <td>{'also_viewed': ['068240103X']}</td>\n",
       "      <td>{'Books': 6448843}</td>\n",
       "      <td>The rogue of publishers' row;: Confessions of ...</td>\n",
       "    </tr>\n",
       "    <tr>\n",
       "      <th>4</th>\n",
       "      <td>0001019880</td>\n",
       "      <td>[[Books]]</td>\n",
       "      <td>NaN</td>\n",
       "      <td>http://ecx.images-amazon.com/images/I/61LcHUdv...</td>\n",
       "      <td>5.39</td>\n",
       "      <td>{'also_viewed': ['B003HMB5FC', '0834004593'], ...</td>\n",
       "      <td>{'Books': 9589258}</td>\n",
       "      <td>Classic Soul Winner's New Testament Bible</td>\n",
       "    </tr>\n",
       "    <tr>\n",
       "      <th>5</th>\n",
       "      <td>0001048813</td>\n",
       "      <td>[[Books]]</td>\n",
       "      <td>NaN</td>\n",
       "      <td>http://ecx.images-amazon.com/images/I/41k5u0lr...</td>\n",
       "      <td>NaN</td>\n",
       "      <td>NaN</td>\n",
       "      <td>NaN</td>\n",
       "      <td>Archer Christmas 4 Tape Pack</td>\n",
       "    </tr>\n",
       "  </tbody>\n",
       "</table>\n",
       "</div>"
      ],
      "text/plain": [
       "         asin categories                                        description  \\\n",
       "0  0001048791  [[Books]]                                                NaN   \n",
       "1  0001048775  [[Books]]  William Shakespeare is widely regarded as the ...   \n",
       "2  0001048236  [[Books]]  &#34;One thing is certain, Sherlockians, put a...   \n",
       "3  0000401048  [[Books]]                                                NaN   \n",
       "4  0001019880  [[Books]]                                                NaN   \n",
       "5  0001048813  [[Books]]                                                NaN   \n",
       "\n",
       "                                               imUrl  price  \\\n",
       "0  http://ecx.images-amazon.com/images/I/51MKP0T4...    NaN   \n",
       "1  http://ecx.images-amazon.com/images/I/5166EBHD...    NaN   \n",
       "2  http://ecx.images-amazon.com/images/I/51DH145C...   9.26   \n",
       "3  http://ecx.images-amazon.com/images/I/41bchvIf...    NaN   \n",
       "4  http://ecx.images-amazon.com/images/I/61LcHUdv...   5.39   \n",
       "5  http://ecx.images-amazon.com/images/I/41k5u0lr...    NaN   \n",
       "\n",
       "                                             related            salesRank  \\\n",
       "0                                                NaN   {'Books': 6334800}   \n",
       "1                                                NaN  {'Books': 13243226}   \n",
       "2  {'also_viewed': ['1442300191', '9626349786', '...   {'Books': 8973864}   \n",
       "3                    {'also_viewed': ['068240103X']}   {'Books': 6448843}   \n",
       "4  {'also_viewed': ['B003HMB5FC', '0834004593'], ...   {'Books': 9589258}   \n",
       "5                                                NaN                  NaN   \n",
       "\n",
       "                                               title  \n",
       "0  The Crucible: Performed by Stuart Pankin, Jero...  \n",
       "1     Measure for Measure: Complete &amp; Unabridged  \n",
       "2               The Sherlock Holmes Audio Collection  \n",
       "3  The rogue of publishers' row;: Confessions of ...  \n",
       "4          Classic Soul Winner's New Testament Bible  \n",
       "5                       Archer Christmas 4 Tape Pack  "
      ]
     },
     "execution_count": 8,
     "metadata": {},
     "output_type": "execute_result"
    }
   ],
   "source": [
    "pd.DataFrame.from_dict(data.read_data(\"meta_Books\", 6))"
   ]
  },
  {
   "cell_type": "markdown",
   "metadata": {},
   "source": [
    "Basic description of features : \n",
    "* asin : ID of the product\n",
    "* salesRank : sales rank information\n",
    "* imUrl : url of the product image\n",
    "* categories : list of categories the product belongs to\n",
    "* title : name of the product\n",
    "* price : price in US dollars\n",
    "* description : product description\n",
    "* related : related products, for example product that was also bought\n",
    "* brand : brand name\n"
   ]
  },
  {
   "cell_type": "markdown",
   "metadata": {},
   "source": [
    "This time the file is small enough to load it in memory with pandas but due to the format of the input it's faster to make a custom read.\n",
    "\n",
    "For example we can not use the `unique` function to list categories as they are in a list format which are unhashable"
   ]
  },
  {
   "cell_type": "code",
   "execution_count": 22,
   "metadata": {},
   "outputs": [
    {
     "data": {
      "application/vnd.jupyter.widget-view+json": {
       "model_id": "0eab1197349a4eb89f92c3a9ef49cc23"
      }
     },
     "metadata": {},
     "output_type": "display_data"
    },
    {
     "name": "stdout",
     "output_type": "stream",
     "text": [
      "\n",
      "Number of products: 2370585\n",
      "Number of unique categories: 3935\n",
      "Number of products with price: 1679410 (70.84369469983147%)\n",
      "Mean price: 17.62630714920411\n",
      "Number of products with sales rank in the `Books` category: 1891017 (79.77005675814198%)\n",
      "Mean sales rank: 2837317.7674769713\n",
      "Min sales rank: 1\n",
      "Max sales rank: 14690268\n",
      "Number of products with a title: 1938767 (81.78432749722116%)\n",
      "Number of products with a description: 1121358 (47.303007485494085%)\n",
      "Number of products with a `related` field: 1620429 (68.3556590461848%)\n",
      "\n",
      "\n"
     ]
    }
   ],
   "source": [
    "sales_category = 'Books'\n",
    "ada.collect.print_meta_description(ada.collect.describe_meta(data.read_data(\"meta_Books\", 2370585), sales_category))"
   ]
  },
  {
   "cell_type": "markdown",
   "metadata": {},
   "source": [
    "Results:\n",
    "\n",
    "> ```\n",
    "> Number of products: 2370585\n",
    "> Number of unique categories: 3935\n",
    "> Number of products with price: 1679410 (70.84369469983147%)\n",
    "> Mean price: 17.62630714920411\n",
    "> Number of products with sales rank: 1891017 (79.77005675814198%)\n",
    "> Mean sales rank: 2837317.7674769713\n",
    "> Min sales rank: 1\n",
    "> Max sales rank: 14690268\n",
    "> Number of products with a title: 1938767 (81.78432749722116%)\n",
    "> Number of products with a description: 1121358 (47.303007485494085%)\n",
    "> Number of products with a `related` field: 1620429 (68.3556590461848%)\n",
    "> ```\n",
    "\n",
    "We can notice that we have a lot of titles here, so our project is still has enough data for now. We also see that we have the most selled book (first rank): it will probably have a lot of reviews and will be interesting to analyze."
   ]
  },
  {
   "cell_type": "markdown",
   "metadata": {},
   "source": [
    "### Movies reviews"
   ]
  },
  {
   "cell_type": "markdown",
   "metadata": {},
   "source": [
    "* Number of lines :\n",
    "  ```bash\n",
    "  $ wc -l reviews_Movies_and_TV.json\n",
    "  4607047 reviews_Movies_and_TV.json\n",
    "  ```\n",
    "* The features are the same than those of Books reviews, please see there the decription"
   ]
  },
  {
   "cell_type": "code",
   "execution_count": 24,
   "metadata": {},
   "outputs": [
    {
     "data": {
      "application/vnd.jupyter.widget-view+json": {
       "model_id": "12ba635a4bcd4d6d900aea30801a3843"
      }
     },
     "metadata": {},
     "output_type": "display_data"
    },
    {
     "data": {
      "text/html": [
       "<div>\n",
       "<style>\n",
       "    .dataframe thead tr:only-child th {\n",
       "        text-align: right;\n",
       "    }\n",
       "\n",
       "    .dataframe thead th {\n",
       "        text-align: left;\n",
       "    }\n",
       "\n",
       "    .dataframe tbody tr th {\n",
       "        vertical-align: top;\n",
       "    }\n",
       "</style>\n",
       "<table border=\"1\" class=\"dataframe\">\n",
       "  <thead>\n",
       "    <tr style=\"text-align: right;\">\n",
       "      <th></th>\n",
       "      <th>asin</th>\n",
       "      <th>helpful</th>\n",
       "      <th>overall</th>\n",
       "      <th>reviewText</th>\n",
       "      <th>reviewTime</th>\n",
       "      <th>reviewerID</th>\n",
       "      <th>reviewerName</th>\n",
       "      <th>summary</th>\n",
       "      <th>unixReviewTime</th>\n",
       "    </tr>\n",
       "  </thead>\n",
       "  <tbody>\n",
       "    <tr>\n",
       "      <th>0</th>\n",
       "      <td>0000143502</td>\n",
       "      <td>[0, 0]</td>\n",
       "      <td>5.0</td>\n",
       "      <td>This has some great tips as always and is help...</td>\n",
       "      <td>01 17, 2013</td>\n",
       "      <td>A3R5OBKS7OM2IR</td>\n",
       "      <td>Rebecca L. Johnson</td>\n",
       "      <td>Alton... nough said</td>\n",
       "      <td>1358380800</td>\n",
       "    </tr>\n",
       "    <tr>\n",
       "      <th>1</th>\n",
       "      <td>0000143529</td>\n",
       "      <td>[0, 0]</td>\n",
       "      <td>5.0</td>\n",
       "      <td>This is a great pastry guide.  I love how Alto...</td>\n",
       "      <td>10 2, 2013</td>\n",
       "      <td>A3R5OBKS7OM2IR</td>\n",
       "      <td>Rebecca L. Johnson</td>\n",
       "      <td>Ah Alton...</td>\n",
       "      <td>1380672000</td>\n",
       "    </tr>\n",
       "    <tr>\n",
       "      <th>2</th>\n",
       "      <td>0000143561</td>\n",
       "      <td>[2, 4]</td>\n",
       "      <td>2.0</td>\n",
       "      <td>I have to admit that I am a fan of Giada's coo...</td>\n",
       "      <td>07 17, 2008</td>\n",
       "      <td>AH3QC2PC1VTGP</td>\n",
       "      <td>Great Home Cook</td>\n",
       "      <td>Don't waste your money</td>\n",
       "      <td>1216252800</td>\n",
       "    </tr>\n",
       "    <tr>\n",
       "      <th>3</th>\n",
       "      <td>0000143588</td>\n",
       "      <td>[9, 9]</td>\n",
       "      <td>5.0</td>\n",
       "      <td>I bought these two volumes new and spent over ...</td>\n",
       "      <td>03 13, 2009</td>\n",
       "      <td>A3LKP6WPMP9UKX</td>\n",
       "      <td>Anna V. Carroll</td>\n",
       "      <td>VOLUME 1 &amp; VOLUME 2-BETTER THAN THERAPY</td>\n",
       "      <td>1236902400</td>\n",
       "    </tr>\n",
       "    <tr>\n",
       "      <th>4</th>\n",
       "      <td>0000143588</td>\n",
       "      <td>[1, 4]</td>\n",
       "      <td>5.0</td>\n",
       "      <td>I am very pleased with the dvd only wish i cou...</td>\n",
       "      <td>01 18, 2009</td>\n",
       "      <td>AVIY68KEPQ5ZD</td>\n",
       "      <td>Rebecca Millington</td>\n",
       "      <td>Barefoot Contesst Vol 2</td>\n",
       "      <td>1232236800</td>\n",
       "    </tr>\n",
       "  </tbody>\n",
       "</table>\n",
       "</div>"
      ],
      "text/plain": [
       "         asin helpful  overall  \\\n",
       "0  0000143502  [0, 0]      5.0   \n",
       "1  0000143529  [0, 0]      5.0   \n",
       "2  0000143561  [2, 4]      2.0   \n",
       "3  0000143588  [9, 9]      5.0   \n",
       "4  0000143588  [1, 4]      5.0   \n",
       "\n",
       "                                          reviewText   reviewTime  \\\n",
       "0  This has some great tips as always and is help...  01 17, 2013   \n",
       "1  This is a great pastry guide.  I love how Alto...   10 2, 2013   \n",
       "2  I have to admit that I am a fan of Giada's coo...  07 17, 2008   \n",
       "3  I bought these two volumes new and spent over ...  03 13, 2009   \n",
       "4  I am very pleased with the dvd only wish i cou...  01 18, 2009   \n",
       "\n",
       "       reviewerID        reviewerName  \\\n",
       "0  A3R5OBKS7OM2IR  Rebecca L. Johnson   \n",
       "1  A3R5OBKS7OM2IR  Rebecca L. Johnson   \n",
       "2   AH3QC2PC1VTGP     Great Home Cook   \n",
       "3  A3LKP6WPMP9UKX     Anna V. Carroll   \n",
       "4   AVIY68KEPQ5ZD  Rebecca Millington   \n",
       "\n",
       "                                   summary  unixReviewTime  \n",
       "0                      Alton... nough said      1358380800  \n",
       "1                              Ah Alton...      1380672000  \n",
       "2                   Don't waste your money      1216252800  \n",
       "3  VOLUME 1 & VOLUME 2-BETTER THAN THERAPY      1236902400  \n",
       "4                  Barefoot Contesst Vol 2      1232236800  "
      ]
     },
     "execution_count": 24,
     "metadata": {},
     "output_type": "execute_result"
    }
   ],
   "source": [
    "pd.DataFrame.from_dict(data.read_data(\"reviews_Movies_and_TV\", 5))"
   ]
  },
  {
   "cell_type": "markdown",
   "metadata": {},
   "source": [
    "We will have the same approach than for book files, here we could have loaded the whole file in memory and worked with pandas but for the description this is not useful"
   ]
  },
  {
   "cell_type": "code",
   "execution_count": 29,
   "metadata": {},
   "outputs": [
    {
     "data": {
      "application/vnd.jupyter.widget-view+json": {
       "model_id": "c0080065432a479081231c61572f5279"
      }
     },
     "metadata": {},
     "output_type": "display_data"
    },
    {
     "name": "stdout",
     "output_type": "stream",
     "text": [
      "\n",
      "    Number of unique reviewers: 2088620 (45.335330852930305%), 22.92736176290553 reviews per user\n",
      "    Number of unique products: 200941 (4.361600825865245%), 2.2057851595790523 reviews per product\n",
      "    Rated comments (helpfulness): 2639426 (57.291058675980516%)\n",
      "    Non rated comments (helpfulness): 1967621 (42.708941324019484%)\n",
      "    Average comment helpfulness: 0.6132033945128144\n",
      "    Mean overall score: 4.18688001229421\n",
      "    Time of oldest review: 1997-08-09 02:00:00 (871084800)\n",
      "    Time of newest review: 2014-07-23 02:00:00 (1406073600)\n",
      "    \n"
     ]
    }
   ],
   "source": [
    "ada.collect.print_reviews_description(ada.collect.describe_reviews(data.read_data(\"reviews_Movies_and_TV\", 4607047)))"
   ]
  },
  {
   "cell_type": "markdown",
   "metadata": {},
   "source": [
    "Results:\n",
    "> ```\n",
    "> Number of unique reviewers: 2088620 (45.335330852930305%), 22.92736176290553 reviews per user\n",
    "> Number of unique products: 200941 (4.361600825865245%), 2.2057851595790523 reviews per product\n",
    "> Rated comments (helpfulness): 2639426 (57.291058675980516%)\n",
    "> Non rated comments (helpfulness): 1967621 (42.708941324019484%)\n",
    "> Average comment helpfulness: 0.6132033945128144\n",
    "> Mean overall score: 4.18688001229421\n",
    "> Time of oldest review: 1997-08-09 02:00:00 (871084800)\n",
    "> Time of newest review: 2014-07-23 02:00:00 (1406073600)\n",
    "> ```\n",
    "\n",
    "There are clearly less distinct products (as a percentage) than for the books, so we should have more reviews per product. We can also notice a high mean for overall mean but slightly worse than for books. "
   ]
  },
  {
   "cell_type": "markdown",
   "metadata": {},
   "source": [
    "### Movies metadata"
   ]
  },
  {
   "cell_type": "markdown",
   "metadata": {},
   "source": [
    "* Number of lines:\n",
    "  ```bash\n",
    "  wc -l meta_Movies_and_TV.json\n",
    "  208321 meta_Movies_and_TV.json\n",
    "  ```\n",
    "* The features are the same than those of Books metadata, please see there the description"
   ]
  },
  {
   "cell_type": "code",
   "execution_count": 30,
   "metadata": {},
   "outputs": [
    {
     "data": {
      "application/vnd.jupyter.widget-view+json": {
       "model_id": "7568f727cf6e4272a78368c14a318568"
      }
     },
     "metadata": {},
     "output_type": "display_data"
    },
    {
     "data": {
      "text/html": [
       "<div>\n",
       "<style>\n",
       "    .dataframe thead tr:only-child th {\n",
       "        text-align: right;\n",
       "    }\n",
       "\n",
       "    .dataframe thead th {\n",
       "        text-align: left;\n",
       "    }\n",
       "\n",
       "    .dataframe tbody tr th {\n",
       "        vertical-align: top;\n",
       "    }\n",
       "</style>\n",
       "<table border=\"1\" class=\"dataframe\">\n",
       "  <thead>\n",
       "    <tr style=\"text-align: right;\">\n",
       "      <th></th>\n",
       "      <th>asin</th>\n",
       "      <th>categories</th>\n",
       "      <th>description</th>\n",
       "      <th>imUrl</th>\n",
       "      <th>price</th>\n",
       "      <th>related</th>\n",
       "      <th>salesRank</th>\n",
       "      <th>title</th>\n",
       "    </tr>\n",
       "  </thead>\n",
       "  <tbody>\n",
       "    <tr>\n",
       "      <th>0</th>\n",
       "      <td>0000143561</td>\n",
       "      <td>[[Movies &amp; TV, Movies]]</td>\n",
       "      <td>3Pack DVD set - Italian Classics, Parties and ...</td>\n",
       "      <td>http://g-ecx.images-amazon.com/images/G/01/x-s...</td>\n",
       "      <td>12.99</td>\n",
       "      <td>{'also_viewed': ['B0036FO6SI', 'B000KL8ODE', '...</td>\n",
       "      <td>{'Movies &amp; TV': 376041}</td>\n",
       "      <td>Everyday Italian (with Giada de Laurentiis), V...</td>\n",
       "    </tr>\n",
       "    <tr>\n",
       "      <th>1</th>\n",
       "      <td>0000589012</td>\n",
       "      <td>[[Movies &amp; TV, Movies]]</td>\n",
       "      <td>NaN</td>\n",
       "      <td>http://ecx.images-amazon.com/images/I/519%2B1k...</td>\n",
       "      <td>15.95</td>\n",
       "      <td>{'also_bought': ['B000Z3N1HQ', '0578045427', '...</td>\n",
       "      <td>{'Movies &amp; TV': 1084845}</td>\n",
       "      <td>Why Don't They Just Quit? DVD Roundtable Discu...</td>\n",
       "    </tr>\n",
       "    <tr>\n",
       "      <th>2</th>\n",
       "      <td>0000695009</td>\n",
       "      <td>[[Movies &amp; TV, Movies]]</td>\n",
       "      <td>NaN</td>\n",
       "      <td>http://g-ecx.images-amazon.com/images/G/01/x-s...</td>\n",
       "      <td>NaN</td>\n",
       "      <td>NaN</td>\n",
       "      <td>{'Movies &amp; TV': 1022732}</td>\n",
       "      <td>Understanding Seizures and Epilepsy DVD</td>\n",
       "    </tr>\n",
       "    <tr>\n",
       "      <th>3</th>\n",
       "      <td>000107461X</td>\n",
       "      <td>[[Movies &amp; TV, Movies]]</td>\n",
       "      <td>NaN</td>\n",
       "      <td>http://ecx.images-amazon.com/images/I/41WY47gL...</td>\n",
       "      <td>NaN</td>\n",
       "      <td>NaN</td>\n",
       "      <td>{'Movies &amp; TV': 954116}</td>\n",
       "      <td>Live in Houston [VHS]</td>\n",
       "    </tr>\n",
       "    <tr>\n",
       "      <th>4</th>\n",
       "      <td>0000143529</td>\n",
       "      <td>[[Movies &amp; TV, Movies]]</td>\n",
       "      <td>Disc 1: Flour Power (Scones; Shortcakes; South...</td>\n",
       "      <td>http://ecx.images-amazon.com/images/I/51QY79CD...</td>\n",
       "      <td>19.99</td>\n",
       "      <td>{'also_bought': ['B000NR4CRM', 'B0019BK3KQ', '...</td>\n",
       "      <td>{'Movies &amp; TV': 463562}</td>\n",
       "      <td>My Fair Pastry (Good Eats Vol. 9)</td>\n",
       "    </tr>\n",
       "  </tbody>\n",
       "</table>\n",
       "</div>"
      ],
      "text/plain": [
       "         asin               categories  \\\n",
       "0  0000143561  [[Movies & TV, Movies]]   \n",
       "1  0000589012  [[Movies & TV, Movies]]   \n",
       "2  0000695009  [[Movies & TV, Movies]]   \n",
       "3  000107461X  [[Movies & TV, Movies]]   \n",
       "4  0000143529  [[Movies & TV, Movies]]   \n",
       "\n",
       "                                         description  \\\n",
       "0  3Pack DVD set - Italian Classics, Parties and ...   \n",
       "1                                                NaN   \n",
       "2                                                NaN   \n",
       "3                                                NaN   \n",
       "4  Disc 1: Flour Power (Scones; Shortcakes; South...   \n",
       "\n",
       "                                               imUrl  price  \\\n",
       "0  http://g-ecx.images-amazon.com/images/G/01/x-s...  12.99   \n",
       "1  http://ecx.images-amazon.com/images/I/519%2B1k...  15.95   \n",
       "2  http://g-ecx.images-amazon.com/images/G/01/x-s...    NaN   \n",
       "3  http://ecx.images-amazon.com/images/I/41WY47gL...    NaN   \n",
       "4  http://ecx.images-amazon.com/images/I/51QY79CD...  19.99   \n",
       "\n",
       "                                             related  \\\n",
       "0  {'also_viewed': ['B0036FO6SI', 'B000KL8ODE', '...   \n",
       "1  {'also_bought': ['B000Z3N1HQ', '0578045427', '...   \n",
       "2                                                NaN   \n",
       "3                                                NaN   \n",
       "4  {'also_bought': ['B000NR4CRM', 'B0019BK3KQ', '...   \n",
       "\n",
       "                  salesRank                                              title  \n",
       "0   {'Movies & TV': 376041}  Everyday Italian (with Giada de Laurentiis), V...  \n",
       "1  {'Movies & TV': 1084845}  Why Don't They Just Quit? DVD Roundtable Discu...  \n",
       "2  {'Movies & TV': 1022732}            Understanding Seizures and Epilepsy DVD  \n",
       "3   {'Movies & TV': 954116}                              Live in Houston [VHS]  \n",
       "4   {'Movies & TV': 463562}                  My Fair Pastry (Good Eats Vol. 9)  "
      ]
     },
     "execution_count": 30,
     "metadata": {},
     "output_type": "execute_result"
    }
   ],
   "source": [
    "pd.DataFrame.from_dict(data.read_data(\"meta_Movies_and_TV\", 5))"
   ]
  },
  {
   "cell_type": "code",
   "execution_count": 34,
   "metadata": {},
   "outputs": [
    {
     "data": {
      "application/vnd.jupyter.widget-view+json": {
       "model_id": "a77f5058d0b74fb290712ad08b9ff037"
      }
     },
     "metadata": {},
     "output_type": "display_data"
    },
    {
     "name": "stdout",
     "output_type": "stream",
     "text": [
      "\n",
      "    Number of products: 208321\n",
      "    Number of unique categories: 786\n",
      "    Number of products with price: 155623 (74.70346244497674%)\n",
      "    Mean price: 23.48689486774547\n",
      "    Number of products with sales rank: 204777 (98.29877928773384%)\n",
      "    Mean sales rank: 391833.30351553153\n",
      "    Min sales rank: 11\n",
      "    Max sales rank: 1149966\n",
      "    Number of products with a title: 107671 (51.685139760273806%)\n",
      "    Number of products with a description: 178086 (85.48634079137484%)\n",
      "    Number of products with a `related` field: 154859 (74.33672073386745%)\n",
      "    \n"
     ]
    }
   ],
   "source": [
    "sales_category = 'Movies & TV'\n",
    "ada.collect.print_meta_description(ada.collect.describe_meta(data.read_data(\"meta_Movies_and_TV\", 208321), sales_category))"
   ]
  },
  {
   "cell_type": "markdown",
   "metadata": {},
   "source": [
    "We have clearly less titles for the movies and this might be restrictive if too much of this titles are not connected to books. \n",
    "It is a bit weird to have the product description and not its title.\n",
    "Once again there are many categories (786)"
   ]
  },
  {
   "cell_type": "markdown",
   "metadata": {},
   "source": [
    "## Matching books and movies"
   ]
  },
  {
   "cell_type": "markdown",
   "metadata": {},
   "source": [
    "We will do the matching between books and movies from the metadata titles, then once we have the interesting products we will merge the metadata and reviews (once for books, once for movies) for the mathcing products. \n",
    "Finally we will be able to make our compared analysis"
   ]
  },
  {
   "cell_type": "markdown",
   "metadata": {},
   "source": [
    "For this milestone, we will use a known list of associations between books and movies from Wikipedia. We may add additional methods to match the products during the next milestones.\n",
    "\n",
    "To obtain a list of association books-movies we decided to parse the [Wikipedia pages](https://en.wikipedia.org/wiki/Lists_of_fiction_works_made_into_feature_films) in this subject. \n",
    "Those pages are separated in 4 pages, depending on the book first letter."
   ]
  },
  {
   "cell_type": "code",
   "execution_count": 2,
   "metadata": {},
   "outputs": [
    {
     "data": {
      "application/vnd.jupyter.widget-view+json": {
       "model_id": "8e3132bb846a46f1a4ad9eec30de049c"
      }
     },
     "metadata": {},
     "output_type": "display_data"
    }
   ],
   "source": [
    "book_title_to_movie_titles = ada.matching.get_wikipedia_matching()\n",
    "book_titles = [*book_title_to_movie_titles.keys()]\n",
    "movie_titles = [title for movie_titles in book_title_to_movie_titles.values() for title in movie_titles]"
   ]
  },
  {
   "cell_type": "code",
   "execution_count": 3,
   "metadata": {},
   "outputs": [
    {
     "name": "stdout",
     "output_type": "stream",
     "text": [
      "Number of books : 1635\n",
      "Number of movies : 2253\n"
     ]
    }
   ],
   "source": [
    "print(f\"Number of books : {len(book_titles)}\")\n",
    "print(f\"Number of movies : {len(movie_titles)}\")"
   ]
  },
  {
   "cell_type": "markdown",
   "metadata": {},
   "source": [
    "Each book is associated to one or many movies. The goal is now to associate each movie/book title that we got here with an Amazon product ID (asin). \n",
    "For now we just clean both wikipedia and amazon titles and try to match exactly. \n",
    "Our cleaning is basic : we lower everything, we remove the puncuation, brackets, and keywords such as DVD and vhs. \n",
    "We should definitively improve this step to match more products but we are also limited by the time/size complexity : \n",
    "for example if we try to make a relatively expensive operation such as Levenshtein distance or Sequence Matcher, we have to apply it 1600 \\* 2300000 times (about 4\\*10⁹ operations) while using exact match is much faster because we don't need to iterate through dict keys.\n",
    "One other problem is for books series, where the number play a very important role, if we consider only text distance we may match distinct books"
   ]
  },
  {
   "cell_type": "markdown",
   "metadata": {},
   "source": [
    "We made a strong choice by removing everything matching the regex `\\(.*\\)`, e.g. eveything between parens. It could happen that names of books/movies rely on these, but we considered that the name would still be matchable without it. For amazon products it is sometimes indicating the year of the movie or a specification for the content. We have for example : `Original sin (Unrated version)` and `Original sin(R rated version)`, but it is still linked to the same book, so it should match!"
   ]
  },
  {
   "cell_type": "code",
   "execution_count": 4,
   "metadata": {
    "collapsed": true
   },
   "outputs": [],
   "source": [
    "ada.matching.normalize_title??"
   ]
  },
  {
   "cell_type": "code",
   "execution_count": 5,
   "metadata": {
    "collapsed": true
   },
   "outputs": [],
   "source": [
    "ada.matching.group_meta_by_title??"
   ]
  },
  {
   "cell_type": "code",
   "execution_count": 12,
   "metadata": {},
   "outputs": [
    {
     "data": {
      "application/vnd.jupyter.widget-view+json": {
       "model_id": "297576ce20244f0981dd0ca034a7cbc8"
      }
     },
     "metadata": {},
     "output_type": "display_data"
    },
    {
     "name": "stdout",
     "output_type": "stream",
     "text": [
      "Number of books from wikipedia : 1635\n",
      "Number of matched book titles: 1227\n",
      "Number of matched book metadata: 4581\n"
     ]
    }
   ],
   "source": [
    "title_to_book_metas = ada.matching.group_meta_by_title(data.read_data(\"meta_Books\", 2370585), book_titles)\n",
    "\n",
    "matched_titles_count = len(title_to_book_metas)\n",
    "matched_meta_count = sum(len(meta) for meta in title_to_book_metas.values())\n",
    "\n",
    "print(f\"Number of books from wikipedia : {len(book_titles)}\")\n",
    "print(f\"Number of matched book titles: {matched_titles_count}\")\n",
    "print(f\"Number of matched book metadata: {matched_meta_count}\")\n"
   ]
  },
  {
   "cell_type": "code",
   "execution_count": 13,
   "metadata": {},
   "outputs": [
    {
     "data": {
      "application/vnd.jupyter.widget-view+json": {
       "model_id": "808d425619dd4919bf6445ecb5062c8b"
      }
     },
     "metadata": {},
     "output_type": "display_data"
    },
    {
     "name": "stdout",
     "output_type": "stream",
     "text": [
      "Number of movies from wikipedia : 2253\n",
      "Number of matched movie titles: 721\n",
      "Number of matched movie metadata: 969\n"
     ]
    }
   ],
   "source": [
    "title_to_movie_metas = ada.matching.group_meta_by_title(data.read_data(\"meta_Movies_and_TV\", 208321), movie_titles)\n",
    "\n",
    "matched_titles_count = len(title_to_movie_metas)\n",
    "matched_meta_count = sum(len(meta) for meta in title_to_movie_metas.values())\n",
    "\n",
    "print(f\"Number of movies from wikipedia : {len(movie_titles)}\")\n",
    "print(f\"Number of matched movie titles: {matched_titles_count}\")\n",
    "print(f\"Number of matched movie metadata: {matched_meta_count}\")"
   ]
  },
  {
   "cell_type": "markdown",
   "metadata": {},
   "source": [
    "Note that the previous number is the number of \"wikipedia\" movies that are selected, there are more products than this number as many products can match the same title (see previous explanation for an example).\n",
    "We also did the same for books"
   ]
  },
  {
   "cell_type": "markdown",
   "metadata": {},
   "source": [
    "Now that we have associated metadata with the titles of the products we are interested in.\n",
    "We also need to take care of the fact that we currently may have matched metadata for a movie but not for the corresponding book or the other way around. We will only keep metadatas for products with a corresponding match in the other category\n"
   ]
  },
  {
   "cell_type": "markdown",
   "metadata": {},
   "source": [
    "We now create new associations dictionnaries which only contains matching items in both movies and books"
   ]
  },
  {
   "cell_type": "code",
   "execution_count": 16,
   "metadata": {},
   "outputs": [
    {
     "name": "stdout",
     "output_type": "stream",
     "text": [
      "Number of matched books : 507\n",
      "Number of matched movies : 579\n"
     ]
    }
   ],
   "source": [
    "matched_book_titles = set()\n",
    "matched_movie_titles = set()\n",
    "\n",
    "\n",
    "for raw_book_title, raw_movie_titles in book_title_to_movie_titles.items():\n",
    "    clean_book_title = ada.matching.normalize_title(raw_book_title)\n",
    "    if clean_book_title not in title_to_book_metas:\n",
    "        continue\n",
    "        \n",
    "    for raw_movie_title in raw_movie_titles:\n",
    "        clean_movie_title = ada.matching.normalize_title(raw_movie_title)\n",
    "        if clean_movie_title not in title_to_movie_metas:\n",
    "            continue\n",
    "        \n",
    "        matched_movie_titles.add(clean_movie_title)\n",
    "        matched_book_titles.add(clean_book_title)\n",
    "\n",
    "\n",
    "print(f\"Number of matched books : {len(matched_book_titles)}\")\n",
    "print(f\"Number of matched movies : {len(matched_movie_titles)}\")\n",
    "\n",
    "def filter_dict_keys(base_dict, keys):\n",
    "    \"\"\"\n",
    "    Creates a new dictionary by only keeping the properties in `keys`\n",
    "    of the `base_dict` dictionary.\n",
    "    \"\"\"\n",
    "    result = {}\n",
    "    for key in base_dict.keys():\n",
    "        if key in keys:\n",
    "            result[key] = base_dict[key]\n",
    "    return result\n",
    "\n",
    "title_to_book_metas = filter_dict_keys(title_to_book_metas, matched_book_titles)\n",
    "title_to_movie_metas = filter_dict_keys(title_to_movie_metas, matched_movie_titles)"
   ]
  },
  {
   "cell_type": "markdown",
   "metadata": {},
   "source": [
    "We have more movies than books because some books were adapted into multiple movies."
   ]
  },
  {
   "cell_type": "markdown",
   "metadata": {},
   "source": [
    "We consider that, at least for this milestone, 500 pairs should be enough to get significant result. \n",
    "Anyway we build the following parts of our workflow independantly of this matching part so that we can easily improve it."
   ]
  },
  {
   "cell_type": "markdown",
   "metadata": {},
   "source": [
    "### Merging reviews and metadata"
   ]
  },
  {
   "cell_type": "markdown",
   "metadata": {},
   "source": [
    "Now that we have matched the product id that we will use for the analysis, we want to merge for both books and movies the metadata with each review. \n",
    "After this step we will save our result to fresh new files in order to be able to load easily our data in dataframe and avoid expensive computations"
   ]
  },
  {
   "cell_type": "markdown",
   "metadata": {},
   "source": [
    "First we will build new dataframes for reviews containing only interesting reviews. Then we will do the same for metadatas and finally we will merge both."
   ]
  },
  {
   "cell_type": "code",
   "execution_count": 17,
   "metadata": {},
   "outputs": [
    {
     "name": "stdout",
     "output_type": "stream",
     "text": [
      "We have 794 distincts product for movies\n",
      "We have 2542 distincts product for books\n"
     ]
    }
   ],
   "source": [
    "# We will build new dicts has in python they are build over hash tables so we will be able to have\n",
    "# a constant complexity for looking for the presence of a product id.\n",
    "\n",
    "asin_to_book_meta = {}\n",
    "asin_to_movie_meta = {}\n",
    "\n",
    "for books in title_to_book_metas.values():\n",
    "    for book in books:\n",
    "        asin_to_book_meta[book[\"asin\"]] = book\n",
    "\n",
    "for movies in title_to_movie_metas.values():\n",
    "    for movie in movies:\n",
    "        asin_to_movie_meta[movie[\"asin\"]] = movie\n",
    "\n",
    "print(f\"We have {len(asin_to_movie_meta.keys())} distincts product for movies\")\n",
    "print(f\"We have {len(asin_to_book_meta.keys())} distincts product for books\")\n"
   ]
  },
  {
   "cell_type": "code",
   "execution_count": 18,
   "metadata": {
    "collapsed": true
   },
   "outputs": [],
   "source": [
    "def filter_by_asin(reviews, asin_whitelist):\n",
    "    asin_whitelist = set(asin_whitelist)\n",
    "    for review in reviews:\n",
    "        if review[\"asin\"] in asin_whitelist:\n",
    "            yield review"
   ]
  },
  {
   "cell_type": "markdown",
   "metadata": {},
   "source": [
    "Filter dataset to keep only items with an asin matched previously."
   ]
  },
  {
   "cell_type": "code",
   "execution_count": 19,
   "metadata": {},
   "outputs": [
    {
     "data": {
      "application/vnd.jupyter.widget-view+json": {
       "model_id": "183970fad24d4ea59b923bc8d61cf4b2"
      }
     },
     "metadata": {},
     "output_type": "display_data"
    },
    {
     "name": "stdout",
     "output_type": "stream",
     "text": [
      "Number of book reviews after filtering by asin: 118884\n"
     ]
    }
   ],
   "source": [
    "book_reviews_df = pd.DataFrame.from_dict(filter_by_asin(data.read_data(\"reviews_Books\", 22507155), asin_to_book_meta.keys()))\n",
    "book_reviews_df.to_json(data.get_path(\"filtered_Books_reviews\", use_gzip=False), orient='records')\n",
    "print(f\"Number of book reviews after filtering by asin: {book_reviews_df.shape[0]}\")"
   ]
  },
  {
   "cell_type": "code",
   "execution_count": 20,
   "metadata": {},
   "outputs": [
    {
     "data": {
      "application/vnd.jupyter.widget-view+json": {
       "model_id": "2f8bc5bdd349461f99ae14a36483e146"
      }
     },
     "metadata": {},
     "output_type": "display_data"
    },
    {
     "name": "stdout",
     "output_type": "stream",
     "text": [
      "Number of movie reviews after filtering by asin: 97132\n"
     ]
    }
   ],
   "source": [
    "movie_reviews_df = pd.DataFrame.from_dict(filter_by_asin(data.read_data(\"reviews_Movies_and_TV\", 4607047), asin_to_movie_meta.keys()))\n",
    "movie_reviews_df.to_json(data.get_path(\"filtered_Movies_reviews\", use_gzip=False), orient='records')\n",
    "print(f\"Number of movie reviews after filtering by asin: {movie_reviews_df.shape[0]}\")"
   ]
  },
  {
   "cell_type": "code",
   "execution_count": 21,
   "metadata": {},
   "outputs": [
    {
     "data": {
      "application/vnd.jupyter.widget-view+json": {
       "model_id": "8d22c5490aad4068aa43793ff4974ab1"
      }
     },
     "metadata": {},
     "output_type": "display_data"
    },
    {
     "name": "stdout",
     "output_type": "stream",
     "text": [
      "Number of book metadata after filtering by asin: 2542\n"
     ]
    }
   ],
   "source": [
    "book_metas_df = pd.DataFrame.from_dict(filter_by_asin(data.read_data(\"meta_Books\", 2370585), asin_to_book_meta.keys()))\n",
    "book_metas_df.to_json(data.get_path(\"filtered_Books_meta\", use_gzip=False), orient='records')\n",
    "print(f\"Number of book metadata after filtering by asin: {book_metas_df.shape[0]}\")"
   ]
  },
  {
   "cell_type": "code",
   "execution_count": 22,
   "metadata": {},
   "outputs": [
    {
     "data": {
      "application/vnd.jupyter.widget-view+json": {
       "model_id": "99b8706848c741b38dc617832cdfd226"
      }
     },
     "metadata": {},
     "output_type": "display_data"
    },
    {
     "name": "stdout",
     "output_type": "stream",
     "text": [
      "Number of movie metadata after filtering by asin: 794\n"
     ]
    }
   ],
   "source": [
    "movie_metas_df = pd.DataFrame.from_dict(filter_by_asin(data.read_data(\"meta_Movies_and_TV\", 208321), asin_to_movie_meta.keys()))\n",
    "movie_metas_df.to_json(data.get_path(\"filtered_Movies_meta\", use_gzip=False), orient='records')\n",
    "print(f\"Number of movie metadata after filtering by asin: {movie_metas_df.shape[0]}\")"
   ]
  },
  {
   "cell_type": "markdown",
   "metadata": {},
   "source": [
    "Join the metadata and comments, using the `asin` value."
   ]
  },
  {
   "cell_type": "code",
   "execution_count": 23,
   "metadata": {},
   "outputs": [
    {
     "name": "stdout",
     "output_type": "stream",
     "text": [
      "Number of books (reviews and metadata) after joining on asin: 118884\n"
     ]
    }
   ],
   "source": [
    "books_df = book_reviews_df.merge(book_metas_df, on=\"asin\")\n",
    "books_df.to_json(data.get_path(\"filtered_Books\", use_gzip=False), orient='records')\n",
    "print(f\"Number of books (reviews and metadata) after joining on asin: {books_df.shape[0]}\")\n",
    "\n",
    "book_metas_df = None\n",
    "book_reviews_df = None"
   ]
  },
  {
   "cell_type": "code",
   "execution_count": 24,
   "metadata": {},
   "outputs": [
    {
     "name": "stdout",
     "output_type": "stream",
     "text": [
      "Number of movies (reviews and metadata) after joining on asin: 97132\n"
     ]
    }
   ],
   "source": [
    "movies_df = movie_reviews_df.merge(movie_metas_df, on=\"asin\")\n",
    "movies_df.to_json(data.get_path(\"filtered_Movies\", use_gzip=False), orient='records')\n",
    "print(f\"Number of movies (reviews and metadata) after joining on asin: {movies_df.shape[0]}\")\n",
    "\n",
    "movie_reviews_df = None\n",
    "movie_metas_df = None"
   ]
  },
  {
   "cell_type": "markdown",
   "metadata": {},
   "source": [
    "## Analysis of the reviews and metadata"
   ]
  },
  {
   "cell_type": "markdown",
   "metadata": {},
   "source": [
    "In this section, we analize the data we have after after the filter an join process."
   ]
  },
  {
   "cell_type": "markdown",
   "metadata": {},
   "source": [
    "We will remove non useful features from the dataframes (not useful for this milestone at this moment of analysis or redondant information). "
   ]
  },
  {
   "cell_type": "code",
   "execution_count": 2,
   "metadata": {
    "collapsed": true
   },
   "outputs": [],
   "source": [
    "movies_df = pd.read_json(data.get_path(\"filtered_Movies\", use_gzip=False), orient='records')"
   ]
  },
  {
   "cell_type": "code",
   "execution_count": 3,
   "metadata": {},
   "outputs": [],
   "source": [
    "books_df = pd.read_json(data.get_path(\"filtered_Books\", use_gzip=False), orient='records')"
   ]
  },
  {
   "cell_type": "code",
   "execution_count": 19,
   "metadata": {
    "collapsed": true
   },
   "outputs": [],
   "source": [
    "def clean_merged_df(df):\n",
    "    columns_to_drop = [\"reviewTime\", \"reviewerName\", \"imUrl\", \"categories\", \"salesRank\", \"related\"]\n",
    "    for col_name in columns_to_drop:\n",
    "        if col_name in df.columns:\n",
    "            df.drop(col_name, axis=1, inplace=True)\n",
    "    \n",
    "    def map_helpful(x):\n",
    "        if type(x) != list:\n",
    "            return x\n",
    "        score, total = x\n",
    "        return float('nan') if total == 0 else score/total\n",
    "            \n",
    "    df[\"helpful\"] = df['helpful'].apply(map_helpful)"
   ]
  },
  {
   "cell_type": "code",
   "execution_count": 5,
   "metadata": {},
   "outputs": [
    {
     "data": {
      "text/html": [
       "<div>\n",
       "<style>\n",
       "    .dataframe thead tr:only-child th {\n",
       "        text-align: right;\n",
       "    }\n",
       "\n",
       "    .dataframe thead th {\n",
       "        text-align: left;\n",
       "    }\n",
       "\n",
       "    .dataframe tbody tr th {\n",
       "        vertical-align: top;\n",
       "    }\n",
       "</style>\n",
       "<table border=\"1\" class=\"dataframe\">\n",
       "  <thead>\n",
       "    <tr style=\"text-align: right;\">\n",
       "      <th></th>\n",
       "      <th>asin</th>\n",
       "      <th>brand</th>\n",
       "      <th>description</th>\n",
       "      <th>helpful</th>\n",
       "      <th>overall</th>\n",
       "      <th>price</th>\n",
       "      <th>reviewText</th>\n",
       "      <th>reviewerID</th>\n",
       "      <th>summary</th>\n",
       "      <th>title</th>\n",
       "      <th>unixReviewTime</th>\n",
       "    </tr>\n",
       "  </thead>\n",
       "  <tbody>\n",
       "    <tr>\n",
       "      <th>0</th>\n",
       "      <td>0767020308</td>\n",
       "      <td>LIONSGATE FILMS</td>\n",
       "      <td>From the producers of A&amp;E;'s Emmy award winnin...</td>\n",
       "      <td>0.000000</td>\n",
       "      <td>4</td>\n",
       "      <td>29.99</td>\n",
       "      <td>I want it for my Austin collectionI love all t...</td>\n",
       "      <td>AXR7F7BO6EMJ3</td>\n",
       "      <td>4 out of 5</td>\n",
       "      <td>Emma</td>\n",
       "      <td>1363219200</td>\n",
       "    </tr>\n",
       "    <tr>\n",
       "      <th>1</th>\n",
       "      <td>0767020308</td>\n",
       "      <td>LIONSGATE FILMS</td>\n",
       "      <td>From the producers of A&amp;E;'s Emmy award winnin...</td>\n",
       "      <td>0.666667</td>\n",
       "      <td>5</td>\n",
       "      <td>29.99</td>\n",
       "      <td>I love Kate Beckinsale as an actress (pre-Unde...</td>\n",
       "      <td>A1GJ5HAK5SKHH4</td>\n",
       "      <td>Pitch-perfect Emma</td>\n",
       "      <td>Emma</td>\n",
       "      <td>1242086400</td>\n",
       "    </tr>\n",
       "    <tr>\n",
       "      <th>2</th>\n",
       "      <td>0767020308</td>\n",
       "      <td>LIONSGATE FILMS</td>\n",
       "      <td>From the producers of A&amp;E;'s Emmy award winnin...</td>\n",
       "      <td>0.500000</td>\n",
       "      <td>5</td>\n",
       "      <td>29.99</td>\n",
       "      <td>After reading Jane Austen's Emma and thoroughl...</td>\n",
       "      <td>A25Z83EB17KP7L</td>\n",
       "      <td>Beautiful Movie</td>\n",
       "      <td>Emma</td>\n",
       "      <td>1209081600</td>\n",
       "    </tr>\n",
       "    <tr>\n",
       "      <th>3</th>\n",
       "      <td>0767020308</td>\n",
       "      <td>LIONSGATE FILMS</td>\n",
       "      <td>From the producers of A&amp;E;'s Emmy award winnin...</td>\n",
       "      <td>0.826087</td>\n",
       "      <td>3</td>\n",
       "      <td>29.99</td>\n",
       "      <td>With Kate Beckinsale in the lead, this should ...</td>\n",
       "      <td>AEIY0OQITQ8M1</td>\n",
       "      <td>Not quite Miss Jane's Emma</td>\n",
       "      <td>Emma</td>\n",
       "      <td>1154044800</td>\n",
       "    </tr>\n",
       "    <tr>\n",
       "      <th>4</th>\n",
       "      <td>0767020308</td>\n",
       "      <td>LIONSGATE FILMS</td>\n",
       "      <td>From the producers of A&amp;E;'s Emmy award winnin...</td>\n",
       "      <td>1.000000</td>\n",
       "      <td>5</td>\n",
       "      <td>29.99</td>\n",
       "      <td>Jane Austen as always delivers.  The cast of a...</td>\n",
       "      <td>A28UKEMDNDSC9S</td>\n",
       "      <td>Excellent</td>\n",
       "      <td>Emma</td>\n",
       "      <td>1395360000</td>\n",
       "    </tr>\n",
       "  </tbody>\n",
       "</table>\n",
       "</div>"
      ],
      "text/plain": [
       "         asin            brand  \\\n",
       "0  0767020308  LIONSGATE FILMS   \n",
       "1  0767020308  LIONSGATE FILMS   \n",
       "2  0767020308  LIONSGATE FILMS   \n",
       "3  0767020308  LIONSGATE FILMS   \n",
       "4  0767020308  LIONSGATE FILMS   \n",
       "\n",
       "                                         description   helpful  overall  \\\n",
       "0  From the producers of A&E;'s Emmy award winnin...  0.000000        4   \n",
       "1  From the producers of A&E;'s Emmy award winnin...  0.666667        5   \n",
       "2  From the producers of A&E;'s Emmy award winnin...  0.500000        5   \n",
       "3  From the producers of A&E;'s Emmy award winnin...  0.826087        3   \n",
       "4  From the producers of A&E;'s Emmy award winnin...  1.000000        5   \n",
       "\n",
       "   price                                         reviewText      reviewerID  \\\n",
       "0  29.99  I want it for my Austin collectionI love all t...   AXR7F7BO6EMJ3   \n",
       "1  29.99  I love Kate Beckinsale as an actress (pre-Unde...  A1GJ5HAK5SKHH4   \n",
       "2  29.99  After reading Jane Austen's Emma and thoroughl...  A25Z83EB17KP7L   \n",
       "3  29.99  With Kate Beckinsale in the lead, this should ...   AEIY0OQITQ8M1   \n",
       "4  29.99  Jane Austen as always delivers.  The cast of a...  A28UKEMDNDSC9S   \n",
       "\n",
       "                      summary title  unixReviewTime  \n",
       "0                  4 out of 5  Emma      1363219200  \n",
       "1          Pitch-perfect Emma  Emma      1242086400  \n",
       "2             Beautiful Movie  Emma      1209081600  \n",
       "3  Not quite Miss Jane's Emma  Emma      1154044800  \n",
       "4                   Excellent  Emma      1395360000  "
      ]
     },
     "execution_count": 5,
     "metadata": {},
     "output_type": "execute_result"
    }
   ],
   "source": [
    "clean_merged_df(movies_df)\n",
    "movies_df.to_json(data.get_path(\"merged_clean_Movies\", use_gzip=False), orient='records')\n",
    "movies_df.head(5)"
   ]
  },
  {
   "cell_type": "code",
   "execution_count": 20,
   "metadata": {},
   "outputs": [
    {
     "data": {
      "text/html": [
       "<div>\n",
       "<style>\n",
       "    .dataframe thead tr:only-child th {\n",
       "        text-align: right;\n",
       "    }\n",
       "\n",
       "    .dataframe thead th {\n",
       "        text-align: left;\n",
       "    }\n",
       "\n",
       "    .dataframe tbody tr th {\n",
       "        vertical-align: top;\n",
       "    }\n",
       "</style>\n",
       "<table border=\"1\" class=\"dataframe\">\n",
       "  <thead>\n",
       "    <tr style=\"text-align: right;\">\n",
       "      <th></th>\n",
       "      <th>asin</th>\n",
       "      <th>description</th>\n",
       "      <th>helpful</th>\n",
       "      <th>overall</th>\n",
       "      <th>price</th>\n",
       "      <th>reviewText</th>\n",
       "      <th>reviewerID</th>\n",
       "      <th>summary</th>\n",
       "      <th>title</th>\n",
       "      <th>unixReviewTime</th>\n",
       "    </tr>\n",
       "  </thead>\n",
       "  <tbody>\n",
       "    <tr>\n",
       "      <th>0</th>\n",
       "      <td>0002051850</td>\n",
       "      <td>None</td>\n",
       "      <td>0.500000</td>\n",
       "      <td>5</td>\n",
       "      <td>8.99</td>\n",
       "      <td>To me Hemingway epitomizes the hard drinking, ...</td>\n",
       "      <td>A17KD5LJUQOJHT</td>\n",
       "      <td>The Writing Rings True For Everyone</td>\n",
       "      <td>For Whom the Bell Tolls</td>\n",
       "      <td>999216000</td>\n",
       "    </tr>\n",
       "    <tr>\n",
       "      <th>1</th>\n",
       "      <td>0002051850</td>\n",
       "      <td>None</td>\n",
       "      <td>0.294118</td>\n",
       "      <td>1</td>\n",
       "      <td>8.99</td>\n",
       "      <td>I don't get what all the fuss was about Hemmin...</td>\n",
       "      <td>A2ILMQSVK5KRTC</td>\n",
       "      <td>What's all the fuss about Hemmingway?</td>\n",
       "      <td>For Whom the Bell Tolls</td>\n",
       "      <td>1362614400</td>\n",
       "    </tr>\n",
       "    <tr>\n",
       "      <th>2</th>\n",
       "      <td>0002051850</td>\n",
       "      <td>None</td>\n",
       "      <td>0.200000</td>\n",
       "      <td>4</td>\n",
       "      <td>8.99</td>\n",
       "      <td>This story is moderately good.  Rather than we...</td>\n",
       "      <td>A361FWZ1HA9IPJ</td>\n",
       "      <td>good and bad</td>\n",
       "      <td>For Whom the Bell Tolls</td>\n",
       "      <td>1213833600</td>\n",
       "    </tr>\n",
       "    <tr>\n",
       "      <th>3</th>\n",
       "      <td>0002051850</td>\n",
       "      <td>None</td>\n",
       "      <td>0.500000</td>\n",
       "      <td>5</td>\n",
       "      <td>8.99</td>\n",
       "      <td>Ernest Hemmingway is one of the greatest write...</td>\n",
       "      <td>A2I741VZ6F4RAJ</td>\n",
       "      <td>Great book.</td>\n",
       "      <td>For Whom the Bell Tolls</td>\n",
       "      <td>1363910400</td>\n",
       "    </tr>\n",
       "    <tr>\n",
       "      <th>4</th>\n",
       "      <td>0002051850</td>\n",
       "      <td>None</td>\n",
       "      <td>0.000000</td>\n",
       "      <td>4</td>\n",
       "      <td>8.99</td>\n",
       "      <td>I read this book a couple years ago and loved ...</td>\n",
       "      <td>AOG084TKLL3X8</td>\n",
       "      <td>Oh, Buttercup</td>\n",
       "      <td>For Whom the Bell Tolls</td>\n",
       "      <td>1188432000</td>\n",
       "    </tr>\n",
       "  </tbody>\n",
       "</table>\n",
       "</div>"
      ],
      "text/plain": [
       "         asin description   helpful  overall  price  \\\n",
       "0  0002051850        None  0.500000        5   8.99   \n",
       "1  0002051850        None  0.294118        1   8.99   \n",
       "2  0002051850        None  0.200000        4   8.99   \n",
       "3  0002051850        None  0.500000        5   8.99   \n",
       "4  0002051850        None  0.000000        4   8.99   \n",
       "\n",
       "                                          reviewText      reviewerID  \\\n",
       "0  To me Hemingway epitomizes the hard drinking, ...  A17KD5LJUQOJHT   \n",
       "1  I don't get what all the fuss was about Hemmin...  A2ILMQSVK5KRTC   \n",
       "2  This story is moderately good.  Rather than we...  A361FWZ1HA9IPJ   \n",
       "3  Ernest Hemmingway is one of the greatest write...  A2I741VZ6F4RAJ   \n",
       "4  I read this book a couple years ago and loved ...   AOG084TKLL3X8   \n",
       "\n",
       "                                 summary                    title  \\\n",
       "0    The Writing Rings True For Everyone  For Whom the Bell Tolls   \n",
       "1  What's all the fuss about Hemmingway?  For Whom the Bell Tolls   \n",
       "2                           good and bad  For Whom the Bell Tolls   \n",
       "3                            Great book.  For Whom the Bell Tolls   \n",
       "4                          Oh, Buttercup  For Whom the Bell Tolls   \n",
       "\n",
       "   unixReviewTime  \n",
       "0       999216000  \n",
       "1      1362614400  \n",
       "2      1213833600  \n",
       "3      1363910400  \n",
       "4      1188432000  "
      ]
     },
     "execution_count": 20,
     "metadata": {},
     "output_type": "execute_result"
    }
   ],
   "source": [
    "clean_merged_df(books_df)\n",
    "books_df.head(5)"
   ]
  },
  {
   "cell_type": "markdown",
   "metadata": {},
   "source": [
    "So we have the following features and their types : \n",
    "- asin : product number, string\n",
    "- brand : brand of the product, string\n",
    "- description : product description, string\n",
    "- helpful : how helpful is the review considered, float (`nan` if nobody rate this comment)\n",
    "- overall : overall score for the product between 1 and 5, int\n",
    "- price : product price  in $ (at the time of crawling, it mays differ from the price paid by the user), float\n",
    "- reviewText : Text content of the review, string\n",
    "- reviewerID : Amazon id for the user, string\n",
    "- summary : summary of the review, string\n",
    "- title : Product title, string\n",
    "- unixReviewTime : time of the review"
   ]
  },
  {
   "cell_type": "markdown",
   "metadata": {},
   "source": [
    "We will start with an overview of the available data, using pandas built-in `describe` method:"
   ]
  },
  {
   "cell_type": "code",
   "execution_count": 7,
   "metadata": {},
   "outputs": [
    {
     "data": {
      "text/html": [
       "<div>\n",
       "<style>\n",
       "    .dataframe thead tr:only-child th {\n",
       "        text-align: right;\n",
       "    }\n",
       "\n",
       "    .dataframe thead th {\n",
       "        text-align: left;\n",
       "    }\n",
       "\n",
       "    .dataframe tbody tr th {\n",
       "        vertical-align: top;\n",
       "    }\n",
       "</style>\n",
       "<table border=\"1\" class=\"dataframe\">\n",
       "  <thead>\n",
       "    <tr style=\"text-align: right;\">\n",
       "      <th></th>\n",
       "      <th>helpful</th>\n",
       "      <th>overall</th>\n",
       "      <th>price</th>\n",
       "      <th>unixReviewTime</th>\n",
       "    </tr>\n",
       "  </thead>\n",
       "  <tbody>\n",
       "    <tr>\n",
       "      <th>count</th>\n",
       "      <td>64241.000000</td>\n",
       "      <td>97132.000000</td>\n",
       "      <td>96215.000000</td>\n",
       "      <td>9.713200e+04</td>\n",
       "    </tr>\n",
       "    <tr>\n",
       "      <th>mean</th>\n",
       "      <td>0.557149</td>\n",
       "      <td>4.029805</td>\n",
       "      <td>13.451445</td>\n",
       "      <td>1.233093e+09</td>\n",
       "    </tr>\n",
       "    <tr>\n",
       "      <th>std</th>\n",
       "      <td>0.375112</td>\n",
       "      <td>1.359921</td>\n",
       "      <td>12.783699</td>\n",
       "      <td>1.385575e+08</td>\n",
       "    </tr>\n",
       "    <tr>\n",
       "      <th>min</th>\n",
       "      <td>0.000000</td>\n",
       "      <td>1.000000</td>\n",
       "      <td>0.010000</td>\n",
       "      <td>8.801568e+08</td>\n",
       "    </tr>\n",
       "    <tr>\n",
       "      <th>25%</th>\n",
       "      <td>0.214286</td>\n",
       "      <td>3.000000</td>\n",
       "      <td>5.000000</td>\n",
       "      <td>1.121990e+09</td>\n",
       "    </tr>\n",
       "    <tr>\n",
       "      <th>50%</th>\n",
       "      <td>0.600000</td>\n",
       "      <td>5.000000</td>\n",
       "      <td>9.370000</td>\n",
       "      <td>1.252714e+09</td>\n",
       "    </tr>\n",
       "    <tr>\n",
       "      <th>75%</th>\n",
       "      <td>1.000000</td>\n",
       "      <td>5.000000</td>\n",
       "      <td>15.590000</td>\n",
       "      <td>1.367021e+09</td>\n",
       "    </tr>\n",
       "    <tr>\n",
       "      <th>max</th>\n",
       "      <td>1.000000</td>\n",
       "      <td>5.000000</td>\n",
       "      <td>149.990000</td>\n",
       "      <td>1.406074e+09</td>\n",
       "    </tr>\n",
       "  </tbody>\n",
       "</table>\n",
       "</div>"
      ],
      "text/plain": [
       "            helpful       overall         price  unixReviewTime\n",
       "count  64241.000000  97132.000000  96215.000000    9.713200e+04\n",
       "mean       0.557149      4.029805     13.451445    1.233093e+09\n",
       "std        0.375112      1.359921     12.783699    1.385575e+08\n",
       "min        0.000000      1.000000      0.010000    8.801568e+08\n",
       "25%        0.214286      3.000000      5.000000    1.121990e+09\n",
       "50%        0.600000      5.000000      9.370000    1.252714e+09\n",
       "75%        1.000000      5.000000     15.590000    1.367021e+09\n",
       "max        1.000000      5.000000    149.990000    1.406074e+09"
      ]
     },
     "execution_count": 7,
     "metadata": {},
     "output_type": "execute_result"
    }
   ],
   "source": [
    "movies_df.describe()"
   ]
  },
  {
   "cell_type": "code",
   "execution_count": 8,
   "metadata": {},
   "outputs": [
    {
     "data": {
      "text/html": [
       "<div>\n",
       "<style>\n",
       "    .dataframe thead tr:only-child th {\n",
       "        text-align: right;\n",
       "    }\n",
       "\n",
       "    .dataframe thead th {\n",
       "        text-align: left;\n",
       "    }\n",
       "\n",
       "    .dataframe tbody tr th {\n",
       "        vertical-align: top;\n",
       "    }\n",
       "</style>\n",
       "<table border=\"1\" class=\"dataframe\">\n",
       "  <thead>\n",
       "    <tr style=\"text-align: right;\">\n",
       "      <th></th>\n",
       "      <th>helpful</th>\n",
       "      <th>overall</th>\n",
       "      <th>price</th>\n",
       "      <th>unixReviewTime</th>\n",
       "    </tr>\n",
       "  </thead>\n",
       "  <tbody>\n",
       "    <tr>\n",
       "      <th>count</th>\n",
       "      <td>60673.000000</td>\n",
       "      <td>118884.000000</td>\n",
       "      <td>117847.000000</td>\n",
       "      <td>1.188840e+05</td>\n",
       "    </tr>\n",
       "    <tr>\n",
       "      <th>mean</th>\n",
       "      <td>0.624955</td>\n",
       "      <td>4.262777</td>\n",
       "      <td>6.301936</td>\n",
       "      <td>1.245267e+09</td>\n",
       "    </tr>\n",
       "    <tr>\n",
       "      <th>std</th>\n",
       "      <td>0.389951</td>\n",
       "      <td>1.118692</td>\n",
       "      <td>4.592828</td>\n",
       "      <td>1.570926e+08</td>\n",
       "    </tr>\n",
       "    <tr>\n",
       "      <th>min</th>\n",
       "      <td>0.000000</td>\n",
       "      <td>1.000000</td>\n",
       "      <td>0.000000</td>\n",
       "      <td>8.514720e+08</td>\n",
       "    </tr>\n",
       "    <tr>\n",
       "      <th>25%</th>\n",
       "      <td>0.312500</td>\n",
       "      <td>4.000000</td>\n",
       "      <td>3.990000</td>\n",
       "      <td>1.104365e+09</td>\n",
       "    </tr>\n",
       "    <tr>\n",
       "      <th>50%</th>\n",
       "      <td>0.750000</td>\n",
       "      <td>5.000000</td>\n",
       "      <td>5.990000</td>\n",
       "      <td>1.332806e+09</td>\n",
       "    </tr>\n",
       "    <tr>\n",
       "      <th>75%</th>\n",
       "      <td>1.000000</td>\n",
       "      <td>5.000000</td>\n",
       "      <td>8.590000</td>\n",
       "      <td>1.373414e+09</td>\n",
       "    </tr>\n",
       "    <tr>\n",
       "      <th>max</th>\n",
       "      <td>2.000000</td>\n",
       "      <td>5.000000</td>\n",
       "      <td>124.530000</td>\n",
       "      <td>1.405987e+09</td>\n",
       "    </tr>\n",
       "  </tbody>\n",
       "</table>\n",
       "</div>"
      ],
      "text/plain": [
       "            helpful        overall          price  unixReviewTime\n",
       "count  60673.000000  118884.000000  117847.000000    1.188840e+05\n",
       "mean       0.624955       4.262777       6.301936    1.245267e+09\n",
       "std        0.389951       1.118692       4.592828    1.570926e+08\n",
       "min        0.000000       1.000000       0.000000    8.514720e+08\n",
       "25%        0.312500       4.000000       3.990000    1.104365e+09\n",
       "50%        0.750000       5.000000       5.990000    1.332806e+09\n",
       "75%        1.000000       5.000000       8.590000    1.373414e+09\n",
       "max        2.000000       5.000000     124.530000    1.405987e+09"
      ]
     },
     "execution_count": 8,
     "metadata": {},
     "output_type": "execute_result"
    }
   ],
   "source": [
    "books_df.describe()"
   ]
  },
  {
   "cell_type": "markdown",
   "metadata": {},
   "source": [
    "When comparing the merged dataframes globally, we see that the number of product/review pairs is pretty similar, around 100k.\n",
    "The ratings tend to be better for the books:\n",
    "- `4.26` mean overall score for books against `4.02` for movies\n",
    "- `0.75` median helpful comments for books, against `0.6`\n",
    "- `0.62` mean helpful comments for books, against `0.55`"
   ]
  },
  {
   "cell_type": "markdown",
   "metadata": {},
   "source": [
    "We will look at the description and review text by looking at the size of the text.\n",
    "We assume that longer texts means a higher effort of the user to express his opinion."
   ]
  },
  {
   "cell_type": "code",
   "execution_count": 21,
   "metadata": {},
   "outputs": [
    {
     "name": "stdout",
     "output_type": "stream",
     "text": [
      "\n",
      "Books description missing rate : 9.40833080986508%\n",
      "Movies description missing rate : 6.825762879380637%\n",
      "\n",
      "Books description mean length : 1368.4700415045636\n",
      "Movies description mean length : 1165.3990188062141\n",
      "**********\n",
      "Books review mean length : 696.1658339221426\n",
      "Movies review mean length : 765.2017769633077\n",
      "**********\n",
      "Books summary mean length : 24.34411695434205\n",
      "Movies summary mean length : 26.216715397603263\n",
      "\n"
     ]
    }
   ],
   "source": [
    "books_null_desc = books_df['description'].isnull().sum()\n",
    "movies_null_desc = movies_df['description'].isnull().sum()\n",
    "print(f\"\"\"\n",
    "Books description missing rate : {100*books_null_desc/books_df.shape[0]}%\n",
    "Movies description missing rate : {100*movies_null_desc/movies_df.shape[0]}%\n",
    "\n",
    "Books description mean length : {books_df['description'].str.len().sum()/(books_df.shape[0] - books_null_desc)}\n",
    "Movies description mean length : {movies_df['description'].str.len().sum()/(movies_df.shape[0] - movies_null_desc)}\n",
    "{'*'*10}\n",
    "Books review mean length : {books_df['reviewText'].str.len().sum()/books_df.shape[0]}\n",
    "Movies review mean length : {movies_df['reviewText'].str.len().sum()/movies_df.shape[0]}\n",
    "{'*'*10}\n",
    "Books summary mean length : {books_df['summary'].str.len().sum()/books_df.shape[0]}\n",
    "Movies summary mean length : {movies_df['summary'].str.len().sum()/movies_df.shape[0]}\n",
    "\"\"\")"
   ]
  },
  {
   "cell_type": "markdown",
   "metadata": {},
   "source": [
    "We notice that the descriptions are longer for books on average, but movies tend to have longer reviews, summaries and less missing descriptions."
   ]
  },
  {
   "cell_type": "markdown",
   "metadata": {},
   "source": [
    "We will plot data for overall score for both movies and books.\n",
    "This is still a rough preview of our dataset, without taking into account matching, so we can't draw any conclusion yet."
   ]
  },
  {
   "cell_type": "code",
   "execution_count": 10,
   "metadata": {},
   "outputs": [
    {
     "data": {
      "text/plain": [
       "<matplotlib.text.Text at 0x7f1a0feb6550>"
      ]
     },
     "execution_count": 10,
     "metadata": {},
     "output_type": "execute_result"
    },
    {
     "data": {
      "image/png": "[encoded data removed]",
      "text/plain": [
       "<matplotlib.figure.Figure at 0x7f1a8e67d128>"
      ]
     },
     "metadata": {},
     "output_type": "display_data"
    }
   ],
   "source": [
    "sb.set(style=\"darkgrid\")\n",
    "zone, (plot1, plot2) = plt.subplots(ncols=2)\n",
    "zone.set_size_inches(16, 8)\n",
    "\n",
    "plot1 = sb.boxplot(y = 'overall' , data=books_df, ax = plot1)\n",
    "plot1.set_title(\"Overall notes for books\")\n",
    "\n",
    "plot2 = sb.boxplot(y = 'overall' , data=movies_df, ax = plot2)\n",
    "plot2.set_title(\"Overall notes for movies\")"
   ]
  },
  {
   "cell_type": "markdown",
   "metadata": {},
   "source": [
    "The values we plotted above allow us to vizualize what we have concluded previously (using `describe`) about the overall scores but does not bring much new insight."
   ]
  },
  {
   "cell_type": "markdown",
   "metadata": {
    "collapsed": true
   },
   "source": [
    "It could be interesting to compare the overall score of our filtered data (restrained to product that are available on multiple platforms) against the overall score of all the products."
   ]
  },
  {
   "cell_type": "code",
   "execution_count": 12,
   "metadata": {},
   "outputs": [
    {
     "name": "stdout",
     "output_type": "stream",
     "text": [
      "Overall notes for books before and after filtering : 4.2957 and 4.262777160929982, difference of 0.7723331018043521%\n",
      "Overall notes for movies before and after filtering : 4.1868 and 4.029804801713133, difference of 3.8958511891227596%\n"
     ]
    },
    {
     "data": {
      "image/png": "[encoded data removed]",
      "text/plain": [
       "<matplotlib.figure.Figure at 0x7f1a0fdbc5f8>"
      ]
     },
     "metadata": {},
     "output_type": "display_data"
    }
   ],
   "source": [
    "temp_df_plot = pd.DataFrame([[\"All books\",4.2957],[\"Filtered books\",books_df['overall'].mean()],[\"All movies\",4.1868],[\"Filtered movies\",movies_df[\"overall\"].mean()]],columns=[\"Name\",\"Value\"])\n",
    "zone, plot = plt.subplots(ncols=1, sharey=True)\n",
    "zone.set_size_inches(16, 8)\n",
    "plot = sb.barplot(x=\"Name\", y=\"Value\", data=temp_df_plot)\n",
    "plot.set_title(\"Overall notes\")\n",
    "print(f\"Overall notes for books before and after filtering : {4.2957} and {books_df['overall'].mean()}, difference of {100*(4.2957-books_df['overall'].mean())/books_df['overall'].mean()}%\")\n",
    "print(f\"Overall notes for movies before and after filtering : {4.1868} and {movies_df['overall'].mean()}, difference of {100*(4.1868-movies_df['overall'].mean())/movies_df['overall'].mean()}%\")"
   ]
  },
  {
   "cell_type": "markdown",
   "metadata": {},
   "source": [
    "This could be interesting: with the plot above we see a larger difference for movies than for books. It means that movies that are created from books tend to have worse overall scores compared to other movies. This effect is less pronunced for books."
   ]
  },
  {
   "cell_type": "markdown",
   "metadata": {},
   "source": [
    "We will make some plot to show any correlation between overall notes and other features, however we won't spend so much time for this analysis as it does not have a strong impact for our study. To make the plot readable we will take a 10% sample from each dataframe"
   ]
  },
  {
   "cell_type": "code",
   "execution_count": 13,
   "metadata": {
    "collapsed": true
   },
   "outputs": [],
   "source": [
    "def plotCor(df1,df2,y,x,title):\n",
    "    zone, (plot1, plot2) = plt.subplots(ncols=2)\n",
    "    zone.set_size_inches(16, 6)\n",
    "\n",
    "    plot1 = sb.regplot(y =y,x=x, data=df1, ax = plot1,x_bins=10)\n",
    "    plot1.set_title(title +\" for movies\")\n",
    "\n",
    "    plot2 = sb.regplot(y =y ,x= x, data=df2, ax = plot2,x_bins=10)\n",
    "    plot2.set_title(title + \" for books\") "
   ]
  },
  {
   "cell_type": "code",
   "execution_count": 14,
   "metadata": {},
   "outputs": [
    {
     "data": {
      "image/png": "[encoded data removed]",
      "text/plain": [
       "<matplotlib.figure.Figure at 0x7f1a0fb850b8>"
      ]
     },
     "metadata": {},
     "output_type": "display_data"
    }
   ],
   "source": [
    "sample_movies = movies_df.sample(frac=0.01)\n",
    "sample_movies['desc_length']=sample_movies[\"description\"].str.len()\n",
    "sample_movies['review_length']=sample_movies[\"reviewText\"].str.len()\n",
    "sample_books = books_df.sample(frac = 0.01)\n",
    "sample_books['desc_length']=sample_books[\"description\"].str.len()\n",
    "sample_books['review_length']=sample_books[\"reviewText\"].str.len()\n",
    "\n",
    "plotCor(sample_movies,sample_books,\"overall\",\"helpful\",\"Relation overall = f(helpful)\")"
   ]
  },
  {
   "cell_type": "markdown",
   "metadata": {},
   "source": [
    "For movies, the overall score seem to not be related to the helpfulness of the comment. On the over hand, we see a slight correlation for books: the most helpful comments are also the ones of of the reviews giving the highest overall score."
   ]
  },
  {
   "cell_type": "code",
   "execution_count": 15,
   "metadata": {},
   "outputs": [
    {
     "data": {
      "image/png": "[encoded data removed]",
      "text/plain": [
       "<matplotlib.figure.Figure at 0x7f1a0fb73d30>"
      ]
     },
     "metadata": {},
     "output_type": "display_data"
    }
   ],
   "source": [
    "plotCor(sample_movies,sample_books,\"overall\",\"desc_length\",\"Relation overall = f(description length)\")"
   ]
  },
  {
   "cell_type": "markdown",
   "metadata": {},
   "source": [
    "The description length does not seem to have a high influence of how the user rated the product."
   ]
  },
  {
   "cell_type": "code",
   "execution_count": 16,
   "metadata": {},
   "outputs": [
    {
     "data": {
      "image/png": "[encoded data removed]",
      "text/plain": [
       "<matplotlib.figure.Figure at 0x7f1a0f39a320>"
      ]
     },
     "metadata": {},
     "output_type": "display_data"
    }
   ],
   "source": [
    "plotCor(sample_movies,sample_books,\"overall\",\"review_length\",\"Relation overall = f(review length)\")"
   ]
  },
  {
   "cell_type": "markdown",
   "metadata": {},
   "source": [
    "Similarly, the summaray length is not linearly correlated to the overall score."
   ]
  },
  {
   "cell_type": "code",
   "execution_count": 17,
   "metadata": {},
   "outputs": [
    {
     "data": {
      "image/png": "[encoded data removed]",
      "text/plain": [
       "<matplotlib.figure.Figure at 0x7f1a0eda8a90>"
      ]
     },
     "metadata": {},
     "output_type": "display_data"
    }
   ],
   "source": [
    "plotCor(sample_movies,sample_books,\"overall\",\"price\",\"Relation overall = f(price)\")"
   ]
  },
  {
   "cell_type": "markdown",
   "metadata": {},
   "source": [
    "In both cases, we notice a slight correlation between the cost and the score: the more expensive the product is, the lower the score. Still, there is a high variance in the data so this should not be taken as a rule."
   ]
  },
  {
   "cell_type": "markdown",
   "metadata": {},
   "source": [
    "An idea for the next phases of the project would be to try to run the reviews trough sentiment analysis.\n",
    "This would allow us to compare what the user says against its rating for a product."
   ]
  },
  {
   "cell_type": "markdown",
   "metadata": {},
   "source": [
    "## Analysis with matching"
   ]
  },
  {
   "cell_type": "markdown",
   "metadata": {},
   "source": [
    "In order to ease our different analysis we will add to each row an identifier wich corresponds to a certain franchise. This identifier will be the same for all books and movies products wich are linked to the same Intellual Property (IP)."
   ]
  },
  {
   "cell_type": "code",
   "execution_count": 27,
   "metadata": {},
   "outputs": [
    {
     "ename": "NameError",
     "evalue": "name 'books_match' is not defined",
     "output_type": "error",
     "traceback": [
      "\u001b[0;31m---------------------------------------------------------------------------\u001b[0m",
      "\u001b[0;31mNameError\u001b[0m                                 Traceback (most recent call last)",
      "\u001b[0;32m<ipython-input-27-73256d752480>\u001b[0m in \u001b[0;36m<module>\u001b[0;34m()\u001b[0m\n\u001b[1;32m      7\u001b[0m \u001b[0;32mfor\u001b[0m \u001b[0mk\u001b[0m\u001b[0;34m,\u001b[0m \u001b[0mv\u001b[0m \u001b[0;32min\u001b[0m \u001b[0mdict_titles\u001b[0m\u001b[0;34m.\u001b[0m\u001b[0mitems\u001b[0m\u001b[0;34m(\u001b[0m\u001b[0;34m)\u001b[0m\u001b[0;34m:\u001b[0m\u001b[0;34m\u001b[0m\u001b[0m\n\u001b[1;32m      8\u001b[0m     \u001b[0massociate\u001b[0m \u001b[0;34m=\u001b[0m \u001b[0;32mFalse\u001b[0m\u001b[0;34m\u001b[0m\u001b[0m\n\u001b[0;32m----> 9\u001b[0;31m     \u001b[0;32mif\u001b[0m \u001b[0mclean_title\u001b[0m\u001b[0;34m(\u001b[0m\u001b[0mk\u001b[0m\u001b[0;34m)\u001b[0m \u001b[0;32min\u001b[0m \u001b[0mbooks_match\u001b[0m \u001b[0;32mand\u001b[0m \u001b[0mlen\u001b[0m\u001b[0;34m(\u001b[0m\u001b[0mbooks_match\u001b[0m\u001b[0;34m[\u001b[0m\u001b[0mclean_title\u001b[0m\u001b[0;34m(\u001b[0m\u001b[0mk\u001b[0m\u001b[0;34m)\u001b[0m\u001b[0;34m]\u001b[0m\u001b[0;34m)\u001b[0m \u001b[0;34m>\u001b[0m \u001b[0;36m0\u001b[0m\u001b[0;34m:\u001b[0m\u001b[0;34m\u001b[0m\u001b[0m\n\u001b[0m\u001b[1;32m     10\u001b[0m         \u001b[0;32mfor\u001b[0m \u001b[0mmov\u001b[0m \u001b[0;32min\u001b[0m \u001b[0mv\u001b[0m\u001b[0;34m:\u001b[0m\u001b[0;34m\u001b[0m\u001b[0m\n\u001b[1;32m     11\u001b[0m             \u001b[0;32mif\u001b[0m \u001b[0mclean_title\u001b[0m\u001b[0;34m(\u001b[0m\u001b[0mmov\u001b[0m\u001b[0;34m)\u001b[0m \u001b[0;32min\u001b[0m \u001b[0mmovies_match\u001b[0m \u001b[0;32mand\u001b[0m \u001b[0mlen\u001b[0m\u001b[0;34m(\u001b[0m\u001b[0mmovies_match\u001b[0m\u001b[0;34m[\u001b[0m\u001b[0mclean_title\u001b[0m\u001b[0;34m(\u001b[0m\u001b[0mmov\u001b[0m\u001b[0;34m)\u001b[0m\u001b[0;34m]\u001b[0m\u001b[0;34m)\u001b[0m \u001b[0;34m>\u001b[0m \u001b[0;36m0\u001b[0m\u001b[0;34m:\u001b[0m\u001b[0;34m\u001b[0m\u001b[0m\n",
      "\u001b[0;31mNameError\u001b[0m: name 'books_match' is not defined"
     ]
    }
   ],
   "source": [
    "def add_franchise_id(df, asin_to_franchise_id):\n",
    "    df['franchise_id']=df['asin'].apply(lambda x: asin_to_franchise_id[x] if x in asin_to_franchise_id else None)\n",
    "    return df\n",
    "\n",
    "asin_to_franchise_id = {}\n",
    "franchise_id = 0\n",
    "for k, v in dict_titles.items():\n",
    "    associate = False\n",
    "    if clean_title(k) in books_match and len(books_match[clean_title(k)]) > 0:\n",
    "        for mov in v:\n",
    "            if clean_title(mov) in movies_match and len(movies_match[clean_title(mov)]) > 0:\n",
    "                associate = True\n",
    "                for movie_product in movies_match[clean_title(mov)]:\n",
    "                    product_to_franchise[movie_product['asin']] = franchise_id\n",
    "        for book_product in books_match[clean_title(k)]:\n",
    "            product_to_franchise[book_product['asin']] = franchise_id\n",
    "    franchise_id += 1 if associate else 0\n",
    "books_df=add_franchise_id(books_df,product_to_franchise)\n",
    "movies_df=add_franchise_id(movies_df,product_to_franchise)\n",
    "books_df.head(5)"
   ]
  },
  {
   "cell_type": "code",
   "execution_count": 2,
   "metadata": {
    "collapsed": true
   },
   "outputs": [],
   "source": [
    "#TODO execute previous cells and don't load from the files\n",
    "books_df = pd.read_json(\"merged_clean_Books.json\",orient=\"records\")\n",
    "movies_df = pd.read_json(\"merged_clean_Movies.json\",orient=\"records\")"
   ]
  },
  {
   "cell_type": "code",
   "execution_count": 3,
   "metadata": {},
   "outputs": [
    {
     "name": "stdout",
     "output_type": "stream",
     "text": [
      "2395\n",
      "707\n"
     ]
    }
   ],
   "source": [
    "print(len(books_df['asin'].unique()))\n",
    "print(len(movies_df['asin'].unique()))"
   ]
  },
  {
   "cell_type": "markdown",
   "metadata": {},
   "source": [
    "Let's try to see if same users gave reviews for both movies and books and then if we have some users that gave reviews for a pair movie/book"
   ]
  },
  {
   "cell_type": "code",
   "execution_count": 7,
   "metadata": {},
   "outputs": [
    {
     "data": {
      "text/plain": [
       "4638"
      ]
     },
     "execution_count": 7,
     "metadata": {},
     "output_type": "execute_result"
    }
   ],
   "source": [
    "movies_users = movies_df['reviewerID'].unique()\n",
    "books_users = books_df['reviewerID'].unique()\n",
    "users_both = np.intersect1d(movies_users,books_users)\n",
    "len(users_both)"
   ]
  },
  {
   "cell_type": "code",
   "execution_count": 43,
   "metadata": {
    "collapsed": true
   },
   "outputs": [],
   "source": [
    "user_same_franchise = []\n",
    "for user in users_both:\n",
    "    movies_reviews_fr = movies_df[movies_df[\"reviewerID\"]==user][\"franchise_id\"].unique()\n",
    "    books_reviews_fr = books_df[books_df[\"reviewerID\"]==user][\"franchise_id\"].unique()\n",
    "    if len(np.intersect1d(movies_reviews_fr,books_reviews_fr))>0:\n",
    "        user_same_franchise.append(user)"
   ]
  },
  {
   "cell_type": "code",
   "execution_count": 44,
   "metadata": {},
   "outputs": [
    {
     "data": {
      "text/plain": [
       "1031"
      ]
     },
     "execution_count": 44,
     "metadata": {},
     "output_type": "execute_result"
    }
   ],
   "source": [
    "len(user_same_franchise)"
   ]
  },
  {
   "cell_type": "markdown",
   "metadata": {},
   "source": [
    "We have 1000 users which have given a review for both a movie and a book in the same franchise. This is a relatively small numbers and we will have to increase it for the next step but it should be enough for this milestone.\n",
    "We also notice than nearly 1 over 4 person who gave a review for a movie and a book gave a review for a pair book/movie, wich is a big ratio"
   ]
  },
  {
   "cell_type": "code",
   "execution_count": 20,
   "metadata": {},
   "outputs": [
    {
     "data": {
      "text/html": [
       "<div>\n",
       "<style>\n",
       "    .dataframe thead tr:only-child th {\n",
       "        text-align: right;\n",
       "    }\n",
       "\n",
       "    .dataframe thead th {\n",
       "        text-align: left;\n",
       "    }\n",
       "\n",
       "    .dataframe tbody tr th {\n",
       "        vertical-align: top;\n",
       "    }\n",
       "</style>\n",
       "<table border=\"1\" class=\"dataframe\">\n",
       "  <thead>\n",
       "    <tr style=\"text-align: right;\">\n",
       "      <th></th>\n",
       "      <th>books_mean</th>\n",
       "      <th>movies_mean</th>\n",
       "    </tr>\n",
       "    <tr>\n",
       "      <th>franchise_id</th>\n",
       "      <th></th>\n",
       "      <th></th>\n",
       "    </tr>\n",
       "  </thead>\n",
       "  <tbody>\n",
       "    <tr>\n",
       "      <th>0</th>\n",
       "      <td>4.367347</td>\n",
       "      <td>3.898396</td>\n",
       "    </tr>\n",
       "    <tr>\n",
       "      <th>1</th>\n",
       "      <td>4.297414</td>\n",
       "      <td>4.414286</td>\n",
       "    </tr>\n",
       "    <tr>\n",
       "      <th>2</th>\n",
       "      <td>3.678571</td>\n",
       "      <td>3.875676</td>\n",
       "    </tr>\n",
       "    <tr>\n",
       "      <th>3</th>\n",
       "      <td>4.095238</td>\n",
       "      <td>2.885417</td>\n",
       "    </tr>\n",
       "    <tr>\n",
       "      <th>4</th>\n",
       "      <td>4.530159</td>\n",
       "      <td>3.071429</td>\n",
       "    </tr>\n",
       "  </tbody>\n",
       "</table>\n",
       "</div>"
      ],
      "text/plain": [
       "              books_mean  movies_mean\n",
       "franchise_id                         \n",
       "0               4.367347     3.898396\n",
       "1               4.297414     4.414286\n",
       "2               3.678571     3.875676\n",
       "3               4.095238     2.885417\n",
       "4               4.530159     3.071429"
      ]
     },
     "execution_count": 20,
     "metadata": {},
     "output_type": "execute_result"
    }
   ],
   "source": [
    "groupby_franchise_df = pd.DataFrame()\n",
    "groupby_franchise_df[\"books_mean\"] = books_df.groupby(\"franchise_id\")[\"overall\"].mean()\n",
    "groupby_franchise_df[\"movies_mean\"] = movies_df.groupby(\"franchise_id\")[\"overall\"].mean()\n",
    "groupby_franchise_df.head(5)"
   ]
  },
  {
   "cell_type": "code",
   "execution_count": 38,
   "metadata": {},
   "outputs": [
    {
     "data": {
      "text/html": [
       "<div>\n",
       "<style>\n",
       "    .dataframe thead tr:only-child th {\n",
       "        text-align: right;\n",
       "    }\n",
       "\n",
       "    .dataframe thead th {\n",
       "        text-align: left;\n",
       "    }\n",
       "\n",
       "    .dataframe tbody tr th {\n",
       "        vertical-align: top;\n",
       "    }\n",
       "</style>\n",
       "<table border=\"1\" class=\"dataframe\">\n",
       "  <thead>\n",
       "    <tr style=\"text-align: right;\">\n",
       "      <th></th>\n",
       "      <th>books_mean</th>\n",
       "      <th>movies_mean</th>\n",
       "    </tr>\n",
       "  </thead>\n",
       "  <tbody>\n",
       "    <tr>\n",
       "      <th>count</th>\n",
       "      <td>505.000000</td>\n",
       "      <td>466.000000</td>\n",
       "    </tr>\n",
       "    <tr>\n",
       "      <th>mean</th>\n",
       "      <td>4.184440</td>\n",
       "      <td>3.962316</td>\n",
       "    </tr>\n",
       "    <tr>\n",
       "      <th>std</th>\n",
       "      <td>0.493395</td>\n",
       "      <td>0.620445</td>\n",
       "    </tr>\n",
       "    <tr>\n",
       "      <th>min</th>\n",
       "      <td>1.000000</td>\n",
       "      <td>1.000000</td>\n",
       "    </tr>\n",
       "    <tr>\n",
       "      <th>25%</th>\n",
       "      <td>4.000000</td>\n",
       "      <td>3.638638</td>\n",
       "    </tr>\n",
       "    <tr>\n",
       "      <th>50%</th>\n",
       "      <td>4.257353</td>\n",
       "      <td>4.053419</td>\n",
       "    </tr>\n",
       "    <tr>\n",
       "      <th>75%</th>\n",
       "      <td>4.467532</td>\n",
       "      <td>4.386014</td>\n",
       "    </tr>\n",
       "    <tr>\n",
       "      <th>max</th>\n",
       "      <td>5.000000</td>\n",
       "      <td>5.000000</td>\n",
       "    </tr>\n",
       "  </tbody>\n",
       "</table>\n",
       "</div>"
      ],
      "text/plain": [
       "       books_mean  movies_mean\n",
       "count  505.000000   466.000000\n",
       "mean     4.184440     3.962316\n",
       "std      0.493395     0.620445\n",
       "min      1.000000     1.000000\n",
       "25%      4.000000     3.638638\n",
       "50%      4.257353     4.053419\n",
       "75%      4.467532     4.386014\n",
       "max      5.000000     5.000000"
      ]
     },
     "execution_count": 38,
     "metadata": {},
     "output_type": "execute_result"
    }
   ],
   "source": [
    "groupby_franchise_df.describe()"
   ]
  },
  {
   "cell_type": "code",
   "execution_count": 39,
   "metadata": {},
   "outputs": [
    {
     "data": {
      "text/plain": [
       "<matplotlib.text.Text at 0x7fde40a28e48>"
      ]
     },
     "execution_count": 39,
     "metadata": {},
     "output_type": "execute_result"
    },
    {
     "data": {
      "image/png": "[encoded data removed]",
      "text/plain": [
       "<matplotlib.figure.Figure at 0x7fde40af3b38>"
      ]
     },
     "metadata": {},
     "output_type": "display_data"
    }
   ],
   "source": [
    "zone, (plot1, plot2) = plt.subplots(ncols=2)\n",
    "zone.set_size_inches(16, 8)\n",
    "\n",
    "plot1 = sb.boxplot(y = 'books_mean' , data=groupby_franchise_df, ax = plot1)\n",
    "plot1.set_title(\"Overall notes by franchise for books\")\n",
    "\n",
    "plot2 = sb.boxplot(y = 'movies_mean' , data=groupby_franchise_df, ax = plot2)\n",
    "plot2.set_title(\"Overall notes by franchise for movies\")"
   ]
  },
  {
   "cell_type": "code",
   "execution_count": 42,
   "metadata": {},
   "outputs": [
    {
     "data": {
      "text/plain": [
       "<matplotlib.text.Text at 0x7fde405e9470>"
      ]
     },
     "execution_count": 42,
     "metadata": {},
     "output_type": "execute_result"
    },
    {
     "data": {
      "image/png": "[encoded data removed]",
      "text/plain": [
       "<matplotlib.figure.Figure at 0x7fde40b382e8>"
      ]
     },
     "metadata": {},
     "output_type": "display_data"
    }
   ],
   "source": [
    "zone, (plot1, plot2) = plt.subplots(ncols=2,sharey=True)\n",
    "zone.set_size_inches(16, 8)\n",
    "\n",
    "plot1 = sb.boxplot(y = 'books_mean' , data=groupby_franchise_df, ax = plot1,showfliers=False)\n",
    "plot1.set_title(\"Overall notes by franchise for books\")\n",
    "\n",
    "plot2 = sb.boxplot(y = 'movies_mean' , data=groupby_franchise_df, ax = plot2,showfliers=False)\n",
    "plot2.set_title(\"Overall notes by franchise for movies\")"
   ]
  },
  {
   "cell_type": "code",
   "execution_count": 46,
   "metadata": {},
   "outputs": [
    {
     "data": {
      "text/plain": [
       "283"
      ]
     },
     "execution_count": 46,
     "metadata": {},
     "output_type": "execute_result"
    }
   ],
   "source": [
    "groupby_franchise_df[groupby_franchise_df[\"books_mean\"]>groupby_franchise_df[\"movies_mean\"]].shape[0]"
   ]
  },
  {
   "cell_type": "code",
   "execution_count": 49,
   "metadata": {
    "collapsed": true
   },
   "outputs": [],
   "source": [
    "user_franchise_df = pd.DataFrame(columns=[\"franchise_id\",\"book_overall\",\"movie_overall\"])\n",
    "for user in user_franchise_df:\n",
    "    pass\n",
    "#TODO make a df with a row for each user/franchise with the mean or overall given by the same user so that we can compare\n",
    "# if users give better overall for books/movies"
   ]
  },
  {
   "cell_type": "code",
   "execution_count": 7,
   "metadata": {
    "collapsed": true
   },
   "outputs": [],
   "source": []
  }
 ],
 "metadata": {
  "kernelspec": {
   "display_name": "Python 3",
   "language": "python",
   "name": "python3"
  },
  "language_info": {
   "codemirror_mode": {
    "name": "ipython",
    "version": 3
   },
   "file_extension": ".py",
   "mimetype": "text/x-python",
   "name": "python",
   "nbconvert_exporter": "python",
   "pygments_lexer": "ipython3",
   "version": "3.6.1"
  }
 },
 "nbformat": 4,
 "nbformat_minor": 2
}
