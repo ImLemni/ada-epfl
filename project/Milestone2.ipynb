{
 "cells": [
  {
   "cell_type": "markdown",
   "metadata": {},
   "source": [
    "# Milestone 2"
   ]
  },
  {
   "cell_type": "code",
   "execution_count": 1,
   "metadata": {},
   "outputs": [],
   "source": [
    "from ada import data\n",
    "import pandas as pd\n",
    "import requests\n",
    "from bs4 import BeautifulSoup\n",
    "from re import sub\n",
    "import matplotlib.pyplot as plt\n",
    "%matplotlib inline\n",
    "import seaborn as sb\n",
    "import numpy as np"
   ]
  },
  {
   "cell_type": "markdown",
   "metadata": {},
   "source": [
    "## Global data description"
   ]
  },
  {
   "cell_type": "markdown",
   "metadata": {},
   "source": [
    "We chosed to only use the useful amazon datasets and not the global one. For sake of ease we also selected files with duplicated items reviews removed. We used the following files : \n",
    "* Reviews and metadata for books\n",
    "* Reviews and metadata for Movies and TV\n",
    "We decided not to use the reviews for Amazon Instant videos because a large majority of products are not related to a title, we have noticed that we could use the Amazon Product API but we think we have enough data with the 2 firsts categories.\n",
    "\n",
    "We constructed our code so that we can handle both plain and compressed json files (`.json` and `.json.gz`), so that we can avoid extracting json files if memory is limited. \n",
    "\n",
    "We worked on our PC as the size of the data is small (about 8gb for compressed files and 25gb for plain files)"
   ]
  },
  {
   "cell_type": "markdown",
   "metadata": {},
   "source": [
    "### Books reviews"
   ]
  },
  {
   "cell_type": "markdown",
   "metadata": {},
   "source": [
    "* Number of lines : `wc -l reviews_Books.json  : 22507155 reviews_Books.json` which is coherent with the number given on the source website    "
   ]
  },
  {
   "cell_type": "code",
   "execution_count": 2,
   "metadata": {},
   "outputs": [
    {
     "data": {
      "application/vnd.jupyter.widget-view+json": {
       "model_id": "9e01176cf5a943b182ff46a38d542a89",
       "version_major": 2,
       "version_minor": 0
      },
      "text/html": [
       "<p>Failed to display Jupyter Widget of type <code>FloatProgress</code>.</p>\n",
       "<p>\n",
       "  If you're reading this message in Jupyter Notebook or JupyterLab, it may mean\n",
       "  that the widgets JavaScript is still loading. If this message persists, it\n",
       "  likely means that the widgets JavaScript library is either not installed or\n",
       "  not enabled. See the <a href=\"https://ipywidgets.readthedocs.io/en/stable/user_install.html\">Jupyter\n",
       "  Widgets Documentation</a> for setup instructions.\n",
       "</p>\n",
       "<p>\n",
       "  If you're reading this message in another notebook frontend (for example, a static\n",
       "  rendering on GitHub or <a href=\"https://nbviewer.jupyter.org/\">NBViewer</a>),\n",
       "  it may mean that your frontend doesn't currently support widgets.\n",
       "</p>\n"
      ],
      "text/plain": [
       "FloatProgress(value=0.0, max=5.0)"
      ]
     },
     "metadata": {},
     "output_type": "display_data"
    },
    {
     "data": {
      "text/html": [
       "<div>\n",
       "<style>\n",
       "    .dataframe thead tr:only-child th {\n",
       "        text-align: right;\n",
       "    }\n",
       "\n",
       "    .dataframe thead th {\n",
       "        text-align: left;\n",
       "    }\n",
       "\n",
       "    .dataframe tbody tr th {\n",
       "        vertical-align: top;\n",
       "    }\n",
       "</style>\n",
       "<table border=\"1\" class=\"dataframe\">\n",
       "  <thead>\n",
       "    <tr style=\"text-align: right;\">\n",
       "      <th></th>\n",
       "      <th>reviewerID</th>\n",
       "      <th>asin</th>\n",
       "      <th>reviewerName</th>\n",
       "      <th>helpful</th>\n",
       "      <th>reviewText</th>\n",
       "      <th>overall</th>\n",
       "      <th>summary</th>\n",
       "      <th>unixReviewTime</th>\n",
       "      <th>reviewTime</th>\n",
       "    </tr>\n",
       "  </thead>\n",
       "  <tbody>\n",
       "    <tr>\n",
       "      <th>0</th>\n",
       "      <td>AH2L9G3DQHHAJ</td>\n",
       "      <td>0000000116</td>\n",
       "      <td>chris</td>\n",
       "      <td>[5, 5]</td>\n",
       "      <td>Interesting Grisham tale of a lawyer that take...</td>\n",
       "      <td>4.0</td>\n",
       "      <td>Show me the money!</td>\n",
       "      <td>1019865600</td>\n",
       "      <td>04 27, 2002</td>\n",
       "    </tr>\n",
       "    <tr>\n",
       "      <th>1</th>\n",
       "      <td>A2IIIDRK3PRRZY</td>\n",
       "      <td>0000000116</td>\n",
       "      <td>Helene</td>\n",
       "      <td>[0, 0]</td>\n",
       "      <td>The thumbnail is a shirt.  The product shown i...</td>\n",
       "      <td>1.0</td>\n",
       "      <td>Listing is all screwed up</td>\n",
       "      <td>1395619200</td>\n",
       "      <td>03 24, 2014</td>\n",
       "    </tr>\n",
       "    <tr>\n",
       "      <th>2</th>\n",
       "      <td>A1TADCM7YWPQ8M</td>\n",
       "      <td>0000000868</td>\n",
       "      <td>Joel@AWS</td>\n",
       "      <td>[10, 10]</td>\n",
       "      <td>I'll be honest. I work for a large online reta...</td>\n",
       "      <td>4.0</td>\n",
       "      <td>Not a Bad Translation</td>\n",
       "      <td>1031702400</td>\n",
       "      <td>09 11, 2002</td>\n",
       "    </tr>\n",
       "    <tr>\n",
       "      <th>3</th>\n",
       "      <td>AWGH7V0BDOJKB</td>\n",
       "      <td>0000013714</td>\n",
       "      <td>Barbara Marshall</td>\n",
       "      <td>[0, 0]</td>\n",
       "      <td>It had all the songs I wanted but I had ordere...</td>\n",
       "      <td>4.0</td>\n",
       "      <td>Not the large print</td>\n",
       "      <td>1383177600</td>\n",
       "      <td>10 31, 2013</td>\n",
       "    </tr>\n",
       "    <tr>\n",
       "      <th>4</th>\n",
       "      <td>A3UTQPQPM4TQO0</td>\n",
       "      <td>0000013714</td>\n",
       "      <td>betty burnett</td>\n",
       "      <td>[0, 0]</td>\n",
       "      <td>We have many of the old, old issue. But the nu...</td>\n",
       "      <td>5.0</td>\n",
       "      <td>I was disappointed that you would only allow m...</td>\n",
       "      <td>1374883200</td>\n",
       "      <td>07 27, 2013</td>\n",
       "    </tr>\n",
       "  </tbody>\n",
       "</table>\n",
       "</div>"
      ],
      "text/plain": [
       "       reviewerID        asin      reviewerName   helpful  \\\n",
       "0   AH2L9G3DQHHAJ  0000000116             chris    [5, 5]   \n",
       "1  A2IIIDRK3PRRZY  0000000116            Helene    [0, 0]   \n",
       "2  A1TADCM7YWPQ8M  0000000868          Joel@AWS  [10, 10]   \n",
       "3   AWGH7V0BDOJKB  0000013714  Barbara Marshall    [0, 0]   \n",
       "4  A3UTQPQPM4TQO0  0000013714     betty burnett    [0, 0]   \n",
       "\n",
       "                                          reviewText  overall  \\\n",
       "0  Interesting Grisham tale of a lawyer that take...      4.0   \n",
       "1  The thumbnail is a shirt.  The product shown i...      1.0   \n",
       "2  I'll be honest. I work for a large online reta...      4.0   \n",
       "3  It had all the songs I wanted but I had ordere...      4.0   \n",
       "4  We have many of the old, old issue. But the nu...      5.0   \n",
       "\n",
       "                                             summary  unixReviewTime  \\\n",
       "0                                 Show me the money!      1019865600   \n",
       "1                          Listing is all screwed up      1395619200   \n",
       "2                              Not a Bad Translation      1031702400   \n",
       "3                                Not the large print      1383177600   \n",
       "4  I was disappointed that you would only allow m...      1374883200   \n",
       "\n",
       "    reviewTime  \n",
       "0  04 27, 2002  \n",
       "1  03 24, 2014  \n",
       "2  09 11, 2002  \n",
       "3  10 31, 2013  \n",
       "4  07 27, 2013  "
      ]
     },
     "execution_count": 2,
     "metadata": {},
     "output_type": "execute_result"
    }
   ],
   "source": [
    "books_reviews_lines = data.read_data(\"reviews_Books\", 5)\n",
    "df = {}\n",
    "i=0\n",
    "for book_line in books_reviews_lines:\n",
    "    df[i]=book_line\n",
    "    i+=1\n",
    "pd.DataFrame.from_dict(df,orient='index')"
   ]
  },
  {
   "cell_type": "markdown",
   "metadata": {},
   "source": [
    "Basic description of features : \n",
    "* reviewerID : ID of the reviewer\n",
    "* asin : ID of the product, will be used to match metadata\n",
    "* reviewerName : name of the reviewer\n",
    "* helpful :  helpfulness rating of the review, for example in the first row : 5/5\n",
    "* reviewText : Content of the review\n",
    "* overall : rating of the product\n",
    "* summary : summary of the review\n",
    "* unixReviewTime : Unix time of the review\n",
    "* reviewTime  : time of the review in \" month day,year\" format\n"
   ]
  },
  {
   "cell_type": "code",
   "execution_count": 10,
   "metadata": {},
   "outputs": [
    {
     "ename": "KeyboardInterrupt",
     "evalue": "",
     "output_type": "error",
     "traceback": [
      "\u001b[0;31m---------------------------------------------------------------------------\u001b[0m",
      "\u001b[0;31mKeyboardInterrupt\u001b[0m                         Traceback (most recent call last)",
      "\u001b[0;32m<ipython-input-10-0dca58b3ebbe>\u001b[0m in \u001b[0;36m<module>\u001b[0;34m()\u001b[0m\n\u001b[1;32m     10\u001b[0m \u001b[0mminTime\u001b[0m \u001b[0;34m=\u001b[0m \u001b[0;36m2000000000\u001b[0m\u001b[0;34m\u001b[0m\u001b[0m\n\u001b[1;32m     11\u001b[0m \u001b[0mmaxTime\u001b[0m \u001b[0;34m=\u001b[0m \u001b[0;36m0\u001b[0m\u001b[0;34m\u001b[0m\u001b[0m\n\u001b[0;32m---> 12\u001b[0;31m \u001b[0;32mfor\u001b[0m \u001b[0mbook_line\u001b[0m \u001b[0;32min\u001b[0m \u001b[0mbooks_reviews_lines\u001b[0m\u001b[0;34m:\u001b[0m\u001b[0;34m\u001b[0m\u001b[0m\n\u001b[0m\u001b[1;32m     13\u001b[0m     \u001b[0mdistinct_reviewers\u001b[0m\u001b[0;34m.\u001b[0m\u001b[0madd\u001b[0m\u001b[0;34m(\u001b[0m\u001b[0mbook_line\u001b[0m\u001b[0;34m[\u001b[0m\u001b[0;34m\"reviewerID\"\u001b[0m\u001b[0;34m]\u001b[0m\u001b[0;34m)\u001b[0m\u001b[0;34m\u001b[0m\u001b[0m\n\u001b[1;32m     14\u001b[0m     \u001b[0mdistinct_asin\u001b[0m\u001b[0;34m.\u001b[0m\u001b[0madd\u001b[0m\u001b[0;34m(\u001b[0m\u001b[0mbook_line\u001b[0m\u001b[0;34m[\u001b[0m\u001b[0;34m\"asin\"\u001b[0m\u001b[0;34m]\u001b[0m\u001b[0;34m)\u001b[0m\u001b[0;34m\u001b[0m\u001b[0m\n",
      "\u001b[0;32m~/Documents/cours/appliedDataAnalysis/git/ada-epfl/project/ada/data.py\u001b[0m in \u001b[0;36mread_json_file\u001b[0;34m(file_path, limit, is_gzip, show_progress_bar)\u001b[0m\n\u001b[1;32m     25\u001b[0m                 \u001b[0;32mreturn\u001b[0m\u001b[0;34m\u001b[0m\u001b[0m\n\u001b[1;32m     26\u001b[0m             \u001b[0;32mfor\u001b[0m \u001b[0mi\u001b[0m\u001b[0;34m,\u001b[0m \u001b[0mline\u001b[0m \u001b[0;32min\u001b[0m \u001b[0menumerate\u001b[0m\u001b[0;34m(\u001b[0m\u001b[0mfile\u001b[0m\u001b[0;34m)\u001b[0m\u001b[0;34m:\u001b[0m\u001b[0;34m\u001b[0m\u001b[0m\n\u001b[0;32m---> 27\u001b[0;31m                 \u001b[0;32myield\u001b[0m \u001b[0meval\u001b[0m\u001b[0;34m(\u001b[0m\u001b[0mline\u001b[0m\u001b[0;34m)\u001b[0m\u001b[0;34m\u001b[0m\u001b[0m\n\u001b[0m\u001b[1;32m     28\u001b[0m                 \u001b[0mprogress_bar\u001b[0m\u001b[0;34m.\u001b[0m\u001b[0mupdate\u001b[0m\u001b[0;34m(\u001b[0m\u001b[0;36m1\u001b[0m\u001b[0;34m)\u001b[0m\u001b[0;34m\u001b[0m\u001b[0m\n\u001b[1;32m     29\u001b[0m                 \u001b[0;32mif\u001b[0m \u001b[0mlimit\u001b[0m \u001b[0;32mis\u001b[0m \u001b[0;32mnot\u001b[0m \u001b[0;32mNone\u001b[0m \u001b[0;32mand\u001b[0m \u001b[0mi\u001b[0m \u001b[0;34m==\u001b[0m \u001b[0mlimit\u001b[0m \u001b[0;34m-\u001b[0m \u001b[0;36m1\u001b[0m\u001b[0;34m:\u001b[0m\u001b[0;34m\u001b[0m\u001b[0m\n",
      "\u001b[0;32m~/Documents/cours/appliedDataAnalysis/git/ada-epfl/project/ada/data.py\u001b[0m in \u001b[0;36m<module>\u001b[0;34m()\u001b[0m\n",
      "\u001b[0;31mKeyboardInterrupt\u001b[0m: "
     ]
    }
   ],
   "source": [
    "#Warning Long operation\n",
    "books_reviews_lines = data.read_data(\"reviews_Books\", 22507155)\n",
    "distinct_reviewers = set()\n",
    "distinct_asin = set()\n",
    "totalHelpful = 0\n",
    "helpfulCount = 0\n",
    "helpfulZero = 0\n",
    "overallTotal = 0\n",
    "overallCount = 0\n",
    "minTime = 2000000000\n",
    "maxTime = 0\n",
    "for book_line in books_reviews_lines:\n",
    "    distinct_reviewers.add(book_line[\"reviewerID\"])\n",
    "    distinct_asin.add(book_line[\"asin\"])\n",
    "    helpful = book_line[\"helpful\"]\n",
    "    if helpful[0] == 0 and helpful[1] == 0:\n",
    "        helpfulZero += 1\n",
    "    else:\n",
    "        totalHelpful += helpful[0] / helpful[1]\n",
    "        helpfulCount += 1\n",
    "\n",
    "    overallTotal += book_line[\"overall\"]\n",
    "    unixTime = book_line[\"unixReviewTime\"]\n",
    "    maxTime = unixTime if unixTime > maxTime else maxTime\n",
    "    minTime = unixTime if unixTime < minTime else minTime\n"
   ]
  },
  {
   "cell_type": "markdown",
   "metadata": {},
   "source": [
    "Results : \n",
    "* Number of distinct reviewers : 8026324 (35.66% of total)  : a reviewer give 2.8 reviews in mean\n",
    "* Number of distinct products :  2330066 (10.35% of total)  : 9.66 reviews per product\n",
    "* Helpful mean (without 0/0) : 0.7288443590389628\n",
    "* Non rated hepfulness (0/0) : 10473154 (46.53% of total)\n",
    "* Overall mean : 4.29575892643917\n",
    "* Max unix Time : 1406073600 : Wednesday, July 23, 2014 \n",
    "* Min unix Time : 832550400 : Monday, May 20, 1996\n",
    "\n",
    "We can already notice a high mean for overall reviews"
   ]
  },
  {
   "cell_type": "markdown",
   "metadata": {},
   "source": [
    "### Books metadata"
   ]
  },
  {
   "cell_type": "markdown",
   "metadata": {},
   "source": [
    "* Number of lines : `wc -l meta_Books.json 2370585 meta_Books.json`"
   ]
  },
  {
   "cell_type": "code",
   "execution_count": 8,
   "metadata": {},
   "outputs": [
    {
     "data": {
      "application/vnd.jupyter.widget-view+json": {
       "model_id": "8b9b295b82394a8e8a87921265efdde4",
       "version_major": 2,
       "version_minor": 0
      },
      "text/html": [
       "<p>Failed to display Jupyter Widget of type <code>FloatProgress</code>.</p>\n",
       "<p>\n",
       "  If you're reading this message in Jupyter Notebook or JupyterLab, it may mean\n",
       "  that the widgets JavaScript is still loading. If this message persists, it\n",
       "  likely means that the widgets JavaScript library is either not installed or\n",
       "  not enabled. See the <a href=\"https://ipywidgets.readthedocs.io/en/stable/user_install.html\">Jupyter\n",
       "  Widgets Documentation</a> for setup instructions.\n",
       "</p>\n",
       "<p>\n",
       "  If you're reading this message in another notebook frontend (for example, a static\n",
       "  rendering on GitHub or <a href=\"https://nbviewer.jupyter.org/\">NBViewer</a>),\n",
       "  it may mean that your frontend doesn't currently support widgets.\n",
       "</p>\n"
      ],
      "text/plain": [
       "FloatProgress(value=0.0, max=6.0)"
      ]
     },
     "metadata": {},
     "output_type": "display_data"
    },
    {
     "data": {
      "text/html": [
       "<div>\n",
       "<style>\n",
       "    .dataframe thead tr:only-child th {\n",
       "        text-align: right;\n",
       "    }\n",
       "\n",
       "    .dataframe thead th {\n",
       "        text-align: left;\n",
       "    }\n",
       "\n",
       "    .dataframe tbody tr th {\n",
       "        vertical-align: top;\n",
       "    }\n",
       "</style>\n",
       "<table border=\"1\" class=\"dataframe\">\n",
       "  <thead>\n",
       "    <tr style=\"text-align: right;\">\n",
       "      <th></th>\n",
       "      <th>asin</th>\n",
       "      <th>salesRank</th>\n",
       "      <th>imUrl</th>\n",
       "      <th>categories</th>\n",
       "      <th>title</th>\n",
       "      <th>description</th>\n",
       "      <th>price</th>\n",
       "      <th>related</th>\n",
       "    </tr>\n",
       "  </thead>\n",
       "  <tbody>\n",
       "    <tr>\n",
       "      <th>0</th>\n",
       "      <td>0001048791</td>\n",
       "      <td>{'Books': 6334800}</td>\n",
       "      <td>http://ecx.images-amazon.com/images/I/51MKP0T4...</td>\n",
       "      <td>[[Books]]</td>\n",
       "      <td>The Crucible: Performed by Stuart Pankin, Jero...</td>\n",
       "      <td>NaN</td>\n",
       "      <td>NaN</td>\n",
       "      <td>NaN</td>\n",
       "    </tr>\n",
       "    <tr>\n",
       "      <th>1</th>\n",
       "      <td>0001048775</td>\n",
       "      <td>{'Books': 13243226}</td>\n",
       "      <td>http://ecx.images-amazon.com/images/I/5166EBHD...</td>\n",
       "      <td>[[Books]]</td>\n",
       "      <td>Measure for Measure: Complete &amp;amp; Unabridged</td>\n",
       "      <td>William Shakespeare is widely regarded as the ...</td>\n",
       "      <td>NaN</td>\n",
       "      <td>NaN</td>\n",
       "    </tr>\n",
       "    <tr>\n",
       "      <th>2</th>\n",
       "      <td>0001048236</td>\n",
       "      <td>{'Books': 8973864}</td>\n",
       "      <td>http://ecx.images-amazon.com/images/I/51DH145C...</td>\n",
       "      <td>[[Books]]</td>\n",
       "      <td>The Sherlock Holmes Audio Collection</td>\n",
       "      <td>&amp;#34;One thing is certain, Sherlockians, put a...</td>\n",
       "      <td>9.26</td>\n",
       "      <td>{'also_viewed': ['1442300191', '9626349786', '...</td>\n",
       "    </tr>\n",
       "    <tr>\n",
       "      <th>3</th>\n",
       "      <td>0000401048</td>\n",
       "      <td>{'Books': 6448843}</td>\n",
       "      <td>http://ecx.images-amazon.com/images/I/41bchvIf...</td>\n",
       "      <td>[[Books]]</td>\n",
       "      <td>The rogue of publishers' row;: Confessions of ...</td>\n",
       "      <td>NaN</td>\n",
       "      <td>NaN</td>\n",
       "      <td>{'also_viewed': ['068240103X']}</td>\n",
       "    </tr>\n",
       "    <tr>\n",
       "      <th>4</th>\n",
       "      <td>0001019880</td>\n",
       "      <td>{'Books': 9589258}</td>\n",
       "      <td>http://ecx.images-amazon.com/images/I/61LcHUdv...</td>\n",
       "      <td>[[Books]]</td>\n",
       "      <td>Classic Soul Winner's New Testament Bible</td>\n",
       "      <td>NaN</td>\n",
       "      <td>5.39</td>\n",
       "      <td>{'also_viewed': ['B003HMB5FC', '0834004593'], ...</td>\n",
       "    </tr>\n",
       "    <tr>\n",
       "      <th>5</th>\n",
       "      <td>0001048813</td>\n",
       "      <td>NaN</td>\n",
       "      <td>http://ecx.images-amazon.com/images/I/41k5u0lr...</td>\n",
       "      <td>[[Books]]</td>\n",
       "      <td>Archer Christmas 4 Tape Pack</td>\n",
       "      <td>NaN</td>\n",
       "      <td>NaN</td>\n",
       "      <td>NaN</td>\n",
       "    </tr>\n",
       "  </tbody>\n",
       "</table>\n",
       "</div>"
      ],
      "text/plain": [
       "         asin            salesRank  \\\n",
       "0  0001048791   {'Books': 6334800}   \n",
       "1  0001048775  {'Books': 13243226}   \n",
       "2  0001048236   {'Books': 8973864}   \n",
       "3  0000401048   {'Books': 6448843}   \n",
       "4  0001019880   {'Books': 9589258}   \n",
       "5  0001048813                  NaN   \n",
       "\n",
       "                                               imUrl categories  \\\n",
       "0  http://ecx.images-amazon.com/images/I/51MKP0T4...  [[Books]]   \n",
       "1  http://ecx.images-amazon.com/images/I/5166EBHD...  [[Books]]   \n",
       "2  http://ecx.images-amazon.com/images/I/51DH145C...  [[Books]]   \n",
       "3  http://ecx.images-amazon.com/images/I/41bchvIf...  [[Books]]   \n",
       "4  http://ecx.images-amazon.com/images/I/61LcHUdv...  [[Books]]   \n",
       "5  http://ecx.images-amazon.com/images/I/41k5u0lr...  [[Books]]   \n",
       "\n",
       "                                               title  \\\n",
       "0  The Crucible: Performed by Stuart Pankin, Jero...   \n",
       "1     Measure for Measure: Complete &amp; Unabridged   \n",
       "2               The Sherlock Holmes Audio Collection   \n",
       "3  The rogue of publishers' row;: Confessions of ...   \n",
       "4          Classic Soul Winner's New Testament Bible   \n",
       "5                       Archer Christmas 4 Tape Pack   \n",
       "\n",
       "                                         description  price  \\\n",
       "0                                                NaN    NaN   \n",
       "1  William Shakespeare is widely regarded as the ...    NaN   \n",
       "2  &#34;One thing is certain, Sherlockians, put a...   9.26   \n",
       "3                                                NaN    NaN   \n",
       "4                                                NaN   5.39   \n",
       "5                                                NaN    NaN   \n",
       "\n",
       "                                             related  \n",
       "0                                                NaN  \n",
       "1                                                NaN  \n",
       "2  {'also_viewed': ['1442300191', '9626349786', '...  \n",
       "3                    {'also_viewed': ['068240103X']}  \n",
       "4  {'also_viewed': ['B003HMB5FC', '0834004593'], ...  \n",
       "5                                                NaN  "
      ]
     },
     "execution_count": 8,
     "metadata": {},
     "output_type": "execute_result"
    }
   ],
   "source": [
    "books_meta_lines = data.read_data(\"meta_Books\", 6)\n",
    "df = {}\n",
    "i=0\n",
    "for book_line in books_meta_lines:\n",
    "    df[i]=book_line\n",
    "    i+=1\n",
    "pd.DataFrame.from_dict(df,orient='index')"
   ]
  },
  {
   "cell_type": "markdown",
   "metadata": {},
   "source": [
    "Basic description of features : \n",
    "* asin : ID of the product\n",
    "* salesRank : sales rank information\n",
    "* imUrl : url of the product image\n",
    "* categories : list of categories the product belongs to\n",
    "* title : name of the product\n",
    "* price : price in US dollars\n",
    "* description : product description\n",
    "* related : related products, for example product that was also bought\n",
    "* brand : brand name\n"
   ]
  },
  {
   "cell_type": "markdown",
   "metadata": {},
   "source": [
    "This time the file is small enough to load it in memory with pandas but due to the format of the input it's faster to make a custom read.\n",
    "\n",
    "For example we can not use the `unique` function to list categories as they are in a list format which are unhashable"
   ]
  },
  {
   "cell_type": "code",
   "execution_count": 2,
   "metadata": {},
   "outputs": [
    {
     "data": {
      "application/vnd.jupyter.widget-view+json": {
       "model_id": "ba9d2f70adc740e9bf99e06a15c1235b",
       "version_major": 2,
       "version_minor": 0
      },
      "text/html": [
       "<p>Failed to display Jupyter Widget of type <code>FloatProgress</code>.</p>\n",
       "<p>\n",
       "  If you're reading this message in Jupyter Notebook or JupyterLab, it may mean\n",
       "  that the widgets JavaScript is still loading. If this message persists, it\n",
       "  likely means that the widgets JavaScript library is either not installed or\n",
       "  not enabled. See the <a href=\"https://ipywidgets.readthedocs.io/en/stable/user_install.html\">Jupyter\n",
       "  Widgets Documentation</a> for setup instructions.\n",
       "</p>\n",
       "<p>\n",
       "  If you're reading this message in another notebook frontend (for example, a static\n",
       "  rendering on GitHub or <a href=\"https://nbviewer.jupyter.org/\">NBViewer</a>),\n",
       "  it may mean that your frontend doesn't currently support widgets.\n",
       "</p>\n"
      ],
      "text/plain": [
       "FloatProgress(value=0.0, max=2370585.0)"
      ]
     },
     "metadata": {},
     "output_type": "display_data"
    },
    {
     "name": "stderr",
     "output_type": "stream",
     "text": [
      "IOPub message rate exceeded.\n",
      "The notebook server will temporarily stop sending output\n",
      "to the client in order to avoid crashing it.\n",
      "To change this limit, set the config variable\n",
      "`--NotebookApp.iopub_msg_rate_limit`.\n",
      "\n",
      "Current values:\n",
      "NotebookApp.iopub_msg_rate_limit=1000.0 (msgs/sec)\n",
      "NotebookApp.rate_limit_window=3.0 (secs)\n",
      "\n",
      "IOPub message rate exceeded.\n",
      "The notebook server will temporarily stop sending output\n",
      "to the client in order to avoid crashing it.\n",
      "To change this limit, set the config variable\n",
      "`--NotebookApp.iopub_msg_rate_limit`.\n",
      "\n",
      "Current values:\n",
      "NotebookApp.iopub_msg_rate_limit=1000.0 (msgs/sec)\n",
      "NotebookApp.rate_limit_window=3.0 (secs)\n",
      "\n"
     ]
    },
    {
     "ename": "KeyboardInterrupt",
     "evalue": "",
     "output_type": "error",
     "traceback": [
      "\u001b[0;31m---------------------------------------------------------------------------\u001b[0m",
      "\u001b[0;31mKeyboardInterrupt\u001b[0m                         Traceback (most recent call last)",
      "\u001b[0;32m<ipython-input-2-db4949bf8b30>\u001b[0m in \u001b[0;36m<module>\u001b[0;34m()\u001b[0m\n\u001b[1;32m     10\u001b[0m \u001b[0mprice_total\u001b[0m \u001b[0;34m=\u001b[0m \u001b[0;36m0\u001b[0m\u001b[0;34m\u001b[0m\u001b[0m\n\u001b[1;32m     11\u001b[0m \u001b[0mrelated_count\u001b[0m \u001b[0;34m=\u001b[0m \u001b[0;36m0\u001b[0m\u001b[0;34m\u001b[0m\u001b[0m\n\u001b[0;32m---> 12\u001b[0;31m \u001b[0;32mfor\u001b[0m \u001b[0mbook_line\u001b[0m \u001b[0;32min\u001b[0m \u001b[0mbooks_meta_lines\u001b[0m\u001b[0;34m:\u001b[0m\u001b[0;34m\u001b[0m\u001b[0m\n\u001b[0m\u001b[1;32m     13\u001b[0m     \u001b[0;32mfor\u001b[0m \u001b[0mc\u001b[0m \u001b[0;32min\u001b[0m \u001b[0mbook_line\u001b[0m\u001b[0;34m[\u001b[0m\u001b[0;34m\"categories\"\u001b[0m\u001b[0;34m]\u001b[0m\u001b[0;34m:\u001b[0m\u001b[0;34m\u001b[0m\u001b[0m\n\u001b[1;32m     14\u001b[0m         \u001b[0;32mfor\u001b[0m \u001b[0mv\u001b[0m \u001b[0;32min\u001b[0m \u001b[0mc\u001b[0m\u001b[0;34m:\u001b[0m\u001b[0;34m\u001b[0m\u001b[0m\n",
      "\u001b[0;32m~/Documents/cours/appliedDataAnalysis/git/ada-epfl/project/ada/data.py\u001b[0m in \u001b[0;36mread_json_file\u001b[0;34m(file_path, limit, is_gzip, show_progress_bar)\u001b[0m\n\u001b[1;32m     26\u001b[0m             \u001b[0;32mfor\u001b[0m \u001b[0mi\u001b[0m\u001b[0;34m,\u001b[0m \u001b[0mline\u001b[0m \u001b[0;32min\u001b[0m \u001b[0menumerate\u001b[0m\u001b[0;34m(\u001b[0m\u001b[0mfile\u001b[0m\u001b[0;34m)\u001b[0m\u001b[0;34m:\u001b[0m\u001b[0;34m\u001b[0m\u001b[0m\n\u001b[1;32m     27\u001b[0m                 \u001b[0;32myield\u001b[0m \u001b[0meval\u001b[0m\u001b[0;34m(\u001b[0m\u001b[0mline\u001b[0m\u001b[0;34m)\u001b[0m\u001b[0;34m\u001b[0m\u001b[0m\n\u001b[0;32m---> 28\u001b[0;31m                 \u001b[0mprogress_bar\u001b[0m\u001b[0;34m.\u001b[0m\u001b[0mupdate\u001b[0m\u001b[0;34m(\u001b[0m\u001b[0;36m1\u001b[0m\u001b[0;34m)\u001b[0m\u001b[0;34m\u001b[0m\u001b[0m\n\u001b[0m\u001b[1;32m     29\u001b[0m                 \u001b[0;32mif\u001b[0m \u001b[0mlimit\u001b[0m \u001b[0;32mis\u001b[0m \u001b[0;32mnot\u001b[0m \u001b[0;32mNone\u001b[0m \u001b[0;32mand\u001b[0m \u001b[0mi\u001b[0m \u001b[0;34m==\u001b[0m \u001b[0mlimit\u001b[0m \u001b[0;34m-\u001b[0m \u001b[0;36m1\u001b[0m\u001b[0;34m:\u001b[0m\u001b[0;34m\u001b[0m\u001b[0m\n\u001b[1;32m     30\u001b[0m                     \u001b[0;32mbreak\u001b[0m\u001b[0;34m\u001b[0m\u001b[0m\n",
      "\u001b[0;32m~/Documents/cours/appliedDataAnalysis/git/ada-epfl/project/ada/progressbar.py\u001b[0m in \u001b[0;36mupdate\u001b[0;34m(self, change)\u001b[0m\n\u001b[1;32m     69\u001b[0m         \u001b[0;32mdef\u001b[0m \u001b[0mupdate\u001b[0m\u001b[0;34m(\u001b[0m\u001b[0mself\u001b[0m\u001b[0;34m,\u001b[0m \u001b[0mchange\u001b[0m\u001b[0;34m:\u001b[0m \u001b[0mint\u001b[0m\u001b[0;34m)\u001b[0m\u001b[0;34m:\u001b[0m\u001b[0;34m\u001b[0m\u001b[0m\n\u001b[1;32m     70\u001b[0m             \u001b[0mself\u001b[0m\u001b[0;34m.\u001b[0m\u001b[0mprogress\u001b[0m \u001b[0;34m+=\u001b[0m \u001b[0mchange\u001b[0m\u001b[0;34m\u001b[0m\u001b[0m\n\u001b[0;32m---> 71\u001b[0;31m             \u001b[0mself\u001b[0m\u001b[0;34m.\u001b[0m\u001b[0m_bar\u001b[0m\u001b[0;34m.\u001b[0m\u001b[0mvalue\u001b[0m \u001b[0;34m=\u001b[0m \u001b[0mself\u001b[0m\u001b[0;34m.\u001b[0m\u001b[0mprogress\u001b[0m\u001b[0;34m\u001b[0m\u001b[0m\n\u001b[0m\u001b[1;32m     72\u001b[0m \u001b[0;34m\u001b[0m\u001b[0m\n\u001b[1;32m     73\u001b[0m \u001b[0;32mif\u001b[0m \u001b[0mtqdm\u001b[0m \u001b[0;32mis\u001b[0m \u001b[0;32mnot\u001b[0m \u001b[0;32mNone\u001b[0m\u001b[0;34m:\u001b[0m\u001b[0;34m\u001b[0m\u001b[0m\n",
      "\u001b[0;32m~/anaconda3/envs/ada/lib/python3.6/site-packages/traitlets/traitlets.py\u001b[0m in \u001b[0;36m__set__\u001b[0;34m(self, obj, value)\u001b[0m\n\u001b[1;32m    583\u001b[0m             \u001b[0;32mraise\u001b[0m \u001b[0mTraitError\u001b[0m\u001b[0;34m(\u001b[0m\u001b[0;34m'The \"%s\" trait is read-only.'\u001b[0m \u001b[0;34m%\u001b[0m \u001b[0mself\u001b[0m\u001b[0;34m.\u001b[0m\u001b[0mname\u001b[0m\u001b[0;34m)\u001b[0m\u001b[0;34m\u001b[0m\u001b[0m\n\u001b[1;32m    584\u001b[0m         \u001b[0;32melse\u001b[0m\u001b[0;34m:\u001b[0m\u001b[0;34m\u001b[0m\u001b[0m\n\u001b[0;32m--> 585\u001b[0;31m             \u001b[0mself\u001b[0m\u001b[0;34m.\u001b[0m\u001b[0mset\u001b[0m\u001b[0;34m(\u001b[0m\u001b[0mobj\u001b[0m\u001b[0;34m,\u001b[0m \u001b[0mvalue\u001b[0m\u001b[0;34m)\u001b[0m\u001b[0;34m\u001b[0m\u001b[0m\n\u001b[0m\u001b[1;32m    586\u001b[0m \u001b[0;34m\u001b[0m\u001b[0m\n\u001b[1;32m    587\u001b[0m     \u001b[0;32mdef\u001b[0m \u001b[0m_validate\u001b[0m\u001b[0;34m(\u001b[0m\u001b[0mself\u001b[0m\u001b[0;34m,\u001b[0m \u001b[0mobj\u001b[0m\u001b[0;34m,\u001b[0m \u001b[0mvalue\u001b[0m\u001b[0;34m)\u001b[0m\u001b[0;34m:\u001b[0m\u001b[0;34m\u001b[0m\u001b[0m\n",
      "\u001b[0;32m~/anaconda3/envs/ada/lib/python3.6/site-packages/traitlets/traitlets.py\u001b[0m in \u001b[0;36mset\u001b[0;34m(self, obj, value)\u001b[0m\n\u001b[1;32m    572\u001b[0m             \u001b[0;31m# we explicitly compare silent to True just in case the equality\u001b[0m\u001b[0;34m\u001b[0m\u001b[0;34m\u001b[0m\u001b[0m\n\u001b[1;32m    573\u001b[0m             \u001b[0;31m# comparison above returns something other than True/False\u001b[0m\u001b[0;34m\u001b[0m\u001b[0;34m\u001b[0m\u001b[0m\n\u001b[0;32m--> 574\u001b[0;31m             \u001b[0mobj\u001b[0m\u001b[0;34m.\u001b[0m\u001b[0m_notify_trait\u001b[0m\u001b[0;34m(\u001b[0m\u001b[0mself\u001b[0m\u001b[0;34m.\u001b[0m\u001b[0mname\u001b[0m\u001b[0;34m,\u001b[0m \u001b[0mold_value\u001b[0m\u001b[0;34m,\u001b[0m \u001b[0mnew_value\u001b[0m\u001b[0;34m)\u001b[0m\u001b[0;34m\u001b[0m\u001b[0m\n\u001b[0m\u001b[1;32m    575\u001b[0m \u001b[0;34m\u001b[0m\u001b[0m\n\u001b[1;32m    576\u001b[0m     \u001b[0;32mdef\u001b[0m \u001b[0m__set__\u001b[0m\u001b[0;34m(\u001b[0m\u001b[0mself\u001b[0m\u001b[0;34m,\u001b[0m \u001b[0mobj\u001b[0m\u001b[0;34m,\u001b[0m \u001b[0mvalue\u001b[0m\u001b[0;34m)\u001b[0m\u001b[0;34m:\u001b[0m\u001b[0;34m\u001b[0m\u001b[0m\n",
      "\u001b[0;32m~/anaconda3/envs/ada/lib/python3.6/site-packages/traitlets/traitlets.py\u001b[0m in \u001b[0;36m_notify_trait\u001b[0;34m(self, name, old_value, new_value)\u001b[0m\n\u001b[1;32m   1137\u001b[0m             \u001b[0mnew\u001b[0m\u001b[0;34m=\u001b[0m\u001b[0mnew_value\u001b[0m\u001b[0;34m,\u001b[0m\u001b[0;34m\u001b[0m\u001b[0m\n\u001b[1;32m   1138\u001b[0m             \u001b[0mowner\u001b[0m\u001b[0;34m=\u001b[0m\u001b[0mself\u001b[0m\u001b[0;34m,\u001b[0m\u001b[0;34m\u001b[0m\u001b[0m\n\u001b[0;32m-> 1139\u001b[0;31m             \u001b[0mtype\u001b[0m\u001b[0;34m=\u001b[0m\u001b[0;34m'change'\u001b[0m\u001b[0;34m,\u001b[0m\u001b[0;34m\u001b[0m\u001b[0m\n\u001b[0m\u001b[1;32m   1140\u001b[0m         ))\n\u001b[1;32m   1141\u001b[0m \u001b[0;34m\u001b[0m\u001b[0m\n",
      "\u001b[0;32m~/anaconda3/envs/ada/lib/python3.6/site-packages/ipywidgets/widgets/widget.py\u001b[0m in \u001b[0;36mnotify_change\u001b[0;34m(self, change)\u001b[0m\n\u001b[1;32m    595\u001b[0m             \u001b[0;32mif\u001b[0m \u001b[0mname\u001b[0m \u001b[0;32min\u001b[0m \u001b[0mself\u001b[0m\u001b[0;34m.\u001b[0m\u001b[0mkeys\u001b[0m \u001b[0;32mand\u001b[0m \u001b[0mself\u001b[0m\u001b[0;34m.\u001b[0m\u001b[0m_should_send_property\u001b[0m\u001b[0;34m(\u001b[0m\u001b[0mname\u001b[0m\u001b[0;34m,\u001b[0m \u001b[0mchange\u001b[0m\u001b[0;34m[\u001b[0m\u001b[0;34m'new'\u001b[0m\u001b[0;34m]\u001b[0m\u001b[0;34m)\u001b[0m\u001b[0;34m:\u001b[0m\u001b[0;34m\u001b[0m\u001b[0m\n\u001b[1;32m    596\u001b[0m                 \u001b[0;31m# Send new state to front-end\u001b[0m\u001b[0;34m\u001b[0m\u001b[0;34m\u001b[0m\u001b[0m\n\u001b[0;32m--> 597\u001b[0;31m                 \u001b[0mself\u001b[0m\u001b[0;34m.\u001b[0m\u001b[0msend_state\u001b[0m\u001b[0;34m(\u001b[0m\u001b[0mkey\u001b[0m\u001b[0;34m=\u001b[0m\u001b[0mname\u001b[0m\u001b[0;34m)\u001b[0m\u001b[0;34m\u001b[0m\u001b[0m\n\u001b[0m\u001b[1;32m    598\u001b[0m         \u001b[0msuper\u001b[0m\u001b[0;34m(\u001b[0m\u001b[0mWidget\u001b[0m\u001b[0;34m,\u001b[0m \u001b[0mself\u001b[0m\u001b[0;34m)\u001b[0m\u001b[0;34m.\u001b[0m\u001b[0mnotify_change\u001b[0m\u001b[0;34m(\u001b[0m\u001b[0mchange\u001b[0m\u001b[0;34m)\u001b[0m\u001b[0;34m\u001b[0m\u001b[0m\n\u001b[1;32m    599\u001b[0m \u001b[0;34m\u001b[0m\u001b[0m\n",
      "\u001b[0;32m~/anaconda3/envs/ada/lib/python3.6/site-packages/ipywidgets/widgets/widget.py\u001b[0m in \u001b[0;36msend_state\u001b[0;34m(self, key)\u001b[0m\n\u001b[1;32m    480\u001b[0m             \u001b[0mstate\u001b[0m\u001b[0;34m,\u001b[0m \u001b[0mbuffer_paths\u001b[0m\u001b[0;34m,\u001b[0m \u001b[0mbuffers\u001b[0m \u001b[0;34m=\u001b[0m \u001b[0m_remove_buffers\u001b[0m\u001b[0;34m(\u001b[0m\u001b[0mstate\u001b[0m\u001b[0;34m)\u001b[0m\u001b[0;34m\u001b[0m\u001b[0m\n\u001b[1;32m    481\u001b[0m             \u001b[0mmsg\u001b[0m \u001b[0;34m=\u001b[0m \u001b[0;34m{\u001b[0m\u001b[0;34m'method'\u001b[0m\u001b[0;34m:\u001b[0m \u001b[0;34m'update'\u001b[0m\u001b[0;34m,\u001b[0m \u001b[0;34m'state'\u001b[0m\u001b[0;34m:\u001b[0m \u001b[0mstate\u001b[0m\u001b[0;34m,\u001b[0m \u001b[0;34m'buffer_paths'\u001b[0m\u001b[0;34m:\u001b[0m \u001b[0mbuffer_paths\u001b[0m\u001b[0;34m}\u001b[0m\u001b[0;34m\u001b[0m\u001b[0m\n\u001b[0;32m--> 482\u001b[0;31m             \u001b[0mself\u001b[0m\u001b[0;34m.\u001b[0m\u001b[0m_send\u001b[0m\u001b[0;34m(\u001b[0m\u001b[0mmsg\u001b[0m\u001b[0;34m,\u001b[0m \u001b[0mbuffers\u001b[0m\u001b[0;34m=\u001b[0m\u001b[0mbuffers\u001b[0m\u001b[0;34m)\u001b[0m\u001b[0;34m\u001b[0m\u001b[0m\n\u001b[0m\u001b[1;32m    483\u001b[0m \u001b[0;34m\u001b[0m\u001b[0m\n\u001b[1;32m    484\u001b[0m     \u001b[0;32mdef\u001b[0m \u001b[0mget_state\u001b[0m\u001b[0;34m(\u001b[0m\u001b[0mself\u001b[0m\u001b[0;34m,\u001b[0m \u001b[0mkey\u001b[0m\u001b[0;34m=\u001b[0m\u001b[0;32mNone\u001b[0m\u001b[0;34m,\u001b[0m \u001b[0mdrop_defaults\u001b[0m\u001b[0;34m=\u001b[0m\u001b[0;32mFalse\u001b[0m\u001b[0;34m)\u001b[0m\u001b[0;34m:\u001b[0m\u001b[0;34m\u001b[0m\u001b[0m\n",
      "\u001b[0;32m~/anaconda3/envs/ada/lib/python3.6/site-packages/ipywidgets/widgets/widget.py\u001b[0m in \u001b[0;36m_send\u001b[0;34m(self, msg, buffers)\u001b[0m\n\u001b[1;32m    723\u001b[0m         \u001b[0;34m\"\"\"Sends a message to the model in the front-end.\"\"\"\u001b[0m\u001b[0;34m\u001b[0m\u001b[0m\n\u001b[1;32m    724\u001b[0m         \u001b[0;32mif\u001b[0m \u001b[0mself\u001b[0m\u001b[0;34m.\u001b[0m\u001b[0mcomm\u001b[0m \u001b[0;32mis\u001b[0m \u001b[0;32mnot\u001b[0m \u001b[0;32mNone\u001b[0m \u001b[0;32mand\u001b[0m \u001b[0mself\u001b[0m\u001b[0;34m.\u001b[0m\u001b[0mcomm\u001b[0m\u001b[0;34m.\u001b[0m\u001b[0mkernel\u001b[0m \u001b[0;32mis\u001b[0m \u001b[0;32mnot\u001b[0m \u001b[0;32mNone\u001b[0m\u001b[0;34m:\u001b[0m\u001b[0;34m\u001b[0m\u001b[0m\n\u001b[0;32m--> 725\u001b[0;31m             \u001b[0mself\u001b[0m\u001b[0;34m.\u001b[0m\u001b[0mcomm\u001b[0m\u001b[0;34m.\u001b[0m\u001b[0msend\u001b[0m\u001b[0;34m(\u001b[0m\u001b[0mdata\u001b[0m\u001b[0;34m=\u001b[0m\u001b[0mmsg\u001b[0m\u001b[0;34m,\u001b[0m \u001b[0mbuffers\u001b[0m\u001b[0;34m=\u001b[0m\u001b[0mbuffers\u001b[0m\u001b[0;34m)\u001b[0m\u001b[0;34m\u001b[0m\u001b[0m\n\u001b[0m\u001b[1;32m    726\u001b[0m \u001b[0;34m\u001b[0m\u001b[0m\n\u001b[1;32m    727\u001b[0m     \u001b[0;32mdef\u001b[0m \u001b[0m_repr_keys\u001b[0m\u001b[0;34m(\u001b[0m\u001b[0mself\u001b[0m\u001b[0;34m)\u001b[0m\u001b[0;34m:\u001b[0m\u001b[0;34m\u001b[0m\u001b[0m\n",
      "\u001b[0;32m~/anaconda3/envs/ada/lib/python3.6/site-packages/ipykernel/comm/comm.py\u001b[0m in \u001b[0;36msend\u001b[0;34m(self, data, metadata, buffers)\u001b[0m\n\u001b[1;32m    119\u001b[0m         \u001b[0;34m\"\"\"Send a message to the frontend-side version of this comm\"\"\"\u001b[0m\u001b[0;34m\u001b[0m\u001b[0m\n\u001b[1;32m    120\u001b[0m         self._publish_msg('comm_msg',\n\u001b[0;32m--> 121\u001b[0;31m             \u001b[0mdata\u001b[0m\u001b[0;34m=\u001b[0m\u001b[0mdata\u001b[0m\u001b[0;34m,\u001b[0m \u001b[0mmetadata\u001b[0m\u001b[0;34m=\u001b[0m\u001b[0mmetadata\u001b[0m\u001b[0;34m,\u001b[0m \u001b[0mbuffers\u001b[0m\u001b[0;34m=\u001b[0m\u001b[0mbuffers\u001b[0m\u001b[0;34m,\u001b[0m\u001b[0;34m\u001b[0m\u001b[0m\n\u001b[0m\u001b[1;32m    122\u001b[0m         )\n\u001b[1;32m    123\u001b[0m \u001b[0;34m\u001b[0m\u001b[0m\n",
      "\u001b[0;32m~/anaconda3/envs/ada/lib/python3.6/site-packages/ipykernel/comm/comm.py\u001b[0m in \u001b[0;36m_publish_msg\u001b[0;34m(self, msg_type, data, metadata, buffers, **keys)\u001b[0m\n\u001b[1;32m     69\u001b[0m             \u001b[0mparent\u001b[0m\u001b[0;34m=\u001b[0m\u001b[0mself\u001b[0m\u001b[0;34m.\u001b[0m\u001b[0mkernel\u001b[0m\u001b[0;34m.\u001b[0m\u001b[0m_parent_header\u001b[0m\u001b[0;34m,\u001b[0m\u001b[0;34m\u001b[0m\u001b[0m\n\u001b[1;32m     70\u001b[0m             \u001b[0mident\u001b[0m\u001b[0;34m=\u001b[0m\u001b[0mself\u001b[0m\u001b[0;34m.\u001b[0m\u001b[0mtopic\u001b[0m\u001b[0;34m,\u001b[0m\u001b[0;34m\u001b[0m\u001b[0m\n\u001b[0;32m---> 71\u001b[0;31m             \u001b[0mbuffers\u001b[0m\u001b[0;34m=\u001b[0m\u001b[0mbuffers\u001b[0m\u001b[0;34m,\u001b[0m\u001b[0;34m\u001b[0m\u001b[0m\n\u001b[0m\u001b[1;32m     72\u001b[0m         )\n\u001b[1;32m     73\u001b[0m \u001b[0;34m\u001b[0m\u001b[0m\n",
      "\u001b[0;32m~/anaconda3/envs/ada/lib/python3.6/site-packages/jupyter_client/session.py\u001b[0m in \u001b[0;36msend\u001b[0;34m(self, stream, msg_or_type, content, parent, ident, buffers, track, header, metadata)\u001b[0m\n\u001b[1;32m    728\u001b[0m         \u001b[0;32mif\u001b[0m \u001b[0mself\u001b[0m\u001b[0;34m.\u001b[0m\u001b[0madapt_version\u001b[0m\u001b[0;34m:\u001b[0m\u001b[0;34m\u001b[0m\u001b[0m\n\u001b[1;32m    729\u001b[0m             \u001b[0mmsg\u001b[0m \u001b[0;34m=\u001b[0m \u001b[0madapt\u001b[0m\u001b[0;34m(\u001b[0m\u001b[0mmsg\u001b[0m\u001b[0;34m,\u001b[0m \u001b[0mself\u001b[0m\u001b[0;34m.\u001b[0m\u001b[0madapt_version\u001b[0m\u001b[0;34m)\u001b[0m\u001b[0;34m\u001b[0m\u001b[0m\n\u001b[0;32m--> 730\u001b[0;31m         \u001b[0mto_send\u001b[0m \u001b[0;34m=\u001b[0m \u001b[0mself\u001b[0m\u001b[0;34m.\u001b[0m\u001b[0mserialize\u001b[0m\u001b[0;34m(\u001b[0m\u001b[0mmsg\u001b[0m\u001b[0;34m,\u001b[0m \u001b[0mident\u001b[0m\u001b[0;34m)\u001b[0m\u001b[0;34m\u001b[0m\u001b[0m\n\u001b[0m\u001b[1;32m    731\u001b[0m         \u001b[0mto_send\u001b[0m\u001b[0;34m.\u001b[0m\u001b[0mextend\u001b[0m\u001b[0;34m(\u001b[0m\u001b[0mbuffers\u001b[0m\u001b[0;34m)\u001b[0m\u001b[0;34m\u001b[0m\u001b[0m\n\u001b[1;32m    732\u001b[0m         \u001b[0mlongest\u001b[0m \u001b[0;34m=\u001b[0m \u001b[0mmax\u001b[0m\u001b[0;34m(\u001b[0m\u001b[0;34m[\u001b[0m \u001b[0mlen\u001b[0m\u001b[0;34m(\u001b[0m\u001b[0ms\u001b[0m\u001b[0;34m)\u001b[0m \u001b[0;32mfor\u001b[0m \u001b[0ms\u001b[0m \u001b[0;32min\u001b[0m \u001b[0mto_send\u001b[0m \u001b[0;34m]\u001b[0m\u001b[0;34m)\u001b[0m\u001b[0;34m\u001b[0m\u001b[0m\n",
      "\u001b[0;32m~/anaconda3/envs/ada/lib/python3.6/site-packages/jupyter_client/session.py\u001b[0m in \u001b[0;36mserialize\u001b[0;34m(self, msg, ident)\u001b[0m\n\u001b[1;32m    623\u001b[0m             \u001b[0mcontent\u001b[0m \u001b[0;34m=\u001b[0m \u001b[0mself\u001b[0m\u001b[0;34m.\u001b[0m\u001b[0mnone\u001b[0m\u001b[0;34m\u001b[0m\u001b[0m\n\u001b[1;32m    624\u001b[0m         \u001b[0;32melif\u001b[0m \u001b[0misinstance\u001b[0m\u001b[0;34m(\u001b[0m\u001b[0mcontent\u001b[0m\u001b[0;34m,\u001b[0m \u001b[0mdict\u001b[0m\u001b[0;34m)\u001b[0m\u001b[0;34m:\u001b[0m\u001b[0;34m\u001b[0m\u001b[0m\n\u001b[0;32m--> 625\u001b[0;31m             \u001b[0mcontent\u001b[0m \u001b[0;34m=\u001b[0m \u001b[0mself\u001b[0m\u001b[0;34m.\u001b[0m\u001b[0mpack\u001b[0m\u001b[0;34m(\u001b[0m\u001b[0mcontent\u001b[0m\u001b[0;34m)\u001b[0m\u001b[0;34m\u001b[0m\u001b[0m\n\u001b[0m\u001b[1;32m    626\u001b[0m         \u001b[0;32melif\u001b[0m \u001b[0misinstance\u001b[0m\u001b[0;34m(\u001b[0m\u001b[0mcontent\u001b[0m\u001b[0;34m,\u001b[0m \u001b[0mbytes\u001b[0m\u001b[0;34m)\u001b[0m\u001b[0;34m:\u001b[0m\u001b[0;34m\u001b[0m\u001b[0m\n\u001b[1;32m    627\u001b[0m             \u001b[0;31m# content is already packed, as in a relayed message\u001b[0m\u001b[0;34m\u001b[0m\u001b[0;34m\u001b[0m\u001b[0m\n",
      "\u001b[0;32m~/anaconda3/envs/ada/lib/python3.6/site-packages/jupyter_client/session.py\u001b[0m in \u001b[0;36m<lambda>\u001b[0;34m(obj)\u001b[0m\n\u001b[1;32m    101\u001b[0m \u001b[0;31m# disallow nan, because it's not actually valid JSON\u001b[0m\u001b[0;34m\u001b[0m\u001b[0;34m\u001b[0m\u001b[0m\n\u001b[1;32m    102\u001b[0m json_packer = lambda obj: jsonapi.dumps(obj, default=date_default,\n\u001b[0;32m--> 103\u001b[0;31m     \u001b[0mensure_ascii\u001b[0m\u001b[0;34m=\u001b[0m\u001b[0;32mFalse\u001b[0m\u001b[0;34m,\u001b[0m \u001b[0mallow_nan\u001b[0m\u001b[0;34m=\u001b[0m\u001b[0;32mFalse\u001b[0m\u001b[0;34m,\u001b[0m\u001b[0;34m\u001b[0m\u001b[0m\n\u001b[0m\u001b[1;32m    104\u001b[0m )\n\u001b[1;32m    105\u001b[0m \u001b[0mjson_unpacker\u001b[0m \u001b[0;34m=\u001b[0m \u001b[0;32mlambda\u001b[0m \u001b[0ms\u001b[0m\u001b[0;34m:\u001b[0m \u001b[0mjsonapi\u001b[0m\u001b[0;34m.\u001b[0m\u001b[0mloads\u001b[0m\u001b[0;34m(\u001b[0m\u001b[0ms\u001b[0m\u001b[0;34m)\u001b[0m\u001b[0;34m\u001b[0m\u001b[0m\n",
      "\u001b[0;32m~/anaconda3/envs/ada/lib/python3.6/site-packages/zmq/utils/jsonapi.py\u001b[0m in \u001b[0;36mdumps\u001b[0;34m(o, **kwargs)\u001b[0m\n\u001b[1;32m     40\u001b[0m     \u001b[0ms\u001b[0m \u001b[0;34m=\u001b[0m \u001b[0mjsonmod\u001b[0m\u001b[0;34m.\u001b[0m\u001b[0mdumps\u001b[0m\u001b[0;34m(\u001b[0m\u001b[0mo\u001b[0m\u001b[0;34m,\u001b[0m \u001b[0;34m**\u001b[0m\u001b[0mkwargs\u001b[0m\u001b[0;34m)\u001b[0m\u001b[0;34m\u001b[0m\u001b[0m\n\u001b[1;32m     41\u001b[0m \u001b[0;34m\u001b[0m\u001b[0m\n\u001b[0;32m---> 42\u001b[0;31m     \u001b[0;32mif\u001b[0m \u001b[0misinstance\u001b[0m\u001b[0;34m(\u001b[0m\u001b[0ms\u001b[0m\u001b[0;34m,\u001b[0m \u001b[0municode\u001b[0m\u001b[0;34m)\u001b[0m\u001b[0;34m:\u001b[0m\u001b[0;34m\u001b[0m\u001b[0m\n\u001b[0m\u001b[1;32m     43\u001b[0m         \u001b[0ms\u001b[0m \u001b[0;34m=\u001b[0m \u001b[0ms\u001b[0m\u001b[0;34m.\u001b[0m\u001b[0mencode\u001b[0m\u001b[0;34m(\u001b[0m\u001b[0;34m'utf8'\u001b[0m\u001b[0;34m)\u001b[0m\u001b[0;34m\u001b[0m\u001b[0m\n\u001b[1;32m     44\u001b[0m \u001b[0;34m\u001b[0m\u001b[0m\n",
      "\u001b[0;31mKeyboardInterrupt\u001b[0m: "
     ]
    }
   ],
   "source": [
    "books_meta_lines = data.read_data(\"meta_Books\", 2370585)\n",
    "distinct_categories = set()\n",
    "sales_rank_min = 100000000\n",
    "sales_rank_max = 0\n",
    "sales_rank_total = 0\n",
    "sales_rank_count = 0\n",
    "title_count = 0\n",
    "description_count = 0\n",
    "price_count = 0\n",
    "price_total = 0\n",
    "related_count = 0\n",
    "for book_line in books_meta_lines:\n",
    "    for c in book_line[\"categories\"]:\n",
    "        for v in c:\n",
    "            distinct_categories.add(v)\n",
    "    if \"salesRank\" in book_line:\n",
    "        sales_rank_count+=1\n",
    "        s_rank = book_line[\"salesRank\"][\"Books\"]\n",
    "        sales_rank_total += s_rank\n",
    "        sales_rank_max = s_rank if s_rank > sales_rank_max else sales_rank_max\n",
    "        sales_rank_min = s_rank if s_rank < sales_rank_min else sales_rank_min\n",
    "    title_count += 1 if \"title\" in book_line else 0\n",
    "    description_count += 1 if \"description\" in book_line else 0\n",
    "    if \"price\" in book_line:\n",
    "        price_count += 1\n",
    "        price_total += book_line[\"price\"]\n",
    "    related_count += 1 if \"related\" in book_line else 0"
   ]
  },
  {
   "cell_type": "markdown",
   "metadata": {},
   "source": [
    "We then get the following results (we made multiple computations in different times, without launching the dataframe computation each time, so we show here a summary): "
   ]
  },
  {
   "cell_type": "code",
   "execution_count": 10,
   "metadata": {},
   "outputs": [
    {
     "data": {
      "text/html": [
       "<div>\n",
       "<style>\n",
       "    .dataframe thead tr:only-child th {\n",
       "        text-align: right;\n",
       "    }\n",
       "\n",
       "    .dataframe thead th {\n",
       "        text-align: left;\n",
       "    }\n",
       "\n",
       "    .dataframe tbody tr th {\n",
       "        vertical-align: top;\n",
       "    }\n",
       "</style>\n",
       "<table border=\"1\" class=\"dataframe\">\n",
       "  <thead>\n",
       "    <tr style=\"text-align: right;\">\n",
       "      <th></th>\n",
       "      <th>Name</th>\n",
       "      <th>Mean</th>\n",
       "      <th>Count</th>\n",
       "      <th>Count (%)</th>\n",
       "      <th>Min</th>\n",
       "      <th>Max</th>\n",
       "    </tr>\n",
       "  </thead>\n",
       "  <tbody>\n",
       "    <tr>\n",
       "      <th>0</th>\n",
       "      <td>Price</td>\n",
       "      <td>1.762631e+01</td>\n",
       "      <td>1679410</td>\n",
       "      <td>70.843695</td>\n",
       "      <td>NaN</td>\n",
       "      <td>NaN</td>\n",
       "    </tr>\n",
       "    <tr>\n",
       "      <th>1</th>\n",
       "      <td>Sales rank</td>\n",
       "      <td>2.837318e+06</td>\n",
       "      <td>1891017</td>\n",
       "      <td>79.770057</td>\n",
       "      <td>1.0</td>\n",
       "      <td>14690268.0</td>\n",
       "    </tr>\n",
       "    <tr>\n",
       "      <th>2</th>\n",
       "      <td>Title</td>\n",
       "      <td>NaN</td>\n",
       "      <td>1938767</td>\n",
       "      <td>81.784327</td>\n",
       "      <td>NaN</td>\n",
       "      <td>NaN</td>\n",
       "    </tr>\n",
       "    <tr>\n",
       "      <th>3</th>\n",
       "      <td>Description</td>\n",
       "      <td>NaN</td>\n",
       "      <td>1121358</td>\n",
       "      <td>47.303007</td>\n",
       "      <td>NaN</td>\n",
       "      <td>NaN</td>\n",
       "    </tr>\n",
       "    <tr>\n",
       "      <th>4</th>\n",
       "      <td>Related</td>\n",
       "      <td>NaN</td>\n",
       "      <td>1620429</td>\n",
       "      <td>68.355659</td>\n",
       "      <td>NaN</td>\n",
       "      <td>NaN</td>\n",
       "    </tr>\n",
       "  </tbody>\n",
       "</table>\n",
       "</div>"
      ],
      "text/plain": [
       "          Name          Mean    Count  Count (%)  Min         Max\n",
       "0        Price  1.762631e+01  1679410  70.843695  NaN         NaN\n",
       "1   Sales rank  2.837318e+06  1891017  79.770057  1.0  14690268.0\n",
       "2        Title           NaN  1938767  81.784327  NaN         NaN\n",
       "3  Description           NaN  1121358  47.303007  NaN         NaN\n",
       "4      Related           NaN  1620429  68.355659  NaN         NaN"
      ]
     },
     "execution_count": 10,
     "metadata": {},
     "output_type": "execute_result"
    }
   ],
   "source": [
    "meta_books_headers = [\"Name\",\"Mean\",\"Count\",\"Count (%)\",\"Min\",\"Max\"]\n",
    "meta_books_results = [[\"Price\",17.62630714920411,1679410,70.84369469983147],\n",
    "                      [\"Sales rank\",2837317.7674769713,1891017,79.77005675814198,1,14690268],\n",
    "                      [\"Title\",None,1938767,81.78432749722116],\n",
    "                      [\"Description\",None,1121358,47.303007485494085],\n",
    "                       [\"Related\",None,1620429,68.3556590461848]\n",
    "                     ]\n",
    "pd.DataFrame(meta_books_results,columns=meta_books_headers)"
   ]
  },
  {
   "cell_type": "markdown",
   "metadata": {},
   "source": [
    "There are also `3935` distincts categories, containing obivously `Books`"
   ]
  },
  {
   "cell_type": "markdown",
   "metadata": {},
   "source": [
    "We can notice that we have a lot of titles here, so our project is still viable for now. We also see that we have the number 1 of books sale, meaning it will probably have a lot of reviews and will be interesting to analyse.\n"
   ]
  },
  {
   "cell_type": "markdown",
   "metadata": {},
   "source": [
    "### Movies reviews"
   ]
  },
  {
   "cell_type": "markdown",
   "metadata": {},
   "source": [
    "* Number of lines : ```wc -l reviews_Movies_and_TV.json 4607047 reviews_Movies_and_TV.json```\n",
    "* The features are the same than those of Books reviews, please see there the decription"
   ]
  },
  {
   "cell_type": "code",
   "execution_count": 6,
   "metadata": {},
   "outputs": [
    {
     "data": {
      "application/vnd.jupyter.widget-view+json": {
       "model_id": "2d0f9168838140f785e4cb322be9a696",
       "version_major": 2,
       "version_minor": 0
      },
      "text/html": [
       "<p>Failed to display Jupyter Widget of type <code>FloatProgress</code>.</p>\n",
       "<p>\n",
       "  If you're reading this message in Jupyter Notebook or JupyterLab, it may mean\n",
       "  that the widgets JavaScript is still loading. If this message persists, it\n",
       "  likely means that the widgets JavaScript library is either not installed or\n",
       "  not enabled. See the <a href=\"https://ipywidgets.readthedocs.io/en/stable/user_install.html\">Jupyter\n",
       "  Widgets Documentation</a> for setup instructions.\n",
       "</p>\n",
       "<p>\n",
       "  If you're reading this message in another notebook frontend (for example, a static\n",
       "  rendering on GitHub or <a href=\"https://nbviewer.jupyter.org/\">NBViewer</a>),\n",
       "  it may mean that your frontend doesn't currently support widgets.\n",
       "</p>\n"
      ],
      "text/plain": [
       "FloatProgress(value=0.0, max=5.0)"
      ]
     },
     "metadata": {},
     "output_type": "display_data"
    },
    {
     "data": {
      "text/html": [
       "<div>\n",
       "<style>\n",
       "    .dataframe thead tr:only-child th {\n",
       "        text-align: right;\n",
       "    }\n",
       "\n",
       "    .dataframe thead th {\n",
       "        text-align: left;\n",
       "    }\n",
       "\n",
       "    .dataframe tbody tr th {\n",
       "        vertical-align: top;\n",
       "    }\n",
       "</style>\n",
       "<table border=\"1\" class=\"dataframe\">\n",
       "  <thead>\n",
       "    <tr style=\"text-align: right;\">\n",
       "      <th></th>\n",
       "      <th>reviewerID</th>\n",
       "      <th>asin</th>\n",
       "      <th>reviewerName</th>\n",
       "      <th>helpful</th>\n",
       "      <th>reviewText</th>\n",
       "      <th>overall</th>\n",
       "      <th>summary</th>\n",
       "      <th>unixReviewTime</th>\n",
       "      <th>reviewTime</th>\n",
       "    </tr>\n",
       "  </thead>\n",
       "  <tbody>\n",
       "    <tr>\n",
       "      <th>0</th>\n",
       "      <td>A3R5OBKS7OM2IR</td>\n",
       "      <td>0000143502</td>\n",
       "      <td>Rebecca L. Johnson</td>\n",
       "      <td>[0, 0]</td>\n",
       "      <td>This has some great tips as always and is help...</td>\n",
       "      <td>5.0</td>\n",
       "      <td>Alton... nough said</td>\n",
       "      <td>1358380800</td>\n",
       "      <td>01 17, 2013</td>\n",
       "    </tr>\n",
       "    <tr>\n",
       "      <th>1</th>\n",
       "      <td>A3R5OBKS7OM2IR</td>\n",
       "      <td>0000143529</td>\n",
       "      <td>Rebecca L. Johnson</td>\n",
       "      <td>[0, 0]</td>\n",
       "      <td>This is a great pastry guide.  I love how Alto...</td>\n",
       "      <td>5.0</td>\n",
       "      <td>Ah Alton...</td>\n",
       "      <td>1380672000</td>\n",
       "      <td>10 2, 2013</td>\n",
       "    </tr>\n",
       "    <tr>\n",
       "      <th>2</th>\n",
       "      <td>AH3QC2PC1VTGP</td>\n",
       "      <td>0000143561</td>\n",
       "      <td>Great Home Cook</td>\n",
       "      <td>[2, 4]</td>\n",
       "      <td>I have to admit that I am a fan of Giada's coo...</td>\n",
       "      <td>2.0</td>\n",
       "      <td>Don't waste your money</td>\n",
       "      <td>1216252800</td>\n",
       "      <td>07 17, 2008</td>\n",
       "    </tr>\n",
       "    <tr>\n",
       "      <th>3</th>\n",
       "      <td>A3LKP6WPMP9UKX</td>\n",
       "      <td>0000143588</td>\n",
       "      <td>Anna V. Carroll</td>\n",
       "      <td>[9, 9]</td>\n",
       "      <td>I bought these two volumes new and spent over ...</td>\n",
       "      <td>5.0</td>\n",
       "      <td>VOLUME 1 &amp; VOLUME 2-BETTER THAN THERAPY</td>\n",
       "      <td>1236902400</td>\n",
       "      <td>03 13, 2009</td>\n",
       "    </tr>\n",
       "    <tr>\n",
       "      <th>4</th>\n",
       "      <td>AVIY68KEPQ5ZD</td>\n",
       "      <td>0000143588</td>\n",
       "      <td>Rebecca Millington</td>\n",
       "      <td>[1, 4]</td>\n",
       "      <td>I am very pleased with the dvd only wish i cou...</td>\n",
       "      <td>5.0</td>\n",
       "      <td>Barefoot Contesst Vol 2</td>\n",
       "      <td>1232236800</td>\n",
       "      <td>01 18, 2009</td>\n",
       "    </tr>\n",
       "  </tbody>\n",
       "</table>\n",
       "</div>"
      ],
      "text/plain": [
       "       reviewerID        asin        reviewerName helpful  \\\n",
       "0  A3R5OBKS7OM2IR  0000143502  Rebecca L. Johnson  [0, 0]   \n",
       "1  A3R5OBKS7OM2IR  0000143529  Rebecca L. Johnson  [0, 0]   \n",
       "2   AH3QC2PC1VTGP  0000143561     Great Home Cook  [2, 4]   \n",
       "3  A3LKP6WPMP9UKX  0000143588     Anna V. Carroll  [9, 9]   \n",
       "4   AVIY68KEPQ5ZD  0000143588  Rebecca Millington  [1, 4]   \n",
       "\n",
       "                                          reviewText  overall  \\\n",
       "0  This has some great tips as always and is help...      5.0   \n",
       "1  This is a great pastry guide.  I love how Alto...      5.0   \n",
       "2  I have to admit that I am a fan of Giada's coo...      2.0   \n",
       "3  I bought these two volumes new and spent over ...      5.0   \n",
       "4  I am very pleased with the dvd only wish i cou...      5.0   \n",
       "\n",
       "                                   summary  unixReviewTime   reviewTime  \n",
       "0                      Alton... nough said      1358380800  01 17, 2013  \n",
       "1                              Ah Alton...      1380672000   10 2, 2013  \n",
       "2                   Don't waste your money      1216252800  07 17, 2008  \n",
       "3  VOLUME 1 & VOLUME 2-BETTER THAN THERAPY      1236902400  03 13, 2009  \n",
       "4                  Barefoot Contesst Vol 2      1232236800  01 18, 2009  "
      ]
     },
     "execution_count": 6,
     "metadata": {},
     "output_type": "execute_result"
    }
   ],
   "source": [
    "movies_reviews_lines = data.read_data(\"reviews_Movies_and_TV\", 5)\n",
    "df = {}\n",
    "i=0\n",
    "for movie_line in movies_reviews_lines:\n",
    "    df[i]=movie_line\n",
    "    i+=1\n",
    "pd.DataFrame.from_dict(df,orient='index')"
   ]
  },
  {
   "cell_type": "markdown",
   "metadata": {},
   "source": [
    "We will have the same approach than for book files, here we could have loaded the whole file in memory and worked with pandas but for the description this is not useful"
   ]
  },
  {
   "cell_type": "markdown",
   "metadata": {},
   "source": [
    "Results : \n",
    "* Number of distinct reviewers : 2088620 (45.33 % of total) :  a reviewer give 2.2 reviews in mean\n",
    "* Number of distinct products :  200941  (4.36 % of total ) : 22.9 reviews per product\n",
    "* Helpful mean (without 0/0) : 0.6132033945128144\n",
    "* Non rated hepfulness (0/0) : 1967621 (42.71% of total)\n",
    "* Overall mean : 4.18688001229421\n",
    "* Max unix Time : 1406073600 : Wednesday, July 23, 2014 \n",
    "* Min unix Time : 871084800 : Saturday, August 9, 1997\n",
    "\n",
    "There are clearly less distinct products (as a percentage) than for the books, so we should have more reviews per product. We can also notice a high mean for overall mean but slightly worse than for books. "
   ]
  },
  {
   "cell_type": "markdown",
   "metadata": {},
   "source": [
    "### Movies metadata"
   ]
  },
  {
   "cell_type": "markdown",
   "metadata": {},
   "source": [
    "* Number of lines : `wc -l meta_Movies_and_TV.json  208321 meta_Movies_and_TV.json`\n",
    "* The features are the same than those of Books metadata, please see there the description"
   ]
  },
  {
   "cell_type": "code",
   "execution_count": 7,
   "metadata": {},
   "outputs": [
    {
     "data": {
      "application/vnd.jupyter.widget-view+json": {
       "model_id": "b45f2c1d80ca4939a2b6909a0672fd73",
       "version_major": 2,
       "version_minor": 0
      },
      "text/html": [
       "<p>Failed to display Jupyter Widget of type <code>FloatProgress</code>.</p>\n",
       "<p>\n",
       "  If you're reading this message in Jupyter Notebook or JupyterLab, it may mean\n",
       "  that the widgets JavaScript is still loading. If this message persists, it\n",
       "  likely means that the widgets JavaScript library is either not installed or\n",
       "  not enabled. See the <a href=\"https://ipywidgets.readthedocs.io/en/stable/user_install.html\">Jupyter\n",
       "  Widgets Documentation</a> for setup instructions.\n",
       "</p>\n",
       "<p>\n",
       "  If you're reading this message in another notebook frontend (for example, a static\n",
       "  rendering on GitHub or <a href=\"https://nbviewer.jupyter.org/\">NBViewer</a>),\n",
       "  it may mean that your frontend doesn't currently support widgets.\n",
       "</p>\n"
      ],
      "text/plain": [
       "FloatProgress(value=0.0, max=5.0)"
      ]
     },
     "metadata": {},
     "output_type": "display_data"
    },
    {
     "data": {
      "text/html": [
       "<div>\n",
       "<style>\n",
       "    .dataframe thead tr:only-child th {\n",
       "        text-align: right;\n",
       "    }\n",
       "\n",
       "    .dataframe thead th {\n",
       "        text-align: left;\n",
       "    }\n",
       "\n",
       "    .dataframe tbody tr th {\n",
       "        vertical-align: top;\n",
       "    }\n",
       "</style>\n",
       "<table border=\"1\" class=\"dataframe\">\n",
       "  <thead>\n",
       "    <tr style=\"text-align: right;\">\n",
       "      <th></th>\n",
       "      <th>asin</th>\n",
       "      <th>categories</th>\n",
       "      <th>description</th>\n",
       "      <th>title</th>\n",
       "      <th>price</th>\n",
       "      <th>salesRank</th>\n",
       "      <th>imUrl</th>\n",
       "      <th>related</th>\n",
       "    </tr>\n",
       "  </thead>\n",
       "  <tbody>\n",
       "    <tr>\n",
       "      <th>0</th>\n",
       "      <td>0000143561</td>\n",
       "      <td>[[Movies &amp; TV, Movies]]</td>\n",
       "      <td>3Pack DVD set - Italian Classics, Parties and ...</td>\n",
       "      <td>Everyday Italian (with Giada de Laurentiis), V...</td>\n",
       "      <td>12.99</td>\n",
       "      <td>{'Movies &amp; TV': 376041}</td>\n",
       "      <td>http://g-ecx.images-amazon.com/images/G/01/x-s...</td>\n",
       "      <td>{'also_viewed': ['B0036FO6SI', 'B000KL8ODE', '...</td>\n",
       "    </tr>\n",
       "    <tr>\n",
       "      <th>1</th>\n",
       "      <td>0000589012</td>\n",
       "      <td>[[Movies &amp; TV, Movies]]</td>\n",
       "      <td>NaN</td>\n",
       "      <td>Why Don't They Just Quit? DVD Roundtable Discu...</td>\n",
       "      <td>15.95</td>\n",
       "      <td>{'Movies &amp; TV': 1084845}</td>\n",
       "      <td>http://ecx.images-amazon.com/images/I/519%2B1k...</td>\n",
       "      <td>{'also_bought': ['B000Z3N1HQ', '0578045427', '...</td>\n",
       "    </tr>\n",
       "    <tr>\n",
       "      <th>2</th>\n",
       "      <td>0000695009</td>\n",
       "      <td>[[Movies &amp; TV, Movies]]</td>\n",
       "      <td>NaN</td>\n",
       "      <td>Understanding Seizures and Epilepsy DVD</td>\n",
       "      <td>NaN</td>\n",
       "      <td>{'Movies &amp; TV': 1022732}</td>\n",
       "      <td>http://g-ecx.images-amazon.com/images/G/01/x-s...</td>\n",
       "      <td>NaN</td>\n",
       "    </tr>\n",
       "    <tr>\n",
       "      <th>3</th>\n",
       "      <td>000107461X</td>\n",
       "      <td>[[Movies &amp; TV, Movies]]</td>\n",
       "      <td>NaN</td>\n",
       "      <td>Live in Houston [VHS]</td>\n",
       "      <td>NaN</td>\n",
       "      <td>{'Movies &amp; TV': 954116}</td>\n",
       "      <td>http://ecx.images-amazon.com/images/I/41WY47gL...</td>\n",
       "      <td>NaN</td>\n",
       "    </tr>\n",
       "    <tr>\n",
       "      <th>4</th>\n",
       "      <td>0000143529</td>\n",
       "      <td>[[Movies &amp; TV, Movies]]</td>\n",
       "      <td>Disc 1: Flour Power (Scones; Shortcakes; South...</td>\n",
       "      <td>My Fair Pastry (Good Eats Vol. 9)</td>\n",
       "      <td>19.99</td>\n",
       "      <td>{'Movies &amp; TV': 463562}</td>\n",
       "      <td>http://ecx.images-amazon.com/images/I/51QY79CD...</td>\n",
       "      <td>{'also_bought': ['B000NR4CRM', 'B0019BK3KQ', '...</td>\n",
       "    </tr>\n",
       "  </tbody>\n",
       "</table>\n",
       "</div>"
      ],
      "text/plain": [
       "         asin               categories  \\\n",
       "0  0000143561  [[Movies & TV, Movies]]   \n",
       "1  0000589012  [[Movies & TV, Movies]]   \n",
       "2  0000695009  [[Movies & TV, Movies]]   \n",
       "3  000107461X  [[Movies & TV, Movies]]   \n",
       "4  0000143529  [[Movies & TV, Movies]]   \n",
       "\n",
       "                                         description  \\\n",
       "0  3Pack DVD set - Italian Classics, Parties and ...   \n",
       "1                                                NaN   \n",
       "2                                                NaN   \n",
       "3                                                NaN   \n",
       "4  Disc 1: Flour Power (Scones; Shortcakes; South...   \n",
       "\n",
       "                                               title  price  \\\n",
       "0  Everyday Italian (with Giada de Laurentiis), V...  12.99   \n",
       "1  Why Don't They Just Quit? DVD Roundtable Discu...  15.95   \n",
       "2            Understanding Seizures and Epilepsy DVD    NaN   \n",
       "3                              Live in Houston [VHS]    NaN   \n",
       "4                  My Fair Pastry (Good Eats Vol. 9)  19.99   \n",
       "\n",
       "                  salesRank  \\\n",
       "0   {'Movies & TV': 376041}   \n",
       "1  {'Movies & TV': 1084845}   \n",
       "2  {'Movies & TV': 1022732}   \n",
       "3   {'Movies & TV': 954116}   \n",
       "4   {'Movies & TV': 463562}   \n",
       "\n",
       "                                               imUrl  \\\n",
       "0  http://g-ecx.images-amazon.com/images/G/01/x-s...   \n",
       "1  http://ecx.images-amazon.com/images/I/519%2B1k...   \n",
       "2  http://g-ecx.images-amazon.com/images/G/01/x-s...   \n",
       "3  http://ecx.images-amazon.com/images/I/41WY47gL...   \n",
       "4  http://ecx.images-amazon.com/images/I/51QY79CD...   \n",
       "\n",
       "                                             related  \n",
       "0  {'also_viewed': ['B0036FO6SI', 'B000KL8ODE', '...  \n",
       "1  {'also_bought': ['B000Z3N1HQ', '0578045427', '...  \n",
       "2                                                NaN  \n",
       "3                                                NaN  \n",
       "4  {'also_bought': ['B000NR4CRM', 'B0019BK3KQ', '...  "
      ]
     },
     "execution_count": 7,
     "metadata": {},
     "output_type": "execute_result"
    }
   ],
   "source": [
    "movies_meta_lines = data.read_data(\"meta_Movies_and_TV\", 5)\n",
    "df = {}\n",
    "i=0\n",
    "for movie_line in movies_meta_lines:\n",
    "    df[i]=movie_line\n",
    "    i+=1\n",
    "pd.DataFrame.from_dict(df,orient='index')"
   ]
  },
  {
   "cell_type": "code",
   "execution_count": 11,
   "metadata": {},
   "outputs": [
    {
     "data": {
      "text/html": [
       "<div>\n",
       "<style>\n",
       "    .dataframe thead tr:only-child th {\n",
       "        text-align: right;\n",
       "    }\n",
       "\n",
       "    .dataframe thead th {\n",
       "        text-align: left;\n",
       "    }\n",
       "\n",
       "    .dataframe tbody tr th {\n",
       "        vertical-align: top;\n",
       "    }\n",
       "</style>\n",
       "<table border=\"1\" class=\"dataframe\">\n",
       "  <thead>\n",
       "    <tr style=\"text-align: right;\">\n",
       "      <th></th>\n",
       "      <th>Name</th>\n",
       "      <th>Mean</th>\n",
       "      <th>Count</th>\n",
       "      <th>Count (%)</th>\n",
       "      <th>Min</th>\n",
       "      <th>Max</th>\n",
       "    </tr>\n",
       "  </thead>\n",
       "  <tbody>\n",
       "    <tr>\n",
       "      <th>0</th>\n",
       "      <td>Price</td>\n",
       "      <td>23.486895</td>\n",
       "      <td>155623</td>\n",
       "      <td>74.703462</td>\n",
       "      <td>NaN</td>\n",
       "      <td>NaN</td>\n",
       "    </tr>\n",
       "    <tr>\n",
       "      <th>1</th>\n",
       "      <td>Sales rank</td>\n",
       "      <td>391833.303516</td>\n",
       "      <td>204777</td>\n",
       "      <td>98.298779</td>\n",
       "      <td>11.0</td>\n",
       "      <td>1149966.0</td>\n",
       "    </tr>\n",
       "    <tr>\n",
       "      <th>2</th>\n",
       "      <td>Title</td>\n",
       "      <td>NaN</td>\n",
       "      <td>107671</td>\n",
       "      <td>51.685140</td>\n",
       "      <td>NaN</td>\n",
       "      <td>NaN</td>\n",
       "    </tr>\n",
       "    <tr>\n",
       "      <th>3</th>\n",
       "      <td>Description</td>\n",
       "      <td>NaN</td>\n",
       "      <td>178086</td>\n",
       "      <td>85.486341</td>\n",
       "      <td>NaN</td>\n",
       "      <td>NaN</td>\n",
       "    </tr>\n",
       "    <tr>\n",
       "      <th>4</th>\n",
       "      <td>Related</td>\n",
       "      <td>NaN</td>\n",
       "      <td>154859</td>\n",
       "      <td>74.336721</td>\n",
       "      <td>NaN</td>\n",
       "      <td>NaN</td>\n",
       "    </tr>\n",
       "  </tbody>\n",
       "</table>\n",
       "</div>"
      ],
      "text/plain": [
       "          Name           Mean   Count  Count (%)   Min        Max\n",
       "0        Price      23.486895  155623  74.703462   NaN        NaN\n",
       "1   Sales rank  391833.303516  204777  98.298779  11.0  1149966.0\n",
       "2        Title            NaN  107671  51.685140   NaN        NaN\n",
       "3  Description            NaN  178086  85.486341   NaN        NaN\n",
       "4      Related            NaN  154859  74.336721   NaN        NaN"
      ]
     },
     "execution_count": 11,
     "metadata": {},
     "output_type": "execute_result"
    }
   ],
   "source": [
    "meta_books_headers = [\"Name\",\"Mean\",\"Count\",\"Count (%)\",\"Min\",\"Max\"]\n",
    "meta_books_results = [[\"Price\",23.48689486774547,155623,74.70346244497674],\n",
    "                      [\"Sales rank\",391833.30351553153,204777,98.29877928773384,11,1149966],\n",
    "                      [\"Title\",None,107671,51.685139760273806],\n",
    "                      [\"Description\",None,178086,85.48634079137484],\n",
    "                       [\"Related\",None,154859,74.33672073386745]\n",
    "                     ]\n",
    "pd.DataFrame(meta_books_results,columns=meta_books_headers)"
   ]
  },
  {
   "cell_type": "markdown",
   "metadata": {},
   "source": [
    "We have clearly less titles for the movies and this might be restrictive if too much of this titles are not connected to books. \n",
    "It is a bit weird to have the product description and not its title.\n",
    "Once again there are many categories (786)"
   ]
  },
  {
   "cell_type": "markdown",
   "metadata": {},
   "source": [
    "## Matching books and movies"
   ]
  },
  {
   "cell_type": "markdown",
   "metadata": {},
   "source": [
    "We will do the matching between books and movies from the metadata titles, then once we have the interesting products we will merge the metadata and reviews (once for books, once for movies) for the mathcing products. \n",
    "Finally we will be able to make our compared analysis"
   ]
  },
  {
   "cell_type": "markdown",
   "metadata": {},
   "source": [
    "For this milestone, we decided to focus on known associations of books and movies, we might consider matching products from both categories with other techniques for the final project. \n",
    "\n",
    "To obtain a list of association books-movies we decided to parse the [Wikipedia pages](https://en.wikipedia.org/wiki/Lists_of_fiction_works_made_into_feature_films) in this subject. \n",
    "Those pages are separated in 4 pages, depending on the book first letter."
   ]
  },
  {
   "cell_type": "code",
   "execution_count": 20,
   "metadata": {},
   "outputs": [],
   "source": [
    "def get_dict_titles(urlList):\n",
    "    titles = {}\n",
    "    for url in urlList:\n",
    "        r = requests.get(url)\n",
    "        soup = BeautifulSoup(r.text,\"html5lib\")\n",
    "        tables = soup.findAll(\"table\", {\"class\": \"wikitable\"})\n",
    "        for table in tables:\n",
    "            for row in table.findAll(\"tr\"):\n",
    "                cells = row.findAll(\"td\")\n",
    "                if len(cells) == 2:\n",
    "                    movie_data = cells[1].findAll(text=True)\n",
    "                    movie_titles = [movie_data[0]]\n",
    "                    movie_titles_mult = [value for index, value in enumerate(\n",
    "                        movie_data) if movie_data[(index - 1) % len(movie_data)] == '\\n']\n",
    "                    titles[cells[0].find(text=True)] = list(\n",
    "                        set(movie_titles + movie_titles_mult))\n",
    "    return titles"
   ]
  },
  {
   "cell_type": "code",
   "execution_count": 22,
   "metadata": {},
   "outputs": [],
   "source": [
    "urlList = [\"https://en.wikipedia.org/wiki/List_of_fiction_works_made_into_feature_films_(0%E2%80%939_and_A%E2%80%93C)\",\n",
    "           \"https://en.wikipedia.org/wiki/List_of_fiction_works_made_into_feature_films_(D%E2%80%93J)\",\n",
    "           \"https://en.wikipedia.org/wiki/List_of_fiction_works_made_into_feature_films_(K%E2%80%93R)\",\n",
    "           \"https://en.wikipedia.org/wiki/List_of_fiction_works_made_into_feature_films_(S%E2%80%93Z)\"]\n",
    "dict_titles = get_dict_titles(urlList)"
   ]
  },
  {
   "cell_type": "code",
   "execution_count": 23,
   "metadata": {},
   "outputs": [
    {
     "name": "stdout",
     "output_type": "stream",
     "text": [
      "Number of books : 1635\n",
      "Number of movies : 2253\n"
     ]
    }
   ],
   "source": [
    "print(f\"Number of books : {len(dict_titles.keys())}\")\n",
    "movies_titles = [item for sublist in dict_titles.values()\n",
    "                 for item in sublist]\n",
    "print(f\"Number of movies : {len(movies_titles)}\")"
   ]
  },
  {
   "cell_type": "markdown",
   "metadata": {},
   "source": [
    "Each book is associated to one or many movies. The goal is now to associate each movie/book title that we got here with an Amazon product ID (asin). \n",
    "For now we just clean both wikipedia and amazon titles and try to match exactly. \n",
    "Our cleaning is basic : we lower everything, we remove the puncuation, brackets, and keywords such as DVD and vhs. \n",
    "We should definitively improve this step to match more products but we are also limited by the time/size complexity : \n",
    "for example if we try to make a relatively expensive operation such as Levenshtein distance or Sequence Matcher, we have to apply it 1600 \\* 2300000 times (about 4\\*10⁹ operations) while using exact match is much faster because we don't need to iterate through dict keys.\n",
    "One other problem is for books series, where the number play a very important role, if we consider only text distance we may match distinct books"
   ]
  },
  {
   "cell_type": "markdown",
   "metadata": {},
   "source": [
    "We made a strong choice by removing everything matching the regex `\\(.*\\)`, e.g. eveything between brackets. It could happen that names of books/movies use special formula including those brackets, but we considered that the name would still be matchable without it. For amazon products it is sometimes indicating the year of the movie or a specification for the content. We have for example : `Original sin (Unrated version)` and `Original sin(R rated version)`, but it is still linked to the same book, so it match !"
   ]
  },
  {
   "cell_type": "code",
   "execution_count": 25,
   "metadata": {},
   "outputs": [],
   "source": [
    "def clean_title(title):\n",
    "    removable = ['[', ']', 'dvd', 'vhs',\n",
    "                 '(', ')', ',', '.', '!', '?', ':', ';']\n",
    "    title = title.lower()\n",
    "    # title = sub(\"\\((.*film.*|.*movie.*)\\)\", \"\", title)\n",
    "    title = sub(\"\\(.*\\)\", \"\", title)\n",
    "    title = sub(\"\\s+\", \" \", title)\n",
    "    title = sub(\"\\s$\", \"\", title)\n",
    "    title = sub(\"^\\s\", \"\", title)\n",
    "    for r in removable:\n",
    "        title = title.replace(r, \"\")\n",
    "    return title"
   ]
  },
  {
   "cell_type": "code",
   "execution_count": 28,
   "metadata": {},
   "outputs": [
    {
     "name": "stdout",
     "output_type": "stream",
     "text": [
      "Number of movies from wikipedia : 2253\n"
     ]
    },
    {
     "data": {
      "application/vnd.jupyter.widget-view+json": {
       "model_id": "88c7eb73bcce47e494d79eaea76624a8",
       "version_major": 2,
       "version_minor": 0
      },
      "text/html": [
       "<p>Failed to display Jupyter Widget of type <code>FloatProgress</code>.</p>\n",
       "<p>\n",
       "  If you're reading this message in Jupyter Notebook or JupyterLab, it may mean\n",
       "  that the widgets JavaScript is still loading. If this message persists, it\n",
       "  likely means that the widgets JavaScript library is either not installed or\n",
       "  not enabled. See the <a href=\"https://ipywidgets.readthedocs.io/en/stable/user_install.html\">Jupyter\n",
       "  Widgets Documentation</a> for setup instructions.\n",
       "</p>\n",
       "<p>\n",
       "  If you're reading this message in another notebook frontend (for example, a static\n",
       "  rendering on GitHub or <a href=\"https://nbviewer.jupyter.org/\">NBViewer</a>),\n",
       "  it may mean that your frontend doesn't currently support widgets.\n",
       "</p>\n"
      ],
      "text/plain": [
       "FloatProgress(value=0.0, max=208321.0)"
      ]
     },
     "metadata": {},
     "output_type": "display_data"
    },
    {
     "name": "stderr",
     "output_type": "stream",
     "text": [
      "IOPub message rate exceeded.\n",
      "The notebook server will temporarily stop sending output\n",
      "to the client in order to avoid crashing it.\n",
      "To change this limit, set the config variable\n",
      "`--NotebookApp.iopub_msg_rate_limit`.\n",
      "\n",
      "Current values:\n",
      "NotebookApp.iopub_msg_rate_limit=1000.0 (msgs/sec)\n",
      "NotebookApp.rate_limit_window=3.0 (secs)\n",
      "\n",
      "IOPub message rate exceeded.\n",
      "The notebook server will temporarily stop sending output\n",
      "to the client in order to avoid crashing it.\n",
      "To change this limit, set the config variable\n",
      "`--NotebookApp.iopub_msg_rate_limit`.\n",
      "\n",
      "Current values:\n",
      "NotebookApp.iopub_msg_rate_limit=1000.0 (msgs/sec)\n",
      "NotebookApp.rate_limit_window=3.0 (secs)\n",
      "\n",
      "IOPub message rate exceeded.\n",
      "The notebook server will temporarily stop sending output\n",
      "to the client in order to avoid crashing it.\n",
      "To change this limit, set the config variable\n",
      "`--NotebookApp.iopub_msg_rate_limit`.\n",
      "\n",
      "Current values:\n",
      "NotebookApp.iopub_msg_rate_limit=1000.0 (msgs/sec)\n",
      "NotebookApp.rate_limit_window=3.0 (secs)\n",
      "\n",
      "IOPub message rate exceeded.\n",
      "The notebook server will temporarily stop sending output\n",
      "to the client in order to avoid crashing it.\n",
      "To change this limit, set the config variable\n",
      "`--NotebookApp.iopub_msg_rate_limit`.\n",
      "\n",
      "Current values:\n",
      "NotebookApp.iopub_msg_rate_limit=1000.0 (msgs/sec)\n",
      "NotebookApp.rate_limit_window=3.0 (secs)\n",
      "\n",
      "IOPub message rate exceeded.\n",
      "The notebook server will temporarily stop sending output\n",
      "to the client in order to avoid crashing it.\n",
      "To change this limit, set the config variable\n",
      "`--NotebookApp.iopub_msg_rate_limit`.\n",
      "\n",
      "Current values:\n",
      "NotebookApp.iopub_msg_rate_limit=1000.0 (msgs/sec)\n",
      "NotebookApp.rate_limit_window=3.0 (secs)\n",
      "\n",
      "IOPub message rate exceeded.\n",
      "The notebook server will temporarily stop sending output\n",
      "to the client in order to avoid crashing it.\n",
      "To change this limit, set the config variable\n",
      "`--NotebookApp.iopub_msg_rate_limit`.\n",
      "\n",
      "Current values:\n",
      "NotebookApp.iopub_msg_rate_limit=1000.0 (msgs/sec)\n",
      "NotebookApp.rate_limit_window=3.0 (secs)\n",
      "\n"
     ]
    }
   ],
   "source": [
    "movies_titles = [item for sublist in dict_titles.values()\n",
    "                 for item in sublist]\n",
    "print(f\"Number of movies from wikipedia : {len(movies_titles)}\")\n",
    "\n",
    "for i, mov in enumerate(movies_titles):\n",
    "    movies_titles[i] = clean_title(mov)\n",
    "\n",
    "movies_association = {el: [] for el in movies_titles}\n",
    "\n",
    "movies_metada_lines = data.read_data(\"meta_Movies_and_TV\", 208321)\n",
    "for movie_line in movies_metada_lines:\n",
    "    if 'title' in movie_line:\n",
    "        title = clean_title(movie_line['title'])\n",
    "        if title in movies_association:\n",
    "            movies_association[title].append(movie_line)\n",
    "\n",
    "print(f\"Number of movies selected: {sum([1 if len(v) > 0 else 0 for _, v in movies_association.items()])}\")\n"
   ]
  },
  {
   "cell_type": "markdown",
   "metadata": {},
   "source": [
    "Note that the previous number is the number of \"wikipedia\" movies that are selected, there are more products than this number as many products can match the same title (see previous explanation for an example).\n",
    "We also did the same for books"
   ]
  },
  {
   "cell_type": "code",
   "execution_count": 29,
   "metadata": {},
   "outputs": [
    {
     "name": "stdout",
     "output_type": "stream",
     "text": [
      "Number of books from wikipedia : 1635\n"
     ]
    },
    {
     "data": {
      "application/vnd.jupyter.widget-view+json": {
       "model_id": "18e4529ca7554fbba0209bc48445dcf8",
       "version_major": 2,
       "version_minor": 0
      },
      "text/html": [
       "<p>Failed to display Jupyter Widget of type <code>FloatProgress</code>.</p>\n",
       "<p>\n",
       "  If you're reading this message in Jupyter Notebook or JupyterLab, it may mean\n",
       "  that the widgets JavaScript is still loading. If this message persists, it\n",
       "  likely means that the widgets JavaScript library is either not installed or\n",
       "  not enabled. See the <a href=\"https://ipywidgets.readthedocs.io/en/stable/user_install.html\">Jupyter\n",
       "  Widgets Documentation</a> for setup instructions.\n",
       "</p>\n",
       "<p>\n",
       "  If you're reading this message in another notebook frontend (for example, a static\n",
       "  rendering on GitHub or <a href=\"https://nbviewer.jupyter.org/\">NBViewer</a>),\n",
       "  it may mean that your frontend doesn't currently support widgets.\n",
       "</p>\n"
      ],
      "text/plain": [
       "FloatProgress(value=0.0, max=2370585.0)"
      ]
     },
     "metadata": {},
     "output_type": "display_data"
    },
    {
     "name": "stderr",
     "output_type": "stream",
     "text": [
      "IOPub message rate exceeded.\n",
      "The notebook server will temporarily stop sending output\n",
      "to the client in order to avoid crashing it.\n",
      "To change this limit, set the config variable\n",
      "`--NotebookApp.iopub_msg_rate_limit`.\n",
      "\n",
      "Current values:\n",
      "NotebookApp.iopub_msg_rate_limit=1000.0 (msgs/sec)\n",
      "NotebookApp.rate_limit_window=3.0 (secs)\n",
      "\n",
      "IOPub message rate exceeded.\n",
      "The notebook server will temporarily stop sending output\n",
      "to the client in order to avoid crashing it.\n",
      "To change this limit, set the config variable\n",
      "`--NotebookApp.iopub_msg_rate_limit`.\n",
      "\n",
      "Current values:\n",
      "NotebookApp.iopub_msg_rate_limit=1000.0 (msgs/sec)\n",
      "NotebookApp.rate_limit_window=3.0 (secs)\n",
      "\n"
     ]
    },
    {
     "ename": "KeyboardInterrupt",
     "evalue": "",
     "output_type": "error",
     "traceback": [
      "\u001b[0;31m---------------------------------------------------------------------------\u001b[0m",
      "\u001b[0;31mKeyboardInterrupt\u001b[0m                         Traceback (most recent call last)",
      "\u001b[0;32m<ipython-input-29-ce24f1b63d90>\u001b[0m in \u001b[0;36m<module>\u001b[0;34m()\u001b[0m\n\u001b[1;32m      8\u001b[0m \u001b[0;34m\u001b[0m\u001b[0m\n\u001b[1;32m      9\u001b[0m \u001b[0mbooks_metada_lines\u001b[0m \u001b[0;34m=\u001b[0m \u001b[0mdata\u001b[0m\u001b[0;34m.\u001b[0m\u001b[0mread_data\u001b[0m\u001b[0;34m(\u001b[0m\u001b[0;34m\"meta_Books\"\u001b[0m\u001b[0;34m,\u001b[0m \u001b[0;36m2370585\u001b[0m\u001b[0;34m)\u001b[0m\u001b[0;34m\u001b[0m\u001b[0m\n\u001b[0;32m---> 10\u001b[0;31m \u001b[0;32mfor\u001b[0m \u001b[0mbook_line\u001b[0m \u001b[0;32min\u001b[0m \u001b[0mbooks_metada_lines\u001b[0m\u001b[0;34m:\u001b[0m\u001b[0;34m\u001b[0m\u001b[0m\n\u001b[0m\u001b[1;32m     11\u001b[0m     \u001b[0;32mif\u001b[0m \u001b[0;34m'title'\u001b[0m \u001b[0;32min\u001b[0m \u001b[0mbook_line\u001b[0m\u001b[0;34m:\u001b[0m\u001b[0;34m\u001b[0m\u001b[0m\n\u001b[1;32m     12\u001b[0m         \u001b[0mtitle\u001b[0m \u001b[0;34m=\u001b[0m \u001b[0mclean_title\u001b[0m\u001b[0;34m(\u001b[0m\u001b[0mbook_line\u001b[0m\u001b[0;34m[\u001b[0m\u001b[0;34m'title'\u001b[0m\u001b[0;34m]\u001b[0m\u001b[0;34m)\u001b[0m\u001b[0;34m\u001b[0m\u001b[0m\n",
      "\u001b[0;32m~/Documents/cours/appliedDataAnalysis/git/ada-epfl/project/ada/data.py\u001b[0m in \u001b[0;36mread_json_file\u001b[0;34m(file_path, limit, is_gzip, show_progress_bar)\u001b[0m\n\u001b[1;32m     26\u001b[0m             \u001b[0;32mfor\u001b[0m \u001b[0mi\u001b[0m\u001b[0;34m,\u001b[0m \u001b[0mline\u001b[0m \u001b[0;32min\u001b[0m \u001b[0menumerate\u001b[0m\u001b[0;34m(\u001b[0m\u001b[0mfile\u001b[0m\u001b[0;34m)\u001b[0m\u001b[0;34m:\u001b[0m\u001b[0;34m\u001b[0m\u001b[0m\n\u001b[1;32m     27\u001b[0m                 \u001b[0;32myield\u001b[0m \u001b[0meval\u001b[0m\u001b[0;34m(\u001b[0m\u001b[0mline\u001b[0m\u001b[0;34m)\u001b[0m\u001b[0;34m\u001b[0m\u001b[0m\n\u001b[0;32m---> 28\u001b[0;31m                 \u001b[0mprogress_bar\u001b[0m\u001b[0;34m.\u001b[0m\u001b[0mupdate\u001b[0m\u001b[0;34m(\u001b[0m\u001b[0;36m1\u001b[0m\u001b[0;34m)\u001b[0m\u001b[0;34m\u001b[0m\u001b[0m\n\u001b[0m\u001b[1;32m     29\u001b[0m                 \u001b[0;32mif\u001b[0m \u001b[0mlimit\u001b[0m \u001b[0;32mis\u001b[0m \u001b[0;32mnot\u001b[0m \u001b[0;32mNone\u001b[0m \u001b[0;32mand\u001b[0m \u001b[0mi\u001b[0m \u001b[0;34m==\u001b[0m \u001b[0mlimit\u001b[0m \u001b[0;34m-\u001b[0m \u001b[0;36m1\u001b[0m\u001b[0;34m:\u001b[0m\u001b[0;34m\u001b[0m\u001b[0m\n\u001b[1;32m     30\u001b[0m                     \u001b[0;32mbreak\u001b[0m\u001b[0;34m\u001b[0m\u001b[0m\n",
      "\u001b[0;32m~/Documents/cours/appliedDataAnalysis/git/ada-epfl/project/ada/progressbar.py\u001b[0m in \u001b[0;36mupdate\u001b[0;34m(self, change)\u001b[0m\n\u001b[1;32m     69\u001b[0m         \u001b[0;32mdef\u001b[0m \u001b[0mupdate\u001b[0m\u001b[0;34m(\u001b[0m\u001b[0mself\u001b[0m\u001b[0;34m,\u001b[0m \u001b[0mchange\u001b[0m\u001b[0;34m:\u001b[0m \u001b[0mint\u001b[0m\u001b[0;34m)\u001b[0m\u001b[0;34m:\u001b[0m\u001b[0;34m\u001b[0m\u001b[0m\n\u001b[1;32m     70\u001b[0m             \u001b[0mself\u001b[0m\u001b[0;34m.\u001b[0m\u001b[0mprogress\u001b[0m \u001b[0;34m+=\u001b[0m \u001b[0mchange\u001b[0m\u001b[0;34m\u001b[0m\u001b[0m\n\u001b[0;32m---> 71\u001b[0;31m             \u001b[0mself\u001b[0m\u001b[0;34m.\u001b[0m\u001b[0m_bar\u001b[0m\u001b[0;34m.\u001b[0m\u001b[0mvalue\u001b[0m \u001b[0;34m=\u001b[0m \u001b[0mself\u001b[0m\u001b[0;34m.\u001b[0m\u001b[0mprogress\u001b[0m\u001b[0;34m\u001b[0m\u001b[0m\n\u001b[0m\u001b[1;32m     72\u001b[0m \u001b[0;34m\u001b[0m\u001b[0m\n\u001b[1;32m     73\u001b[0m \u001b[0;32mif\u001b[0m \u001b[0mtqdm\u001b[0m \u001b[0;32mis\u001b[0m \u001b[0;32mnot\u001b[0m \u001b[0;32mNone\u001b[0m\u001b[0;34m:\u001b[0m\u001b[0;34m\u001b[0m\u001b[0m\n",
      "\u001b[0;32m~/anaconda3/envs/ada/lib/python3.6/site-packages/traitlets/traitlets.py\u001b[0m in \u001b[0;36m__set__\u001b[0;34m(self, obj, value)\u001b[0m\n\u001b[1;32m    583\u001b[0m             \u001b[0;32mraise\u001b[0m \u001b[0mTraitError\u001b[0m\u001b[0;34m(\u001b[0m\u001b[0;34m'The \"%s\" trait is read-only.'\u001b[0m \u001b[0;34m%\u001b[0m \u001b[0mself\u001b[0m\u001b[0;34m.\u001b[0m\u001b[0mname\u001b[0m\u001b[0;34m)\u001b[0m\u001b[0;34m\u001b[0m\u001b[0m\n\u001b[1;32m    584\u001b[0m         \u001b[0;32melse\u001b[0m\u001b[0;34m:\u001b[0m\u001b[0;34m\u001b[0m\u001b[0m\n\u001b[0;32m--> 585\u001b[0;31m             \u001b[0mself\u001b[0m\u001b[0;34m.\u001b[0m\u001b[0mset\u001b[0m\u001b[0;34m(\u001b[0m\u001b[0mobj\u001b[0m\u001b[0;34m,\u001b[0m \u001b[0mvalue\u001b[0m\u001b[0;34m)\u001b[0m\u001b[0;34m\u001b[0m\u001b[0m\n\u001b[0m\u001b[1;32m    586\u001b[0m \u001b[0;34m\u001b[0m\u001b[0m\n\u001b[1;32m    587\u001b[0m     \u001b[0;32mdef\u001b[0m \u001b[0m_validate\u001b[0m\u001b[0;34m(\u001b[0m\u001b[0mself\u001b[0m\u001b[0;34m,\u001b[0m \u001b[0mobj\u001b[0m\u001b[0;34m,\u001b[0m \u001b[0mvalue\u001b[0m\u001b[0;34m)\u001b[0m\u001b[0;34m:\u001b[0m\u001b[0;34m\u001b[0m\u001b[0m\n",
      "\u001b[0;32m~/anaconda3/envs/ada/lib/python3.6/site-packages/traitlets/traitlets.py\u001b[0m in \u001b[0;36mset\u001b[0;34m(self, obj, value)\u001b[0m\n\u001b[1;32m    572\u001b[0m             \u001b[0;31m# we explicitly compare silent to True just in case the equality\u001b[0m\u001b[0;34m\u001b[0m\u001b[0;34m\u001b[0m\u001b[0m\n\u001b[1;32m    573\u001b[0m             \u001b[0;31m# comparison above returns something other than True/False\u001b[0m\u001b[0;34m\u001b[0m\u001b[0;34m\u001b[0m\u001b[0m\n\u001b[0;32m--> 574\u001b[0;31m             \u001b[0mobj\u001b[0m\u001b[0;34m.\u001b[0m\u001b[0m_notify_trait\u001b[0m\u001b[0;34m(\u001b[0m\u001b[0mself\u001b[0m\u001b[0;34m.\u001b[0m\u001b[0mname\u001b[0m\u001b[0;34m,\u001b[0m \u001b[0mold_value\u001b[0m\u001b[0;34m,\u001b[0m \u001b[0mnew_value\u001b[0m\u001b[0;34m)\u001b[0m\u001b[0;34m\u001b[0m\u001b[0m\n\u001b[0m\u001b[1;32m    575\u001b[0m \u001b[0;34m\u001b[0m\u001b[0m\n\u001b[1;32m    576\u001b[0m     \u001b[0;32mdef\u001b[0m \u001b[0m__set__\u001b[0m\u001b[0;34m(\u001b[0m\u001b[0mself\u001b[0m\u001b[0;34m,\u001b[0m \u001b[0mobj\u001b[0m\u001b[0;34m,\u001b[0m \u001b[0mvalue\u001b[0m\u001b[0;34m)\u001b[0m\u001b[0;34m:\u001b[0m\u001b[0;34m\u001b[0m\u001b[0m\n",
      "\u001b[0;32m~/anaconda3/envs/ada/lib/python3.6/site-packages/traitlets/traitlets.py\u001b[0m in \u001b[0;36m_notify_trait\u001b[0;34m(self, name, old_value, new_value)\u001b[0m\n\u001b[1;32m   1137\u001b[0m             \u001b[0mnew\u001b[0m\u001b[0;34m=\u001b[0m\u001b[0mnew_value\u001b[0m\u001b[0;34m,\u001b[0m\u001b[0;34m\u001b[0m\u001b[0m\n\u001b[1;32m   1138\u001b[0m             \u001b[0mowner\u001b[0m\u001b[0;34m=\u001b[0m\u001b[0mself\u001b[0m\u001b[0;34m,\u001b[0m\u001b[0;34m\u001b[0m\u001b[0m\n\u001b[0;32m-> 1139\u001b[0;31m             \u001b[0mtype\u001b[0m\u001b[0;34m=\u001b[0m\u001b[0;34m'change'\u001b[0m\u001b[0;34m,\u001b[0m\u001b[0;34m\u001b[0m\u001b[0m\n\u001b[0m\u001b[1;32m   1140\u001b[0m         ))\n\u001b[1;32m   1141\u001b[0m \u001b[0;34m\u001b[0m\u001b[0m\n",
      "\u001b[0;32m~/anaconda3/envs/ada/lib/python3.6/site-packages/ipywidgets/widgets/widget.py\u001b[0m in \u001b[0;36mnotify_change\u001b[0;34m(self, change)\u001b[0m\n\u001b[1;32m    595\u001b[0m             \u001b[0;32mif\u001b[0m \u001b[0mname\u001b[0m \u001b[0;32min\u001b[0m \u001b[0mself\u001b[0m\u001b[0;34m.\u001b[0m\u001b[0mkeys\u001b[0m \u001b[0;32mand\u001b[0m \u001b[0mself\u001b[0m\u001b[0;34m.\u001b[0m\u001b[0m_should_send_property\u001b[0m\u001b[0;34m(\u001b[0m\u001b[0mname\u001b[0m\u001b[0;34m,\u001b[0m \u001b[0mchange\u001b[0m\u001b[0;34m[\u001b[0m\u001b[0;34m'new'\u001b[0m\u001b[0;34m]\u001b[0m\u001b[0;34m)\u001b[0m\u001b[0;34m:\u001b[0m\u001b[0;34m\u001b[0m\u001b[0m\n\u001b[1;32m    596\u001b[0m                 \u001b[0;31m# Send new state to front-end\u001b[0m\u001b[0;34m\u001b[0m\u001b[0;34m\u001b[0m\u001b[0m\n\u001b[0;32m--> 597\u001b[0;31m                 \u001b[0mself\u001b[0m\u001b[0;34m.\u001b[0m\u001b[0msend_state\u001b[0m\u001b[0;34m(\u001b[0m\u001b[0mkey\u001b[0m\u001b[0;34m=\u001b[0m\u001b[0mname\u001b[0m\u001b[0;34m)\u001b[0m\u001b[0;34m\u001b[0m\u001b[0m\n\u001b[0m\u001b[1;32m    598\u001b[0m         \u001b[0msuper\u001b[0m\u001b[0;34m(\u001b[0m\u001b[0mWidget\u001b[0m\u001b[0;34m,\u001b[0m \u001b[0mself\u001b[0m\u001b[0;34m)\u001b[0m\u001b[0;34m.\u001b[0m\u001b[0mnotify_change\u001b[0m\u001b[0;34m(\u001b[0m\u001b[0mchange\u001b[0m\u001b[0;34m)\u001b[0m\u001b[0;34m\u001b[0m\u001b[0m\n\u001b[1;32m    599\u001b[0m \u001b[0;34m\u001b[0m\u001b[0m\n",
      "\u001b[0;32m~/anaconda3/envs/ada/lib/python3.6/site-packages/ipywidgets/widgets/widget.py\u001b[0m in \u001b[0;36msend_state\u001b[0;34m(self, key)\u001b[0m\n\u001b[1;32m    476\u001b[0m             \u001b[0mA\u001b[0m \u001b[0msingle\u001b[0m \u001b[0mproperty\u001b[0m\u001b[0;31m'\u001b[0m\u001b[0ms\u001b[0m \u001b[0mname\u001b[0m \u001b[0;32mor\u001b[0m \u001b[0miterable\u001b[0m \u001b[0mof\u001b[0m \u001b[0mproperty\u001b[0m \u001b[0mnames\u001b[0m \u001b[0mto\u001b[0m \u001b[0msync\u001b[0m \u001b[0;32mwith\u001b[0m \u001b[0mthe\u001b[0m \u001b[0mfront\u001b[0m\u001b[0;34m-\u001b[0m\u001b[0mend\u001b[0m\u001b[0;34m.\u001b[0m\u001b[0;34m\u001b[0m\u001b[0m\n\u001b[1;32m    477\u001b[0m         \"\"\"\n\u001b[0;32m--> 478\u001b[0;31m         \u001b[0mstate\u001b[0m \u001b[0;34m=\u001b[0m \u001b[0mself\u001b[0m\u001b[0;34m.\u001b[0m\u001b[0mget_state\u001b[0m\u001b[0;34m(\u001b[0m\u001b[0mkey\u001b[0m\u001b[0;34m=\u001b[0m\u001b[0mkey\u001b[0m\u001b[0;34m)\u001b[0m\u001b[0;34m\u001b[0m\u001b[0m\n\u001b[0m\u001b[1;32m    479\u001b[0m         \u001b[0;32mif\u001b[0m \u001b[0mlen\u001b[0m\u001b[0;34m(\u001b[0m\u001b[0mstate\u001b[0m\u001b[0;34m)\u001b[0m \u001b[0;34m>\u001b[0m \u001b[0;36m0\u001b[0m\u001b[0;34m:\u001b[0m\u001b[0;34m\u001b[0m\u001b[0m\n\u001b[1;32m    480\u001b[0m             \u001b[0mstate\u001b[0m\u001b[0;34m,\u001b[0m \u001b[0mbuffer_paths\u001b[0m\u001b[0;34m,\u001b[0m \u001b[0mbuffers\u001b[0m \u001b[0;34m=\u001b[0m \u001b[0m_remove_buffers\u001b[0m\u001b[0;34m(\u001b[0m\u001b[0mstate\u001b[0m\u001b[0;34m)\u001b[0m\u001b[0;34m\u001b[0m\u001b[0m\n",
      "\u001b[0;32m~/anaconda3/envs/ada/lib/python3.6/site-packages/ipywidgets/widgets/widget.py\u001b[0m in \u001b[0;36mget_state\u001b[0;34m(self, key, drop_defaults)\u001b[0m\n\u001b[1;32m    505\u001b[0m             \u001b[0;32mraise\u001b[0m \u001b[0mValueError\u001b[0m\u001b[0;34m(\u001b[0m\u001b[0;34m\"key must be a string, an iterable of keys, or None\"\u001b[0m\u001b[0;34m)\u001b[0m\u001b[0;34m\u001b[0m\u001b[0m\n\u001b[1;32m    506\u001b[0m         \u001b[0mstate\u001b[0m \u001b[0;34m=\u001b[0m \u001b[0;34m{\u001b[0m\u001b[0;34m}\u001b[0m\u001b[0;34m\u001b[0m\u001b[0m\n\u001b[0;32m--> 507\u001b[0;31m         \u001b[0mtraits\u001b[0m \u001b[0;34m=\u001b[0m \u001b[0mself\u001b[0m\u001b[0;34m.\u001b[0m\u001b[0mtraits\u001b[0m\u001b[0;34m(\u001b[0m\u001b[0;34m)\u001b[0m\u001b[0;34m\u001b[0m\u001b[0m\n\u001b[0m\u001b[1;32m    508\u001b[0m         \u001b[0;32mfor\u001b[0m \u001b[0mk\u001b[0m \u001b[0;32min\u001b[0m \u001b[0mkeys\u001b[0m\u001b[0;34m:\u001b[0m\u001b[0;34m\u001b[0m\u001b[0m\n\u001b[1;32m    509\u001b[0m             \u001b[0mto_json\u001b[0m \u001b[0;34m=\u001b[0m \u001b[0mself\u001b[0m\u001b[0;34m.\u001b[0m\u001b[0mtrait_metadata\u001b[0m\u001b[0;34m(\u001b[0m\u001b[0mk\u001b[0m\u001b[0;34m,\u001b[0m \u001b[0;34m'to_json'\u001b[0m\u001b[0;34m,\u001b[0m \u001b[0mself\u001b[0m\u001b[0;34m.\u001b[0m\u001b[0m_trait_to_json\u001b[0m\u001b[0;34m)\u001b[0m\u001b[0;34m\u001b[0m\u001b[0m\n",
      "\u001b[0;32m~/anaconda3/envs/ada/lib/python3.6/site-packages/traitlets/traitlets.py\u001b[0m in \u001b[0;36mtraits\u001b[0;34m(self, **metadata)\u001b[0m\n\u001b[1;32m   1419\u001b[0m         \u001b[0mto\u001b[0m \u001b[0mthe\u001b[0m \u001b[0mfunction\u001b[0m\u001b[0;34m.\u001b[0m\u001b[0;34m\u001b[0m\u001b[0m\n\u001b[1;32m   1420\u001b[0m         \"\"\"\n\u001b[0;32m-> 1421\u001b[0;31m         traits = dict([memb for memb in getmembers(self.__class__) if\n\u001b[0m\u001b[1;32m   1422\u001b[0m                      isinstance(memb[1], TraitType)])\n\u001b[1;32m   1423\u001b[0m \u001b[0;34m\u001b[0m\u001b[0m\n",
      "\u001b[0;31mKeyboardInterrupt\u001b[0m: "
     ]
    }
   ],
   "source": [
    "books_titles = [book for book in dict_titles]\n",
    "print(f\"Number of books from wikipedia : {len(books_titles)}\")\n",
    "\n",
    "for i, book in enumerate(books_titles):\n",
    "    books_titles[i] = clean_title(book)\n",
    "\n",
    "books_association = {el: [] for el in books_titles}\n",
    "\n",
    "books_metada_lines = data.read_data(\"meta_Books\", 2370585)\n",
    "for book_line in books_metada_lines:\n",
    "    if 'title' in book_line:\n",
    "        title = clean_title(book_line['title'])\n",
    "        if title in books_association:\n",
    "            books_association[title].append(book_line)\n",
    "print(f\"Number of books selected: {sum([1 if len(v) > 0 else 0 for _, v in books_association.items()])}\")\n"
   ]
  },
  {
   "cell_type": "markdown",
   "metadata": {},
   "source": [
    "Now that we matched products and titles for both movies and books, we should see how many pairs book/movies do we have (we may have matched product for a movie but not for a book or vice versa), we will also create new dictionnaries containing only those matches"
   ]
  },
  {
   "cell_type": "code",
   "execution_count": null,
   "metadata": {},
   "outputs": [],
   "source": [
    "matching_book = []\n",
    "matching_movies = []\n",
    "total_selected = 0\n",
    "for k, v in dict_titles.items():\n",
    "    associate = False\n",
    "    if len(books_association[clean_title(k)]) > 0:\n",
    "        for mov in v:\n",
    "            if len(movies_association[clean_title(mov)]) > 0:\n",
    "                associate = True\n",
    "                matching_movies.append(clean_title(mov))\n",
    "    if associate:\n",
    "        matching_book.append(clean_title(k))\n",
    "    total_selected += 1 if associate else 0\n",
    "print(f\"Number of association book/movies : {total_selected}\")\n",
    "\n",
    "books_assocations_matching = {}\n",
    "movies_association_matching = {}\n",
    "for book in matching_book:\n",
    "    books_assocations_matching[book] = books_association[book]\n",
    "for movie in matching_movies:\n",
    "    movies_association_matching[movie] = movies_association[movie]\n"
   ]
  },
  {
   "cell_type": "markdown",
   "metadata": {},
   "source": [
    "We know cretate new associations dictionnaries which only contains matching items in both movies and books"
   ]
  },
  {
   "cell_type": "markdown",
   "metadata": {},
   "source": [
    "We consider that, at least for this milestone, 500 pairs should be enough to get significant result. \n",
    "Anyway we build the following parts of our workflow independantly of this matching part so that we can easily improve it."
   ]
  },
  {
   "cell_type": "markdown",
   "metadata": {},
   "source": [
    "### Merging reviews and metadata"
   ]
  },
  {
   "cell_type": "markdown",
   "metadata": {},
   "source": [
    "Now that we have matched the product id that we will use for the analysis, we want to merge for both books and movies the metadata with each review. \n",
    "After this step we will save our result to fresh new files in order to be able to load easily our data in dataframe and avoid expensive computations"
   ]
  },
  {
   "cell_type": "markdown",
   "metadata": {},
   "source": [
    "First we will build new dataframes for reviews containing only interesting reviews. Then we will do the same for metadatas and finally we will merge both."
   ]
  },
  {
   "cell_type": "code",
   "execution_count": null,
   "metadata": {},
   "outputs": [],
   "source": [
    "# We will build new dicts has in python they are build over hash tables so we will be able to have\n",
    "# a constant complexity for looking for the presence of a product id.\n",
    "books_product_id = {}\n",
    "for books in books_association.values():\n",
    "    for book in books:\n",
    "        books_product_id[book[\"asin\"]] = book\n",
    "\n",
    "movies_product_id = {}\n",
    "for movies in movies_association.values():\n",
    "    for movie in movies:\n",
    "        movies_product_id[movie[\"asin\"]] = movie\n",
    "\n",
    "print(f\"We have {len(movies_product_id.keys())} distincts product for movies\")\n",
    "print(f\"We have {len(books_product_id.keys())} distincts product for books\")\n"
   ]
  },
  {
   "cell_type": "code",
   "execution_count": null,
   "metadata": {},
   "outputs": [],
   "source": [
    "def build_new_review_df(use_products, file, line_num):\n",
    "    reviews_lines = data.read_data(file, line_num)\n",
    "    i = 0\n",
    "    df = {}\n",
    "    for line in reviews_lines:\n",
    "        if line[\"asin\"] in use_products:\n",
    "            df[i] = line\n",
    "            i += 1\n",
    "    return pd.DataFrame.from_dict(df, orient='index')\n",
    "\n",
    "books_new_df = build_new_review_df(books_product_id, \"reviews_Books\", 22507155)\n",
    "print(f\"Number of books reviews after filtering : {books_new_df.shape}\")\n",
    "books_new_df.to_json(\"filtered_Books_reviews.json\", orient='records')\n",
    "\n",
    "movies_new_df = build_new_review_df(\n",
    "    movies_product_id, \"reviews_Movies_and_TV\", 4607047)\n",
    "print(f\"Number of movies reviews after filtering : {movies_new_df.shape}\")\n",
    "movies_new_df.to_json(\"filtered_Movies_reviews.json\", orient='records')\n",
    "\n",
    "books_meta_filtered_df = build_new_review_df(\n",
    "    books_product_id, \"meta_Books\", 2370585)\n",
    "books_meta_filtered_df.to_json(\"filtered_Books_meta.json\", orient='records')\n",
    "\n",
    "movies_meta_filetered_df = build_new_review_df(\n",
    "    movies_product_id, \"meta_Movies_and_TV\", 208321)\n",
    "movies_meta_filetered_df.to_json(\"filtered_Movies_meta.json\", orient='records')"
   ]
  },
  {
   "cell_type": "code",
   "execution_count": null,
   "metadata": {},
   "outputs": [],
   "source": [
    "books_filtered = books_new_df.merge(books_meta_filtered_df,on=\"asin\")\n",
    "print(books_filtered.shape)\n",
    "books_filtered.to_json(\"filtered_merged_Books.json\",orient='records')\n",
    "\n",
    "movies_filtered = movies_new_df.merge(movies_meta_filetered_df,on=\"asin\")\n",
    "print(movies_filtered.shape)\n",
    "movies_filtered.to_json(\"filtered_merged_Movies.json\",orient='records')\n",
    "movies_filtered.head(5)"
   ]
  },
  {
   "cell_type": "markdown",
   "metadata": {},
   "source": [
    "## Analysis of remaining data"
   ]
  },
  {
   "cell_type": "markdown",
   "metadata": {},
   "source": [
    "We will remove non useful features from the dataframes (not useful for this milestone at this moment of analysis or redondant information). "
   ]
  },
  {
   "cell_type": "code",
   "execution_count": 2,
   "metadata": {},
   "outputs": [],
   "source": [
    "movies_df = pd.read_json(\"filtered_merged_Movies.json\", orient='records')"
   ]
  },
  {
   "cell_type": "code",
   "execution_count": 3,
   "metadata": {},
   "outputs": [],
   "source": [
    "books_df = pd.read_json(\"filtered_merged_Books.json\", orient='records')"
   ]
  },
  {
   "cell_type": "code",
   "execution_count": 4,
   "metadata": {},
   "outputs": [
    {
     "data": {
      "text/html": [
       "<div>\n",
       "<style>\n",
       "    .dataframe thead tr:only-child th {\n",
       "        text-align: right;\n",
       "    }\n",
       "\n",
       "    .dataframe thead th {\n",
       "        text-align: left;\n",
       "    }\n",
       "\n",
       "    .dataframe tbody tr th {\n",
       "        vertical-align: top;\n",
       "    }\n",
       "</style>\n",
       "<table border=\"1\" class=\"dataframe\">\n",
       "  <thead>\n",
       "    <tr style=\"text-align: right;\">\n",
       "      <th></th>\n",
       "      <th>asin</th>\n",
       "      <th>brand</th>\n",
       "      <th>description</th>\n",
       "      <th>helpful</th>\n",
       "      <th>overall</th>\n",
       "      <th>price</th>\n",
       "      <th>reviewText</th>\n",
       "      <th>reviewerID</th>\n",
       "      <th>summary</th>\n",
       "      <th>title</th>\n",
       "      <th>unixReviewTime</th>\n",
       "    </tr>\n",
       "  </thead>\n",
       "  <tbody>\n",
       "    <tr>\n",
       "      <th>0</th>\n",
       "      <td>0767020308</td>\n",
       "      <td>LIONSGATE FILMS</td>\n",
       "      <td>From the producers of A&amp;E;'s Emmy award winnin...</td>\n",
       "      <td>0.000000</td>\n",
       "      <td>4</td>\n",
       "      <td>29.99</td>\n",
       "      <td>I want it for my Austin collectionI love all t...</td>\n",
       "      <td>AXR7F7BO6EMJ3</td>\n",
       "      <td>4 out of 5</td>\n",
       "      <td>Emma</td>\n",
       "      <td>1363219200</td>\n",
       "    </tr>\n",
       "    <tr>\n",
       "      <th>1</th>\n",
       "      <td>0767020308</td>\n",
       "      <td>LIONSGATE FILMS</td>\n",
       "      <td>From the producers of A&amp;E;'s Emmy award winnin...</td>\n",
       "      <td>0.666667</td>\n",
       "      <td>5</td>\n",
       "      <td>29.99</td>\n",
       "      <td>I love Kate Beckinsale as an actress (pre-Unde...</td>\n",
       "      <td>A1GJ5HAK5SKHH4</td>\n",
       "      <td>Pitch-perfect Emma</td>\n",
       "      <td>Emma</td>\n",
       "      <td>1242086400</td>\n",
       "    </tr>\n",
       "    <tr>\n",
       "      <th>2</th>\n",
       "      <td>0767020308</td>\n",
       "      <td>LIONSGATE FILMS</td>\n",
       "      <td>From the producers of A&amp;E;'s Emmy award winnin...</td>\n",
       "      <td>0.500000</td>\n",
       "      <td>5</td>\n",
       "      <td>29.99</td>\n",
       "      <td>After reading Jane Austen's Emma and thoroughl...</td>\n",
       "      <td>A25Z83EB17KP7L</td>\n",
       "      <td>Beautiful Movie</td>\n",
       "      <td>Emma</td>\n",
       "      <td>1209081600</td>\n",
       "    </tr>\n",
       "    <tr>\n",
       "      <th>3</th>\n",
       "      <td>0767020308</td>\n",
       "      <td>LIONSGATE FILMS</td>\n",
       "      <td>From the producers of A&amp;E;'s Emmy award winnin...</td>\n",
       "      <td>0.826087</td>\n",
       "      <td>3</td>\n",
       "      <td>29.99</td>\n",
       "      <td>With Kate Beckinsale in the lead, this should ...</td>\n",
       "      <td>AEIY0OQITQ8M1</td>\n",
       "      <td>Not quite Miss Jane's Emma</td>\n",
       "      <td>Emma</td>\n",
       "      <td>1154044800</td>\n",
       "    </tr>\n",
       "    <tr>\n",
       "      <th>4</th>\n",
       "      <td>0767020308</td>\n",
       "      <td>LIONSGATE FILMS</td>\n",
       "      <td>From the producers of A&amp;E;'s Emmy award winnin...</td>\n",
       "      <td>1.000000</td>\n",
       "      <td>5</td>\n",
       "      <td>29.99</td>\n",
       "      <td>Jane Austen as always delivers.  The cast of a...</td>\n",
       "      <td>A28UKEMDNDSC9S</td>\n",
       "      <td>Excellent</td>\n",
       "      <td>Emma</td>\n",
       "      <td>1395360000</td>\n",
       "    </tr>\n",
       "  </tbody>\n",
       "</table>\n",
       "</div>"
      ],
      "text/plain": [
       "         asin            brand  \\\n",
       "0  0767020308  LIONSGATE FILMS   \n",
       "1  0767020308  LIONSGATE FILMS   \n",
       "2  0767020308  LIONSGATE FILMS   \n",
       "3  0767020308  LIONSGATE FILMS   \n",
       "4  0767020308  LIONSGATE FILMS   \n",
       "\n",
       "                                         description   helpful  overall  \\\n",
       "0  From the producers of A&E;'s Emmy award winnin...  0.000000        4   \n",
       "1  From the producers of A&E;'s Emmy award winnin...  0.666667        5   \n",
       "2  From the producers of A&E;'s Emmy award winnin...  0.500000        5   \n",
       "3  From the producers of A&E;'s Emmy award winnin...  0.826087        3   \n",
       "4  From the producers of A&E;'s Emmy award winnin...  1.000000        5   \n",
       "\n",
       "   price                                         reviewText      reviewerID  \\\n",
       "0  29.99  I want it for my Austin collectionI love all t...   AXR7F7BO6EMJ3   \n",
       "1  29.99  I love Kate Beckinsale as an actress (pre-Unde...  A1GJ5HAK5SKHH4   \n",
       "2  29.99  After reading Jane Austen's Emma and thoroughl...  A25Z83EB17KP7L   \n",
       "3  29.99  With Kate Beckinsale in the lead, this should ...   AEIY0OQITQ8M1   \n",
       "4  29.99  Jane Austen as always delivers.  The cast of a...  A28UKEMDNDSC9S   \n",
       "\n",
       "                      summary title  unixReviewTime  \n",
       "0                  4 out of 5  Emma      1363219200  \n",
       "1          Pitch-perfect Emma  Emma      1242086400  \n",
       "2             Beautiful Movie  Emma      1209081600  \n",
       "3  Not quite Miss Jane's Emma  Emma      1154044800  \n",
       "4                   Excellent  Emma      1395360000  "
      ]
     },
     "execution_count": 4,
     "metadata": {},
     "output_type": "execute_result"
    }
   ],
   "source": [
    "def filter_merged_df(df):\n",
    "    df = df.drop(\"reviewTime\", 1)\n",
    "    df = df.drop(\"reviewerName\", 1)\n",
    "    df = df.drop(\"imUrl\", 1)\n",
    "    df = df.drop(\"categories\", 1)\n",
    "    df = df.drop(\"salesRank\", 1)\n",
    "    df['helpful'] = df['helpful'].apply(\n",
    "        lambda x: None if x[1] == 0 else x[0] / x[1])\n",
    "    df = df.drop(\"related\", 1)\n",
    "    return df\n",
    "if \"reviewTime\" in movies_df.columns:\n",
    "    books_df = filter_merged_df(books_df)\n",
    "    movies_df = filter_merged_df(movies_df)\n",
    "movies_df.head(5)"
   ]
  },
  {
   "cell_type": "markdown",
   "metadata": {},
   "source": [
    "So we have the following features and their types : \n",
    "* asin : product number, string\n",
    "* brand : brand of the product, string\n",
    "* description : product description, string\n",
    "* helpful : how helpful is the review considered, float with None if the data was [0,0]\n",
    "* overall : overall note for the product between 1 and 5, int\n",
    "* price : product price  in $ (at the time of crawling, it mays differ from the price paid by the user), float\n",
    "* reviewText : Text content of the review, string\n",
    "* reviewerID : Amazon id for the user, string\n",
    "* summary : summary of the review, string\n",
    "* title : Product title, string\n",
    "* unixReviewTime : time of the review"
   ]
  },
  {
   "cell_type": "code",
   "execution_count": 5,
   "metadata": {},
   "outputs": [
    {
     "data": {
      "text/html": [
       "<div>\n",
       "<style>\n",
       "    .dataframe thead tr:only-child th {\n",
       "        text-align: right;\n",
       "    }\n",
       "\n",
       "    .dataframe thead th {\n",
       "        text-align: left;\n",
       "    }\n",
       "\n",
       "    .dataframe tbody tr th {\n",
       "        vertical-align: top;\n",
       "    }\n",
       "</style>\n",
       "<table border=\"1\" class=\"dataframe\">\n",
       "  <thead>\n",
       "    <tr style=\"text-align: right;\">\n",
       "      <th></th>\n",
       "      <th>helpful</th>\n",
       "      <th>overall</th>\n",
       "      <th>price</th>\n",
       "      <th>unixReviewTime</th>\n",
       "    </tr>\n",
       "  </thead>\n",
       "  <tbody>\n",
       "    <tr>\n",
       "      <th>count</th>\n",
       "      <td>64241.000000</td>\n",
       "      <td>97132.000000</td>\n",
       "      <td>96215.000000</td>\n",
       "      <td>9.713200e+04</td>\n",
       "    </tr>\n",
       "    <tr>\n",
       "      <th>mean</th>\n",
       "      <td>0.557149</td>\n",
       "      <td>4.029805</td>\n",
       "      <td>13.451445</td>\n",
       "      <td>1.233093e+09</td>\n",
       "    </tr>\n",
       "    <tr>\n",
       "      <th>std</th>\n",
       "      <td>0.375112</td>\n",
       "      <td>1.359921</td>\n",
       "      <td>12.783699</td>\n",
       "      <td>1.385575e+08</td>\n",
       "    </tr>\n",
       "    <tr>\n",
       "      <th>min</th>\n",
       "      <td>0.000000</td>\n",
       "      <td>1.000000</td>\n",
       "      <td>0.010000</td>\n",
       "      <td>8.801568e+08</td>\n",
       "    </tr>\n",
       "    <tr>\n",
       "      <th>25%</th>\n",
       "      <td>0.214286</td>\n",
       "      <td>3.000000</td>\n",
       "      <td>5.000000</td>\n",
       "      <td>1.121990e+09</td>\n",
       "    </tr>\n",
       "    <tr>\n",
       "      <th>50%</th>\n",
       "      <td>0.600000</td>\n",
       "      <td>5.000000</td>\n",
       "      <td>9.370000</td>\n",
       "      <td>1.252714e+09</td>\n",
       "    </tr>\n",
       "    <tr>\n",
       "      <th>75%</th>\n",
       "      <td>1.000000</td>\n",
       "      <td>5.000000</td>\n",
       "      <td>15.590000</td>\n",
       "      <td>1.367021e+09</td>\n",
       "    </tr>\n",
       "    <tr>\n",
       "      <th>max</th>\n",
       "      <td>1.000000</td>\n",
       "      <td>5.000000</td>\n",
       "      <td>149.990000</td>\n",
       "      <td>1.406074e+09</td>\n",
       "    </tr>\n",
       "  </tbody>\n",
       "</table>\n",
       "</div>"
      ],
      "text/plain": [
       "            helpful       overall         price  unixReviewTime\n",
       "count  64241.000000  97132.000000  96215.000000    9.713200e+04\n",
       "mean       0.557149      4.029805     13.451445    1.233093e+09\n",
       "std        0.375112      1.359921     12.783699    1.385575e+08\n",
       "min        0.000000      1.000000      0.010000    8.801568e+08\n",
       "25%        0.214286      3.000000      5.000000    1.121990e+09\n",
       "50%        0.600000      5.000000      9.370000    1.252714e+09\n",
       "75%        1.000000      5.000000     15.590000    1.367021e+09\n",
       "max        1.000000      5.000000    149.990000    1.406074e+09"
      ]
     },
     "execution_count": 5,
     "metadata": {},
     "output_type": "execute_result"
    }
   ],
   "source": [
    "movies_df.describe()"
   ]
  },
  {
   "cell_type": "code",
   "execution_count": 6,
   "metadata": {},
   "outputs": [
    {
     "data": {
      "text/html": [
       "<div>\n",
       "<style>\n",
       "    .dataframe thead tr:only-child th {\n",
       "        text-align: right;\n",
       "    }\n",
       "\n",
       "    .dataframe thead th {\n",
       "        text-align: left;\n",
       "    }\n",
       "\n",
       "    .dataframe tbody tr th {\n",
       "        vertical-align: top;\n",
       "    }\n",
       "</style>\n",
       "<table border=\"1\" class=\"dataframe\">\n",
       "  <thead>\n",
       "    <tr style=\"text-align: right;\">\n",
       "      <th></th>\n",
       "      <th>helpful</th>\n",
       "      <th>overall</th>\n",
       "      <th>price</th>\n",
       "      <th>unixReviewTime</th>\n",
       "    </tr>\n",
       "  </thead>\n",
       "  <tbody>\n",
       "    <tr>\n",
       "      <th>count</th>\n",
       "      <td>60673.000000</td>\n",
       "      <td>118884.000000</td>\n",
       "      <td>117847.000000</td>\n",
       "      <td>1.188840e+05</td>\n",
       "    </tr>\n",
       "    <tr>\n",
       "      <th>mean</th>\n",
       "      <td>0.624955</td>\n",
       "      <td>4.262777</td>\n",
       "      <td>6.301936</td>\n",
       "      <td>1.245267e+09</td>\n",
       "    </tr>\n",
       "    <tr>\n",
       "      <th>std</th>\n",
       "      <td>0.389951</td>\n",
       "      <td>1.118692</td>\n",
       "      <td>4.592828</td>\n",
       "      <td>1.570926e+08</td>\n",
       "    </tr>\n",
       "    <tr>\n",
       "      <th>min</th>\n",
       "      <td>0.000000</td>\n",
       "      <td>1.000000</td>\n",
       "      <td>0.000000</td>\n",
       "      <td>8.514720e+08</td>\n",
       "    </tr>\n",
       "    <tr>\n",
       "      <th>25%</th>\n",
       "      <td>0.312500</td>\n",
       "      <td>4.000000</td>\n",
       "      <td>3.990000</td>\n",
       "      <td>1.104365e+09</td>\n",
       "    </tr>\n",
       "    <tr>\n",
       "      <th>50%</th>\n",
       "      <td>0.750000</td>\n",
       "      <td>5.000000</td>\n",
       "      <td>5.990000</td>\n",
       "      <td>1.332806e+09</td>\n",
       "    </tr>\n",
       "    <tr>\n",
       "      <th>75%</th>\n",
       "      <td>1.000000</td>\n",
       "      <td>5.000000</td>\n",
       "      <td>8.590000</td>\n",
       "      <td>1.373414e+09</td>\n",
       "    </tr>\n",
       "    <tr>\n",
       "      <th>max</th>\n",
       "      <td>2.000000</td>\n",
       "      <td>5.000000</td>\n",
       "      <td>124.530000</td>\n",
       "      <td>1.405987e+09</td>\n",
       "    </tr>\n",
       "  </tbody>\n",
       "</table>\n",
       "</div>"
      ],
      "text/plain": [
       "            helpful        overall          price  unixReviewTime\n",
       "count  60673.000000  118884.000000  117847.000000    1.188840e+05\n",
       "mean       0.624955       4.262777       6.301936    1.245267e+09\n",
       "std        0.389951       1.118692       4.592828    1.570926e+08\n",
       "min        0.000000       1.000000       0.000000    8.514720e+08\n",
       "25%        0.312500       4.000000       3.990000    1.104365e+09\n",
       "50%        0.750000       5.000000       5.990000    1.332806e+09\n",
       "75%        1.000000       5.000000       8.590000    1.373414e+09\n",
       "max        2.000000       5.000000     124.530000    1.405987e+09"
      ]
     },
     "execution_count": 6,
     "metadata": {},
     "output_type": "execute_result"
    }
   ],
   "source": [
    "books_df.describe()"
   ]
  },
  {
   "cell_type": "markdown",
   "metadata": {},
   "source": [
    "For description we will compute the missing values rate and the mean size of the text\n",
    "For review and summary we will compute their size. "
   ]
  },
  {
   "cell_type": "code",
   "execution_count": 7,
   "metadata": {},
   "outputs": [
    {
     "name": "stdout",
     "output_type": "stream",
     "text": [
      "Books description missing rate : 9.40833080986508%\n",
      "Movies description missing rate : 6.825762879380637%\n",
      "\n",
      "Books description mean length : 1368.4700415045636\n",
      "Movies description mean length : 1165.3990188062141\n",
      "**********\n",
      "Books review mean length : 696.1658339221426\n",
      "Movies review mean length : 765.2017769633077\n",
      "**********\n",
      "Books review mean length : 24.34411695434205\n",
      "Movies review mean length : 26.216715397603263\n"
     ]
    }
   ],
   "source": [
    "books_null_desc = books_df['description'].isnull().sum()\n",
    "movies_null_desc = movies_df['description'].isnull().sum()\n",
    "print(f\"Books description missing rate : {100*books_null_desc/books_df.shape[0]}%\")\n",
    "print(f\"Movies description missing rate : {100*movies_null_desc/movies_df.shape[0]}%\")\n",
    "print()\n",
    "print(f\"Books description mean length : {books_df['description'].str.len().sum()/(books_df.shape[0] - books_null_desc)}\")\n",
    "print(f\"Movies description mean length : {movies_df['description'].str.len().sum()/(movies_df.shape[0] - movies_null_desc)}\")\n",
    "print('*'*10)\n",
    "print(f\"Books review mean length : {books_df['reviewText'].str.len().sum()/books_df.shape[0]}\")\n",
    "print(f\"Movies review mean length : {movies_df['reviewText'].str.len().sum()/movies_df.shape[0]}\")\n",
    "print('*'*10)\n",
    "print(f\"Books review mean length : {books_df['summary'].str.len().sum()/books_df.shape[0]}\")\n",
    "print(f\"Movies review mean length : {movies_df['summary'].str.len().sum()/movies_df.shape[0]}\")"
   ]
  },
  {
   "cell_type": "markdown",
   "metadata": {},
   "source": [
    "We will plot data for overall score for both movies and books. We will also plot the mean for overall scores from previous computation about non filtered data. However we **can not** draw any conclusion for now, this is just to have a first preview"
   ]
  },
  {
   "cell_type": "code",
   "execution_count": 8,
   "metadata": {},
   "outputs": [
    {
     "data": {
      "text/plain": [
       "<matplotlib.text.Text at 0x7f79e9317630>"
      ]
     },
     "execution_count": 8,
     "metadata": {},
     "output_type": "execute_result"
    },
    {
     "data": {
      "image/png": "[encoded data removed]",
      "text/plain": [
       "<matplotlib.figure.Figure at 0x7f79e94858d0>"
      ]
     },
     "metadata": {},
     "output_type": "display_data"
    }
   ],
   "source": [
    "sb.set(style=\"darkgrid\")\n",
    "zone, (plot1, plot2) = plt.subplots(ncols=2)\n",
    "zone.set_size_inches(16, 8)\n",
    "\n",
    "plot1 = sb.boxplot(y = 'overall' , data=books_df, ax = plot1)\n",
    "plot1.set_title(\"Overall notes for books\")\n",
    "\n",
    "plot2 = sb.boxplot(y = 'overall' , data=movies_df, ax = plot2)\n",
    "plot2.set_title(\"Overall notes for movies\")"
   ]
  },
  {
   "cell_type": "code",
   "execution_count": 14,
   "metadata": {},
   "outputs": [],
   "source": [
    "temp_df_plot = pd.DataFrame([[\"All books\",4.2957],[\"Filtered books\",books_df['overall'].mean()],[\"All movies\",4.1868],[\"Filtered movies\",movies_df[\"overall\"].mean()]],columns=[\"Name\",\"Value\"])"
   ]
  },
  {
   "cell_type": "code",
   "execution_count": 15,
   "metadata": {},
   "outputs": [
    {
     "name": "stdout",
     "output_type": "stream",
     "text": [
      "Overall notes for books before and after filtering : 4.2957 and 4.262777160929982, difference of 0.7723331018043521%\n",
      "Overall notes for movies before and after filtering : 4.1868 and 4.029804801713133, difference of 3.8958511891227596%\n"
     ]
    },
    {
     "data": {
      "image/png": "[encoded data removed]",
      "text/plain": [
       "<matplotlib.figure.Figure at 0x7f79e780c2e8>"
      ]
     },
     "metadata": {},
     "output_type": "display_data"
    }
   ],
   "source": [
    "zone, plot = plt.subplots(ncols=1, sharey=True)\n",
    "zone.set_size_inches(16, 8)\n",
    "plot = sb.barplot(x=\"Name\", y=\"Value\", data=temp_df_plot)\n",
    "plot.set_title(\"Overall notes\")\n",
    "print(f\"Overall notes for books before and after filtering : {4.2957} and {books_df['overall'].mean()}, difference of {100*(4.2957-books_df['overall'].mean())/books_df['overall'].mean()}%\")\n",
    "print(f\"Overall notes for movies before and after filtering : {4.1868} and {movies_df['overall'].mean()}, difference of {100*(4.1868-movies_df['overall'].mean())/movies_df['overall'].mean()}%\")"
   ]
  },
  {
   "cell_type": "markdown",
   "metadata": {},
   "source": [
    "We will make some plot to show any correlation between overall notes and other features, however we won't spend so much time for this analysis as it does not have a strong impact for our study. To make the plot readable we will take a 10% smaple for each dataframe"
   ]
  },
  {
   "cell_type": "code",
   "execution_count": 16,
   "metadata": {},
   "outputs": [],
   "source": [
    "def plotCor(df1,df2,y,x,title):\n",
    "    zone, (plot1, plot2) = plt.subplots(ncols=2)\n",
    "    zone.set_size_inches(16, 6)\n",
    "\n",
    "    plot1 = sb.regplot(y =y,x=x, data=df1, ax = plot1,x_bins=10)\n",
    "    plot1.set_title(title +\" for movies\")\n",
    "\n",
    "    plot2 = sb.regplot(y =y ,x= x, data=df2, ax = plot2,x_bins=10)\n",
    "    plot2.set_title(title + \" for books\") "
   ]
  },
  {
   "cell_type": "code",
   "execution_count": 17,
   "metadata": {},
   "outputs": [
    {
     "data": {
      "image/png": "[encoded data removed]",
      "text/plain": [
       "<matplotlib.figure.Figure at 0x7f79e7604278>"
      ]
     },
     "metadata": {},
     "output_type": "display_data"
    }
   ],
   "source": [
    "sample_movies = movies_df.sample(frac=0.01)\n",
    "sample_movies['desc_length']=sample_movies[\"description\"].str.len()\n",
    "sample_movies['review_length']=sample_movies[\"reviewText\"].str.len()\n",
    "sample_books = books_df.sample(frac = 0.01)\n",
    "sample_books['desc_length']=sample_books[\"description\"].str.len()\n",
    "sample_books['review_length']=sample_books[\"reviewText\"].str.len()\n",
    "\n",
    "plotCor(sample_movies,sample_books,\"overall\",\"helpful\",\"Relation overall = f(helpful)\")"
   ]
  },
  {
   "cell_type": "code",
   "execution_count": 18,
   "metadata": {},
   "outputs": [
    {
     "data": {
      "image/png": "[encoded data removed]",
      "text/plain": [
       "<matplotlib.figure.Figure at 0x7f79e75dbe10>"
      ]
     },
     "metadata": {},
     "output_type": "display_data"
    }
   ],
   "source": [
    "plotCor(sample_movies,sample_books,\"overall\",\"desc_length\",\"Relation overall = f(description length)\")"
   ]
  },
  {
   "cell_type": "code",
   "execution_count": 19,
   "metadata": {},
   "outputs": [
    {
     "data": {
      "image/png": "[encoded data removed]",
      "text/plain": [
       "<matplotlib.figure.Figure at 0x7f79e6c0a198>"
      ]
     },
     "metadata": {},
     "output_type": "display_data"
    }
   ],
   "source": [
    "plotCor(sample_movies,sample_books,\"overall\",\"review_length\",\"Relation overall = f(review length)\")"
   ]
  },
  {
   "cell_type": "code",
   "execution_count": 75,
   "metadata": {},
   "outputs": [
    {
     "data": {
      "image/png": "[encoded data removed]",
      "text/plain": [
       "<matplotlib.figure.Figure at 0x7f4706dc0ac8>"
      ]
     },
     "metadata": {},
     "output_type": "display_data"
    }
   ],
   "source": [
    "plotCor(sample_movies,sample_books,\"overall\",\"price\",\"Relation overall = f(price)\")"
   ]
  },
  {
   "cell_type": "markdown",
   "metadata": {},
   "source": [
    "TODO or to do before end of project : sentiment analysis"
   ]
  },
  {
   "cell_type": "markdown",
   "metadata": {},
   "source": [
    "## Analysis"
   ]
  },
  {
   "cell_type": "markdown",
   "metadata": {},
   "source": [
    "In order to ease our different analysis we will add to each row an identifier wich corresponds to a certain franchise. This identifier will be the same for all books and movies products wich are linked to the same IP."
   ]
  },
  {
   "cell_type": "code",
   "execution_count": 27,
   "metadata": {},
   "outputs": [
    {
     "ename": "NameError",
     "evalue": "name 'books_match' is not defined",
     "output_type": "error",
     "traceback": [
      "\u001b[0;31m---------------------------------------------------------------------------\u001b[0m",
      "\u001b[0;31mNameError\u001b[0m                                 Traceback (most recent call last)",
      "\u001b[0;32m<ipython-input-27-73256d752480>\u001b[0m in \u001b[0;36m<module>\u001b[0;34m()\u001b[0m\n\u001b[1;32m      7\u001b[0m \u001b[0;32mfor\u001b[0m \u001b[0mk\u001b[0m\u001b[0;34m,\u001b[0m \u001b[0mv\u001b[0m \u001b[0;32min\u001b[0m \u001b[0mdict_titles\u001b[0m\u001b[0;34m.\u001b[0m\u001b[0mitems\u001b[0m\u001b[0;34m(\u001b[0m\u001b[0;34m)\u001b[0m\u001b[0;34m:\u001b[0m\u001b[0;34m\u001b[0m\u001b[0m\n\u001b[1;32m      8\u001b[0m     \u001b[0massociate\u001b[0m \u001b[0;34m=\u001b[0m \u001b[0;32mFalse\u001b[0m\u001b[0;34m\u001b[0m\u001b[0m\n\u001b[0;32m----> 9\u001b[0;31m     \u001b[0;32mif\u001b[0m \u001b[0mclean_title\u001b[0m\u001b[0;34m(\u001b[0m\u001b[0mk\u001b[0m\u001b[0;34m)\u001b[0m \u001b[0;32min\u001b[0m \u001b[0mbooks_match\u001b[0m \u001b[0;32mand\u001b[0m \u001b[0mlen\u001b[0m\u001b[0;34m(\u001b[0m\u001b[0mbooks_match\u001b[0m\u001b[0;34m[\u001b[0m\u001b[0mclean_title\u001b[0m\u001b[0;34m(\u001b[0m\u001b[0mk\u001b[0m\u001b[0;34m)\u001b[0m\u001b[0;34m]\u001b[0m\u001b[0;34m)\u001b[0m \u001b[0;34m>\u001b[0m \u001b[0;36m0\u001b[0m\u001b[0;34m:\u001b[0m\u001b[0;34m\u001b[0m\u001b[0m\n\u001b[0m\u001b[1;32m     10\u001b[0m         \u001b[0;32mfor\u001b[0m \u001b[0mmov\u001b[0m \u001b[0;32min\u001b[0m \u001b[0mv\u001b[0m\u001b[0;34m:\u001b[0m\u001b[0;34m\u001b[0m\u001b[0m\n\u001b[1;32m     11\u001b[0m             \u001b[0;32mif\u001b[0m \u001b[0mclean_title\u001b[0m\u001b[0;34m(\u001b[0m\u001b[0mmov\u001b[0m\u001b[0;34m)\u001b[0m \u001b[0;32min\u001b[0m \u001b[0mmovies_match\u001b[0m \u001b[0;32mand\u001b[0m \u001b[0mlen\u001b[0m\u001b[0;34m(\u001b[0m\u001b[0mmovies_match\u001b[0m\u001b[0;34m[\u001b[0m\u001b[0mclean_title\u001b[0m\u001b[0;34m(\u001b[0m\u001b[0mmov\u001b[0m\u001b[0;34m)\u001b[0m\u001b[0;34m]\u001b[0m\u001b[0;34m)\u001b[0m \u001b[0;34m>\u001b[0m \u001b[0;36m0\u001b[0m\u001b[0;34m:\u001b[0m\u001b[0;34m\u001b[0m\u001b[0m\n",
      "\u001b[0;31mNameError\u001b[0m: name 'books_match' is not defined"
     ]
    }
   ],
   "source": [
    "def add_franchise_id(df, franchise_dict):\n",
    "    df['franchise_id']=df['asin'].apply(lambda x: franchise_dict[x])\n",
    "    return df\n",
    "\n",
    "product_to_franchise = {}\n",
    "franchise_id = 0\n",
    "for k, v in dict_titles.items():\n",
    "    associate = False\n",
    "    if clean_title(k) in books_match and len(books_match[clean_title(k)]) > 0:\n",
    "        for mov in v:\n",
    "            if clean_title(mov) in movies_match and len(movies_match[clean_title(mov)]) > 0:\n",
    "                associate = True\n",
    "                for movie_product in movies_match[clean_title(mov)]:\n",
    "                    product_to_franchise[movie_product['asin']] = franchise_id\n",
    "        for book_product in books_match[clean_title(k)]:\n",
    "            product_to_franchise[book_product['asin']] = franchise_id\n",
    "    franchise_id += 1 if associate else 0\n",
    "books_df=add_franchise_id(books_df,product_to_franchise)\n",
    "movies_df=add_franchise_id(movies_df,product_to_franchise)\n",
    "books_df.head(5)"
   ]
  },
  {
   "cell_type": "code",
   "execution_count": 2,
   "metadata": {},
   "outputs": [],
   "source": [
    "#TODO execute previous cells and don't load from the files\n",
    "books_df = pd.read_json(\"merged_clean_Books.json\",orient=\"records\")\n",
    "movies_df = pd.read_json(\"merged_clean_Movies.json\",orient=\"records\")"
   ]
  },
  {
   "cell_type": "code",
   "execution_count": 3,
   "metadata": {},
   "outputs": [
    {
     "name": "stdout",
     "output_type": "stream",
     "text": [
      "2395\n",
      "707\n"
     ]
    }
   ],
   "source": [
    "print(len(books_df['asin'].unique()))\n",
    "print(len(movies_df['asin'].unique()))"
   ]
  },
  {
   "cell_type": "markdown",
   "metadata": {},
   "source": [
    "Let's try to see if same users gave reviews for both movies and books and then if we have some users that gave reviews for a pair movie/book"
   ]
  },
  {
   "cell_type": "code",
   "execution_count": 7,
   "metadata": {},
   "outputs": [
    {
     "data": {
      "text/plain": [
       "4638"
      ]
     },
     "execution_count": 7,
     "metadata": {},
     "output_type": "execute_result"
    }
   ],
   "source": [
    "movies_users = movies_df['reviewerID'].unique()\n",
    "books_users = books_df['reviewerID'].unique()\n",
    "users_both = np.intersect1d(movies_users,books_users)\n",
    "len(users_both)"
   ]
  },
  {
   "cell_type": "code",
   "execution_count": 43,
   "metadata": {},
   "outputs": [],
   "source": [
    "user_same_franchise = []\n",
    "for user in users_both:\n",
    "    movies_reviews_fr = movies_df[movies_df[\"reviewerID\"]==user][\"franchise_id\"].unique()\n",
    "    books_reviews_fr = books_df[books_df[\"reviewerID\"]==user][\"franchise_id\"].unique()\n",
    "    if len(np.intersect1d(movies_reviews_fr,books_reviews_fr))>0:\n",
    "        user_same_franchise.append(user)"
   ]
  },
  {
   "cell_type": "code",
   "execution_count": 44,
   "metadata": {},
   "outputs": [
    {
     "data": {
      "text/plain": [
       "1031"
      ]
     },
     "execution_count": 44,
     "metadata": {},
     "output_type": "execute_result"
    }
   ],
   "source": [
    "len(user_same_franchise)"
   ]
  },
  {
   "cell_type": "markdown",
   "metadata": {},
   "source": [
    "We have 1000 users which have given a review for both a movie and a book in the same franchise. This is a relatively small numbers and we will have to increase it for the next step but it should be enough for this milestone.\n",
    "We also notice than nearly 1 over 4 person who gave a review for a movie and a book gave a review for a pair book/movie, wich is a big ratio"
   ]
  },
  {
   "cell_type": "code",
   "execution_count": 20,
   "metadata": {},
   "outputs": [
    {
     "data": {
      "text/html": [
       "<div>\n",
       "<style>\n",
       "    .dataframe thead tr:only-child th {\n",
       "        text-align: right;\n",
       "    }\n",
       "\n",
       "    .dataframe thead th {\n",
       "        text-align: left;\n",
       "    }\n",
       "\n",
       "    .dataframe tbody tr th {\n",
       "        vertical-align: top;\n",
       "    }\n",
       "</style>\n",
       "<table border=\"1\" class=\"dataframe\">\n",
       "  <thead>\n",
       "    <tr style=\"text-align: right;\">\n",
       "      <th></th>\n",
       "      <th>books_mean</th>\n",
       "      <th>movies_mean</th>\n",
       "    </tr>\n",
       "    <tr>\n",
       "      <th>franchise_id</th>\n",
       "      <th></th>\n",
       "      <th></th>\n",
       "    </tr>\n",
       "  </thead>\n",
       "  <tbody>\n",
       "    <tr>\n",
       "      <th>0</th>\n",
       "      <td>4.367347</td>\n",
       "      <td>3.898396</td>\n",
       "    </tr>\n",
       "    <tr>\n",
       "      <th>1</th>\n",
       "      <td>4.297414</td>\n",
       "      <td>4.414286</td>\n",
       "    </tr>\n",
       "    <tr>\n",
       "      <th>2</th>\n",
       "      <td>3.678571</td>\n",
       "      <td>3.875676</td>\n",
       "    </tr>\n",
       "    <tr>\n",
       "      <th>3</th>\n",
       "      <td>4.095238</td>\n",
       "      <td>2.885417</td>\n",
       "    </tr>\n",
       "    <tr>\n",
       "      <th>4</th>\n",
       "      <td>4.530159</td>\n",
       "      <td>3.071429</td>\n",
       "    </tr>\n",
       "  </tbody>\n",
       "</table>\n",
       "</div>"
      ],
      "text/plain": [
       "              books_mean  movies_mean\n",
       "franchise_id                         \n",
       "0               4.367347     3.898396\n",
       "1               4.297414     4.414286\n",
       "2               3.678571     3.875676\n",
       "3               4.095238     2.885417\n",
       "4               4.530159     3.071429"
      ]
     },
     "execution_count": 20,
     "metadata": {},
     "output_type": "execute_result"
    }
   ],
   "source": [
    "groupby_franchise_df = pd.DataFrame()\n",
    "groupby_franchise_df[\"books_mean\"] = books_df.groupby(\"franchise_id\")[\"overall\"].mean()\n",
    "groupby_franchise_df[\"movies_mean\"] = movies_df.groupby(\"franchise_id\")[\"overall\"].mean()\n",
    "groupby_franchise_df.head(5)"
   ]
  },
  {
   "cell_type": "code",
   "execution_count": 38,
   "metadata": {},
   "outputs": [
    {
     "data": {
      "text/html": [
       "<div>\n",
       "<style>\n",
       "    .dataframe thead tr:only-child th {\n",
       "        text-align: right;\n",
       "    }\n",
       "\n",
       "    .dataframe thead th {\n",
       "        text-align: left;\n",
       "    }\n",
       "\n",
       "    .dataframe tbody tr th {\n",
       "        vertical-align: top;\n",
       "    }\n",
       "</style>\n",
       "<table border=\"1\" class=\"dataframe\">\n",
       "  <thead>\n",
       "    <tr style=\"text-align: right;\">\n",
       "      <th></th>\n",
       "      <th>books_mean</th>\n",
       "      <th>movies_mean</th>\n",
       "    </tr>\n",
       "  </thead>\n",
       "  <tbody>\n",
       "    <tr>\n",
       "      <th>count</th>\n",
       "      <td>505.000000</td>\n",
       "      <td>466.000000</td>\n",
       "    </tr>\n",
       "    <tr>\n",
       "      <th>mean</th>\n",
       "      <td>4.184440</td>\n",
       "      <td>3.962316</td>\n",
       "    </tr>\n",
       "    <tr>\n",
       "      <th>std</th>\n",
       "      <td>0.493395</td>\n",
       "      <td>0.620445</td>\n",
       "    </tr>\n",
       "    <tr>\n",
       "      <th>min</th>\n",
       "      <td>1.000000</td>\n",
       "      <td>1.000000</td>\n",
       "    </tr>\n",
       "    <tr>\n",
       "      <th>25%</th>\n",
       "      <td>4.000000</td>\n",
       "      <td>3.638638</td>\n",
       "    </tr>\n",
       "    <tr>\n",
       "      <th>50%</th>\n",
       "      <td>4.257353</td>\n",
       "      <td>4.053419</td>\n",
       "    </tr>\n",
       "    <tr>\n",
       "      <th>75%</th>\n",
       "      <td>4.467532</td>\n",
       "      <td>4.386014</td>\n",
       "    </tr>\n",
       "    <tr>\n",
       "      <th>max</th>\n",
       "      <td>5.000000</td>\n",
       "      <td>5.000000</td>\n",
       "    </tr>\n",
       "  </tbody>\n",
       "</table>\n",
       "</div>"
      ],
      "text/plain": [
       "       books_mean  movies_mean\n",
       "count  505.000000   466.000000\n",
       "mean     4.184440     3.962316\n",
       "std      0.493395     0.620445\n",
       "min      1.000000     1.000000\n",
       "25%      4.000000     3.638638\n",
       "50%      4.257353     4.053419\n",
       "75%      4.467532     4.386014\n",
       "max      5.000000     5.000000"
      ]
     },
     "execution_count": 38,
     "metadata": {},
     "output_type": "execute_result"
    }
   ],
   "source": [
    "groupby_franchise_df.describe()"
   ]
  },
  {
   "cell_type": "code",
   "execution_count": 39,
   "metadata": {},
   "outputs": [
    {
     "data": {
      "text/plain": [
       "<matplotlib.text.Text at 0x7fde40a28e48>"
      ]
     },
     "execution_count": 39,
     "metadata": {},
     "output_type": "execute_result"
    },
    {
     "data": {
      "image/png": "[encoded data removed]",
      "text/plain": [
       "<matplotlib.figure.Figure at 0x7fde40af3b38>"
      ]
     },
     "metadata": {},
     "output_type": "display_data"
    }
   ],
   "source": [
    "zone, (plot1, plot2) = plt.subplots(ncols=2)\n",
    "zone.set_size_inches(16, 8)\n",
    "\n",
    "plot1 = sb.boxplot(y = 'books_mean' , data=groupby_franchise_df, ax = plot1)\n",
    "plot1.set_title(\"Overall notes by franchise for books\")\n",
    "\n",
    "plot2 = sb.boxplot(y = 'movies_mean' , data=groupby_franchise_df, ax = plot2)\n",
    "plot2.set_title(\"Overall notes by franchise for movies\")"
   ]
  },
  {
   "cell_type": "code",
   "execution_count": 42,
   "metadata": {},
   "outputs": [
    {
     "data": {
      "text/plain": [
       "<matplotlib.text.Text at 0x7fde405e9470>"
      ]
     },
     "execution_count": 42,
     "metadata": {},
     "output_type": "execute_result"
    },
    {
     "data": {
      "image/png": "[encoded data removed]",
      "text/plain": [
       "<matplotlib.figure.Figure at 0x7fde40b382e8>"
      ]
     },
     "metadata": {},
     "output_type": "display_data"
    }
   ],
   "source": [
    "zone, (plot1, plot2) = plt.subplots(ncols=2,sharey=True)\n",
    "zone.set_size_inches(16, 8)\n",
    "\n",
    "plot1 = sb.boxplot(y = 'books_mean' , data=groupby_franchise_df, ax = plot1,showfliers=False)\n",
    "plot1.set_title(\"Overall notes by franchise for books\")\n",
    "\n",
    "plot2 = sb.boxplot(y = 'movies_mean' , data=groupby_franchise_df, ax = plot2,showfliers=False)\n",
    "plot2.set_title(\"Overall notes by franchise for movies\")"
   ]
  },
  {
   "cell_type": "code",
   "execution_count": 46,
   "metadata": {},
   "outputs": [
    {
     "data": {
      "text/plain": [
       "283"
      ]
     },
     "execution_count": 46,
     "metadata": {},
     "output_type": "execute_result"
    }
   ],
   "source": [
    "groupby_franchise_df[groupby_franchise_df[\"books_mean\"]>groupby_franchise_df[\"movies_mean\"]].shape[0]"
   ]
  },
  {
   "cell_type": "code",
   "execution_count": 49,
   "metadata": {},
   "outputs": [],
   "source": [
    "user_franchise_df = pd.DataFrame(columns=[\"franchise_id\",\"book_overall\",\"movie_overall\"])\n",
    "for user in user_franchise_df:\n",
    "    pass\n",
    "#TODO make a df with a row for each user/franchise with the mean or overall given by the same user so that we can compare\n",
    "# if users give better overall for books/movies"
   ]
  },
  {
   "cell_type": "code",
   "execution_count": null,
   "metadata": {},
   "outputs": [],
   "source": []
  }
 ],
 "metadata": {
  "kernelspec": {
   "display_name": "Python [conda env:ada]",
   "language": "python",
   "name": "conda-env-ada-py"
  },
  "language_info": {
   "codemirror_mode": {
    "name": "ipython",
    "version": 3
   },
   "file_extension": ".py",
   "mimetype": "text/x-python",
   "name": "python",
   "nbconvert_exporter": "python",
   "pygments_lexer": "ipython3",
   "version": "3.6.2"
  }
 },
 "nbformat": 4,
 "nbformat_minor": 2
}
