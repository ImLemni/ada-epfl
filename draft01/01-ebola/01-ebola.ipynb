{
 "cells": [
  {
   "cell_type": "markdown",
   "metadata": {},
   "source": [
    "## Task 1. Compiling Ebola Data"
   ]
  },
  {
   "cell_type": "markdown",
   "metadata": {},
   "source": [
    "The `DATA_FOLDER/ebola` folder contains summarized reports of Ebola cases from three countries (Guinea, Liberia and Sierra Leone) during the recent outbreak of the disease in West Africa. For each country, there are daily reports that contain various information about the outbreak in several cities in each country.\n",
    "\n",
    "Use pandas to import these data files into a single `Dataframe`.\n",
    "Using this `DataFrame`, calculate for *each country*, the *daily average* per year of *new cases* and *deaths*.\n",
    "Make sure you handle all the different expressions for *new cases* and *deaths* that are used in the reports."
   ]
  },
  {
   "cell_type": "code",
   "execution_count": 217,
   "metadata": {
    "collapsed": true
   },
   "outputs": [],
   "source": [
    "# Import libraries and initialize file paths for each country\n",
    "import os\n",
    "import pandas as pd\n",
    "import numpy as n\n",
    "from typing import Generator\n",
    "\n",
    "def get_file_paths(root: str) -> Generator[str, None, None]:\n",
    "    \"\"\"\n",
    "    Returns the paths for all the files in the subtree of `root`\n",
    "    \"\"\"\n",
    "    for (dir_path, _, file_names) in os.walk(root):\n",
    "        yield from [os.path.join(dir_path, file_name) for file_name in file_names]\n",
    "\n",
    "gn_file_paths = [*get_file_paths(\"./data/guinea_data\")]\n",
    "lr_file_paths = [*get_file_paths(\"./data/liberia_data\")]\n",
    "sl_file_paths = [*get_file_paths(\"./data/sl_data\")]"
   ]
  },
  {
   "cell_type": "code",
   "execution_count": 218,
   "metadata": {},
   "outputs": [],
   "source": [
    "def normalize_daily_data(raw_frame: pd.core.frame.DataFrame, variable_col):\n",
    "    \"\"\"\n",
    "    Normalize the dataframe obtained by reading a a daily CSV to have\n",
    "    one row per (region/date) pair and use columns for each variable.\n",
    "    \"\"\"\n",
    "    # Normalize column names\n",
    "    raw_frame.columns = map(str.lower, raw_frame.columns)\n",
    "    \n",
    "    DATE: str = \"date\"\n",
    "    VARIABLE: str = variable_col\n",
    "    REGION: str = \"region\"\n",
    "    VALUE: str = \"value\"\n",
    "    \n",
    "    values_stack = []\n",
    "    var_names = [] # Index of variables\n",
    "\n",
    "    # Iterate over each variable (row)\n",
    "    for index, row in raw_frame.iterrows():\n",
    "        date = row[DATE]\n",
    "        var_name = row[VARIABLE]\n",
    "        if var_name in var_names:\n",
    "            # Ignore variable: it was already defined\n",
    "            continue\n",
    "        var_names.append(var_name)\n",
    "        \n",
    "        # Iterate over each region (column)\n",
    "        for col_name, value in row.iteritems():\n",
    "            if col_name in {DATE, VARIABLE, \"western area combined\", \"national\", \"totals\"}:\n",
    "                # Ignore: not a region\n",
    "                continue\n",
    "            values_stack.append({DATE: pd.to_datetime(date), REGION: col_name, VARIABLE: var_name, VALUE: value})\n",
    "            \n",
    "    stack_frame = pd.DataFrame(values_stack)\n",
    "    pivoted = stack_frame.set_index([DATE, REGION, VARIABLE]).unstack(VARIABLE)\n",
    "    # Drop to level (\"value\") of the column's multi index\n",
    "    pivoted.columns = [col[1] for col in pivoted.columns] \n",
    "    return pivoted\n"
   ]
  },
  {
   "cell_type": "markdown",
   "metadata": {},
   "source": [
    "## Compute merged dataframes for each country"
   ]
  },
  {
   "cell_type": "code",
   "execution_count": 219,
   "metadata": {
    "collapsed": true
   },
   "outputs": [],
   "source": [
    "def normalize_sl(raw_frame: pd.core.frame.DataFrame):\n",
    "    \"\"\"\n",
    "    Normalize the dataframe obtained by reading a Sierra Leone CSV to have\n",
    "    one row per (region/date) pair and use columns for each variable.\n",
    "    \"\"\"\n",
    "    return normalize_daily_data(raw_frame, \"variable\")\n",
    "\n",
    "sl = pd.concat([normalize_sl(pd.read_csv(path)) for path in sl_file_paths])"
   ]
  },
  {
   "cell_type": "code",
   "execution_count": 220,
   "metadata": {},
   "outputs": [],
   "source": [
    "def normalize_lr(raw_frame: pd.core.frame.DataFrame):\n",
    "    \"\"\"\n",
    "    Normalize the dataframe obtained by reading a Liberia CSV to have\n",
    "    one row per (region/date) pair and use columns for each variable.\n",
    "    \"\"\"\n",
    "    return normalize_daily_data(raw_frame, \"variable\")\n",
    "\n",
    "lr = pd.concat([normalize_lr(pd.read_csv(path)) for path in lr_file_paths])"
   ]
  },
  {
   "cell_type": "code",
   "execution_count": 221,
   "metadata": {
    "collapsed": true
   },
   "outputs": [],
   "source": [
    "def normalize_gn(raw_frame: pd.core.frame.DataFrame):\n",
    "    \"\"\"\n",
    "    Normalize the dataframe obtained by reading a Guinea CSV to have\n",
    "    one row per (region/date) pair and use columns for each variable.\n",
    "    \"\"\"\n",
    "    return normalize_daily_data(raw_frame, \"description\")\n",
    "\n",
    "gn = pd.concat([normalize_gn(pd.read_csv(path)) for path in gn_file_paths])"
   ]
  },
  {
   "cell_type": "code",
   "execution_count": 222,
   "metadata": {
    "collapsed": true
   },
   "outputs": [],
   "source": [
    "# Ensure that the column names are lowercase\n",
    "for df in [gn, sl, lr]:\n",
    "    df.columns = map(str.lower, df.columns)"
   ]
  },
  {
   "cell_type": "code",
   "execution_count": 223,
   "metadata": {},
   "outputs": [],
   "source": [
    "# Ensure that the percentages are expressed as floats\n",
    "\n",
    "import math\n",
    "\n",
    "def percent_to_float(str_or_nan):\n",
    "    val = str_or_nan\n",
    "    if type(str_or_nan) == str:\n",
    "        str_or_nan = str_or_nan.replace(\"%\", \"\")\n",
    "        try:\n",
    "            val = float(str_or_nan)\n",
    "        except ValueError:\n",
    "            val = float('nan')\n",
    "    return val / 100\n",
    "\n",
    "gn[\"fatality rate for confirmed and probables\"] = gn[\"fatality rate for confirmed and probables\"].map(percent_to_float)\n",
    "sl[\"percent_seen\"] = sl[\"percent_seen\"].map(percent_to_float)"
   ]
  },
  {
   "cell_type": "markdown",
   "metadata": {},
   "source": [
    "## Create columns for deaths and new cases analysis\n",
    "\n",
    "For the Liberia and Sierra Leone, we select already available that are mostly complete.\n",
    "We select the confirmed cases and deaths to reduce the uncertainty of the data.\n",
    "For the Guinea, the daily data is too sparse (missing in too many regions/days) so we work with the delta on cumulated values instead."
   ]
  },
  {
   "cell_type": "code",
   "execution_count": 224,
   "metadata": {},
   "outputs": [],
   "source": [
    "# Copy columns to normalize the name\n",
    "lr[\"$deaths\"] = pd.to_numeric(lr[\"newly reported deaths\"])\n",
    "lr[\"$new_cases\"] = pd.to_numeric(lr[\"new case/s (confirmed)\"])\n",
    "# See next cell for Guinea\n",
    "# gn[\"$deaths\"] = pd.to_numeric(gn[\"total deaths of confirmed\"])\n",
    "# gn[\"$new_cases\"] = pd.to_numeric(gn[\"total cases of confirmed\"])\n",
    "sl[\"$deaths\"] = pd.to_numeric(sl[\"death_confirmed\"])\n",
    "sl[\"$new_cases\"] = pd.to_numeric(sl[\"new_confirmed\"])"
   ]
  },
  {
   "cell_type": "code",
   "execution_count": 225,
   "metadata": {},
   "outputs": [],
   "source": [
    "# Use delta of cumulated values for Guinea\n",
    "# We split the dataframe per region, compute the deltas and then merge the results.\n",
    "\n",
    "regional_data_frames = []\n",
    "\n",
    "gn[\"total deaths of confirmed\"] = pd.to_numeric(gn[\"total deaths of confirmed\"])\n",
    "gn[\"total cases of confirmed\"] = pd.to_numeric(gn[\"total cases of confirmed\"])\n",
    "tmp_gn = gn[[*gn.columns]]\n",
    "tmp_gn.reset_index(inplace=True)\n",
    "tmp_gn = tmp_gn.set_index([\"region\", \"date\"])\n",
    "tmp_gn.sort_index(inplace=True)\n",
    "# tmp_gn is now sorted and indexed by region and date\n",
    "\n",
    "for region in tmp_gn.index.levels[0]:\n",
    "    regional_df = tmp_gn.loc[region, :].copy()\n",
    "    # Compute $deaths and $new_cases as the rate of change of \"total deaths of confirmed\" and \"total cases of confirmed\"\n",
    "    # After the diff, replace the first NaN by the original value (assume that the total is zero at `time == -Inf`)\n",
    "    regional_df[\"$deaths\"] = regional_df[\"total deaths of confirmed\"].fillna(method=\"pad\").diff().clip(0).fillna(regional_df[\"total deaths of confirmed\"])\n",
    "    regional_df[\"$new_cases\"] = regional_df[\"total cases of confirmed\"].fillna(method=\"pad\").diff().clip(0).fillna(regional_df[\"total cases of confirmed\"])\n",
    "    regional_df[\"region\"] = region\n",
    "    regional_data_frames.append(regional_df)\n",
    "\n",
    "regional_data_frames[0]\n",
    "\n",
    "gn = pd.concat(regional_data_frames)\n",
    "gn.reset_index(inplace=True)\n",
    "#     gn.drop(\"index\")\n",
    "gn = gn.set_index([\"date\", \"region\"])\n",
    "gn.sort_index(inplace=True)"
   ]
  },
  {
   "cell_type": "code",
   "execution_count": 226,
   "metadata": {
    "collapsed": true
   },
   "outputs": [],
   "source": [
    "# Emit merged data frames to the disk (to better view them)\n",
    "\n",
    "COUNTRY = \"country\"\n",
    "REGION: str = \"region\"\n",
    "DATE: str = \"date\"\n",
    "\n",
    "# gn.rename(columns={'cumulative cfr': 'cfr'}, inplace=True)\n",
    "\n",
    "gn.to_csv(\"./gn.csv\")\n",
    "sl.to_csv(\"./sl.csv\")\n",
    "lr.to_csv(\"./lr.csv\")\n",
    "\n",
    "# Anotate the country\n",
    "gn[COUNTRY] = \"gn\"\n",
    "sl[COUNTRY] = \"sl\"\n",
    "lr[COUNTRY] = \"lr\"\n",
    "\n",
    "# Concat all and reindex by country/region/date\n",
    "ebola = pd.concat([gn, lr, sl])\n",
    "ebola.reset_index(inplace=True)\n",
    "ebola = ebola.set_index([COUNTRY, DATE, REGION])\n",
    "ebola.to_csv(\"./ebola.csv\")"
   ]
  },
  {
   "cell_type": "markdown",
   "metadata": {},
   "source": [
    "### Daily average per month of new cases and deaths"
   ]
  },
  {
   "cell_type": "code",
   "execution_count": 288,
   "metadata": {},
   "outputs": [
    {
     "data": {
      "text/html": [
       "<div>\n",
       "<style>\n",
       "    .dataframe thead tr:only-child th {\n",
       "        text-align: right;\n",
       "    }\n",
       "\n",
       "    .dataframe thead th {\n",
       "        text-align: left;\n",
       "    }\n",
       "\n",
       "    .dataframe tbody tr th {\n",
       "        vertical-align: top;\n",
       "    }\n",
       "</style>\n",
       "<table border=\"1\" class=\"dataframe\">\n",
       "  <thead>\n",
       "    <tr style=\"text-align: right;\">\n",
       "      <th></th>\n",
       "      <th></th>\n",
       "      <th>Daily deaths</th>\n",
       "      <th>Daily new cases</th>\n",
       "    </tr>\n",
       "    <tr>\n",
       "      <th>date</th>\n",
       "      <th>date</th>\n",
       "      <th></th>\n",
       "      <th></th>\n",
       "    </tr>\n",
       "  </thead>\n",
       "  <tbody>\n",
       "    <tr>\n",
       "      <th rowspan=\"3\" valign=\"top\">2014</th>\n",
       "      <th>8</th>\n",
       "      <td>30.287879</td>\n",
       "      <td>58.166667</td>\n",
       "    </tr>\n",
       "    <tr>\n",
       "      <th>9</th>\n",
       "      <td>95.916667</td>\n",
       "      <td>208.250000</td>\n",
       "    </tr>\n",
       "    <tr>\n",
       "      <th>10</th>\n",
       "      <td>28.000000</td>\n",
       "      <td>25.000000</td>\n",
       "    </tr>\n",
       "  </tbody>\n",
       "</table>\n",
       "</div>"
      ],
      "text/plain": [
       "           Daily deaths  Daily new cases\n",
       "date date                               \n",
       "2014 8        30.287879        58.166667\n",
       "     9        95.916667       208.250000\n",
       "     10       28.000000        25.000000"
      ]
     },
     "execution_count": 288,
     "metadata": {},
     "output_type": "execute_result"
    }
   ],
   "source": [
    "def duration_to_days(x):\n",
    "    return x \n",
    "\n",
    "def get_monthly_new_cases_and_deaths(df):\n",
    "    # Keep only the 2 columns we need\n",
    "    data = df.reset_index(level=1)[[\"$deaths\", \"$new_cases\"]]\n",
    "    # Sum over all the regions for each date\n",
    "    all_regions = data.dropna().groupby(\"date\").sum()\n",
    "    # Compute \"days since last data-point\" (to deal with mi)\n",
    "    all_regions[\"days\"] = all_regions.index\n",
    "    all_regions[\"days\"] = all_regions[\"days\"].diff() / pd.Timedelta(1, unit='d')\n",
    "    all_regions[\"$premultiplied_daily_deaths\"] = all_regions[\"$deaths\"] / all_regions[\"days\"]\n",
    "    all_regions[\"$premultiplied_daily_new_cases\"] = all_regions[\"$new_cases\"] / all_regions[\"days\"]\n",
    "\n",
    "    result = all_regions.groupby([all_regions.index.year, all_regions.index.month]).sum()\n",
    "    # Remove temporary columns\n",
    "    result = result.drop(\"$deaths\", axis=1).drop(\"$new_cases\", axis=1).drop(\"days\", axis=1)\n",
    "    result.rename(columns={\"$premultiplied_daily_deaths\": \"Daily deaths\"}, inplace=True)\n",
    "    result.rename(columns={\"$premultiplied_daily_new_cases\": \"Daily new cases\"}, inplace=True)\n",
    "    return result"
   ]
  },
  {
   "cell_type": "markdown",
   "metadata": {},
   "source": [
    "## Guinea"
   ]
  },
  {
   "cell_type": "code",
   "execution_count": 289,
   "metadata": {},
   "outputs": [
    {
     "data": {
      "text/html": [
       "<div>\n",
       "<style>\n",
       "    .dataframe thead tr:only-child th {\n",
       "        text-align: right;\n",
       "    }\n",
       "\n",
       "    .dataframe thead th {\n",
       "        text-align: left;\n",
       "    }\n",
       "\n",
       "    .dataframe tbody tr th {\n",
       "        vertical-align: top;\n",
       "    }\n",
       "</style>\n",
       "<table border=\"1\" class=\"dataframe\">\n",
       "  <thead>\n",
       "    <tr style=\"text-align: right;\">\n",
       "      <th></th>\n",
       "      <th></th>\n",
       "      <th>Daily deaths</th>\n",
       "      <th>Daily new cases</th>\n",
       "    </tr>\n",
       "    <tr>\n",
       "      <th>date</th>\n",
       "      <th>date</th>\n",
       "      <th></th>\n",
       "      <th></th>\n",
       "    </tr>\n",
       "  </thead>\n",
       "  <tbody>\n",
       "    <tr>\n",
       "      <th rowspan=\"3\" valign=\"top\">2014</th>\n",
       "      <th>8</th>\n",
       "      <td>30.287879</td>\n",
       "      <td>58.166667</td>\n",
       "    </tr>\n",
       "    <tr>\n",
       "      <th>9</th>\n",
       "      <td>95.916667</td>\n",
       "      <td>208.250000</td>\n",
       "    </tr>\n",
       "    <tr>\n",
       "      <th>10</th>\n",
       "      <td>28.000000</td>\n",
       "      <td>25.000000</td>\n",
       "    </tr>\n",
       "  </tbody>\n",
       "</table>\n",
       "</div>"
      ],
      "text/plain": [
       "           Daily deaths  Daily new cases\n",
       "date date                               \n",
       "2014 8        30.287879        58.166667\n",
       "     9        95.916667       208.250000\n",
       "     10       28.000000        25.000000"
      ]
     },
     "execution_count": 289,
     "metadata": {},
     "output_type": "execute_result"
    }
   ],
   "source": [
    "get_monthly_new_cases_and_deaths(gn)"
   ]
  },
  {
   "cell_type": "markdown",
   "metadata": {},
   "source": [
    "## Liberia"
   ]
  },
  {
   "cell_type": "code",
   "execution_count": 203,
   "metadata": {},
   "outputs": [
    {
     "data": {
      "text/html": [
       "<div>\n",
       "<style>\n",
       "    .dataframe thead tr:only-child th {\n",
       "        text-align: right;\n",
       "    }\n",
       "\n",
       "    .dataframe thead th {\n",
       "        text-align: left;\n",
       "    }\n",
       "\n",
       "    .dataframe tbody tr th {\n",
       "        vertical-align: top;\n",
       "    }\n",
       "</style>\n",
       "<table border=\"1\" class=\"dataframe\">\n",
       "  <thead>\n",
       "    <tr style=\"text-align: right;\">\n",
       "      <th></th>\n",
       "      <th></th>\n",
       "      <th>$deaths</th>\n",
       "      <th>$new_cases</th>\n",
       "    </tr>\n",
       "    <tr>\n",
       "      <th>date</th>\n",
       "      <th>date</th>\n",
       "      <th></th>\n",
       "      <th></th>\n",
       "    </tr>\n",
       "  </thead>\n",
       "  <tbody>\n",
       "    <tr>\n",
       "      <th rowspan=\"6\" valign=\"top\">2014</th>\n",
       "      <th>6</th>\n",
       "      <td>1.857143</td>\n",
       "      <td>2.142857</td>\n",
       "    </tr>\n",
       "    <tr>\n",
       "      <th>7</th>\n",
       "      <td>4.272727</td>\n",
       "      <td>1.818182</td>\n",
       "    </tr>\n",
       "    <tr>\n",
       "      <th>8</th>\n",
       "      <td>8.666667</td>\n",
       "      <td>8.166667</td>\n",
       "    </tr>\n",
       "    <tr>\n",
       "      <th>9</th>\n",
       "      <td>37.608696</td>\n",
       "      <td>6.217391</td>\n",
       "    </tr>\n",
       "    <tr>\n",
       "      <th>10</th>\n",
       "      <td>27.285714</td>\n",
       "      <td>1.476190</td>\n",
       "    </tr>\n",
       "    <tr>\n",
       "      <th>11</th>\n",
       "      <td>11.500000</td>\n",
       "      <td>10.500000</td>\n",
       "    </tr>\n",
       "  </tbody>\n",
       "</table>\n",
       "</div>"
      ],
      "text/plain": [
       "             $deaths  $new_cases\n",
       "date date                       \n",
       "2014 6      1.857143    2.142857\n",
       "     7      4.272727    1.818182\n",
       "     8      8.666667    8.166667\n",
       "     9     37.608696    6.217391\n",
       "     10    27.285714    1.476190\n",
       "     11    11.500000   10.500000"
      ]
     },
     "execution_count": 203,
     "metadata": {},
     "output_type": "execute_result"
    }
   ],
   "source": [
    "get_monthly_new_cases_and_deaths(lr)"
   ]
  },
  {
   "cell_type": "markdown",
   "metadata": {},
   "source": [
    "## Sierra Leone"
   ]
  },
  {
   "cell_type": "code",
   "execution_count": 205,
   "metadata": {},
   "outputs": [
    {
     "data": {
      "text/html": [
       "<div>\n",
       "<style>\n",
       "    .dataframe thead tr:only-child th {\n",
       "        text-align: right;\n",
       "    }\n",
       "\n",
       "    .dataframe thead th {\n",
       "        text-align: left;\n",
       "    }\n",
       "\n",
       "    .dataframe tbody tr th {\n",
       "        vertical-align: top;\n",
       "    }\n",
       "</style>\n",
       "<table border=\"1\" class=\"dataframe\">\n",
       "  <thead>\n",
       "    <tr style=\"text-align: right;\">\n",
       "      <th></th>\n",
       "      <th></th>\n",
       "      <th>$deaths</th>\n",
       "      <th>$new_cases</th>\n",
       "    </tr>\n",
       "    <tr>\n",
       "      <th>date</th>\n",
       "      <th>date</th>\n",
       "      <th></th>\n",
       "      <th></th>\n",
       "    </tr>\n",
       "  </thead>\n",
       "  <tbody>\n",
       "    <tr>\n",
       "      <th rowspan=\"5\" valign=\"top\">2014</th>\n",
       "      <th>8</th>\n",
       "      <td>331.150000</td>\n",
       "      <td>19.600000</td>\n",
       "    </tr>\n",
       "    <tr>\n",
       "      <th>9</th>\n",
       "      <td>470.642857</td>\n",
       "      <td>36.714286</td>\n",
       "    </tr>\n",
       "    <tr>\n",
       "      <th>10</th>\n",
       "      <td>944.888889</td>\n",
       "      <td>58.851852</td>\n",
       "    </tr>\n",
       "    <tr>\n",
       "      <th>11</th>\n",
       "      <td>1356.428571</td>\n",
       "      <td>71.785714</td>\n",
       "    </tr>\n",
       "    <tr>\n",
       "      <th>12</th>\n",
       "      <td>1622.000000</td>\n",
       "      <td>54.333333</td>\n",
       "    </tr>\n",
       "  </tbody>\n",
       "</table>\n",
       "</div>"
      ],
      "text/plain": [
       "               $deaths  $new_cases\n",
       "date date                         \n",
       "2014 8      331.150000   19.600000\n",
       "     9      470.642857   36.714286\n",
       "     10     944.888889   58.851852\n",
       "     11    1356.428571   71.785714\n",
       "     12    1622.000000   54.333333"
      ]
     },
     "execution_count": 205,
     "metadata": {},
     "output_type": "execute_result"
    }
   ],
   "source": [
    "get_monthly_new_cases_and_deaths(sl)"
   ]
  }
 ],
 "metadata": {
  "kernelspec": {
   "display_name": "Python [default]",
   "language": "python",
   "name": "python3"
  },
  "language_info": {
   "codemirror_mode": {
    "name": "ipython",
    "version": 3
   },
   "file_extension": ".py",
   "mimetype": "text/x-python",
   "name": "python",
   "nbconvert_exporter": "python",
   "pygments_lexer": "ipython3",
   "version": "3.6.2"
  }
 },
 "nbformat": 4,
 "nbformat_minor": 1
}
