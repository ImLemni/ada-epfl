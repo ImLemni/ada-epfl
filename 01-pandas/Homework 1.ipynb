{
 "cells": [
  {
   "cell_type": "markdown",
   "metadata": {},
   "source": [
    "# Table of Contents\n",
    " <p><div class=\"lev1\"><a href=\"#Task-1.-Compiling-Ebola-Data\"><span class=\"toc-item-num\">Task 1.&nbsp;&nbsp;</span>Compiling Ebola Data</a></div>\n",
    " <div class=\"lev1\"><a href=\"#Task-2.-RNA-Sequences\"><span class=\"toc-item-num\">Task 2.&nbsp;&nbsp;</span>RNA Sequences</a></div>\n",
    " <div class=\"lev1\"><a href=\"#Task-3.-Class-War-in-Titanic\"><span class=\"toc-item-num\">Task 3.&nbsp;&nbsp;</span>Class War in Titanic</a></div></p>"
   ]
  },
  {
   "cell_type": "code",
   "execution_count": 1,
   "metadata": {
    "collapsed": true
   },
   "outputs": [],
   "source": [
    "DATA_FOLDER = './Data'\n",
    "import pandas as pd\n",
    "import numpy as np\n",
    "import os, glob\n",
    "from typing import Generator"
   ]
  },
  {
   "cell_type": "markdown",
   "metadata": {},
   "source": [
    "## Task 1. Compiling Ebola Data\n",
    "\n",
    "The `DATA_FOLDER/ebola` folder contains summarized reports of Ebola cases from three countries (Guinea, Liberia and Sierra Leone) during the recent outbreak of the disease in West Africa. For each country, there are daily reports that contain various information about the outbreak in several cities in each country.\n",
    "\n",
    "Use pandas to import these data files into a single `Dataframe`.\n",
    "Using this `DataFrame`, calculate for *each country*, the *daily average per month* of *new cases* and *deaths*.\n",
    "Make sure you handle all the different expressions for *new cases* and *deaths* that are used in the reports."
   ]
  },
  {
   "cell_type": "code",
   "execution_count": 2,
   "metadata": {
    "collapsed": true
   },
   "outputs": [],
   "source": [
    "#Initialize file paths for each country\n",
    "def get_file_paths(root: str) -> Generator[str, None, None]:\n",
    "    \"\"\"\n",
    "    Returns the paths for all the files in the subtree of `root`\n",
    "    \"\"\"\n",
    "    for (dir_path, _, file_names) in os.walk(root):\n",
    "        yield from [os.path.join(dir_path, file_name) for file_name in file_names]\n",
    "\n",
    "gn_file_paths = [*get_file_paths(os.path.join(DATA_FOLDER,\"ebola\",\"guinea_data\"))]\n",
    "lr_file_paths = [*get_file_paths(os.path.join(DATA_FOLDER,\"ebola\",\"liberia_data\"))]\n",
    "sl_file_paths = [*get_file_paths(os.path.join(DATA_FOLDER,\"ebola\",\"sl_data\"))]"
   ]
  },
  {
   "cell_type": "code",
   "execution_count": 3,
   "metadata": {
    "collapsed": true
   },
   "outputs": [],
   "source": [
    "def normalize_daily_data(raw_frame: pd.core.frame.DataFrame, variable_col):\n",
    "    \"\"\"\n",
    "    Normalize the dataframe obtained by reading a a daily CSV to have\n",
    "    one row per (region/date) pair and use columns for each variable.\n",
    "    \"\"\"\n",
    "    # Normalize column names\n",
    "    raw_frame.columns = map(str.lower, raw_frame.columns)\n",
    "    \n",
    "    DATE = \"date\"\n",
    "    VARIABLE = variable_col\n",
    "    REGION  = \"region\"\n",
    "    VALUE = \"value\"\n",
    "    \n",
    "    values_stack = []\n",
    "    var_names = [] # Index of variables\n",
    "\n",
    "    # Iterate over each variable (row)\n",
    "    for index, row in raw_frame.iterrows():\n",
    "        date = row[DATE]\n",
    "        var_name = row[VARIABLE]\n",
    "        if var_name in var_names:\n",
    "            # Ignore variable: it was already defined\n",
    "            continue\n",
    "        var_names.append(var_name)\n",
    "        \n",
    "        # Iterate over each region (column)\n",
    "        for col_name, value in row.iteritems():\n",
    "            if col_name in {DATE, VARIABLE, \"western area combined\", \"national\", \"totals\"}:\n",
    "                # Ignore: not a region\n",
    "                continue\n",
    "            values_stack.append({DATE: pd.to_datetime(date), REGION: col_name, VARIABLE: var_name, VALUE: value})\n",
    "            \n",
    "    stack_frame = pd.DataFrame(values_stack)\n",
    "    pivoted = stack_frame.set_index([DATE, REGION, VARIABLE]).unstack(VARIABLE)\n",
    "    # Drop to level (\"value\") of the column's multi index\n",
    "    pivoted.columns = [col[1] for col in pivoted.columns] \n",
    "    return pivoted\n"
   ]
  },
  {
   "cell_type": "markdown",
   "metadata": {},
   "source": [
    "## Compute merged dataframes for each country"
   ]
  },
  {
   "cell_type": "code",
   "execution_count": 4,
   "metadata": {
    "collapsed": true
   },
   "outputs": [],
   "source": [
    "def normalize_sl(raw_frame: pd.core.frame.DataFrame):\n",
    "    \"\"\"\n",
    "    Normalize the dataframe obtained by reading a Sierra Leone CSV to have\n",
    "    one row per (region/date) pair and use columns for each variable.\n",
    "    \"\"\"\n",
    "    return normalize_daily_data(raw_frame, \"variable\")\n",
    "\n",
    "sl = pd.concat([normalize_sl(pd.read_csv(path)) for path in sl_file_paths])"
   ]
  },
  {
   "cell_type": "code",
   "execution_count": 5,
   "metadata": {
    "collapsed": true
   },
   "outputs": [],
   "source": [
    "def normalize_lr(raw_frame: pd.core.frame.DataFrame):\n",
    "    \"\"\"\n",
    "    Normalize the dataframe obtained by reading a Liberia CSV to have\n",
    "    one row per (region/date) pair and use columns for each variable.\n",
    "    \"\"\"\n",
    "    return normalize_daily_data(raw_frame, \"variable\")\n",
    "\n",
    "lr = pd.concat([normalize_lr(pd.read_csv(path)) for path in lr_file_paths])"
   ]
  },
  {
   "cell_type": "code",
   "execution_count": 6,
   "metadata": {
    "collapsed": true
   },
   "outputs": [],
   "source": [
    "def normalize_gn(raw_frame: pd.core.frame.DataFrame):\n",
    "    \"\"\"\n",
    "    Normalize the dataframe obtained by reading a Guinea CSV to have\n",
    "    one row per (region/date) pair and use columns for each variable.\n",
    "    \"\"\"\n",
    "    return normalize_daily_data(raw_frame, \"description\")\n",
    "\n",
    "gn = pd.concat([normalize_gn(pd.read_csv(path)) for path in gn_file_paths])"
   ]
  },
  {
   "cell_type": "code",
   "execution_count": 7,
   "metadata": {
    "collapsed": true
   },
   "outputs": [],
   "source": [
    "# Ensure that the column names are lowercase\n",
    "for df in [gn, sl, lr]:\n",
    "    df.columns = map(str.lower, df.columns)"
   ]
  },
  {
   "cell_type": "code",
   "execution_count": 8,
   "metadata": {
    "collapsed": true
   },
   "outputs": [],
   "source": [
    "# Ensure that the percentages are expressed as floats\n",
    "\n",
    "import math\n",
    "\n",
    "def percent_to_float(str_or_nan):\n",
    "    val = str_or_nan\n",
    "    if type(str_or_nan) == str:\n",
    "        str_or_nan = str_or_nan.replace(\"%\", \"\")\n",
    "        try:\n",
    "            val = float(str_or_nan)\n",
    "        except ValueError:\n",
    "            val = float('nan')\n",
    "    return val / 100\n",
    "\n",
    "gn[\"fatality rate for confirmed and probables\"] = gn[\"fatality rate for confirmed and probables\"].map(percent_to_float)\n",
    "sl[\"percent_seen\"] = sl[\"percent_seen\"].map(percent_to_float)"
   ]
  },
  {
   "cell_type": "markdown",
   "metadata": {},
   "source": [
    "## Create columns for deaths and new cases analysis\n",
    "\n",
    "For the Liberia and Sierra Leone, we select already available that are mostly complete.\n",
    "We select the confirmed cases and deaths to reduce the uncertainty of the data.\n",
    "For the Guinea, the daily data is too sparse (missing in too many regions/days) so we work with the delta on cumulated values instead."
   ]
  },
  {
   "cell_type": "code",
   "execution_count": 9,
   "metadata": {
    "collapsed": true
   },
   "outputs": [],
   "source": [
    "# Copy columns to normalize the name\n",
    "lr[\"$deaths\"] = pd.to_numeric(lr[\"newly reported deaths\"])\n",
    "lr[\"$new_cases\"] = pd.to_numeric(lr[\"new case/s (confirmed)\"])\n",
    "# See next cell for Guinea\n",
    "# gn[\"$deaths\"] = pd.to_numeric(gn[\"total deaths of confirmed\"])\n",
    "# gn[\"$new_cases\"] = pd.to_numeric(gn[\"total cases of confirmed\"])\n",
    "sl[\"$deaths\"] = pd.to_numeric(sl[\"death_confirmed\"])\n",
    "sl[\"$new_cases\"] = pd.to_numeric(sl[\"new_confirmed\"])"
   ]
  },
  {
   "cell_type": "code",
   "execution_count": 10,
   "metadata": {
    "collapsed": true
   },
   "outputs": [],
   "source": [
    "# Use delta of cumulated values for Guinea\n",
    "# We split the dataframe per region, compute the deltas and then merge the results.\n",
    "\n",
    "regional_data_frames = []\n",
    "\n",
    "gn[\"total deaths of confirmed\"] = pd.to_numeric(gn[\"total deaths of confirmed\"])\n",
    "gn[\"total cases of confirmed\"] = pd.to_numeric(gn[\"total cases of confirmed\"])\n",
    "tmp_gn = gn[[*gn.columns]]\n",
    "tmp_gn.reset_index(inplace=True)\n",
    "tmp_gn = tmp_gn.set_index([\"region\", \"date\"])\n",
    "tmp_gn.sort_index(inplace=True)\n",
    "# tmp_gn is now sorted and indexed by region and date\n",
    "\n",
    "for region in tmp_gn.index.levels[0]:\n",
    "    regional_df = tmp_gn.loc[region, :].copy()\n",
    "    # Compute $deaths and $new_cases as the rate of change of \"total deaths of confirmed\" and \"total cases of confirmed\"\n",
    "    # After the diff, replace the first NaN by the original value (assume that the total is zero at `time == -Inf`)\n",
    "    regional_df[\"$deaths\"] = regional_df[\"total deaths of confirmed\"].fillna(method=\"pad\").diff().clip(0).fillna(regional_df[\"total deaths of confirmed\"])\n",
    "    regional_df[\"$new_cases\"] = regional_df[\"total cases of confirmed\"].fillna(method=\"pad\").diff().clip(0).fillna(regional_df[\"total cases of confirmed\"])\n",
    "    regional_df[\"region\"] = region\n",
    "    regional_data_frames.append(regional_df)\n",
    "\n",
    "regional_data_frames[0]\n",
    "\n",
    "gn = pd.concat(regional_data_frames)\n",
    "gn.reset_index(inplace=True)\n",
    "#     gn.drop(\"index\")\n",
    "gn = gn.set_index([\"date\", \"region\"])\n",
    "gn.sort_index(inplace=True)"
   ]
  },
  {
   "cell_type": "code",
   "execution_count": 11,
   "metadata": {
    "collapsed": true
   },
   "outputs": [],
   "source": [
    "# Emit merged data frames to the disk (to better view them)\n",
    "\n",
    "COUNTRY = \"country\"\n",
    "REGION = \"region\"\n",
    "DATE = \"date\"\n",
    "\n",
    "# gn.rename(columns={'cumulative cfr': 'cfr'}, inplace=True)\n",
    "\n",
    "gn.to_csv(\"./gn.csv\")\n",
    "sl.to_csv(\"./sl.csv\")\n",
    "lr.to_csv(\"./lr.csv\")\n",
    "\n",
    "# Anotate the country\n",
    "gn[COUNTRY] = \"gn\"\n",
    "sl[COUNTRY] = \"sl\"\n",
    "lr[COUNTRY] = \"lr\"\n",
    "\n",
    "# Concat all and reindex by country/region/date\n",
    "ebola = pd.concat([gn, lr, sl])\n",
    "ebola.reset_index(inplace=True)\n",
    "ebola = ebola.set_index([COUNTRY, DATE, REGION])\n",
    "ebola.to_csv(\"./ebola.csv\")"
   ]
  },
  {
   "cell_type": "markdown",
   "metadata": {},
   "source": [
    "### Daily average per month of new cases and deaths"
   ]
  },
  {
   "cell_type": "code",
   "execution_count": 12,
   "metadata": {
    "collapsed": true
   },
   "outputs": [],
   "source": [
    "def duration_to_days(x):\n",
    "    return x \n",
    "\n",
    "def get_monthly_new_cases_and_deaths(df):\n",
    "    # Keep only the 2 columns we need\n",
    "    data = df.reset_index(level=1)[[\"$deaths\", \"$new_cases\"]]\n",
    "    # Sum over all the regions for each date\n",
    "    all_regions = data.dropna().groupby(\"date\").sum()\n",
    "    # Compute \"days since last data-point\" (to deal with mi)\n",
    "    all_regions[\"days\"] = all_regions.index\n",
    "    all_regions[\"days\"] = all_regions[\"days\"].diff() / pd.Timedelta(1, unit='d')\n",
    "    all_regions[\"$premultiplied_daily_deaths\"] = all_regions[\"$deaths\"] / all_regions[\"days\"]\n",
    "    all_regions[\"$premultiplied_daily_new_cases\"] = all_regions[\"$new_cases\"] / all_regions[\"days\"]\n",
    "\n",
    "    result = all_regions.groupby([all_regions.index.year, all_regions.index.month]).sum()\n",
    "    # Remove temporary columns\n",
    "    result = result.drop(\"$deaths\", axis=1).drop(\"$new_cases\", axis=1).drop(\"days\", axis=1)\n",
    "    result.rename(columns={\"$premultiplied_daily_deaths\": \"Daily deaths\"}, inplace=True)\n",
    "    result.rename(columns={\"$premultiplied_daily_new_cases\": \"Daily new cases\"}, inplace=True)\n",
    "    return result"
   ]
  },
  {
   "cell_type": "markdown",
   "metadata": {},
   "source": [
    "## Guinea"
   ]
  },
  {
   "cell_type": "code",
   "execution_count": 13,
   "metadata": {},
   "outputs": [
    {
     "data": {
      "text/html": [
       "<div>\n",
       "<style>\n",
       "    .dataframe thead tr:only-child th {\n",
       "        text-align: right;\n",
       "    }\n",
       "\n",
       "    .dataframe thead th {\n",
       "        text-align: left;\n",
       "    }\n",
       "\n",
       "    .dataframe tbody tr th {\n",
       "        vertical-align: top;\n",
       "    }\n",
       "</style>\n",
       "<table border=\"1\" class=\"dataframe\">\n",
       "  <thead>\n",
       "    <tr style=\"text-align: right;\">\n",
       "      <th></th>\n",
       "      <th></th>\n",
       "      <th>Daily deaths</th>\n",
       "      <th>Daily new cases</th>\n",
       "    </tr>\n",
       "    <tr>\n",
       "      <th>date</th>\n",
       "      <th>date</th>\n",
       "      <th></th>\n",
       "      <th></th>\n",
       "    </tr>\n",
       "  </thead>\n",
       "  <tbody>\n",
       "    <tr>\n",
       "      <th rowspan=\"3\" valign=\"top\">2014</th>\n",
       "      <th>8</th>\n",
       "      <td>30.287879</td>\n",
       "      <td>58.166667</td>\n",
       "    </tr>\n",
       "    <tr>\n",
       "      <th>9</th>\n",
       "      <td>95.916667</td>\n",
       "      <td>208.250000</td>\n",
       "    </tr>\n",
       "    <tr>\n",
       "      <th>10</th>\n",
       "      <td>28.000000</td>\n",
       "      <td>25.000000</td>\n",
       "    </tr>\n",
       "  </tbody>\n",
       "</table>\n",
       "</div>"
      ],
      "text/plain": [
       "           Daily deaths  Daily new cases\n",
       "date date                               \n",
       "2014 8        30.287879        58.166667\n",
       "     9        95.916667       208.250000\n",
       "     10       28.000000        25.000000"
      ]
     },
     "execution_count": 13,
     "metadata": {},
     "output_type": "execute_result"
    }
   ],
   "source": [
    "get_monthly_new_cases_and_deaths(gn)"
   ]
  },
  {
   "cell_type": "markdown",
   "metadata": {},
   "source": [
    "## Liberia"
   ]
  },
  {
   "cell_type": "code",
   "execution_count": 14,
   "metadata": {},
   "outputs": [
    {
     "data": {
      "text/html": [
       "<div>\n",
       "<style>\n",
       "    .dataframe thead tr:only-child th {\n",
       "        text-align: right;\n",
       "    }\n",
       "\n",
       "    .dataframe thead th {\n",
       "        text-align: left;\n",
       "    }\n",
       "\n",
       "    .dataframe tbody tr th {\n",
       "        vertical-align: top;\n",
       "    }\n",
       "</style>\n",
       "<table border=\"1\" class=\"dataframe\">\n",
       "  <thead>\n",
       "    <tr style=\"text-align: right;\">\n",
       "      <th></th>\n",
       "      <th></th>\n",
       "      <th>Daily deaths</th>\n",
       "      <th>Daily new cases</th>\n",
       "    </tr>\n",
       "    <tr>\n",
       "      <th>date</th>\n",
       "      <th>date</th>\n",
       "      <th></th>\n",
       "      <th></th>\n",
       "    </tr>\n",
       "  </thead>\n",
       "  <tbody>\n",
       "    <tr>\n",
       "      <th rowspan=\"6\" valign=\"top\">2014</th>\n",
       "      <th>6</th>\n",
       "      <td>6.133333</td>\n",
       "      <td>7.333333</td>\n",
       "    </tr>\n",
       "    <tr>\n",
       "      <th>7</th>\n",
       "      <td>25.083333</td>\n",
       "      <td>7.833333</td>\n",
       "    </tr>\n",
       "    <tr>\n",
       "      <th>8</th>\n",
       "      <td>13.444444</td>\n",
       "      <td>14.111111</td>\n",
       "    </tr>\n",
       "    <tr>\n",
       "      <th>9</th>\n",
       "      <td>729.250000</td>\n",
       "      <td>121.750000</td>\n",
       "    </tr>\n",
       "    <tr>\n",
       "      <th>10</th>\n",
       "      <td>518.500000</td>\n",
       "      <td>29.000000</td>\n",
       "    </tr>\n",
       "    <tr>\n",
       "      <th>11</th>\n",
       "      <td>3.984848</td>\n",
       "      <td>4.863636</td>\n",
       "    </tr>\n",
       "  </tbody>\n",
       "</table>\n",
       "</div>"
      ],
      "text/plain": [
       "           Daily deaths  Daily new cases\n",
       "date date                               \n",
       "2014 6         6.133333         7.333333\n",
       "     7        25.083333         7.833333\n",
       "     8        13.444444        14.111111\n",
       "     9       729.250000       121.750000\n",
       "     10      518.500000        29.000000\n",
       "     11        3.984848         4.863636"
      ]
     },
     "execution_count": 14,
     "metadata": {},
     "output_type": "execute_result"
    }
   ],
   "source": [
    "get_monthly_new_cases_and_deaths(lr)"
   ]
  },
  {
   "cell_type": "markdown",
   "metadata": {},
   "source": [
    "## Sierra Leone"
   ]
  },
  {
   "cell_type": "code",
   "execution_count": 15,
   "metadata": {},
   "outputs": [
    {
     "data": {
      "text/html": [
       "<div>\n",
       "<style>\n",
       "    .dataframe thead tr:only-child th {\n",
       "        text-align: right;\n",
       "    }\n",
       "\n",
       "    .dataframe thead th {\n",
       "        text-align: left;\n",
       "    }\n",
       "\n",
       "    .dataframe tbody tr th {\n",
       "        vertical-align: top;\n",
       "    }\n",
       "</style>\n",
       "<table border=\"1\" class=\"dataframe\">\n",
       "  <thead>\n",
       "    <tr style=\"text-align: right;\">\n",
       "      <th></th>\n",
       "      <th></th>\n",
       "      <th>Daily deaths</th>\n",
       "      <th>Daily new cases</th>\n",
       "    </tr>\n",
       "    <tr>\n",
       "      <th>date</th>\n",
       "      <th>date</th>\n",
       "      <th></th>\n",
       "      <th></th>\n",
       "    </tr>\n",
       "  </thead>\n",
       "  <tbody>\n",
       "    <tr>\n",
       "      <th rowspan=\"5\" valign=\"top\">2014</th>\n",
       "      <th>8</th>\n",
       "      <td>6359.000000</td>\n",
       "      <td>381.000000</td>\n",
       "    </tr>\n",
       "    <tr>\n",
       "      <th>9</th>\n",
       "      <td>12971.500000</td>\n",
       "      <td>1016.500000</td>\n",
       "    </tr>\n",
       "    <tr>\n",
       "      <th>10</th>\n",
       "      <td>23639.000000</td>\n",
       "      <td>1462.000000</td>\n",
       "    </tr>\n",
       "    <tr>\n",
       "      <th>11</th>\n",
       "      <td>13652.250000</td>\n",
       "      <td>751.500000</td>\n",
       "    </tr>\n",
       "    <tr>\n",
       "      <th>12</th>\n",
       "      <td>2992.833333</td>\n",
       "      <td>102.333333</td>\n",
       "    </tr>\n",
       "  </tbody>\n",
       "</table>\n",
       "</div>"
      ],
      "text/plain": [
       "           Daily deaths  Daily new cases\n",
       "date date                               \n",
       "2014 8      6359.000000       381.000000\n",
       "     9     12971.500000      1016.500000\n",
       "     10    23639.000000      1462.000000\n",
       "     11    13652.250000       751.500000\n",
       "     12     2992.833333       102.333333"
      ]
     },
     "execution_count": 15,
     "metadata": {},
     "output_type": "execute_result"
    }
   ],
   "source": [
    "get_monthly_new_cases_and_deaths(sl)"
   ]
  },
  {
   "cell_type": "markdown",
   "metadata": {},
   "source": [
    "## Task 2. RNA Sequences\n",
    "\n",
    "In the `DATA_FOLDER/microbiome` subdirectory, there are 9 spreadsheets of microbiome data that was acquired from high-throughput RNA sequencing procedures, along with a 10<sup>th</sup> file that describes the content of each. \n",
    "\n",
    "Use pandas to import the first 9 spreadsheets into a single `DataFrame`.\n",
    "Then, add the metadata information from the 10<sup>th</sup> spreadsheet as columns in the combined `DataFrame`.\n",
    "Make sure that the final `DataFrame` has a unique index and all the `NaN` values have been replaced by the tag `unknown`."
   ]
  },
  {
   "cell_type": "markdown",
   "metadata": {},
   "source": [
    "### Our approach\n",
    "We have to chosen to set the taxon as the primary index because we believe it is the most meaningful data in the set. \n",
    "However, the index is formed by the taxon, the sample, the group and the barcode. Here the index would also have been unique without the BarCode, however it is more general. \n",
    "To process the data, we match the BarCode with the name file without its extension, as it seems to be the only way to assciate the others metadata with it. \n",
    "With the actual processing, we can scale our treatment for more files, as it loop over the list of files in the data folder."
   ]
  },
  {
   "cell_type": "code",
   "execution_count": 16,
   "metadata": {},
   "outputs": [
    {
     "data": {
      "text/html": [
       "<div>\n",
       "<style>\n",
       "    .dataframe thead tr:only-child th {\n",
       "        text-align: right;\n",
       "    }\n",
       "\n",
       "    .dataframe thead th {\n",
       "        text-align: left;\n",
       "    }\n",
       "\n",
       "    .dataframe tbody tr th {\n",
       "        vertical-align: top;\n",
       "    }\n",
       "</style>\n",
       "<table border=\"1\" class=\"dataframe\">\n",
       "  <thead>\n",
       "    <tr style=\"text-align: right;\">\n",
       "      <th></th>\n",
       "      <th></th>\n",
       "      <th></th>\n",
       "      <th></th>\n",
       "      <th>Value</th>\n",
       "    </tr>\n",
       "    <tr>\n",
       "      <th>Taxon</th>\n",
       "      <th>Sample</th>\n",
       "      <th>Group</th>\n",
       "      <th>BarCode</th>\n",
       "      <th></th>\n",
       "    </tr>\n",
       "  </thead>\n",
       "  <tbody>\n",
       "    <tr>\n",
       "      <th rowspan=\"3\" valign=\"top\">Archaea \"Crenarchaeota\" Thermoprotei Acidilobales Acidilobaceae Acidilobus</th>\n",
       "      <th rowspan=\"3\" valign=\"top\">tissue</th>\n",
       "      <th>Control 1</th>\n",
       "      <th>MID3</th>\n",
       "      <td>1</td>\n",
       "    </tr>\n",
       "    <tr>\n",
       "      <th>Control 2</th>\n",
       "      <th>MID5</th>\n",
       "      <td>5</td>\n",
       "    </tr>\n",
       "    <tr>\n",
       "      <th>NEC 1</th>\n",
       "      <th>MID2</th>\n",
       "      <td>2</td>\n",
       "    </tr>\n",
       "    <tr>\n",
       "      <th rowspan=\"5\" valign=\"top\">Archaea \"Crenarchaeota\" Thermoprotei Acidilobales Caldisphaeraceae Caldisphaera</th>\n",
       "      <th rowspan=\"2\" valign=\"top\">stool</th>\n",
       "      <th>Control 1</th>\n",
       "      <th>MID7</th>\n",
       "      <td>1</td>\n",
       "    </tr>\n",
       "    <tr>\n",
       "      <th>Control 2</th>\n",
       "      <th>MID9</th>\n",
       "      <td>1</td>\n",
       "    </tr>\n",
       "    <tr>\n",
       "      <th rowspan=\"3\" valign=\"top\">tissue</th>\n",
       "      <th>Control 1</th>\n",
       "      <th>MID3</th>\n",
       "      <td>15</td>\n",
       "    </tr>\n",
       "    <tr>\n",
       "      <th>Control 2</th>\n",
       "      <th>MID5</th>\n",
       "      <td>26</td>\n",
       "    </tr>\n",
       "    <tr>\n",
       "      <th>NEC 1</th>\n",
       "      <th>MID2</th>\n",
       "      <td>14</td>\n",
       "    </tr>\n",
       "    <tr>\n",
       "      <th rowspan=\"8\" valign=\"top\">Archaea \"Crenarchaeota\" Thermoprotei Desulfurococcales Desulfurococcaceae Ignisphaera</th>\n",
       "      <th rowspan=\"3\" valign=\"top\">stool</th>\n",
       "      <th>Control 1</th>\n",
       "      <th>MID7</th>\n",
       "      <td>8</td>\n",
       "    </tr>\n",
       "    <tr>\n",
       "      <th>Control 2</th>\n",
       "      <th>MID9</th>\n",
       "      <td>16</td>\n",
       "    </tr>\n",
       "    <tr>\n",
       "      <th>NEC 1</th>\n",
       "      <th>MID6</th>\n",
       "      <td>7</td>\n",
       "    </tr>\n",
       "    <tr>\n",
       "      <th rowspan=\"4\" valign=\"top\">tissue</th>\n",
       "      <th>Control 1</th>\n",
       "      <th>MID3</th>\n",
       "      <td>14</td>\n",
       "    </tr>\n",
       "    <tr>\n",
       "      <th>Control 2</th>\n",
       "      <th>MID5</th>\n",
       "      <td>28</td>\n",
       "    </tr>\n",
       "    <tr>\n",
       "      <th>NEC 1</th>\n",
       "      <th>MID2</th>\n",
       "      <td>23</td>\n",
       "    </tr>\n",
       "    <tr>\n",
       "      <th>NEC 2</th>\n",
       "      <th>MID4</th>\n",
       "      <td>2</td>\n",
       "    </tr>\n",
       "    <tr>\n",
       "      <th>unknown</th>\n",
       "      <th>EXTRACTION CONTROL</th>\n",
       "      <th>MID1</th>\n",
       "      <td>7</td>\n",
       "    </tr>\n",
       "    <tr>\n",
       "      <th>Archaea \"Crenarchaeota\" Thermoprotei Desulfurococcales Desulfurococcaceae Stetteria</th>\n",
       "      <th>tissue</th>\n",
       "      <th>Control 2</th>\n",
       "      <th>MID5</th>\n",
       "      <td>1</td>\n",
       "    </tr>\n",
       "    <tr>\n",
       "      <th rowspan=\"6\" valign=\"top\">Archaea \"Crenarchaeota\" Thermoprotei Desulfurococcales Desulfurococcaceae Sulfophobococcus</th>\n",
       "      <th rowspan=\"3\" valign=\"top\">stool</th>\n",
       "      <th>Control 1</th>\n",
       "      <th>MID7</th>\n",
       "      <td>2</td>\n",
       "    </tr>\n",
       "    <tr>\n",
       "      <th>Control 2</th>\n",
       "      <th>MID9</th>\n",
       "      <td>2</td>\n",
       "    </tr>\n",
       "    <tr>\n",
       "      <th>NEC 1</th>\n",
       "      <th>MID6</th>\n",
       "      <td>1</td>\n",
       "    </tr>\n",
       "    <tr>\n",
       "      <th rowspan=\"3\" valign=\"top\">tissue</th>\n",
       "      <th>Control 1</th>\n",
       "      <th>MID3</th>\n",
       "      <td>4</td>\n",
       "    </tr>\n",
       "    <tr>\n",
       "      <th>Control 2</th>\n",
       "      <th>MID5</th>\n",
       "      <td>5</td>\n",
       "    </tr>\n",
       "    <tr>\n",
       "      <th>NEC 1</th>\n",
       "      <th>MID2</th>\n",
       "      <td>1</td>\n",
       "    </tr>\n",
       "    <tr>\n",
       "      <th>Archaea \"Crenarchaeota\" Thermoprotei Desulfurococcales Desulfurococcaceae Thermodiscus</th>\n",
       "      <th>tissue</th>\n",
       "      <th>Control 1</th>\n",
       "      <th>MID3</th>\n",
       "      <td>1</td>\n",
       "    </tr>\n",
       "    <tr>\n",
       "      <th rowspan=\"4\" valign=\"top\">Archaea \"Crenarchaeota\" Thermoprotei Desulfurococcales Desulfurococcaceae Thermosphaera</th>\n",
       "      <th>stool</th>\n",
       "      <th>Control 1</th>\n",
       "      <th>MID7</th>\n",
       "      <td>1</td>\n",
       "    </tr>\n",
       "    <tr>\n",
       "      <th rowspan=\"3\" valign=\"top\">tissue</th>\n",
       "      <th>Control 1</th>\n",
       "      <th>MID3</th>\n",
       "      <td>1</td>\n",
       "    </tr>\n",
       "    <tr>\n",
       "      <th>Control 2</th>\n",
       "      <th>MID5</th>\n",
       "      <td>2</td>\n",
       "    </tr>\n",
       "    <tr>\n",
       "      <th>NEC 1</th>\n",
       "      <th>MID2</th>\n",
       "      <td>2</td>\n",
       "    </tr>\n",
       "    <tr>\n",
       "      <th>Archaea \"Crenarchaeota\" Thermoprotei Desulfurococcales Pyrodictiaceae Hyperthermus</th>\n",
       "      <th>tissue</th>\n",
       "      <th>NEC 1</th>\n",
       "      <th>MID2</th>\n",
       "      <td>1</td>\n",
       "    </tr>\n",
       "    <tr>\n",
       "      <th>Archaea \"Crenarchaeota\" Thermoprotei Desulfurococcales Pyrodictiaceae Pyrodictium</th>\n",
       "      <th>stool</th>\n",
       "      <th>Control 1</th>\n",
       "      <th>MID7</th>\n",
       "      <td>1</td>\n",
       "    </tr>\n",
       "    <tr>\n",
       "      <th>...</th>\n",
       "      <th>...</th>\n",
       "      <th>...</th>\n",
       "      <th>...</th>\n",
       "      <td>...</td>\n",
       "    </tr>\n",
       "    <tr>\n",
       "      <th>Bacteria \"Verrucomicrobia\" Subdivision3   Subdivision3_genera_incertae_sedis</th>\n",
       "      <th>stool</th>\n",
       "      <th>Control 1</th>\n",
       "      <th>MID7</th>\n",
       "      <td>4</td>\n",
       "    </tr>\n",
       "    <tr>\n",
       "      <th rowspan=\"3\" valign=\"top\">Bacteria \"Verrucomicrobia\" Verrucomicrobiae Verrucomicrobiales Verrucomicrobiaceae Persicirhabdus</th>\n",
       "      <th rowspan=\"2\" valign=\"top\">stool</th>\n",
       "      <th>Control 1</th>\n",
       "      <th>MID7</th>\n",
       "      <td>9</td>\n",
       "    </tr>\n",
       "    <tr>\n",
       "      <th>NEC 1</th>\n",
       "      <th>MID6</th>\n",
       "      <td>1</td>\n",
       "    </tr>\n",
       "    <tr>\n",
       "      <th>tissue</th>\n",
       "      <th>Control 1</th>\n",
       "      <th>MID3</th>\n",
       "      <td>2</td>\n",
       "    </tr>\n",
       "    <tr>\n",
       "      <th rowspan=\"3\" valign=\"top\">Bacteria \"Verrucomicrobia\" Verrucomicrobiae Verrucomicrobiales Verrucomicrobiaceae Verrucomicrobium</th>\n",
       "      <th rowspan=\"2\" valign=\"top\">stool</th>\n",
       "      <th>Control 1</th>\n",
       "      <th>MID7</th>\n",
       "      <td>39</td>\n",
       "    </tr>\n",
       "    <tr>\n",
       "      <th>NEC 1</th>\n",
       "      <th>MID6</th>\n",
       "      <td>1</td>\n",
       "    </tr>\n",
       "    <tr>\n",
       "      <th>tissue</th>\n",
       "      <th>Control 1</th>\n",
       "      <th>MID3</th>\n",
       "      <td>1</td>\n",
       "    </tr>\n",
       "    <tr>\n",
       "      <th rowspan=\"5\" valign=\"top\">Bacteria Cyanobacteria Cyanobacteria  Chloroplast Bangiophyceae</th>\n",
       "      <th rowspan=\"2\" valign=\"top\">stool</th>\n",
       "      <th>Control 1</th>\n",
       "      <th>MID7</th>\n",
       "      <td>1</td>\n",
       "    </tr>\n",
       "    <tr>\n",
       "      <th>NEC 2</th>\n",
       "      <th>MID8</th>\n",
       "      <td>1</td>\n",
       "    </tr>\n",
       "    <tr>\n",
       "      <th rowspan=\"2\" valign=\"top\">tissue</th>\n",
       "      <th>Control 1</th>\n",
       "      <th>MID3</th>\n",
       "      <td>1</td>\n",
       "    </tr>\n",
       "    <tr>\n",
       "      <th>Control 2</th>\n",
       "      <th>MID5</th>\n",
       "      <td>2</td>\n",
       "    </tr>\n",
       "    <tr>\n",
       "      <th>unknown</th>\n",
       "      <th>EXTRACTION CONTROL</th>\n",
       "      <th>MID1</th>\n",
       "      <td>2</td>\n",
       "    </tr>\n",
       "    <tr>\n",
       "      <th rowspan=\"8\" valign=\"top\">Bacteria Cyanobacteria Cyanobacteria  Chloroplast Chlorarachniophyceae</th>\n",
       "      <th rowspan=\"3\" valign=\"top\">stool</th>\n",
       "      <th>Control 1</th>\n",
       "      <th>MID7</th>\n",
       "      <td>2</td>\n",
       "    </tr>\n",
       "    <tr>\n",
       "      <th>Control 2</th>\n",
       "      <th>MID9</th>\n",
       "      <td>1</td>\n",
       "    </tr>\n",
       "    <tr>\n",
       "      <th>NEC 2</th>\n",
       "      <th>MID8</th>\n",
       "      <td>4</td>\n",
       "    </tr>\n",
       "    <tr>\n",
       "      <th rowspan=\"4\" valign=\"top\">tissue</th>\n",
       "      <th>Control 1</th>\n",
       "      <th>MID3</th>\n",
       "      <td>4</td>\n",
       "    </tr>\n",
       "    <tr>\n",
       "      <th>Control 2</th>\n",
       "      <th>MID5</th>\n",
       "      <td>5</td>\n",
       "    </tr>\n",
       "    <tr>\n",
       "      <th>NEC 1</th>\n",
       "      <th>MID2</th>\n",
       "      <td>1</td>\n",
       "    </tr>\n",
       "    <tr>\n",
       "      <th>NEC 2</th>\n",
       "      <th>MID4</th>\n",
       "      <td>6</td>\n",
       "    </tr>\n",
       "    <tr>\n",
       "      <th>unknown</th>\n",
       "      <th>EXTRACTION CONTROL</th>\n",
       "      <th>MID1</th>\n",
       "      <td>85</td>\n",
       "    </tr>\n",
       "    <tr>\n",
       "      <th rowspan=\"6\" valign=\"top\">Bacteria Cyanobacteria Cyanobacteria  Chloroplast Streptophyta</th>\n",
       "      <th>stool</th>\n",
       "      <th>Control 2</th>\n",
       "      <th>MID9</th>\n",
       "      <td>10</td>\n",
       "    </tr>\n",
       "    <tr>\n",
       "      <th rowspan=\"4\" valign=\"top\">tissue</th>\n",
       "      <th>Control 1</th>\n",
       "      <th>MID3</th>\n",
       "      <td>54</td>\n",
       "    </tr>\n",
       "    <tr>\n",
       "      <th>Control 2</th>\n",
       "      <th>MID5</th>\n",
       "      <td>59</td>\n",
       "    </tr>\n",
       "    <tr>\n",
       "      <th>NEC 1</th>\n",
       "      <th>MID2</th>\n",
       "      <td>2</td>\n",
       "    </tr>\n",
       "    <tr>\n",
       "      <th>NEC 2</th>\n",
       "      <th>MID4</th>\n",
       "      <td>44</td>\n",
       "    </tr>\n",
       "    <tr>\n",
       "      <th>unknown</th>\n",
       "      <th>EXTRACTION CONTROL</th>\n",
       "      <th>MID1</th>\n",
       "      <td>1388</td>\n",
       "    </tr>\n",
       "    <tr>\n",
       "      <th rowspan=\"2\" valign=\"top\">Bacteria OD1    OD1_genera_incertae_sedis</th>\n",
       "      <th rowspan=\"2\" valign=\"top\">tissue</th>\n",
       "      <th>Control 1</th>\n",
       "      <th>MID3</th>\n",
       "      <td>1</td>\n",
       "    </tr>\n",
       "    <tr>\n",
       "      <th>Control 2</th>\n",
       "      <th>MID5</th>\n",
       "      <td>4</td>\n",
       "    </tr>\n",
       "    <tr>\n",
       "      <th>Bacteria OP11    OP11_genera_incertae_sedis</th>\n",
       "      <th>tissue</th>\n",
       "      <th>Control 1</th>\n",
       "      <th>MID3</th>\n",
       "      <td>26</td>\n",
       "    </tr>\n",
       "    <tr>\n",
       "      <th>Bacteria TM7    TM7_genera_incertae_sedis</th>\n",
       "      <th>tissue</th>\n",
       "      <th>NEC 1</th>\n",
       "      <th>MID2</th>\n",
       "      <td>2</td>\n",
       "    </tr>\n",
       "  </tbody>\n",
       "</table>\n",
       "<p>2396 rows × 1 columns</p>\n",
       "</div>"
      ],
      "text/plain": [
       "                                                                                       Value\n",
       "Taxon                                              Sample  Group              BarCode       \n",
       "Archaea \"Crenarchaeota\" Thermoprotei Acidilobal... tissue  Control 1          MID3         1\n",
       "                                                           Control 2          MID5         5\n",
       "                                                           NEC 1              MID2         2\n",
       "Archaea \"Crenarchaeota\" Thermoprotei Acidilobal... stool   Control 1          MID7         1\n",
       "                                                           Control 2          MID9         1\n",
       "                                                   tissue  Control 1          MID3        15\n",
       "                                                           Control 2          MID5        26\n",
       "                                                           NEC 1              MID2        14\n",
       "Archaea \"Crenarchaeota\" Thermoprotei Desulfuroc... stool   Control 1          MID7         8\n",
       "                                                           Control 2          MID9        16\n",
       "                                                           NEC 1              MID6         7\n",
       "                                                   tissue  Control 1          MID3        14\n",
       "                                                           Control 2          MID5        28\n",
       "                                                           NEC 1              MID2        23\n",
       "                                                           NEC 2              MID4         2\n",
       "                                                   unknown EXTRACTION CONTROL MID1         7\n",
       "Archaea \"Crenarchaeota\" Thermoprotei Desulfuroc... tissue  Control 2          MID5         1\n",
       "Archaea \"Crenarchaeota\" Thermoprotei Desulfuroc... stool   Control 1          MID7         2\n",
       "                                                           Control 2          MID9         2\n",
       "                                                           NEC 1              MID6         1\n",
       "                                                   tissue  Control 1          MID3         4\n",
       "                                                           Control 2          MID5         5\n",
       "                                                           NEC 1              MID2         1\n",
       "Archaea \"Crenarchaeota\" Thermoprotei Desulfuroc... tissue  Control 1          MID3         1\n",
       "Archaea \"Crenarchaeota\" Thermoprotei Desulfuroc... stool   Control 1          MID7         1\n",
       "                                                   tissue  Control 1          MID3         1\n",
       "                                                           Control 2          MID5         2\n",
       "                                                           NEC 1              MID2         2\n",
       "Archaea \"Crenarchaeota\" Thermoprotei Desulfuroc... tissue  NEC 1              MID2         1\n",
       "Archaea \"Crenarchaeota\" Thermoprotei Desulfuroc... stool   Control 1          MID7         1\n",
       "...                                                                                      ...\n",
       "Bacteria \"Verrucomicrobia\" Subdivision3   Subdi... stool   Control 1          MID7         4\n",
       "Bacteria \"Verrucomicrobia\" Verrucomicrobiae Ver... stool   Control 1          MID7         9\n",
       "                                                           NEC 1              MID6         1\n",
       "                                                   tissue  Control 1          MID3         2\n",
       "Bacteria \"Verrucomicrobia\" Verrucomicrobiae Ver... stool   Control 1          MID7        39\n",
       "                                                           NEC 1              MID6         1\n",
       "                                                   tissue  Control 1          MID3         1\n",
       "Bacteria Cyanobacteria Cyanobacteria  Chloropla... stool   Control 1          MID7         1\n",
       "                                                           NEC 2              MID8         1\n",
       "                                                   tissue  Control 1          MID3         1\n",
       "                                                           Control 2          MID5         2\n",
       "                                                   unknown EXTRACTION CONTROL MID1         2\n",
       "Bacteria Cyanobacteria Cyanobacteria  Chloropla... stool   Control 1          MID7         2\n",
       "                                                           Control 2          MID9         1\n",
       "                                                           NEC 2              MID8         4\n",
       "                                                   tissue  Control 1          MID3         4\n",
       "                                                           Control 2          MID5         5\n",
       "                                                           NEC 1              MID2         1\n",
       "                                                           NEC 2              MID4         6\n",
       "                                                   unknown EXTRACTION CONTROL MID1        85\n",
       "Bacteria Cyanobacteria Cyanobacteria  Chloropla... stool   Control 2          MID9        10\n",
       "                                                   tissue  Control 1          MID3        54\n",
       "                                                           Control 2          MID5        59\n",
       "                                                           NEC 1              MID2         2\n",
       "                                                           NEC 2              MID4        44\n",
       "                                                   unknown EXTRACTION CONTROL MID1      1388\n",
       "Bacteria OD1    OD1_genera_incertae_sedis          tissue  Control 1          MID3         1\n",
       "                                                           Control 2          MID5         4\n",
       "Bacteria OP11    OP11_genera_incertae_sedis        tissue  Control 1          MID3        26\n",
       "Bacteria TM7    TM7_genera_incertae_sedis          tissue  NEC 1              MID2         2\n",
       "\n",
       "[2396 rows x 1 columns]"
      ]
     },
     "execution_count": 16,
     "metadata": {},
     "output_type": "execute_result"
    }
   ],
   "source": [
    "#First we get all the filenames and create a list with only Barcodes from each file  \n",
    "filePaths = glob.glob(os.path.join(DATA_FOLDER,\"microbiome\",\"MID*.xls\"))\n",
    "fileBarCode = [os.path.basename(x).replace('.xls','') for x in filePaths]\n",
    "#We load the metadata in a dataFrame to have an easy access\n",
    "metaFrame = pd.read_excel(os.path.join(DATA_FOLDER,\"microbiome\",\"metadata.xls\"))\n",
    "metaFrame = metaFrame.set_index(['BARCODE'])\n",
    "concatframe = pd.DataFrame()\n",
    "tempList =[]\n",
    "#We load each file into a dataFrame and add it the data assiocated to its barcode\n",
    "for p in range(len(filePaths)):\n",
    "    df =pd.read_excel(filePaths[p],names = ['Taxon', 'Value'],header=None).assign(BarCode=fileBarCode[p]).assign(Group=metaFrame.get_value(fileBarCode[p], \"GROUP\")).assign(Sample=metaFrame.get_value(fileBarCode[p], \"SAMPLE\"))\n",
    "    tempList.append(df)\n",
    "#We then concatenate everything, replace NA by unknown and add in index\n",
    "concatframe = pd.concat(tempList)\n",
    "concatframe.fillna(value='unknown',inplace=True)\n",
    "concatframe.set_index(['Taxon','Sample','Group','BarCode'],inplace=True)\n",
    "concatframe=concatframe.sort_index(level=['Taxon','Sample','Group','BarCode'])\n",
    "concatframe\n"
   ]
  },
  {
   "cell_type": "markdown",
   "metadata": {},
   "source": [
    "## Task 3. Class War in Titanic\n",
    "\n",
    "Use pandas to import the data file `Data/titanic.xls`. It contains data on all the passengers that travelled on the Titanic."
   ]
  },
  {
   "cell_type": "code",
   "execution_count": 17,
   "metadata": {},
   "outputs": [
    {
     "data": {
      "text/html": [
       "<hr><h2>Data frame:titanic3</h2>1309 observations and 14 variables, maximum # NAs:1188<hr>\n",
       "<TABLE BORDER>\n",
       "<tr><td>Name</td><td>Labels</td><td>Units</td><td>Levels</td><td>Storage</td><td>NAs</td></tr>\n",
       "<tr><td>pclass</td><td></td><td></td><td><a href=\"#pclass\"><div align=right>  3</div></a></td><td>integer</td><td><div align=right>   0</div></td></tr>\n",
       "<tr><td>survived</td><td>Survived</td><td></td><td><div align=right></div></td><td>double</td><td><div align=right>   0</div></td></tr>\n",
       "<tr><td>name</td><td>Name</td><td></td><td><div align=right></div></td><td>character</td><td><div align=right>   0</div></td></tr>\n",
       "<tr><td>sex</td><td></td><td></td><td><a href=\"#sex\"><div align=right>  2</div></a></td><td>integer</td><td><div align=right>   0</div></td></tr>\n",
       "<tr><td>age</td><td>Age</td><td>Year</td><td><div align=right></div></td><td>double</td><td><div align=right> 263</div></td></tr>\n",
       "<tr><td>sibsp</td><td>Number of Siblings/Spouses Aboard</td><td></td><td><div align=right></div></td><td>double</td><td><div align=right>   0</div></td></tr>\n",
       "<tr><td>parch</td><td>Number of Parents/Children Aboard</td><td></td><td><div align=right></div></td><td>double</td><td><div align=right>   0</div></td></tr>\n",
       "<tr><td>ticket</td><td>Ticket Number</td><td></td><td><div align=right></div></td><td>character</td><td><div align=right>   0</div></td></tr>\n",
       "<tr><td>fare</td><td>Passenger Fare</td><td>British Pound (\\243)</td><td><div align=right></div></td><td>double</td><td><div align=right>   1</div></td></tr>\n",
       "<tr><td>cabin</td><td></td><td></td><td><a href=\"#cabin\"><div align=right>187</div></a></td><td>integer</td><td><div align=right>   0</div></td></tr>\n",
       "<tr><td>embarked</td><td></td><td></td><td><a href=\"#embarked\"><div align=right>  3</div></a></td><td>integer</td><td><div align=right>   2</div></td></tr>\n",
       "<tr><td>boat</td><td></td><td></td><td><a href=\"#boat\"><div align=right> 28</div></a></td><td>integer</td><td><div align=right>   0</div></td></tr>\n",
       "<tr><td>body</td><td>Body Identification Number</td><td></td><td><div align=right></div></td><td>double</td><td><div align=right>1188</div></td></tr>\n",
       "<tr><td>home.dest</td><td>Home/Destination</td><td></td><td><div align=right></div></td><td>character</td><td><div align=right>   0</div></td></tr>\n",
       "</TABLE>\n",
       "<hr>\n",
       "<TABLE BORDER>\n",
       "<tr><td>Variable</td><td>Levels</td></tr>\n",
       "<tr><td><a name=\"pclass\">pclass</a></td><td>1st</td></tr>\n",
       "<tr><td></td><td>2nd</td></tr>\n",
       "<tr><td></td><td>3rd</td></tr>\n",
       "<tr><td><a name=\"sex\">sex</a></td><td>female</td></tr>\n",
       "<tr><td></td><td>male</td></tr>\n",
       "<tr><td><a name=\"cabin\">cabin</a></td><td></td></tr>\n",
       "<tr><td></td><td>A10</td></tr>\n",
       "<tr><td></td><td>A11</td></tr>\n",
       "<tr><td></td><td>A14</td></tr>\n",
       "<tr><td></td><td>A16</td></tr>\n",
       "<tr><td></td><td>A18</td></tr>\n",
       "<tr><td></td><td>A19</td></tr>\n",
       "<tr><td></td><td>A20</td></tr>\n",
       "<tr><td></td><td>A21</td></tr>\n",
       "<tr><td></td><td>A23</td></tr>\n",
       "<tr><td></td><td>A24</td></tr>\n",
       "<tr><td></td><td>A26</td></tr>\n",
       "<tr><td></td><td>A29</td></tr>\n",
       "<tr><td></td><td>A31</td></tr>\n",
       "<tr><td></td><td>A32</td></tr>\n",
       "<tr><td></td><td>A34</td></tr>\n",
       "<tr><td></td><td>A36</td></tr>\n",
       "<tr><td></td><td>A5</td></tr>\n",
       "<tr><td></td><td>A6</td></tr>\n",
       "<tr><td></td><td>A7</td></tr>\n",
       "<tr><td></td><td>A9</td></tr>\n",
       "<tr><td></td><td>B10</td></tr>\n",
       "<tr><td></td><td>B101</td></tr>\n",
       "<tr><td></td><td>B102</td></tr>\n",
       "<tr><td></td><td>B11</td></tr>\n",
       "<tr><td></td><td>B18</td></tr>\n",
       "<tr><td></td><td>B19</td></tr>\n",
       "<tr><td></td><td>B20</td></tr>\n",
       "<tr><td></td><td>B22</td></tr>\n",
       "<tr><td></td><td>B24</td></tr>\n",
       "<tr><td></td><td>B26</td></tr>\n",
       "<tr><td></td><td>B28</td></tr>\n",
       "<tr><td></td><td>B3</td></tr>\n",
       "<tr><td></td><td>B30</td></tr>\n",
       "<tr><td></td><td>B35</td></tr>\n",
       "<tr><td></td><td>B36</td></tr>\n",
       "<tr><td></td><td>B37</td></tr>\n",
       "<tr><td></td><td>B38</td></tr>\n",
       "<tr><td></td><td>B39</td></tr>\n",
       "<tr><td></td><td>B4</td></tr>\n",
       "<tr><td></td><td>B41</td></tr>\n",
       "<tr><td></td><td>B42</td></tr>\n",
       "<tr><td></td><td>B45</td></tr>\n",
       "<tr><td></td><td>B49</td></tr>\n",
       "<tr><td></td><td>B5</td></tr>\n",
       "<tr><td></td><td>B50</td></tr>\n",
       "<tr><td></td><td>B51 B53 B55</td></tr>\n",
       "<tr><td></td><td>B52 B54 B56</td></tr>\n",
       "<tr><td></td><td>B57 B59 B63 B66</td></tr>\n",
       "<tr><td></td><td>B58 B60</td></tr>\n",
       "<tr><td></td><td>B61</td></tr>\n",
       "<tr><td></td><td>B69</td></tr>\n",
       "<tr><td></td><td>B71</td></tr>\n",
       "<tr><td></td><td>B73</td></tr>\n",
       "<tr><td></td><td>B77</td></tr>\n",
       "<tr><td></td><td>B78</td></tr>\n",
       "<tr><td></td><td>B79</td></tr>\n",
       "<tr><td></td><td>B80</td></tr>\n",
       "<tr><td></td><td>B82 B84</td></tr>\n",
       "<tr><td></td><td>B86</td></tr>\n",
       "<tr><td></td><td>B94</td></tr>\n",
       "<tr><td></td><td>B96 B98</td></tr>\n",
       "<tr><td></td><td>C101</td></tr>\n",
       "<tr><td></td><td>C103</td></tr>\n",
       "<tr><td></td><td>C104</td></tr>\n",
       "<tr><td></td><td>C105</td></tr>\n",
       "<tr><td></td><td>C106</td></tr>\n",
       "<tr><td></td><td>C110</td></tr>\n",
       "<tr><td></td><td>C111</td></tr>\n",
       "<tr><td></td><td>C116</td></tr>\n",
       "<tr><td></td><td>C118</td></tr>\n",
       "<tr><td></td><td>C123</td></tr>\n",
       "<tr><td></td><td>C124</td></tr>\n",
       "<tr><td></td><td>C125</td></tr>\n",
       "<tr><td></td><td>C126</td></tr>\n",
       "<tr><td></td><td>C128</td></tr>\n",
       "<tr><td></td><td>C130</td></tr>\n",
       "<tr><td></td><td>C132</td></tr>\n",
       "<tr><td></td><td>C148</td></tr>\n",
       "<tr><td></td><td>C2</td></tr>\n",
       "<tr><td></td><td>C22 C26</td></tr>\n",
       "<tr><td></td><td>C23 C25 C27</td></tr>\n",
       "<tr><td></td><td>C28</td></tr>\n",
       "<tr><td></td><td>C30</td></tr>\n",
       "<tr><td></td><td>C31</td></tr>\n",
       "<tr><td></td><td>C32</td></tr>\n",
       "<tr><td></td><td>C39</td></tr>\n",
       "<tr><td></td><td>C45</td></tr>\n",
       "<tr><td></td><td>C46</td></tr>\n",
       "<tr><td></td><td>C47</td></tr>\n",
       "<tr><td></td><td>C49</td></tr>\n",
       "<tr><td></td><td>C50</td></tr>\n",
       "<tr><td></td><td>C51</td></tr>\n",
       "<tr><td></td><td>C52</td></tr>\n",
       "<tr><td></td><td>C53</td></tr>\n",
       "<tr><td></td><td>C54</td></tr>\n",
       "<tr><td></td><td>C55 C57</td></tr>\n",
       "<tr><td></td><td>C6</td></tr>\n",
       "<tr><td></td><td>C62 C64</td></tr>\n",
       "<tr><td></td><td>C65</td></tr>\n",
       "<tr><td></td><td>C68</td></tr>\n",
       "<tr><td></td><td>C7</td></tr>\n",
       "<tr><td></td><td>C70</td></tr>\n",
       "<tr><td></td><td>C78</td></tr>\n",
       "<tr><td></td><td>C80</td></tr>\n",
       "<tr><td></td><td>C82</td></tr>\n",
       "<tr><td></td><td>C83</td></tr>\n",
       "<tr><td></td><td>C85</td></tr>\n",
       "<tr><td></td><td>C86</td></tr>\n",
       "<tr><td></td><td>C87</td></tr>\n",
       "<tr><td></td><td>C89</td></tr>\n",
       "<tr><td></td><td>C90</td></tr>\n",
       "<tr><td></td><td>C91</td></tr>\n",
       "<tr><td></td><td>C92</td></tr>\n",
       "<tr><td></td><td>C93</td></tr>\n",
       "<tr><td></td><td>C95</td></tr>\n",
       "<tr><td></td><td>C97</td></tr>\n",
       "<tr><td></td><td>C99</td></tr>\n",
       "<tr><td></td><td>D</td></tr>\n",
       "<tr><td></td><td>D10 D12</td></tr>\n",
       "<tr><td></td><td>D11</td></tr>\n",
       "<tr><td></td><td>D15</td></tr>\n",
       "<tr><td></td><td>D17</td></tr>\n",
       "<tr><td></td><td>D19</td></tr>\n",
       "<tr><td></td><td>D20</td></tr>\n",
       "<tr><td></td><td>D21</td></tr>\n",
       "<tr><td></td><td>D22</td></tr>\n",
       "<tr><td></td><td>D26</td></tr>\n",
       "<tr><td></td><td>D28</td></tr>\n",
       "<tr><td></td><td>D30</td></tr>\n",
       "<tr><td></td><td>D33</td></tr>\n",
       "<tr><td></td><td>D34</td></tr>\n",
       "<tr><td></td><td>D35</td></tr>\n",
       "<tr><td></td><td>D36</td></tr>\n",
       "<tr><td></td><td>D37</td></tr>\n",
       "<tr><td></td><td>D38</td></tr>\n",
       "<tr><td></td><td>D40</td></tr>\n",
       "<tr><td></td><td>D43</td></tr>\n",
       "<tr><td></td><td>D45</td></tr>\n",
       "<tr><td></td><td>D46</td></tr>\n",
       "<tr><td></td><td>D47</td></tr>\n",
       "<tr><td></td><td>D48</td></tr>\n",
       "<tr><td></td><td>D49</td></tr>\n",
       "<tr><td></td><td>D50</td></tr>\n",
       "<tr><td></td><td>D56</td></tr>\n",
       "<tr><td></td><td>D6</td></tr>\n",
       "<tr><td></td><td>D7</td></tr>\n",
       "<tr><td></td><td>D9</td></tr>\n",
       "<tr><td></td><td>E10</td></tr>\n",
       "<tr><td></td><td>E101</td></tr>\n",
       "<tr><td></td><td>E12</td></tr>\n",
       "<tr><td></td><td>E121</td></tr>\n",
       "<tr><td></td><td>E17</td></tr>\n",
       "<tr><td></td><td>E24</td></tr>\n",
       "<tr><td></td><td>E25</td></tr>\n",
       "<tr><td></td><td>E31</td></tr>\n",
       "<tr><td></td><td>E33</td></tr>\n",
       "<tr><td></td><td>E34</td></tr>\n",
       "<tr><td></td><td>E36</td></tr>\n",
       "<tr><td></td><td>E38</td></tr>\n",
       "<tr><td></td><td>E39 E41</td></tr>\n",
       "<tr><td></td><td>E40</td></tr>\n",
       "<tr><td></td><td>E44</td></tr>\n",
       "<tr><td></td><td>E45</td></tr>\n",
       "<tr><td></td><td>E46</td></tr>\n",
       "<tr><td></td><td>E49</td></tr>\n",
       "<tr><td></td><td>E50</td></tr>\n",
       "<tr><td></td><td>E52</td></tr>\n",
       "<tr><td></td><td>E58</td></tr>\n",
       "<tr><td></td><td>E60</td></tr>\n",
       "<tr><td></td><td>E63</td></tr>\n",
       "<tr><td></td><td>E67</td></tr>\n",
       "<tr><td></td><td>E68</td></tr>\n",
       "<tr><td></td><td>E77</td></tr>\n",
       "<tr><td></td><td>E8</td></tr>\n",
       "<tr><td></td><td>F</td></tr>\n",
       "<tr><td></td><td>F E46</td></tr>\n",
       "<tr><td></td><td>F E57</td></tr>\n",
       "<tr><td></td><td>F E69</td></tr>\n",
       "<tr><td></td><td>F G63</td></tr>\n",
       "<tr><td></td><td>F G73</td></tr>\n",
       "<tr><td></td><td>F2</td></tr>\n",
       "<tr><td></td><td>F33</td></tr>\n",
       "<tr><td></td><td>F38</td></tr>\n",
       "<tr><td></td><td>F4</td></tr>\n",
       "<tr><td></td><td>G6</td></tr>\n",
       "<tr><td></td><td>T</td></tr>\n",
       "<tr><td><a name=\"embarked\">embarked</a></td><td>Cherbourg</td></tr>\n",
       "<tr><td></td><td>Queenstown</td></tr>\n",
       "<tr><td></td><td>Southampton</td></tr>\n",
       "<tr><td><a name=\"boat\">boat</a></td><td></td></tr>\n",
       "<tr><td></td><td>1</td></tr>\n",
       "<tr><td></td><td>10</td></tr>\n",
       "<tr><td></td><td>11</td></tr>\n",
       "<tr><td></td><td>12</td></tr>\n",
       "<tr><td></td><td>13</td></tr>\n",
       "<tr><td></td><td>13 15</td></tr>\n",
       "<tr><td></td><td>13 15 B</td></tr>\n",
       "<tr><td></td><td>14</td></tr>\n",
       "<tr><td></td><td>15</td></tr>\n",
       "<tr><td></td><td>15 16</td></tr>\n",
       "<tr><td></td><td>16</td></tr>\n",
       "<tr><td></td><td>2</td></tr>\n",
       "<tr><td></td><td>3</td></tr>\n",
       "<tr><td></td><td>4</td></tr>\n",
       "<tr><td></td><td>5</td></tr>\n",
       "<tr><td></td><td>5 7</td></tr>\n",
       "<tr><td></td><td>5 9</td></tr>\n",
       "<tr><td></td><td>6</td></tr>\n",
       "<tr><td></td><td>7</td></tr>\n",
       "<tr><td></td><td>8</td></tr>\n",
       "<tr><td></td><td>8 10</td></tr>\n",
       "<tr><td></td><td>9</td></tr>\n",
       "<tr><td></td><td>A</td></tr>\n",
       "<tr><td></td><td>B</td></tr>\n",
       "<tr><td></td><td>C</td></tr>\n",
       "<tr><td></td><td>C D</td></tr>\n",
       "<tr><td></td><td>D</td></tr>\n",
       "</TABLE>\n",
       "<hr>\n"
      ],
      "text/plain": [
       "<IPython.core.display.HTML object>"
      ]
     },
     "execution_count": 17,
     "metadata": {},
     "output_type": "execute_result"
    }
   ],
   "source": [
    "from IPython.core.display import HTML\n",
    "HTML(filename=DATA_FOLDER+'/titanic.html')"
   ]
  },
  {
   "cell_type": "markdown",
   "metadata": {},
   "source": [
    "For each of the following questions state clearly your assumptions and discuss your findings:\n",
    "1. Describe the *type* and the *value range* of each attribute. Indicate and transform the attributes that can be `Categorical`. \n",
    "2. Plot histograms for the *travel class*, *embarkation port*, *sex* and *age* attributes. For the latter one, use *discrete decade intervals*. \n",
    "3. Calculate the proportion of passengers by *cabin floor*. Present your results in a *pie chart*.\n",
    "4. For each *travel class*, calculate the proportion of the passengers that survived. Present your results in *pie charts*.\n",
    "5. Calculate the proportion of the passengers that survived by *travel class* and *sex*. Present your results in *a single histogram*.\n",
    "6. Create 2 equally populated *age categories* and calculate survival proportions by *age category*, *travel class* and *sex*. Present your results in a `DataFrame` with unique index."
   ]
  },
  {
   "cell_type": "code",
   "execution_count": 18,
   "metadata": {},
   "outputs": [
    {
     "data": {
      "text/html": [
       "<div>\n",
       "<style>\n",
       "    .dataframe thead tr:only-child th {\n",
       "        text-align: right;\n",
       "    }\n",
       "\n",
       "    .dataframe thead th {\n",
       "        text-align: left;\n",
       "    }\n",
       "\n",
       "    .dataframe tbody tr th {\n",
       "        vertical-align: top;\n",
       "    }\n",
       "</style>\n",
       "<table border=\"1\" class=\"dataframe\">\n",
       "  <thead>\n",
       "    <tr style=\"text-align: right;\">\n",
       "      <th></th>\n",
       "      <th>pclass</th>\n",
       "      <th>survived</th>\n",
       "      <th>name</th>\n",
       "      <th>sex</th>\n",
       "      <th>age</th>\n",
       "      <th>sibsp</th>\n",
       "      <th>parch</th>\n",
       "      <th>ticket</th>\n",
       "      <th>fare</th>\n",
       "      <th>cabin</th>\n",
       "      <th>embarked</th>\n",
       "      <th>boat</th>\n",
       "      <th>body</th>\n",
       "      <th>home.dest</th>\n",
       "    </tr>\n",
       "  </thead>\n",
       "  <tbody>\n",
       "    <tr>\n",
       "      <th>0</th>\n",
       "      <td>1</td>\n",
       "      <td>1</td>\n",
       "      <td>Allen, Miss. Elisabeth Walton</td>\n",
       "      <td>female</td>\n",
       "      <td>29.0000</td>\n",
       "      <td>0</td>\n",
       "      <td>0</td>\n",
       "      <td>24160</td>\n",
       "      <td>211.3375</td>\n",
       "      <td>B5</td>\n",
       "      <td>S</td>\n",
       "      <td>2</td>\n",
       "      <td>NaN</td>\n",
       "      <td>St Louis, MO</td>\n",
       "    </tr>\n",
       "    <tr>\n",
       "      <th>1</th>\n",
       "      <td>1</td>\n",
       "      <td>1</td>\n",
       "      <td>Allison, Master. Hudson Trevor</td>\n",
       "      <td>male</td>\n",
       "      <td>0.9167</td>\n",
       "      <td>1</td>\n",
       "      <td>2</td>\n",
       "      <td>113781</td>\n",
       "      <td>151.5500</td>\n",
       "      <td>C22 C26</td>\n",
       "      <td>S</td>\n",
       "      <td>11</td>\n",
       "      <td>NaN</td>\n",
       "      <td>Montreal, PQ / Chesterville, ON</td>\n",
       "    </tr>\n",
       "    <tr>\n",
       "      <th>2</th>\n",
       "      <td>1</td>\n",
       "      <td>0</td>\n",
       "      <td>Allison, Miss. Helen Loraine</td>\n",
       "      <td>female</td>\n",
       "      <td>2.0000</td>\n",
       "      <td>1</td>\n",
       "      <td>2</td>\n",
       "      <td>113781</td>\n",
       "      <td>151.5500</td>\n",
       "      <td>C22 C26</td>\n",
       "      <td>S</td>\n",
       "      <td>NaN</td>\n",
       "      <td>NaN</td>\n",
       "      <td>Montreal, PQ / Chesterville, ON</td>\n",
       "    </tr>\n",
       "    <tr>\n",
       "      <th>3</th>\n",
       "      <td>1</td>\n",
       "      <td>0</td>\n",
       "      <td>Allison, Mr. Hudson Joshua Creighton</td>\n",
       "      <td>male</td>\n",
       "      <td>30.0000</td>\n",
       "      <td>1</td>\n",
       "      <td>2</td>\n",
       "      <td>113781</td>\n",
       "      <td>151.5500</td>\n",
       "      <td>C22 C26</td>\n",
       "      <td>S</td>\n",
       "      <td>NaN</td>\n",
       "      <td>135.0</td>\n",
       "      <td>Montreal, PQ / Chesterville, ON</td>\n",
       "    </tr>\n",
       "    <tr>\n",
       "      <th>4</th>\n",
       "      <td>1</td>\n",
       "      <td>0</td>\n",
       "      <td>Allison, Mrs. Hudson J C (Bessie Waldo Daniels)</td>\n",
       "      <td>female</td>\n",
       "      <td>25.0000</td>\n",
       "      <td>1</td>\n",
       "      <td>2</td>\n",
       "      <td>113781</td>\n",
       "      <td>151.5500</td>\n",
       "      <td>C22 C26</td>\n",
       "      <td>S</td>\n",
       "      <td>NaN</td>\n",
       "      <td>NaN</td>\n",
       "      <td>Montreal, PQ / Chesterville, ON</td>\n",
       "    </tr>\n",
       "  </tbody>\n",
       "</table>\n",
       "</div>"
      ],
      "text/plain": [
       "   pclass  survived                                             name     sex  \\\n",
       "0       1         1                    Allen, Miss. Elisabeth Walton  female   \n",
       "1       1         1                   Allison, Master. Hudson Trevor    male   \n",
       "2       1         0                     Allison, Miss. Helen Loraine  female   \n",
       "3       1         0             Allison, Mr. Hudson Joshua Creighton    male   \n",
       "4       1         0  Allison, Mrs. Hudson J C (Bessie Waldo Daniels)  female   \n",
       "\n",
       "       age  sibsp  parch  ticket      fare    cabin embarked boat   body  \\\n",
       "0  29.0000      0      0   24160  211.3375       B5        S    2    NaN   \n",
       "1   0.9167      1      2  113781  151.5500  C22 C26        S   11    NaN   \n",
       "2   2.0000      1      2  113781  151.5500  C22 C26        S  NaN    NaN   \n",
       "3  30.0000      1      2  113781  151.5500  C22 C26        S  NaN  135.0   \n",
       "4  25.0000      1      2  113781  151.5500  C22 C26        S  NaN    NaN   \n",
       "\n",
       "                         home.dest  \n",
       "0                     St Louis, MO  \n",
       "1  Montreal, PQ / Chesterville, ON  \n",
       "2  Montreal, PQ / Chesterville, ON  \n",
       "3  Montreal, PQ / Chesterville, ON  \n",
       "4  Montreal, PQ / Chesterville, ON  "
      ]
     },
     "execution_count": 18,
     "metadata": {},
     "output_type": "execute_result"
    }
   ],
   "source": [
    "titanic = pd.read_excel(DATA_FOLDER + \"/titanic.xls\")\n",
    "titanic.head()"
   ]
  },
  {
   "cell_type": "markdown",
   "metadata": {},
   "source": [
    "### Question 1\n",
    "#### Types and values range"
   ]
  },
  {
   "cell_type": "code",
   "execution_count": 19,
   "metadata": {},
   "outputs": [
    {
     "data": {
      "text/plain": [
       "pclass         int64\n",
       "survived       int64\n",
       "name          object\n",
       "sex           object\n",
       "age          float64\n",
       "sibsp          int64\n",
       "parch          int64\n",
       "ticket        object\n",
       "fare         float64\n",
       "cabin         object\n",
       "embarked      object\n",
       "boat          object\n",
       "body         float64\n",
       "home.dest     object\n",
       "dtype: object"
      ]
     },
     "execution_count": 19,
     "metadata": {},
     "output_type": "execute_result"
    }
   ],
   "source": [
    "titanic.dtypes"
   ]
  },
  {
   "cell_type": "code",
   "execution_count": 20,
   "metadata": {},
   "outputs": [
    {
     "data": {
      "text/plain": [
       "pclass                        1\n",
       "survived                      0\n",
       "name        Abbing, Mr. Anthony\n",
       "sex                      female\n",
       "age                      0.1667\n",
       "sibsp                         0\n",
       "parch                         0\n",
       "fare                          0\n",
       "body                          1\n",
       "dtype: object"
      ]
     },
     "execution_count": 20,
     "metadata": {},
     "output_type": "execute_result"
    }
   ],
   "source": [
    "titanic.min()"
   ]
  },
  {
   "cell_type": "code",
   "execution_count": 21,
   "metadata": {},
   "outputs": [
    {
     "data": {
      "text/plain": [
       "pclass                                3\n",
       "survived                              1\n",
       "name        van Melkebeke, Mr. Philemon\n",
       "sex                                male\n",
       "age                                  80\n",
       "sibsp                                 8\n",
       "parch                                 9\n",
       "fare                            512.329\n",
       "body                                328\n",
       "dtype: object"
      ]
     },
     "execution_count": 21,
     "metadata": {},
     "output_type": "execute_result"
    }
   ],
   "source": [
    "titanic.max()"
   ]
  },
  {
   "cell_type": "code",
   "execution_count": 22,
   "metadata": {},
   "outputs": [
    {
     "data": {
      "text/plain": [
       "pclass       1309\n",
       "survived     1309\n",
       "name         1309\n",
       "sex          1309\n",
       "age          1046\n",
       "sibsp        1309\n",
       "parch        1309\n",
       "ticket       1309\n",
       "fare         1308\n",
       "cabin         295\n",
       "embarked     1307\n",
       "boat          486\n",
       "body          121\n",
       "home.dest     745\n",
       "dtype: int64"
      ]
     },
     "execution_count": 22,
     "metadata": {},
     "output_type": "execute_result"
    }
   ],
   "source": [
    "titanic.count()"
   ]
  },
  {
   "cell_type": "code",
   "execution_count": 23,
   "metadata": {},
   "outputs": [
    {
     "name": "stdout",
     "output_type": "stream",
     "text": [
      "pclass     3\n",
      "survived   2\n",
      "name       1307\n",
      "sex        2\n",
      "age        98\n",
      "sibsp      7\n",
      "parch      8\n",
      "ticket     939\n",
      "fare       281\n",
      "cabin      186\n",
      "embarked   3\n",
      "boat       28\n",
      "body       121\n",
      "home.dest  369\n"
     ]
    }
   ],
   "source": [
    "for column in titanic:\n",
    "    print('{0: <10} {1}'.format(column, titanic[column].drop_duplicates().count()))"
   ]
  },
  {
   "cell_type": "markdown",
   "metadata": {},
   "source": [
    "#### Categorical attributes\n",
    "* pclass\n",
    "* sex\n",
    "* embarked\n",
    "* boat\n",
    "* home.dest\n",
    "\n",
    "These attributes were chosen as categorical attributes, because they were not ordered numerical continuous attributes, and because of the small number of distinct values.\n",
    "n.b.: sibsp and parch are numerical attributes."
   ]
  },
  {
   "cell_type": "code",
   "execution_count": 24,
   "metadata": {
    "collapsed": true
   },
   "outputs": [],
   "source": [
    "attributes = ['pclass','sex','embarked','boat','home.dest']\n",
    "for attribute in attributes:\n",
    "    titanic[attribute] = pd.Categorical(titanic[attribute])"
   ]
  },
  {
   "cell_type": "markdown",
   "metadata": {},
   "source": [
    "### Question 2\n",
    "In this question and the followings, we decided to ignore missing values, since we are interested in the relatives proportions between those quantities."
   ]
  },
  {
   "cell_type": "code",
   "execution_count": 25,
   "metadata": {
    "collapsed": true
   },
   "outputs": [],
   "source": [
    "import seaborn\n",
    "import matplotlib\n",
    "%matplotlib inline\n",
    "\n",
    "seaborn.set_palette('Blues')\n",
    "seaborn.set_context(\"notebook\")"
   ]
  },
  {
   "cell_type": "code",
   "execution_count": 26,
   "metadata": {},
   "outputs": [
    {
     "data": {
      "text/plain": [
       "<matplotlib.axes._subplots.AxesSubplot at 0x7f28dd897b38>"
      ]
     },
     "execution_count": 26,
     "metadata": {},
     "output_type": "execute_result"
    },
    {
     "data": {
      "image/png": "[encoded data removed]",
      "text/plain": [
       "<matplotlib.figure.Figure at 0x7f28ddd2b400>"
      ]
     },
     "metadata": {},
     "output_type": "display_data"
    }
   ],
   "source": [
    "seaborn.countplot(x=\"pclass\", data=titanic)"
   ]
  },
  {
   "cell_type": "code",
   "execution_count": 27,
   "metadata": {},
   "outputs": [
    {
     "data": {
      "text/plain": [
       "<matplotlib.axes._subplots.AxesSubplot at 0x7f28da499358>"
      ]
     },
     "execution_count": 27,
     "metadata": {},
     "output_type": "execute_result"
    },
    {
     "data": {
      "image/png": "[encoded data removed]",
      "text/plain": [
       "<matplotlib.figure.Figure at 0x7f28da491828>"
      ]
     },
     "metadata": {},
     "output_type": "display_data"
    }
   ],
   "source": [
    "seaborn.countplot(x=\"embarked\", data=titanic)"
   ]
  },
  {
   "cell_type": "code",
   "execution_count": 28,
   "metadata": {},
   "outputs": [
    {
     "data": {
      "text/plain": [
       "<matplotlib.axes._subplots.AxesSubplot at 0x7f28e7ecbbe0>"
      ]
     },
     "execution_count": 28,
     "metadata": {},
     "output_type": "execute_result"
    },
    {
     "data": {
      "image/png": "[encoded data removed]",
      "text/plain": [
       "<matplotlib.figure.Figure at 0x7f28e7e4cc18>"
      ]
     },
     "metadata": {},
     "output_type": "display_data"
    }
   ],
   "source": [
    "seaborn.countplot(x=\"sex\", data=titanic)"
   ]
  },
  {
   "cell_type": "markdown",
   "metadata": {},
   "source": [
    "Out of range values are discarded because they are non-relevant."
   ]
  },
  {
   "cell_type": "code",
   "execution_count": 29,
   "metadata": {},
   "outputs": [
    {
     "data": {
      "text/plain": [
       "<matplotlib.axes._subplots.AxesSubplot at 0x7f28e7d5bac8>"
      ]
     },
     "execution_count": 29,
     "metadata": {},
     "output_type": "execute_result"
    },
    {
     "data": {
      "image/png": "[encoded data removed]",
      "text/plain": [
       "<matplotlib.figure.Figure at 0x7f28da41b400>"
      ]
     },
     "metadata": {},
     "output_type": "display_data"
    }
   ],
   "source": [
    "titanic.age.hist(range=(0,100), bins=10)"
   ]
  },
  {
   "cell_type": "markdown",
   "metadata": {},
   "source": [
    "### Question 3\n",
    "\n",
    "We collect the first letter of the cabin number to get the cabin's desk, in order to do that, we discard missing values.\n",
    "\n",
    "We assumed that all the desks were labeled by a letter between A and G, we discarded desk labeled T since he doesn't exist.\n",
    "\n",
    "We could not determine which desk to choose when the cabin was labeled \"F E45”, thus we decided to only keep the first letter in order to simplify the calculation.\n",
    "\n",
    "If a passenger has multiple cabin on different desks, we choose the first one."
   ]
  },
  {
   "cell_type": "code",
   "execution_count": 30,
   "metadata": {},
   "outputs": [
    {
     "data": {
      "text/plain": [
       "G     5\n",
       "F    21\n",
       "A    22\n",
       "E    41\n",
       "D    46\n",
       "B    65\n",
       "C    94\n",
       "Name: cabin, dtype: int64"
      ]
     },
     "execution_count": 30,
     "metadata": {},
     "output_type": "execute_result"
    },
    {
     "data": {
      "image/png": "[encoded data removed]",
      "text/plain": [
       "<matplotlib.figure.Figure at 0x7f28e7d96fd0>"
      ]
     },
     "metadata": {},
     "output_type": "display_data"
    }
   ],
   "source": [
    "def pie_chart(data, labels):\n",
    "    pie = matplotlib.pyplot.pie(data, labels=labels, autopct='%1.1f%%', pctdistance=1.6, startangle=90, wedgeprops = {'linewidth':1, 'edgecolor':'black'})\n",
    "    matplotlib.pyplot.legend(pie[0], labels, loc=\"upper right\", bbox_to_anchor=(1.5, 0.5))\n",
    "\n",
    "\n",
    "cabin = titanic.cabin.dropna().str[0]\n",
    "cabin = cabin[cabin.between('A','G')]\n",
    "cabin = cabin.groupby(lambda x: cabin[x]).count().sort_values()\n",
    "\n",
    "pie_chart(cabin, cabin.index.values)\n",
    "cabin"
   ]
  },
  {
   "cell_type": "markdown",
   "metadata": {},
   "source": [
    "### Question 4"
   ]
  },
  {
   "cell_type": "markdown",
   "metadata": {},
   "source": [
    "##### First class"
   ]
  },
  {
   "cell_type": "code",
   "execution_count": 31,
   "metadata": {},
   "outputs": [
    {
     "data": {
      "text/plain": [
       "0    123\n",
       "1    200\n",
       "Name: survived, dtype: int64"
      ]
     },
     "execution_count": 31,
     "metadata": {},
     "output_type": "execute_result"
    },
    {
     "data": {
      "image/png": "[encoded data removed]",
      "text/plain": [
       "<matplotlib.figure.Figure at 0x7f28ddd2b438>"
      ]
     },
     "metadata": {},
     "output_type": "display_data"
    }
   ],
   "source": [
    "survived = titanic[titanic.pclass == 1].survived\n",
    "survived = survived.groupby(lambda x: survived[x]).count()\n",
    "\n",
    "pie_chart(survived, ['dead','alive'])\n",
    "survived"
   ]
  },
  {
   "cell_type": "markdown",
   "metadata": {},
   "source": [
    "##### Second class\n"
   ]
  },
  {
   "cell_type": "code",
   "execution_count": 32,
   "metadata": {},
   "outputs": [
    {
     "data": {
      "text/plain": [
       "0    158\n",
       "1    119\n",
       "Name: survived, dtype: int64"
      ]
     },
     "execution_count": 32,
     "metadata": {},
     "output_type": "execute_result"
    },
    {
     "data": {
      "image/png": "[encoded data removed]",
      "text/plain": [
       "<matplotlib.figure.Figure at 0x7f28da296b70>"
      ]
     },
     "metadata": {},
     "output_type": "display_data"
    }
   ],
   "source": [
    "survived = titanic[titanic.pclass == 2].survived\n",
    "survived = survived.groupby(lambda x: survived[x]).count()\n",
    "\n",
    "pie_chart(survived, ['dead','alive'])\n",
    "survived"
   ]
  },
  {
   "cell_type": "markdown",
   "metadata": {},
   "source": [
    "##### Third class"
   ]
  },
  {
   "cell_type": "code",
   "execution_count": 33,
   "metadata": {},
   "outputs": [
    {
     "data": {
      "text/plain": [
       "0    528\n",
       "1    181\n",
       "Name: survived, dtype: int64"
      ]
     },
     "execution_count": 33,
     "metadata": {},
     "output_type": "execute_result"
    },
    {
     "data": {
      "image/png": "[encoded data removed]",
      "text/plain": [
       "<matplotlib.figure.Figure at 0x7f28da207048>"
      ]
     },
     "metadata": {},
     "output_type": "display_data"
    }
   ],
   "source": [
    "survived = titanic[titanic.pclass == 3].survived\n",
    "survived = survived.groupby(lambda x: survived[x]).count()\n",
    "\n",
    "pie_chart(survived, ['dead','alive'])\n",
    "survived"
   ]
  },
  {
   "cell_type": "markdown",
   "metadata": {},
   "source": [
    "### Question 5"
   ]
  },
  {
   "cell_type": "code",
   "execution_count": 34,
   "metadata": {},
   "outputs": [
    {
     "data": {
      "text/plain": [
       "<matplotlib.axes._subplots.AxesSubplot at 0x7f28da1e64a8>"
      ]
     },
     "execution_count": 34,
     "metadata": {},
     "output_type": "execute_result"
    },
    {
     "data": {
      "image/png": "[encoded data removed]",
      "text/plain": [
       "<matplotlib.figure.Figure at 0x7f28da443f60>"
      ]
     },
     "metadata": {},
     "output_type": "display_data"
    }
   ],
   "source": [
    "seaborn.barplot(x=\"sex\", y=\"survived\", hue=\"pclass\", ci=None, data=titanic)"
   ]
  },
  {
   "cell_type": "markdown",
   "metadata": {},
   "source": [
    "### Question 6"
   ]
  },
  {
   "cell_type": "markdown",
   "metadata": {},
   "source": [
    "We have chosen to remove all the rows where the age is unknown, as it would not have so much meaning when we use age categories\n",
    "We also decide to use the qcut function over an exact splitting of the rows, because we thing it is more meaningful to sort rows based on the median age than to just cut randomly. To be more precise, when sorting and splitting, people who were 28 years old were randomly sorted in a category or another. Here we prefer to sort all 28 years old in the younger category but at the cost of not having 2 exactly equal categories\n"
   ]
  },
  {
   "cell_type": "code",
   "execution_count": 35,
   "metadata": {},
   "outputs": [
    {
     "data": {
      "text/html": [
       "<div>\n",
       "<style>\n",
       "    .dataframe thead tr:only-child th {\n",
       "        text-align: right;\n",
       "    }\n",
       "\n",
       "    .dataframe thead th {\n",
       "        text-align: left;\n",
       "    }\n",
       "\n",
       "    .dataframe tbody tr th {\n",
       "        vertical-align: top;\n",
       "    }\n",
       "</style>\n",
       "<table border=\"1\" class=\"dataframe\">\n",
       "  <thead>\n",
       "    <tr style=\"text-align: right;\">\n",
       "      <th></th>\n",
       "      <th></th>\n",
       "      <th>% of young survivors</th>\n",
       "      <th>% of old survivors</th>\n",
       "    </tr>\n",
       "    <tr>\n",
       "      <th>pclass</th>\n",
       "      <th>sex</th>\n",
       "      <th></th>\n",
       "      <th></th>\n",
       "    </tr>\n",
       "  </thead>\n",
       "  <tbody>\n",
       "    <tr>\n",
       "      <th rowspan=\"2\" valign=\"top\">1</th>\n",
       "      <th>female</th>\n",
       "      <td>71.2%</td>\n",
       "      <td>69.6428571429%</td>\n",
       "    </tr>\n",
       "    <tr>\n",
       "      <th>male</th>\n",
       "      <td>28.8%</td>\n",
       "      <td>30.3571428571%</td>\n",
       "    </tr>\n",
       "    <tr>\n",
       "      <th rowspan=\"2\" valign=\"top\">2</th>\n",
       "      <th>female</th>\n",
       "      <td>85.4166666667%</td>\n",
       "      <td>76.1194029851%</td>\n",
       "    </tr>\n",
       "    <tr>\n",
       "      <th>male</th>\n",
       "      <td>14.5833333333%</td>\n",
       "      <td>23.8805970149%</td>\n",
       "    </tr>\n",
       "    <tr>\n",
       "      <th rowspan=\"2\" valign=\"top\">3</th>\n",
       "      <th>female</th>\n",
       "      <td>47.0588235294%</td>\n",
       "      <td>57.7319587629%</td>\n",
       "    </tr>\n",
       "    <tr>\n",
       "      <th>male</th>\n",
       "      <td>52.9411764706%</td>\n",
       "      <td>42.2680412371%</td>\n",
       "    </tr>\n",
       "  </tbody>\n",
       "</table>\n",
       "</div>"
      ],
      "text/plain": [
       "              % of young survivors % of old survivors\n",
       "pclass sex                                           \n",
       "1      female                71.2%     69.6428571429%\n",
       "       male                  28.8%     30.3571428571%\n",
       "2      female       85.4166666667%     76.1194029851%\n",
       "       male         14.5833333333%     23.8805970149%\n",
       "3      female       47.0588235294%     57.7319587629%\n",
       "       male         52.9411764706%     42.2680412371%"
      ]
     },
     "execution_count": 35,
     "metadata": {},
     "output_type": "execute_result"
    }
   ],
   "source": [
    "toSort= pd.read_excel(DATA_FOLDER + '/titanic.xls')\n",
    "toSort.dropna(axis=0,subset=['age'],inplace=True)\n",
    "toSort.dropna(axis=0,subset=['survived'],inplace=True)\n",
    "fP = pd.qcut(toSort.age,2,labels=False)\n",
    "#qcut gives us 0 and 1 for each row be convert it to boolean and then separate rows associated to True and associated to false\n",
    "fP = [bool(x) for x in fP]\n",
    "res={}\n",
    "#Using only two indexes might be overkill but it allows us to scale if needed (4 categories for example)\n",
    "res[0] = toSort[fP]\n",
    "res[1] = toSort[np.logical_not(fP)]\n",
    "fr=[]\n",
    "#We deal with each category separately\n",
    "for i in range(2):\n",
    "    #We group by class and sex and get the sum for each one\n",
    "    tem =res[i].groupby(['pclass', 'sex']).agg({'survived': 'sum'})\n",
    "    #We prefer to have a percentage\n",
    "    tem = tem.groupby(level=0).apply(lambda x:100 * x / float(x.sum()))\n",
    "    fr.append(tem)\n",
    "#We concatenate and beautify a bit the result\n",
    "re = pd.concat(fr,axis=1,keys=['young','old'])\n",
    "re.columns = re.columns.droplevel(level = 1)\n",
    "re['young'] = re['young'].astype(str) + '%'\n",
    "re['old'] = re['old'].astype(str) + '%'\n",
    "re.rename(columns = {'young':'% of young survivors'},inplace=True)\n",
    "re.rename(columns = {'old':'% of old survivors'},inplace=True)\n",
    "re"
   ]
  }
 ],
 "metadata": {
  "kernelspec": {
   "display_name": "Python [default]",
   "language": "python",
   "name": "python3"
  },
  "language_info": {
   "codemirror_mode": {
    "name": "ipython",
    "version": 3
   },
   "file_extension": ".py",
   "mimetype": "text/x-python",
   "name": "python",
   "nbconvert_exporter": "python",
   "pygments_lexer": "ipython3",
   "version": "3.6.2"
  }
 },
 "nbformat": 4,
 "nbformat_minor": 2
}
